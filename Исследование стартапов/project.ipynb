{
 "cells": [
  {
   "cell_type": "markdown",
   "metadata": {
    "id": "4mJbK1knrJgz"
   },
   "source": [
    "# Проект: Исследование стартапов"
   ]
  },
  {
   "cell_type": "markdown",
   "metadata": {
    "id": "P6j0r3worJg0"
   },
   "source": [
    "## Введение"
   ]
  },
  {
   "cell_type": "markdown",
   "metadata": {
    "id": "8lQtbsIUyFG6"
   },
   "source": [
    "**Автор:** coatiii\n",
    "\n",
    "**Цель:**\n",
    "- помочь финансовой компании выйти на рынок стартапов, предоставив им полезную информацию из исторических данных, после исследовательского анализа.\n",
    "\n",
    "**Задачи:**\n",
    "1. Загрузка данных и знакомство с их содержимым.\n",
    "2. Провести предобработку данных.\n",
    "3. Провести исследовательский анализ данных:\n",
    "    - изучить данные более детально\n",
    "    - изучить взаимосвязь данных\n",
    "4. Сформулировать выводы по проведённому анализу."
   ]
  },
  {
   "cell_type": "markdown",
   "metadata": {
    "id": "xqr6uttCrJg0"
   },
   "source": [
    "\n",
    "## Шаг 1. Знакомство с данными: загрузка и первичная предобработка\n",
    "\n",
    "Названия файлов:\n",
    "* acquisition.csv\n",
    "* company_and_rounds.csv\n",
    "* people.csv\n",
    "* education.csv\n",
    "* degrees.csv\n",
    "\n",
    "Опциональные датасеты:\n",
    "* fund.csv\n",
    "* investment.csv\n",
    "\n",
    "\n",
    "Они находятся в папке datasets, если вы выполняете работу на платформе. В случае, если вы делаете работу локально, доступ к файлам в папке можно получить по адресу `https://code.s3.yandex.net/datasets/` + имя файла.\n",
    "\n",
    "### 1.1. Вывод общей информации, исправление названия столбцов\n",
    "\n",
    "- Загрузите все данные по проекту.\n",
    "- Проверьте названия столбцов.\n",
    "- Выведите информацию, которая необходима вам для принятия решений о предобработке, для каждого из датасетов."
   ]
  },
  {
   "cell_type": "markdown",
   "metadata": {},
   "source": [
    "Нам предоставлены следующие датасеты, информацию в них предстоит проверить и откорректировать:\n",
    "* acquisition.csv - содержит информацию о компаниях и раундах финансирования:\n",
    "  - id — идентификатор покупки.\n",
    "  - acquiring_company_id — идентификатор покупающей компании.\n",
    "  - acquired_company_id — идентификатор покупаемой компании.\n",
    "  - term_code — варианты расчёта.\n",
    "  - price_amount — сумма сделки.\n",
    "  - acquired_at — дата сделки. \n",
    "* company_and_rounds.csv - содержит информацию о компаниях и раундах финансирования:\n",
    "  - company ID — идентификатор компании.\n",
    "  - name — название компании.\n",
    "  - category code — категория области деятельности компании.\n",
    "  - status — статус компании.\n",
    "  - founded at — дата инвестирования.\n",
    "  - closed at — дата закрытия компании.\n",
    "  - domain — официальный сайт компании.\n",
    "  - network username — ник компании в сети.\n",
    "  - country code — код страны компании.\n",
    "  - investment rounds — число инвестиционных раундов.\n",
    "  - funding rounds — число раундов финансирования.\n",
    "  - funding total — сумма финансирования.\n",
    "  - milestones — вехи финансирования.\n",
    "  - funding round id — идентификатор этапа финансирования.\n",
    "  - company id — идентификатор компании.\n",
    "  - funded at — дата финансирования.\n",
    "  - funding round type — тип финансирования.\n",
    "  - raised amount — сумма финансирования.\n",
    "  - pre money valuation — предварительная денежная оценка.\n",
    "  - participants — число участников.\n",
    "  - s first round — является ли раунд первым.\n",
    "  - is last round — является раунд последним.\n",
    "* people.csv - Содержит информацию о сотрудниках:\n",
    "  - id — идентификатор сотрудника.\n",
    "  - first_name — имя сотрудника.\n",
    "  - last_name — фамилия сотрудника.\n",
    "  - company_id — идентификатор компании.\n",
    "  - network_username — ник в социальных сетях.\n",
    "* education.csv - содержит информацию об образовании сотрудника:\n",
    "  - id — идентификатор записи об образовании.\n",
    "  - person_id — идентификатор работника.\n",
    "  - instituition — название учебного заведения.\n",
    "  - graduated_at — дата получения образования\n",
    "* degrees.csv - Содержит информацию о типе образования сотрудника:\n",
    "  - id — идентификатор записи.\n",
    "  - object_id — идентификатор сотрудника.\n",
    "  - degree_type — тип образования.\n",
    "  - subject — специальность."
   ]
  },
  {
   "cell_type": "code",
   "execution_count": 1,
   "metadata": {
    "colab": {
     "base_uri": "https://localhost:8080/"
    },
    "id": "W_W4jRazrJg0",
    "outputId": "d2409aad-233f-4bb4-ec71-7da96594f9df",
    "vscode": {
     "languageId": "plaintext"
    }
   },
   "outputs": [
    {
     "name": "stdout",
     "output_type": "stream",
     "text": [
      "Requirement already satisfied: phik in /opt/conda/lib/python3.9/site-packages (0.12.4)\n",
      "Requirement already satisfied: numpy>=1.18.0 in /opt/conda/lib/python3.9/site-packages (from phik) (1.21.1)\n",
      "Requirement already satisfied: joblib>=0.14.1 in /opt/conda/lib/python3.9/site-packages (from phik) (1.1.0)\n",
      "Requirement already satisfied: scipy>=1.5.2 in /opt/conda/lib/python3.9/site-packages (from phik) (1.9.1)\n",
      "Requirement already satisfied: matplotlib>=2.2.3 in /opt/conda/lib/python3.9/site-packages (from phik) (3.3.4)\n",
      "Requirement already satisfied: pandas>=0.25.1 in /opt/conda/lib/python3.9/site-packages (from phik) (1.2.4)\n",
      "Requirement already satisfied: pyparsing!=2.0.4,!=2.1.2,!=2.1.6,>=2.0.3 in /opt/conda/lib/python3.9/site-packages (from matplotlib>=2.2.3->phik) (2.4.7)\n",
      "Requirement already satisfied: kiwisolver>=1.0.1 in /opt/conda/lib/python3.9/site-packages (from matplotlib>=2.2.3->phik) (1.4.4)\n",
      "Requirement already satisfied: cycler>=0.10 in /opt/conda/lib/python3.9/site-packages (from matplotlib>=2.2.3->phik) (0.11.0)\n",
      "Requirement already satisfied: pillow>=6.2.0 in /opt/conda/lib/python3.9/site-packages (from matplotlib>=2.2.3->phik) (8.4.0)\n",
      "Requirement already satisfied: python-dateutil>=2.1 in /opt/conda/lib/python3.9/site-packages (from matplotlib>=2.2.3->phik) (2.8.1)\n",
      "Requirement already satisfied: pytz>=2017.3 in /opt/conda/lib/python3.9/site-packages (from pandas>=0.25.1->phik) (2021.1)\n",
      "Requirement already satisfied: six>=1.5 in /opt/conda/lib/python3.9/site-packages (from python-dateutil>=2.1->matplotlib>=2.2.3->phik) (1.16.0)\n"
     ]
    }
   ],
   "source": [
    "# Импортируем библиотеки\n",
    "import pandas as pd\n",
    "\n",
    "# Загружаем библиотеки для визуализации данных\n",
    "import matplotlib.pyplot as plt\n",
    "import seaborn as sns\n",
    "\n",
    "# Загружаем библиотеку для расчёта коэффициента корреляции phi_k\n",
    "!pip install phik"
   ]
  },
  {
   "cell_type": "code",
   "execution_count": 2,
   "metadata": {
    "id": "2Tm4Pk__Felf"
   },
   "outputs": [],
   "source": [
    "#Выгружаем данные в переменные:\n",
    "acquis_df = pd.read_csv('https://code.s3.yandex.net/datasets/acquisition.csv')\n",
    "с_and_r_df = pd.read_csv('https://code.s3.yandex.net/datasets/company_and_rounds.csv')\n",
    "people_df = pd.read_csv('https://code.s3.yandex.net/datasets/people.csv')\n",
    "educat_df = pd.read_csv('https://code.s3.yandex.net/datasets/education.csv')\n",
    "degrees_df = pd.read_csv('https://code.s3.yandex.net/datasets/degrees.csv')"
   ]
  },
  {
   "cell_type": "code",
   "execution_count": 3,
   "metadata": {
    "id": "oNqJ2qpRFebv"
   },
   "outputs": [
    {
     "data": {
      "text/plain": [
       "Index(['id', 'acquiring_company_id', 'acquired_company_id', 'term_code',\n",
       "       'price_amount', 'acquired_at'],\n",
       "      dtype='object')"
      ]
     },
     "execution_count": 3,
     "metadata": {},
     "output_type": "execute_result"
    }
   ],
   "source": [
    "#Проверим названия столбцов в каждом датафрейме:\n",
    "acquis_df.columns"
   ]
  },
  {
   "cell_type": "code",
   "execution_count": 4,
   "metadata": {},
   "outputs": [
    {
     "data": {
      "text/plain": [
       "Index(['company  ID', 'name', 'category  code', 'status', 'founded  at',\n",
       "       'closed  at', 'domain', 'network  username', 'country  code',\n",
       "       'investment  rounds', 'funding  rounds', 'funding  total', 'milestones',\n",
       "       'funding  round  id', 'company  id', 'funded  at',\n",
       "       'funding  round  type', 'raised  amount', 'pre  money  valuation',\n",
       "       'participants', 'is  first  round', 'is  last  round'],\n",
       "      dtype='object')"
      ]
     },
     "execution_count": 4,
     "metadata": {},
     "output_type": "execute_result"
    }
   ],
   "source": [
    "с_and_r_df.columns"
   ]
  },
  {
   "cell_type": "markdown",
   "metadata": {},
   "source": [
    "Тут потребуется коррекция до змеинного вида."
   ]
  },
  {
   "cell_type": "code",
   "execution_count": 5,
   "metadata": {},
   "outputs": [
    {
     "data": {
      "text/plain": [
       "Index(['id', 'first_name', 'last_name', 'company_id', 'network_username'], dtype='object')"
      ]
     },
     "execution_count": 5,
     "metadata": {},
     "output_type": "execute_result"
    }
   ],
   "source": [
    "people_df.columns"
   ]
  },
  {
   "cell_type": "code",
   "execution_count": 6,
   "metadata": {},
   "outputs": [
    {
     "data": {
      "text/plain": [
       "Index(['id', 'person_id', 'instituition', 'graduated_at'], dtype='object')"
      ]
     },
     "execution_count": 6,
     "metadata": {},
     "output_type": "execute_result"
    }
   ],
   "source": [
    "educat_df.columns"
   ]
  },
  {
   "cell_type": "code",
   "execution_count": 7,
   "metadata": {},
   "outputs": [
    {
     "data": {
      "text/plain": [
       "Index(['id', 'object_id', 'degree_type', 'subject'], dtype='object')"
      ]
     },
     "execution_count": 7,
     "metadata": {},
     "output_type": "execute_result"
    }
   ],
   "source": [
    "degrees_df.columns"
   ]
  },
  {
   "cell_type": "markdown",
   "metadata": {},
   "source": [
    "Названия столбцов корректны, за исключением названий в датафрейме с_and_r_df."
   ]
  },
  {
   "cell_type": "code",
   "execution_count": 8,
   "metadata": {},
   "outputs": [],
   "source": [
    "#Поменяем названия столбцов в с_and_r_df, чтобы они имели змеинный вид:\n",
    "def no_space(df):\n",
    "    for col in df.columns:\n",
    "        if '  ' in col:\n",
    "            new_col_name = col.replace('  ', ' ')\n",
    "            df = df.rename(columns={col: new_col_name})\n",
    "    return df\n",
    "\n",
    "с_and_r_df = no_space(с_and_r_df)"
   ]
  },
  {
   "cell_type": "code",
   "execution_count": 9,
   "metadata": {},
   "outputs": [
    {
     "data": {
      "text/plain": [
       "Index(['company ID', 'name', 'category code', 'status', 'founded at',\n",
       "       'closed at', 'domain', 'network username', 'country code',\n",
       "       'investment rounds', 'funding rounds', 'funding total', 'milestones',\n",
       "       'funding round id', 'company id', 'funded at', 'funding round type',\n",
       "       'raised amount', 'pre money valuation', 'participants',\n",
       "       'is first round', 'is last round'],\n",
       "      dtype='object')"
      ]
     },
     "execution_count": 9,
     "metadata": {},
     "output_type": "execute_result"
    }
   ],
   "source": [
    "с_and_r_df.columns"
   ]
  },
  {
   "cell_type": "code",
   "execution_count": 10,
   "metadata": {},
   "outputs": [],
   "source": [
    "def be_snake (df):\n",
    "    for col in df.columns:\n",
    "        if ' ' in col:\n",
    "            new_col_name = col.replace(' ', '_')\n",
    "            df = df.rename(columns={col: new_col_name})\n",
    "    return df\n",
    "\n",
    "\n",
    "с_and_r_df = be_snake(с_and_r_df)"
   ]
  },
  {
   "cell_type": "code",
   "execution_count": 11,
   "metadata": {},
   "outputs": [
    {
     "data": {
      "text/plain": [
       "Index(['company_ID', 'name', 'category_code', 'status', 'founded_at',\n",
       "       'closed_at', 'domain', 'network_username', 'country_code',\n",
       "       'investment_rounds', 'funding_rounds', 'funding_total', 'milestones',\n",
       "       'funding_round_id', 'company_id', 'funded_at', 'funding_round_type',\n",
       "       'raised_amount', 'pre_money_valuation', 'participants',\n",
       "       'is_first_round', 'is_last_round'],\n",
       "      dtype='object')"
      ]
     },
     "execution_count": 11,
     "metadata": {},
     "output_type": "execute_result"
    }
   ],
   "source": [
    "с_and_r_df.columns"
   ]
  },
  {
   "cell_type": "markdown",
   "metadata": {},
   "source": [
    "Теперь названия столбцов корректны."
   ]
  },
  {
   "cell_type": "code",
   "execution_count": 12,
   "metadata": {},
   "outputs": [
    {
     "data": {
      "text/html": [
       "<div>\n",
       "<style scoped>\n",
       "    .dataframe tbody tr th:only-of-type {\n",
       "        vertical-align: middle;\n",
       "    }\n",
       "\n",
       "    .dataframe tbody tr th {\n",
       "        vertical-align: top;\n",
       "    }\n",
       "\n",
       "    .dataframe thead th {\n",
       "        text-align: right;\n",
       "    }\n",
       "</style>\n",
       "<table border=\"1\" class=\"dataframe\">\n",
       "  <thead>\n",
       "    <tr style=\"text-align: right;\">\n",
       "      <th></th>\n",
       "      <th>id</th>\n",
       "      <th>acquiring_company_id</th>\n",
       "      <th>acquired_company_id</th>\n",
       "      <th>term_code</th>\n",
       "      <th>price_amount</th>\n",
       "      <th>acquired_at</th>\n",
       "    </tr>\n",
       "  </thead>\n",
       "  <tbody>\n",
       "    <tr>\n",
       "      <th>0</th>\n",
       "      <td>1</td>\n",
       "      <td>11</td>\n",
       "      <td>10</td>\n",
       "      <td>NaN</td>\n",
       "      <td>20000000</td>\n",
       "      <td>2007-05-30</td>\n",
       "    </tr>\n",
       "    <tr>\n",
       "      <th>1</th>\n",
       "      <td>7</td>\n",
       "      <td>59</td>\n",
       "      <td>72</td>\n",
       "      <td>cash</td>\n",
       "      <td>60000000</td>\n",
       "      <td>2007-07-01</td>\n",
       "    </tr>\n",
       "    <tr>\n",
       "      <th>2</th>\n",
       "      <td>8</td>\n",
       "      <td>24</td>\n",
       "      <td>132</td>\n",
       "      <td>cash</td>\n",
       "      <td>280000000</td>\n",
       "      <td>2007-05-01</td>\n",
       "    </tr>\n",
       "    <tr>\n",
       "      <th>3</th>\n",
       "      <td>9</td>\n",
       "      <td>59</td>\n",
       "      <td>155</td>\n",
       "      <td>cash</td>\n",
       "      <td>100000000</td>\n",
       "      <td>2007-06-01</td>\n",
       "    </tr>\n",
       "    <tr>\n",
       "      <th>4</th>\n",
       "      <td>10</td>\n",
       "      <td>212</td>\n",
       "      <td>215</td>\n",
       "      <td>cash</td>\n",
       "      <td>25000000</td>\n",
       "      <td>2007-07-01</td>\n",
       "    </tr>\n",
       "  </tbody>\n",
       "</table>\n",
       "</div>"
      ],
      "text/plain": [
       "   id  acquiring_company_id  acquired_company_id term_code  price_amount  \\\n",
       "0   1                    11                   10       NaN      20000000   \n",
       "1   7                    59                   72      cash      60000000   \n",
       "2   8                    24                  132      cash     280000000   \n",
       "3   9                    59                  155      cash     100000000   \n",
       "4  10                   212                  215      cash      25000000   \n",
       "\n",
       "  acquired_at  \n",
       "0  2007-05-30  \n",
       "1  2007-07-01  \n",
       "2  2007-05-01  \n",
       "3  2007-06-01  \n",
       "4  2007-07-01  "
      ]
     },
     "execution_count": 12,
     "metadata": {},
     "output_type": "execute_result"
    }
   ],
   "source": [
    "#Используем метода head() и info() для обзора каждого датафрейма:\n",
    "acquis_df.head()"
   ]
  },
  {
   "cell_type": "code",
   "execution_count": 13,
   "metadata": {
    "scrolled": true
   },
   "outputs": [
    {
     "name": "stdout",
     "output_type": "stream",
     "text": [
      "<class 'pandas.core.frame.DataFrame'>\n",
      "RangeIndex: 9407 entries, 0 to 9406\n",
      "Data columns (total 6 columns):\n",
      " #   Column                Non-Null Count  Dtype \n",
      "---  ------                --------------  ----- \n",
      " 0   id                    9407 non-null   int64 \n",
      " 1   acquiring_company_id  9407 non-null   int64 \n",
      " 2   acquired_company_id   9407 non-null   int64 \n",
      " 3   term_code             1831 non-null   object\n",
      " 4   price_amount          9407 non-null   int64 \n",
      " 5   acquired_at           9378 non-null   object\n",
      "dtypes: int64(4), object(2)\n",
      "memory usage: 441.1+ KB\n"
     ]
    }
   ],
   "source": [
    "acquis_df.info()"
   ]
  },
  {
   "cell_type": "markdown",
   "metadata": {},
   "source": [
    "- Строк 9407, столбцов 6\n",
    "\n",
    "По типам данных:\n",
    "- Можно понизить разрядность с int64 до int8 у ряда столбцов: 'id', 'acquiring_company_id', 'acquired_company_id', 'price_amount'\n",
    "- Для 'term_code' можно поменять тип данных на category (рассмотреть варинт расчета как категориальное значение)\n",
    "- Для 'acquired_at' посенять тип данных на datetime\n",
    "\n",
    "Пропуски есть: 'term_code', 'acquired_at'."
   ]
  },
  {
   "cell_type": "code",
   "execution_count": 14,
   "metadata": {},
   "outputs": [
    {
     "data": {
      "text/html": [
       "<div>\n",
       "<style scoped>\n",
       "    .dataframe tbody tr th:only-of-type {\n",
       "        vertical-align: middle;\n",
       "    }\n",
       "\n",
       "    .dataframe tbody tr th {\n",
       "        vertical-align: top;\n",
       "    }\n",
       "\n",
       "    .dataframe thead th {\n",
       "        text-align: right;\n",
       "    }\n",
       "</style>\n",
       "<table border=\"1\" class=\"dataframe\">\n",
       "  <thead>\n",
       "    <tr style=\"text-align: right;\">\n",
       "      <th></th>\n",
       "      <th>company_ID</th>\n",
       "      <th>name</th>\n",
       "      <th>category_code</th>\n",
       "      <th>status</th>\n",
       "      <th>founded_at</th>\n",
       "      <th>closed_at</th>\n",
       "      <th>domain</th>\n",
       "      <th>network_username</th>\n",
       "      <th>country_code</th>\n",
       "      <th>investment_rounds</th>\n",
       "      <th>...</th>\n",
       "      <th>milestones</th>\n",
       "      <th>funding_round_id</th>\n",
       "      <th>company_id</th>\n",
       "      <th>funded_at</th>\n",
       "      <th>funding_round_type</th>\n",
       "      <th>raised_amount</th>\n",
       "      <th>pre_money_valuation</th>\n",
       "      <th>participants</th>\n",
       "      <th>is_first_round</th>\n",
       "      <th>is_last_round</th>\n",
       "    </tr>\n",
       "  </thead>\n",
       "  <tbody>\n",
       "    <tr>\n",
       "      <th>0</th>\n",
       "      <td>1.0</td>\n",
       "      <td>Wetpaint</td>\n",
       "      <td>web</td>\n",
       "      <td>operating</td>\n",
       "      <td>2005-10-17</td>\n",
       "      <td>NaN</td>\n",
       "      <td>wetpaint-inc.com</td>\n",
       "      <td>BachelrWetpaint</td>\n",
       "      <td>USA</td>\n",
       "      <td>0.0</td>\n",
       "      <td>...</td>\n",
       "      <td>5.0</td>\n",
       "      <td>888.0</td>\n",
       "      <td>1.0</td>\n",
       "      <td>2005-10-01</td>\n",
       "      <td>series-a</td>\n",
       "      <td>5250000.0</td>\n",
       "      <td>0.0</td>\n",
       "      <td>2.0</td>\n",
       "      <td>0.0</td>\n",
       "      <td>1.0</td>\n",
       "    </tr>\n",
       "    <tr>\n",
       "      <th>1</th>\n",
       "      <td>1.0</td>\n",
       "      <td>Wetpaint</td>\n",
       "      <td>web</td>\n",
       "      <td>operating</td>\n",
       "      <td>2005-10-17</td>\n",
       "      <td>NaN</td>\n",
       "      <td>wetpaint-inc.com</td>\n",
       "      <td>BachelrWetpaint</td>\n",
       "      <td>USA</td>\n",
       "      <td>0.0</td>\n",
       "      <td>...</td>\n",
       "      <td>5.0</td>\n",
       "      <td>889.0</td>\n",
       "      <td>1.0</td>\n",
       "      <td>2007-01-01</td>\n",
       "      <td>series-b</td>\n",
       "      <td>9500000.0</td>\n",
       "      <td>0.0</td>\n",
       "      <td>3.0</td>\n",
       "      <td>0.0</td>\n",
       "      <td>0.0</td>\n",
       "    </tr>\n",
       "    <tr>\n",
       "      <th>2</th>\n",
       "      <td>1.0</td>\n",
       "      <td>Wetpaint</td>\n",
       "      <td>web</td>\n",
       "      <td>operating</td>\n",
       "      <td>2005-10-17</td>\n",
       "      <td>NaN</td>\n",
       "      <td>wetpaint-inc.com</td>\n",
       "      <td>BachelrWetpaint</td>\n",
       "      <td>USA</td>\n",
       "      <td>0.0</td>\n",
       "      <td>...</td>\n",
       "      <td>5.0</td>\n",
       "      <td>2312.0</td>\n",
       "      <td>1.0</td>\n",
       "      <td>2008-05-19</td>\n",
       "      <td>series-c+</td>\n",
       "      <td>25000000.0</td>\n",
       "      <td>0.0</td>\n",
       "      <td>4.0</td>\n",
       "      <td>1.0</td>\n",
       "      <td>0.0</td>\n",
       "    </tr>\n",
       "    <tr>\n",
       "      <th>3</th>\n",
       "      <td>10.0</td>\n",
       "      <td>Flektor</td>\n",
       "      <td>games_video</td>\n",
       "      <td>acquired</td>\n",
       "      <td>NaN</td>\n",
       "      <td>NaN</td>\n",
       "      <td>flektor.com</td>\n",
       "      <td>NaN</td>\n",
       "      <td>USA</td>\n",
       "      <td>0.0</td>\n",
       "      <td>...</td>\n",
       "      <td>0.0</td>\n",
       "      <td>NaN</td>\n",
       "      <td>NaN</td>\n",
       "      <td>NaN</td>\n",
       "      <td>NaN</td>\n",
       "      <td>NaN</td>\n",
       "      <td>NaN</td>\n",
       "      <td>NaN</td>\n",
       "      <td>NaN</td>\n",
       "      <td>NaN</td>\n",
       "    </tr>\n",
       "    <tr>\n",
       "      <th>4</th>\n",
       "      <td>100.0</td>\n",
       "      <td>There</td>\n",
       "      <td>games_video</td>\n",
       "      <td>acquired</td>\n",
       "      <td>NaN</td>\n",
       "      <td>NaN</td>\n",
       "      <td>there.com</td>\n",
       "      <td>NaN</td>\n",
       "      <td>USA</td>\n",
       "      <td>0.0</td>\n",
       "      <td>...</td>\n",
       "      <td>4.0</td>\n",
       "      <td>NaN</td>\n",
       "      <td>NaN</td>\n",
       "      <td>NaN</td>\n",
       "      <td>NaN</td>\n",
       "      <td>NaN</td>\n",
       "      <td>NaN</td>\n",
       "      <td>NaN</td>\n",
       "      <td>NaN</td>\n",
       "      <td>NaN</td>\n",
       "    </tr>\n",
       "  </tbody>\n",
       "</table>\n",
       "<p>5 rows × 22 columns</p>\n",
       "</div>"
      ],
      "text/plain": [
       "   company_ID      name category_code     status  founded_at closed_at  \\\n",
       "0         1.0  Wetpaint           web  operating  2005-10-17       NaN   \n",
       "1         1.0  Wetpaint           web  operating  2005-10-17       NaN   \n",
       "2         1.0  Wetpaint           web  operating  2005-10-17       NaN   \n",
       "3        10.0   Flektor   games_video   acquired         NaN       NaN   \n",
       "4       100.0     There   games_video   acquired         NaN       NaN   \n",
       "\n",
       "             domain network_username country_code  investment_rounds  ...  \\\n",
       "0  wetpaint-inc.com  BachelrWetpaint          USA                0.0  ...   \n",
       "1  wetpaint-inc.com  BachelrWetpaint          USA                0.0  ...   \n",
       "2  wetpaint-inc.com  BachelrWetpaint          USA                0.0  ...   \n",
       "3       flektor.com              NaN          USA                0.0  ...   \n",
       "4         there.com              NaN          USA                0.0  ...   \n",
       "\n",
       "   milestones  funding_round_id  company_id   funded_at  funding_round_type  \\\n",
       "0         5.0             888.0         1.0  2005-10-01            series-a   \n",
       "1         5.0             889.0         1.0  2007-01-01            series-b   \n",
       "2         5.0            2312.0         1.0  2008-05-19           series-c+   \n",
       "3         0.0               NaN         NaN         NaN                 NaN   \n",
       "4         4.0               NaN         NaN         NaN                 NaN   \n",
       "\n",
       "  raised_amount pre_money_valuation  participants  is_first_round  \\\n",
       "0     5250000.0                 0.0           2.0             0.0   \n",
       "1     9500000.0                 0.0           3.0             0.0   \n",
       "2    25000000.0                 0.0           4.0             1.0   \n",
       "3           NaN                 NaN           NaN             NaN   \n",
       "4           NaN                 NaN           NaN             NaN   \n",
       "\n",
       "   is_last_round  \n",
       "0            1.0  \n",
       "1            0.0  \n",
       "2            0.0  \n",
       "3            NaN  \n",
       "4            NaN  \n",
       "\n",
       "[5 rows x 22 columns]"
      ]
     },
     "execution_count": 14,
     "metadata": {},
     "output_type": "execute_result"
    }
   ],
   "source": [
    "с_and_r_df.head()"
   ]
  },
  {
   "cell_type": "code",
   "execution_count": 15,
   "metadata": {},
   "outputs": [
    {
     "name": "stdout",
     "output_type": "stream",
     "text": [
      "<class 'pandas.core.frame.DataFrame'>\n",
      "RangeIndex: 217774 entries, 0 to 217773\n",
      "Data columns (total 22 columns):\n",
      " #   Column               Non-Null Count   Dtype  \n",
      "---  ------               --------------   -----  \n",
      " 0   company_ID           217472 non-null  float64\n",
      " 1   name                 217472 non-null  object \n",
      " 2   category_code        143886 non-null  object \n",
      " 3   status               217472 non-null  object \n",
      " 4   founded_at           109956 non-null  object \n",
      " 5   closed_at            3449 non-null    object \n",
      " 6   domain               147159 non-null  object \n",
      " 7   network_username     95534 non-null   object \n",
      " 8   country_code         108607 non-null  object \n",
      " 9   investment_rounds    217472 non-null  float64\n",
      " 10  funding_rounds       217472 non-null  float64\n",
      " 11  funding_total        217472 non-null  float64\n",
      " 12  milestones           217472 non-null  float64\n",
      " 13  funding_round_id     52928 non-null   float64\n",
      " 14  company_id           52928 non-null   float64\n",
      " 15  funded_at            52680 non-null   object \n",
      " 16  funding_round_type   52928 non-null   object \n",
      " 17  raised_amount        52928 non-null   float64\n",
      " 18  pre_money_valuation  52928 non-null   float64\n",
      " 19  participants         52928 non-null   float64\n",
      " 20  is_first_round       52928 non-null   float64\n",
      " 21  is_last_round        52928 non-null   float64\n",
      "dtypes: float64(12), object(10)\n",
      "memory usage: 36.6+ MB\n"
     ]
    }
   ],
   "source": [
    "с_and_r_df.info()"
   ]
  },
  {
   "cell_type": "markdown",
   "metadata": {},
   "source": [
    "- Столбец 'company__ID',  funding__round__id, company__id : данные не соответствуют столбцу, представлены просто числа формата float, для такого столбца лучше тип object\n",
    "- 'category__code' - лучше поменять тип данных на category\n",
    "- 'status' - тоже лучше поменять на category или на bool, если значения там двоичного характера\n",
    "- founded__at и closed__at, funded__at: нужен тип datetime\n",
    "- investment__rounds, funding rounds, participants: integer\n",
    "- funding__round__type в целом object подходит, можно поменять на category\n",
    "- is__first__round, is__last__round  - подойдет булевой тип данных"
   ]
  },
  {
   "cell_type": "code",
   "execution_count": 16,
   "metadata": {},
   "outputs": [
    {
     "data": {
      "text/html": [
       "<div>\n",
       "<style scoped>\n",
       "    .dataframe tbody tr th:only-of-type {\n",
       "        vertical-align: middle;\n",
       "    }\n",
       "\n",
       "    .dataframe tbody tr th {\n",
       "        vertical-align: top;\n",
       "    }\n",
       "\n",
       "    .dataframe thead th {\n",
       "        text-align: right;\n",
       "    }\n",
       "</style>\n",
       "<table border=\"1\" class=\"dataframe\">\n",
       "  <thead>\n",
       "    <tr style=\"text-align: right;\">\n",
       "      <th></th>\n",
       "      <th>id</th>\n",
       "      <th>first_name</th>\n",
       "      <th>last_name</th>\n",
       "      <th>company_id</th>\n",
       "      <th>network_username</th>\n",
       "    </tr>\n",
       "  </thead>\n",
       "  <tbody>\n",
       "    <tr>\n",
       "      <th>0</th>\n",
       "      <td>10</td>\n",
       "      <td>Mark</td>\n",
       "      <td>Zuckerberg</td>\n",
       "      <td>5.0</td>\n",
       "      <td>NaN</td>\n",
       "    </tr>\n",
       "    <tr>\n",
       "      <th>1</th>\n",
       "      <td>100</td>\n",
       "      <td>Peter</td>\n",
       "      <td>Lester</td>\n",
       "      <td>27.0</td>\n",
       "      <td>NaN</td>\n",
       "    </tr>\n",
       "    <tr>\n",
       "      <th>2</th>\n",
       "      <td>1000</td>\n",
       "      <td>Dr. Steven</td>\n",
       "      <td>E. Saunders</td>\n",
       "      <td>292.0</td>\n",
       "      <td>NaN</td>\n",
       "    </tr>\n",
       "    <tr>\n",
       "      <th>3</th>\n",
       "      <td>10000</td>\n",
       "      <td>Neil</td>\n",
       "      <td>Capel</td>\n",
       "      <td>2526.0</td>\n",
       "      <td>NaN</td>\n",
       "    </tr>\n",
       "    <tr>\n",
       "      <th>4</th>\n",
       "      <td>100000</td>\n",
       "      <td>Sue</td>\n",
       "      <td>Pilsch</td>\n",
       "      <td>NaN</td>\n",
       "      <td>NaN</td>\n",
       "    </tr>\n",
       "  </tbody>\n",
       "</table>\n",
       "</div>"
      ],
      "text/plain": [
       "       id  first_name    last_name  company_id network_username\n",
       "0      10        Mark   Zuckerberg         5.0              NaN\n",
       "1     100       Peter       Lester        27.0              NaN\n",
       "2    1000  Dr. Steven  E. Saunders       292.0              NaN\n",
       "3   10000        Neil        Capel      2526.0              NaN\n",
       "4  100000         Sue       Pilsch         NaN              NaN"
      ]
     },
     "execution_count": 16,
     "metadata": {},
     "output_type": "execute_result"
    }
   ],
   "source": [
    "people_df.head()"
   ]
  },
  {
   "cell_type": "code",
   "execution_count": 17,
   "metadata": {},
   "outputs": [
    {
     "name": "stdout",
     "output_type": "stream",
     "text": [
      "<class 'pandas.core.frame.DataFrame'>\n",
      "RangeIndex: 226709 entries, 0 to 226708\n",
      "Data columns (total 5 columns):\n",
      " #   Column            Non-Null Count   Dtype  \n",
      "---  ------            --------------   -----  \n",
      " 0   id                226709 non-null  int64  \n",
      " 1   first_name        226704 non-null  object \n",
      " 2   last_name         226708 non-null  object \n",
      " 3   company_id        34615 non-null   float64\n",
      " 4   network_username  38867 non-null   object \n",
      "dtypes: float64(1), int64(1), object(3)\n",
      "memory usage: 8.6+ MB\n"
     ]
    }
   ],
   "source": [
    "people_df.info()"
   ]
  },
  {
   "cell_type": "markdown",
   "metadata": {},
   "source": [
    "226 709 строк, 5 столбцов.\n",
    "\n",
    "- id выглядит странно: целочисленные значения, будто 10 в степении 1, 2 итд\n",
    "- company_id тоже странного вида: идентификационное значение в виде числа с плавающей точкой, для любых id лучше всего подходит тип object\n",
    "- пропуски есть в: first_name, last_name, company_id"
   ]
  },
  {
   "cell_type": "code",
   "execution_count": 18,
   "metadata": {},
   "outputs": [
    {
     "data": {
      "text/html": [
       "<div>\n",
       "<style scoped>\n",
       "    .dataframe tbody tr th:only-of-type {\n",
       "        vertical-align: middle;\n",
       "    }\n",
       "\n",
       "    .dataframe tbody tr th {\n",
       "        vertical-align: top;\n",
       "    }\n",
       "\n",
       "    .dataframe thead th {\n",
       "        text-align: right;\n",
       "    }\n",
       "</style>\n",
       "<table border=\"1\" class=\"dataframe\">\n",
       "  <thead>\n",
       "    <tr style=\"text-align: right;\">\n",
       "      <th></th>\n",
       "      <th>id</th>\n",
       "      <th>person_id</th>\n",
       "      <th>instituition</th>\n",
       "      <th>graduated_at</th>\n",
       "    </tr>\n",
       "  </thead>\n",
       "  <tbody>\n",
       "    <tr>\n",
       "      <th>0</th>\n",
       "      <td>1</td>\n",
       "      <td>6117</td>\n",
       "      <td>NaN</td>\n",
       "      <td>NaN</td>\n",
       "    </tr>\n",
       "    <tr>\n",
       "      <th>1</th>\n",
       "      <td>2</td>\n",
       "      <td>6136</td>\n",
       "      <td>Washington University, St. Louis</td>\n",
       "      <td>1990-01-01</td>\n",
       "    </tr>\n",
       "    <tr>\n",
       "      <th>2</th>\n",
       "      <td>3</td>\n",
       "      <td>6136</td>\n",
       "      <td>Boston University</td>\n",
       "      <td>1992-01-01</td>\n",
       "    </tr>\n",
       "    <tr>\n",
       "      <th>3</th>\n",
       "      <td>4</td>\n",
       "      <td>6005</td>\n",
       "      <td>University of Greenwich</td>\n",
       "      <td>2006-01-01</td>\n",
       "    </tr>\n",
       "    <tr>\n",
       "      <th>4</th>\n",
       "      <td>5</td>\n",
       "      <td>5832</td>\n",
       "      <td>Rice University</td>\n",
       "      <td>NaN</td>\n",
       "    </tr>\n",
       "  </tbody>\n",
       "</table>\n",
       "</div>"
      ],
      "text/plain": [
       "   id  person_id                      instituition graduated_at\n",
       "0   1       6117                               NaN          NaN\n",
       "1   2       6136  Washington University, St. Louis   1990-01-01\n",
       "2   3       6136                 Boston University   1992-01-01\n",
       "3   4       6005           University of Greenwich   2006-01-01\n",
       "4   5       5832                   Rice University          NaN"
      ]
     },
     "execution_count": 18,
     "metadata": {},
     "output_type": "execute_result"
    }
   ],
   "source": [
    "educat_df.head() "
   ]
  },
  {
   "cell_type": "code",
   "execution_count": 19,
   "metadata": {},
   "outputs": [
    {
     "name": "stdout",
     "output_type": "stream",
     "text": [
      "<class 'pandas.core.frame.DataFrame'>\n",
      "RangeIndex: 109610 entries, 0 to 109609\n",
      "Data columns (total 4 columns):\n",
      " #   Column        Non-Null Count   Dtype \n",
      "---  ------        --------------   ----- \n",
      " 0   id            109610 non-null  int64 \n",
      " 1   person_id     109610 non-null  int64 \n",
      " 2   instituition  109555 non-null  object\n",
      " 3   graduated_at  58054 non-null   object\n",
      "dtypes: int64(2), object(2)\n",
      "memory usage: 3.3+ MB\n"
     ]
    }
   ],
   "source": [
    "educat_df.info()"
   ]
  },
  {
   "cell_type": "markdown",
   "metadata": {},
   "source": [
    "109 610 строк, 4 столбца\n",
    "\n",
    "- graduated_at - нужен тип datetime\n",
    "- пропуски есть в: instituition, graduated_at"
   ]
  },
  {
   "cell_type": "code",
   "execution_count": 20,
   "metadata": {},
   "outputs": [
    {
     "data": {
      "text/html": [
       "<div>\n",
       "<style scoped>\n",
       "    .dataframe tbody tr th:only-of-type {\n",
       "        vertical-align: middle;\n",
       "    }\n",
       "\n",
       "    .dataframe tbody tr th {\n",
       "        vertical-align: top;\n",
       "    }\n",
       "\n",
       "    .dataframe thead th {\n",
       "        text-align: right;\n",
       "    }\n",
       "</style>\n",
       "<table border=\"1\" class=\"dataframe\">\n",
       "  <thead>\n",
       "    <tr style=\"text-align: right;\">\n",
       "      <th></th>\n",
       "      <th>id</th>\n",
       "      <th>object_id</th>\n",
       "      <th>degree_type</th>\n",
       "      <th>subject</th>\n",
       "    </tr>\n",
       "  </thead>\n",
       "  <tbody>\n",
       "    <tr>\n",
       "      <th>0</th>\n",
       "      <td>1</td>\n",
       "      <td>p:6117</td>\n",
       "      <td>MBA</td>\n",
       "      <td>NaN</td>\n",
       "    </tr>\n",
       "    <tr>\n",
       "      <th>1</th>\n",
       "      <td>2</td>\n",
       "      <td>p:6136</td>\n",
       "      <td>BA</td>\n",
       "      <td>English, French</td>\n",
       "    </tr>\n",
       "    <tr>\n",
       "      <th>2</th>\n",
       "      <td>3</td>\n",
       "      <td>p:6136</td>\n",
       "      <td>MS</td>\n",
       "      <td>Mass Communication</td>\n",
       "    </tr>\n",
       "    <tr>\n",
       "      <th>3</th>\n",
       "      <td>4</td>\n",
       "      <td>p:6005</td>\n",
       "      <td>MS</td>\n",
       "      <td>Internet Technology</td>\n",
       "    </tr>\n",
       "    <tr>\n",
       "      <th>4</th>\n",
       "      <td>5</td>\n",
       "      <td>p:5832</td>\n",
       "      <td>BCS</td>\n",
       "      <td>Computer Science, Psychology</td>\n",
       "    </tr>\n",
       "  </tbody>\n",
       "</table>\n",
       "</div>"
      ],
      "text/plain": [
       "   id object_id degree_type                       subject\n",
       "0   1    p:6117         MBA                           NaN\n",
       "1   2    p:6136          BA               English, French\n",
       "2   3    p:6136          MS            Mass Communication\n",
       "3   4    p:6005          MS           Internet Technology\n",
       "4   5    p:5832         BCS  Computer Science, Psychology"
      ]
     },
     "execution_count": 20,
     "metadata": {},
     "output_type": "execute_result"
    }
   ],
   "source": [
    "degrees_df.head()"
   ]
  },
  {
   "cell_type": "code",
   "execution_count": 21,
   "metadata": {},
   "outputs": [
    {
     "name": "stdout",
     "output_type": "stream",
     "text": [
      "<class 'pandas.core.frame.DataFrame'>\n",
      "RangeIndex: 109610 entries, 0 to 109609\n",
      "Data columns (total 4 columns):\n",
      " #   Column       Non-Null Count   Dtype \n",
      "---  ------       --------------   ----- \n",
      " 0   id           109610 non-null  int64 \n",
      " 1   object_id    109610 non-null  object\n",
      " 2   degree_type  98392 non-null   object\n",
      " 3   subject      81298 non-null   object\n",
      "dtypes: int64(1), object(3)\n",
      "memory usage: 3.3+ MB\n"
     ]
    }
   ],
   "source": [
    "degrees_df.info()"
   ]
  },
  {
   "cell_type": "markdown",
   "metadata": {},
   "source": [
    "109 610 строк, 4 столбца.\n",
    "\n",
    "- пропуски есть в: degree_type, subject"
   ]
  },
  {
   "cell_type": "markdown",
   "metadata": {},
   "source": [
    "Теперь подробнее рассмотрим пропуски в каждом датафрейме:\n",
    "acquis_df \n",
    "с_and_r_df \n",
    "people_df  \n",
    "educat_df \n",
    "degrees_df"
   ]
  },
  {
   "cell_type": "code",
   "execution_count": 22,
   "metadata": {},
   "outputs": [
    {
     "data": {
      "text/plain": [
       "id                         0\n",
       "acquiring_company_id       0\n",
       "acquired_company_id        0\n",
       "term_code               7576\n",
       "price_amount               0\n",
       "acquired_at               29\n",
       "dtype: int64"
      ]
     },
     "execution_count": 22,
     "metadata": {},
     "output_type": "execute_result"
    }
   ],
   "source": [
    "acquis_df.isna().sum() "
   ]
  },
  {
   "cell_type": "code",
   "execution_count": 23,
   "metadata": {},
   "outputs": [
    {
     "data": {
      "text/plain": [
       "id                      0.000000\n",
       "acquiring_company_id    0.000000\n",
       "acquired_company_id     0.000000\n",
       "term_code               0.805358\n",
       "price_amount            0.000000\n",
       "acquired_at             0.003083\n",
       "dtype: float64"
      ]
     },
     "execution_count": 23,
     "metadata": {},
     "output_type": "execute_result"
    }
   ],
   "source": [
    "acquis_df.isna().mean()"
   ]
  },
  {
   "cell_type": "markdown",
   "metadata": {},
   "source": [
    "- Прпопуски в term_code: 7576 (80.5%)\n",
    "- В  acquired_at: 29 пропусков (0.3%)           "
   ]
  },
  {
   "cell_type": "code",
   "execution_count": 24,
   "metadata": {},
   "outputs": [
    {
     "data": {
      "text/html": [
       "<div>\n",
       "<style scoped>\n",
       "    .dataframe tbody tr th:only-of-type {\n",
       "        vertical-align: middle;\n",
       "    }\n",
       "\n",
       "    .dataframe tbody tr th {\n",
       "        vertical-align: top;\n",
       "    }\n",
       "\n",
       "    .dataframe thead th {\n",
       "        text-align: right;\n",
       "    }\n",
       "</style>\n",
       "<table border=\"1\" class=\"dataframe\">\n",
       "  <thead>\n",
       "    <tr style=\"text-align: right;\">\n",
       "      <th></th>\n",
       "      <th>index</th>\n",
       "      <th>missing_values</th>\n",
       "    </tr>\n",
       "  </thead>\n",
       "  <tbody>\n",
       "    <tr>\n",
       "      <th>5</th>\n",
       "      <td>closed_at</td>\n",
       "      <td>214325</td>\n",
       "    </tr>\n",
       "    <tr>\n",
       "      <th>15</th>\n",
       "      <td>funded_at</td>\n",
       "      <td>165094</td>\n",
       "    </tr>\n",
       "    <tr>\n",
       "      <th>21</th>\n",
       "      <td>is_last_round</td>\n",
       "      <td>164846</td>\n",
       "    </tr>\n",
       "    <tr>\n",
       "      <th>20</th>\n",
       "      <td>is_first_round</td>\n",
       "      <td>164846</td>\n",
       "    </tr>\n",
       "    <tr>\n",
       "      <th>19</th>\n",
       "      <td>participants</td>\n",
       "      <td>164846</td>\n",
       "    </tr>\n",
       "    <tr>\n",
       "      <th>18</th>\n",
       "      <td>pre_money_valuation</td>\n",
       "      <td>164846</td>\n",
       "    </tr>\n",
       "    <tr>\n",
       "      <th>17</th>\n",
       "      <td>raised_amount</td>\n",
       "      <td>164846</td>\n",
       "    </tr>\n",
       "    <tr>\n",
       "      <th>16</th>\n",
       "      <td>funding_round_type</td>\n",
       "      <td>164846</td>\n",
       "    </tr>\n",
       "    <tr>\n",
       "      <th>13</th>\n",
       "      <td>funding_round_id</td>\n",
       "      <td>164846</td>\n",
       "    </tr>\n",
       "    <tr>\n",
       "      <th>14</th>\n",
       "      <td>company_id</td>\n",
       "      <td>164846</td>\n",
       "    </tr>\n",
       "    <tr>\n",
       "      <th>7</th>\n",
       "      <td>network_username</td>\n",
       "      <td>122240</td>\n",
       "    </tr>\n",
       "    <tr>\n",
       "      <th>8</th>\n",
       "      <td>country_code</td>\n",
       "      <td>109167</td>\n",
       "    </tr>\n",
       "    <tr>\n",
       "      <th>4</th>\n",
       "      <td>founded_at</td>\n",
       "      <td>107818</td>\n",
       "    </tr>\n",
       "    <tr>\n",
       "      <th>2</th>\n",
       "      <td>category_code</td>\n",
       "      <td>73888</td>\n",
       "    </tr>\n",
       "    <tr>\n",
       "      <th>6</th>\n",
       "      <td>domain</td>\n",
       "      <td>70615</td>\n",
       "    </tr>\n",
       "    <tr>\n",
       "      <th>0</th>\n",
       "      <td>company_ID</td>\n",
       "      <td>302</td>\n",
       "    </tr>\n",
       "    <tr>\n",
       "      <th>12</th>\n",
       "      <td>milestones</td>\n",
       "      <td>302</td>\n",
       "    </tr>\n",
       "    <tr>\n",
       "      <th>1</th>\n",
       "      <td>name</td>\n",
       "      <td>302</td>\n",
       "    </tr>\n",
       "    <tr>\n",
       "      <th>10</th>\n",
       "      <td>funding_rounds</td>\n",
       "      <td>302</td>\n",
       "    </tr>\n",
       "    <tr>\n",
       "      <th>9</th>\n",
       "      <td>investment_rounds</td>\n",
       "      <td>302</td>\n",
       "    </tr>\n",
       "    <tr>\n",
       "      <th>3</th>\n",
       "      <td>status</td>\n",
       "      <td>302</td>\n",
       "    </tr>\n",
       "    <tr>\n",
       "      <th>11</th>\n",
       "      <td>funding_total</td>\n",
       "      <td>302</td>\n",
       "    </tr>\n",
       "  </tbody>\n",
       "</table>\n",
       "</div>"
      ],
      "text/plain": [
       "                  index  missing_values\n",
       "5             closed_at          214325\n",
       "15            funded_at          165094\n",
       "21        is_last_round          164846\n",
       "20       is_first_round          164846\n",
       "19         participants          164846\n",
       "18  pre_money_valuation          164846\n",
       "17        raised_amount          164846\n",
       "16   funding_round_type          164846\n",
       "13     funding_round_id          164846\n",
       "14           company_id          164846\n",
       "7      network_username          122240\n",
       "8          country_code          109167\n",
       "4            founded_at          107818\n",
       "2         category_code           73888\n",
       "6                domain           70615\n",
       "0            company_ID             302\n",
       "12           milestones             302\n",
       "1                  name             302\n",
       "10       funding_rounds             302\n",
       "9     investment_rounds             302\n",
       "3                status             302\n",
       "11        funding_total             302"
      ]
     },
     "execution_count": 24,
     "metadata": {},
     "output_type": "execute_result"
    }
   ],
   "source": [
    "result = с_and_r_df.isna().sum().reset_index(name='missing_values')\n",
    "result.sort_values(by='missing_values', ascending=False)"
   ]
  },
  {
   "cell_type": "code",
   "execution_count": 25,
   "metadata": {},
   "outputs": [
    {
     "data": {
      "text/html": [
       "<div>\n",
       "<style scoped>\n",
       "    .dataframe tbody tr th:only-of-type {\n",
       "        vertical-align: middle;\n",
       "    }\n",
       "\n",
       "    .dataframe tbody tr th {\n",
       "        vertical-align: top;\n",
       "    }\n",
       "\n",
       "    .dataframe thead th {\n",
       "        text-align: right;\n",
       "    }\n",
       "</style>\n",
       "<table border=\"1\" class=\"dataframe\">\n",
       "  <thead>\n",
       "    <tr style=\"text-align: right;\">\n",
       "      <th></th>\n",
       "      <th>index</th>\n",
       "      <th>missing_values</th>\n",
       "    </tr>\n",
       "  </thead>\n",
       "  <tbody>\n",
       "    <tr>\n",
       "      <th>5</th>\n",
       "      <td>closed_at</td>\n",
       "      <td>0.984162</td>\n",
       "    </tr>\n",
       "    <tr>\n",
       "      <th>15</th>\n",
       "      <td>funded_at</td>\n",
       "      <td>0.758098</td>\n",
       "    </tr>\n",
       "    <tr>\n",
       "      <th>21</th>\n",
       "      <td>is_last_round</td>\n",
       "      <td>0.756959</td>\n",
       "    </tr>\n",
       "    <tr>\n",
       "      <th>20</th>\n",
       "      <td>is_first_round</td>\n",
       "      <td>0.756959</td>\n",
       "    </tr>\n",
       "    <tr>\n",
       "      <th>19</th>\n",
       "      <td>participants</td>\n",
       "      <td>0.756959</td>\n",
       "    </tr>\n",
       "    <tr>\n",
       "      <th>18</th>\n",
       "      <td>pre_money_valuation</td>\n",
       "      <td>0.756959</td>\n",
       "    </tr>\n",
       "    <tr>\n",
       "      <th>17</th>\n",
       "      <td>raised_amount</td>\n",
       "      <td>0.756959</td>\n",
       "    </tr>\n",
       "    <tr>\n",
       "      <th>16</th>\n",
       "      <td>funding_round_type</td>\n",
       "      <td>0.756959</td>\n",
       "    </tr>\n",
       "    <tr>\n",
       "      <th>13</th>\n",
       "      <td>funding_round_id</td>\n",
       "      <td>0.756959</td>\n",
       "    </tr>\n",
       "    <tr>\n",
       "      <th>14</th>\n",
       "      <td>company_id</td>\n",
       "      <td>0.756959</td>\n",
       "    </tr>\n",
       "    <tr>\n",
       "      <th>7</th>\n",
       "      <td>network_username</td>\n",
       "      <td>0.561316</td>\n",
       "    </tr>\n",
       "    <tr>\n",
       "      <th>8</th>\n",
       "      <td>country_code</td>\n",
       "      <td>0.501286</td>\n",
       "    </tr>\n",
       "    <tr>\n",
       "      <th>4</th>\n",
       "      <td>founded_at</td>\n",
       "      <td>0.495091</td>\n",
       "    </tr>\n",
       "    <tr>\n",
       "      <th>2</th>\n",
       "      <td>category_code</td>\n",
       "      <td>0.339288</td>\n",
       "    </tr>\n",
       "    <tr>\n",
       "      <th>6</th>\n",
       "      <td>domain</td>\n",
       "      <td>0.324258</td>\n",
       "    </tr>\n",
       "    <tr>\n",
       "      <th>0</th>\n",
       "      <td>company_ID</td>\n",
       "      <td>0.001387</td>\n",
       "    </tr>\n",
       "    <tr>\n",
       "      <th>12</th>\n",
       "      <td>milestones</td>\n",
       "      <td>0.001387</td>\n",
       "    </tr>\n",
       "    <tr>\n",
       "      <th>1</th>\n",
       "      <td>name</td>\n",
       "      <td>0.001387</td>\n",
       "    </tr>\n",
       "    <tr>\n",
       "      <th>10</th>\n",
       "      <td>funding_rounds</td>\n",
       "      <td>0.001387</td>\n",
       "    </tr>\n",
       "    <tr>\n",
       "      <th>9</th>\n",
       "      <td>investment_rounds</td>\n",
       "      <td>0.001387</td>\n",
       "    </tr>\n",
       "    <tr>\n",
       "      <th>3</th>\n",
       "      <td>status</td>\n",
       "      <td>0.001387</td>\n",
       "    </tr>\n",
       "    <tr>\n",
       "      <th>11</th>\n",
       "      <td>funding_total</td>\n",
       "      <td>0.001387</td>\n",
       "    </tr>\n",
       "  </tbody>\n",
       "</table>\n",
       "</div>"
      ],
      "text/plain": [
       "                  index  missing_values\n",
       "5             closed_at        0.984162\n",
       "15            funded_at        0.758098\n",
       "21        is_last_round        0.756959\n",
       "20       is_first_round        0.756959\n",
       "19         participants        0.756959\n",
       "18  pre_money_valuation        0.756959\n",
       "17        raised_amount        0.756959\n",
       "16   funding_round_type        0.756959\n",
       "13     funding_round_id        0.756959\n",
       "14           company_id        0.756959\n",
       "7      network_username        0.561316\n",
       "8          country_code        0.501286\n",
       "4            founded_at        0.495091\n",
       "2         category_code        0.339288\n",
       "6                domain        0.324258\n",
       "0            company_ID        0.001387\n",
       "12           milestones        0.001387\n",
       "1                  name        0.001387\n",
       "10       funding_rounds        0.001387\n",
       "9     investment_rounds        0.001387\n",
       "3                status        0.001387\n",
       "11        funding_total        0.001387"
      ]
     },
     "execution_count": 25,
     "metadata": {},
     "output_type": "execute_result"
    }
   ],
   "source": [
    "result = (с_and_r_df.isna().mean()).reset_index(name='missing_values')\n",
    "result.sort_values(by='missing_values', ascending=False)"
   ]
  },
  {
   "cell_type": "markdown",
   "metadata": {},
   "source": [
    "- closed__at: 214 325 пропусков (98.4%) - большинство компаний просто еще не закрылось.\n",
    "- funded__at: 165 094 (75.8%) - лишь 34.2% профинансированы\n",
    "\n",
    "- is__last__round, is__first__round, participants, pre__money__valuation, pre__money__valuation, raised__amount, funding__round__type, funding__round__id, company__id: 164 846 (75.7%)\n",
    "\n",
    "- network__username: 122 240 (56.13%)\n",
    "- country__code: 109 167 (50.12%)\n",
    "- founded__at: 107 818 (49.5%)\n",
    "- category__code: 73 888 (34%)\n",
    "- domain 70 615 (32.42%)\n",
    "- company__ID, milestones, name, funding__rounds, investment__rounds, status, funding__total: 302 (0.14%)"
   ]
  },
  {
   "cell_type": "code",
   "execution_count": 26,
   "metadata": {
    "scrolled": true
   },
   "outputs": [
    {
     "data": {
      "image/png": "[encoded data removed]",
      "text/plain": [
       "<Figure size 1800x720 with 1 Axes>"
      ]
     },
     "metadata": {
      "needs_background": "light"
     },
     "output_type": "display_data"
    }
   ],
   "source": [
    "# Код ревьюера\n",
    "# Метод dendrogram из библиотеки missingno\n",
    "!pip install missingno -q\n",
    "import missingno as msno\n",
    "msno.dendrogram(с_and_r_df)\n",
    "plt.show()"
   ]
  },
  {
   "cell_type": "code",
   "execution_count": 27,
   "metadata": {},
   "outputs": [
    {
     "data": {
      "text/html": [
       "<div>\n",
       "<style scoped>\n",
       "    .dataframe tbody tr th:only-of-type {\n",
       "        vertical-align: middle;\n",
       "    }\n",
       "\n",
       "    .dataframe tbody tr th {\n",
       "        vertical-align: top;\n",
       "    }\n",
       "\n",
       "    .dataframe thead th {\n",
       "        text-align: right;\n",
       "    }\n",
       "</style>\n",
       "<table border=\"1\" class=\"dataframe\">\n",
       "  <thead>\n",
       "    <tr style=\"text-align: right;\">\n",
       "      <th></th>\n",
       "      <th>index</th>\n",
       "      <th>missing_values</th>\n",
       "    </tr>\n",
       "  </thead>\n",
       "  <tbody>\n",
       "    <tr>\n",
       "      <th>3</th>\n",
       "      <td>company_id</td>\n",
       "      <td>192094</td>\n",
       "    </tr>\n",
       "    <tr>\n",
       "      <th>4</th>\n",
       "      <td>network_username</td>\n",
       "      <td>187842</td>\n",
       "    </tr>\n",
       "    <tr>\n",
       "      <th>1</th>\n",
       "      <td>first_name</td>\n",
       "      <td>5</td>\n",
       "    </tr>\n",
       "    <tr>\n",
       "      <th>2</th>\n",
       "      <td>last_name</td>\n",
       "      <td>1</td>\n",
       "    </tr>\n",
       "    <tr>\n",
       "      <th>0</th>\n",
       "      <td>id</td>\n",
       "      <td>0</td>\n",
       "    </tr>\n",
       "  </tbody>\n",
       "</table>\n",
       "</div>"
      ],
      "text/plain": [
       "              index  missing_values\n",
       "3        company_id          192094\n",
       "4  network_username          187842\n",
       "1        first_name               5\n",
       "2         last_name               1\n",
       "0                id               0"
      ]
     },
     "execution_count": 27,
     "metadata": {},
     "output_type": "execute_result"
    }
   ],
   "source": [
    "result = people_df.isna().sum().reset_index(name='missing_values')\n",
    "result.sort_values(by='missing_values', ascending=False)"
   ]
  },
  {
   "cell_type": "code",
   "execution_count": 28,
   "metadata": {},
   "outputs": [
    {
     "data": {
      "text/html": [
       "<div>\n",
       "<style scoped>\n",
       "    .dataframe tbody tr th:only-of-type {\n",
       "        vertical-align: middle;\n",
       "    }\n",
       "\n",
       "    .dataframe tbody tr th {\n",
       "        vertical-align: top;\n",
       "    }\n",
       "\n",
       "    .dataframe thead th {\n",
       "        text-align: right;\n",
       "    }\n",
       "</style>\n",
       "<table border=\"1\" class=\"dataframe\">\n",
       "  <thead>\n",
       "    <tr style=\"text-align: right;\">\n",
       "      <th></th>\n",
       "      <th>index</th>\n",
       "      <th>missing_values</th>\n",
       "    </tr>\n",
       "  </thead>\n",
       "  <tbody>\n",
       "    <tr>\n",
       "      <th>3</th>\n",
       "      <td>company_id</td>\n",
       "      <td>0.847315</td>\n",
       "    </tr>\n",
       "    <tr>\n",
       "      <th>4</th>\n",
       "      <td>network_username</td>\n",
       "      <td>0.828560</td>\n",
       "    </tr>\n",
       "    <tr>\n",
       "      <th>1</th>\n",
       "      <td>first_name</td>\n",
       "      <td>0.000022</td>\n",
       "    </tr>\n",
       "    <tr>\n",
       "      <th>2</th>\n",
       "      <td>last_name</td>\n",
       "      <td>0.000004</td>\n",
       "    </tr>\n",
       "    <tr>\n",
       "      <th>0</th>\n",
       "      <td>id</td>\n",
       "      <td>0.000000</td>\n",
       "    </tr>\n",
       "  </tbody>\n",
       "</table>\n",
       "</div>"
      ],
      "text/plain": [
       "              index  missing_values\n",
       "3        company_id        0.847315\n",
       "4  network_username        0.828560\n",
       "1        first_name        0.000022\n",
       "2         last_name        0.000004\n",
       "0                id        0.000000"
      ]
     },
     "execution_count": 28,
     "metadata": {},
     "output_type": "execute_result"
    }
   ],
   "source": [
    "result = (people_df.isna().mean()).reset_index(name='missing_values')\n",
    "result.sort_values(by='missing_values', ascending=False)"
   ]
  },
  {
   "cell_type": "markdown",
   "metadata": {},
   "source": [
    "- company_id: 192 094 (84.7%)\n",
    "- network_username: 187 842 (82.8%)\n",
    "- first_name: 5\n",
    "- last_name: 1 \n"
   ]
  },
  {
   "cell_type": "code",
   "execution_count": 29,
   "metadata": {},
   "outputs": [
    {
     "data": {
      "text/plain": [
       "id                  0\n",
       "person_id           0\n",
       "instituition       55\n",
       "graduated_at    51556\n",
       "dtype: int64"
      ]
     },
     "execution_count": 29,
     "metadata": {},
     "output_type": "execute_result"
    }
   ],
   "source": [
    "educat_df.isna().sum() "
   ]
  },
  {
   "cell_type": "code",
   "execution_count": 30,
   "metadata": {},
   "outputs": [
    {
     "data": {
      "text/plain": [
       "id              0.000000\n",
       "person_id       0.000000\n",
       "instituition    0.000502\n",
       "graduated_at    0.470359\n",
       "dtype: float64"
      ]
     },
     "execution_count": 30,
     "metadata": {},
     "output_type": "execute_result"
    }
   ],
   "source": [
    "educat_df.isna().mean()  "
   ]
  },
  {
   "cell_type": "markdown",
   "metadata": {},
   "source": [
    "- graduated_at: 51 556 (47%)\n",
    "- instituition: 55 (0.05%)"
   ]
  },
  {
   "cell_type": "code",
   "execution_count": 31,
   "metadata": {},
   "outputs": [
    {
     "data": {
      "text/plain": [
       "id                 0\n",
       "object_id          0\n",
       "degree_type    11218\n",
       "subject        28312\n",
       "dtype: int64"
      ]
     },
     "execution_count": 31,
     "metadata": {},
     "output_type": "execute_result"
    }
   ],
   "source": [
    "degrees_df.isna().sum()"
   ]
  },
  {
   "cell_type": "code",
   "execution_count": 32,
   "metadata": {},
   "outputs": [
    {
     "data": {
      "text/plain": [
       "id             0.000000\n",
       "object_id      0.000000\n",
       "degree_type    0.102345\n",
       "subject        0.258298\n",
       "dtype: float64"
      ]
     },
     "execution_count": 32,
     "metadata": {},
     "output_type": "execute_result"
    }
   ],
   "source": [
    "degrees_df.isna().mean()"
   ]
  },
  {
   "cell_type": "markdown",
   "metadata": {},
   "source": [
    "- subject: (25.8%)\n",
    "- degree_type: (10.2%)\n",
    "\n",
    "\n"
   ]
  },
  {
   "cell_type": "markdown",
   "metadata": {
    "id": "mg2gEwh0rJg0"
   },
   "source": [
    "### 1.2. Смена типов и анализ пропусков\n",
    "\n",
    "- Обработайте типы данных в столбцах, которые хранят значения даты и времени, если это необходимо.\n",
    "- Оцените полноту данных — сделайте предварительный вывод, достаточно ли данных для решения задач проекта."
   ]
  },
  {
   "cell_type": "markdown",
   "metadata": {},
   "source": [
    "Изменим типы данных на корректные, понизим разрядность:"
   ]
  },
  {
   "cell_type": "code",
   "execution_count": 33,
   "metadata": {
    "id": "FsL0A8RBrJg1",
    "vscode": {
     "languageId": "plaintext"
    }
   },
   "outputs": [],
   "source": [
    "for column in ['founded_at', 'closed_at', 'funded_at']:\n",
    "    с_and_r_df[column] = pd.to_datetime(с_and_r_df[column], format='%Y/%m/%d')\n",
    "    \n",
    "acquis_df['acquired_at'] = pd.to_datetime(acquis_df['acquired_at'], format='%Y/%m/%d')\n",
    "educat_df['graduated_at'] = pd.to_datetime(educat_df['graduated_at'], format='%Y/%m/%d')"
   ]
  },
  {
   "cell_type": "code",
   "execution_count": 34,
   "metadata": {
    "id": "46VskrGyFeJ-",
    "scrolled": true
   },
   "outputs": [
    {
     "data": {
      "text/plain": [
       "company_ID                    float64\n",
       "name                           object\n",
       "category_code                  object\n",
       "status                         object\n",
       "founded_at             datetime64[ns]\n",
       "closed_at              datetime64[ns]\n",
       "domain                         object\n",
       "network_username               object\n",
       "country_code                   object\n",
       "investment_rounds             float64\n",
       "funding_rounds                float64\n",
       "funding_total                 float64\n",
       "milestones                    float64\n",
       "funding_round_id              float64\n",
       "company_id                    float64\n",
       "funded_at              datetime64[ns]\n",
       "funding_round_type             object\n",
       "raised_amount                 float64\n",
       "pre_money_valuation           float64\n",
       "participants                  float64\n",
       "is_first_round                float64\n",
       "is_last_round                 float64\n",
       "dtype: object"
      ]
     },
     "execution_count": 34,
     "metadata": {},
     "output_type": "execute_result"
    }
   ],
   "source": [
    "#Провнрим измененные типы данных:\n",
    "с_and_r_df.dtypes  "
   ]
  },
  {
   "cell_type": "code",
   "execution_count": 35,
   "metadata": {
    "scrolled": false
   },
   "outputs": [
    {
     "data": {
      "text/plain": [
       "id                               int64\n",
       "acquiring_company_id             int64\n",
       "acquired_company_id              int64\n",
       "term_code                       object\n",
       "price_amount                     int64\n",
       "acquired_at             datetime64[ns]\n",
       "dtype: object"
      ]
     },
     "execution_count": 35,
     "metadata": {},
     "output_type": "execute_result"
    }
   ],
   "source": [
    "acquis_df.dtypes  "
   ]
  },
  {
   "cell_type": "code",
   "execution_count": 36,
   "metadata": {},
   "outputs": [
    {
     "data": {
      "text/plain": [
       "id                       int64\n",
       "person_id                int64\n",
       "instituition            object\n",
       "graduated_at    datetime64[ns]\n",
       "dtype: object"
      ]
     },
     "execution_count": 36,
     "metadata": {},
     "output_type": "execute_result"
    }
   ],
   "source": [
    "educat_df.dtypes"
   ]
  },
  {
   "cell_type": "code",
   "execution_count": 37,
   "metadata": {},
   "outputs": [
    {
     "data": {
      "text/plain": [
       "id                    int64\n",
       "first_name           object\n",
       "last_name            object\n",
       "company_id          float64\n",
       "network_username     object\n",
       "dtype: object"
      ]
     },
     "execution_count": 37,
     "metadata": {},
     "output_type": "execute_result"
    }
   ],
   "source": [
    "people_df.dtypes"
   ]
  },
  {
   "cell_type": "code",
   "execution_count": 38,
   "metadata": {
    "scrolled": true
   },
   "outputs": [
    {
     "data": {
      "text/plain": [
       "id              int64\n",
       "object_id      object\n",
       "degree_type    object\n",
       "subject        object\n",
       "dtype: object"
      ]
     },
     "execution_count": 38,
     "metadata": {},
     "output_type": "execute_result"
    }
   ],
   "source": [
    "degrees_df.dtypes"
   ]
  },
  {
   "cell_type": "markdown",
   "metadata": {
    "id": "DEg1tl8DFeBn"
   },
   "source": [
    "В с_and_r_df очень много пропусков, в остальных df они тоже есть, но не в таком большом количестве."
   ]
  },
  {
   "cell_type": "markdown",
   "metadata": {
    "id": "u60cHsn6rJg1"
   },
   "source": [
    "## Шаг 2. Предобработка данных, предварительное исследование"
   ]
  },
  {
   "cell_type": "markdown",
   "metadata": {
    "id": "g2bHIIjcrJg1"
   },
   "source": [
    "\n",
    "### 2.1. Раунды финансирования по годам\n",
    "\n",
    "Задание необходимо выполнить без объединения и дополнительной предобработки на основе датасета `company_and_rounds.csv`.\n",
    "\n",
    "- Составьте сводную таблицу по годам, в которой на основании столбца `raised_amount` для каждого года указан:\n",
    "    - типичный размер средств, выделяемый в рамках одного раунда;\n",
    "    - общее количество раундов финансирования за этот год.\n",
    "    \n",
    "- Оставьте в таблице информацию только для тех лет, для которых есть информация о более чем 50 раундах финансирования.\n",
    "- На основе получившейся таблицы постройте график, который будет отражать динамику типичного размера средств, которые стартапы получали в рамках одного раунда финансирования.\n",
    "\n",
    "На основе полученных данных ответьте на вопросы:\n",
    "\n",
    "- В каком году типичный размер собранных в рамках одного раунда средств был максимален?\n",
    "- Какая тенденция по количеству раундов и выделяемых в рамках каждого раунда средств наблюдалась в 2013 году?"
   ]
  },
  {
   "cell_type": "code",
   "execution_count": 39,
   "metadata": {
    "scrolled": false
   },
   "outputs": [
    {
     "data": {
      "text/plain": [
       "Index(['company_ID', 'name', 'category_code', 'status', 'founded_at',\n",
       "       'closed_at', 'domain', 'network_username', 'country_code',\n",
       "       'investment_rounds', 'funding_rounds', 'funding_total', 'milestones',\n",
       "       'funding_round_id', 'company_id', 'funded_at', 'funding_round_type',\n",
       "       'raised_amount', 'pre_money_valuation', 'participants',\n",
       "       'is_first_round', 'is_last_round'],\n",
       "      dtype='object')"
      ]
     },
     "execution_count": 39,
     "metadata": {},
     "output_type": "execute_result"
    }
   ],
   "source": [
    "с_and_r_df.columns"
   ]
  },
  {
   "cell_type": "code",
   "execution_count": 40,
   "metadata": {},
   "outputs": [],
   "source": [
    "#Выводим год из даты:\n",
    "с_and_r_df = с_and_r_df[с_and_r_df['founded_at'].notnull()]\n",
    "\n",
    "с_and_r_df['years'] = с_and_r_df['founded_at'].dt.year.astype(int)\n",
    "#Размер средств на 1 раунд:\n",
    "с_and_r_df['finance_per_round'] = с_and_r_df['raised_amount']/с_and_r_df['funding_rounds']"
   ]
  },
  {
   "cell_type": "code",
   "execution_count": 41,
   "metadata": {},
   "outputs": [
    {
     "data": {
      "text/plain": [
       "1901"
      ]
     },
     "execution_count": 41,
     "metadata": {},
     "output_type": "execute_result"
    }
   ],
   "source": [
    "#Посмотрим для справки минимальный и максимальный года в столбце 'years':\n",
    "с_and_r_df['years'].min()\n"
   ]
  },
  {
   "cell_type": "code",
   "execution_count": 42,
   "metadata": {},
   "outputs": [
    {
     "data": {
      "text/plain": [
       "2014"
      ]
     },
     "execution_count": 42,
     "metadata": {},
     "output_type": "execute_result"
    }
   ],
   "source": [
    "с_and_r_df['years'].max()"
   ]
  },
  {
   "cell_type": "code",
   "execution_count": 43,
   "metadata": {},
   "outputs": [
    {
     "name": "stdout",
     "output_type": "stream",
     "text": [
      "Index(['company_ID', 'name', 'category_code', 'status', 'founded_at',\n",
      "       'closed_at', 'domain', 'network_username', 'country_code',\n",
      "       'investment_rounds', 'funding_rounds', 'funding_total', 'milestones',\n",
      "       'funding_round_id', 'company_id', 'funded_at', 'funding_round_type',\n",
      "       'raised_amount', 'pre_money_valuation', 'participants',\n",
      "       'is_first_round', 'is_last_round', 'years', 'finance_per_round'],\n",
      "      dtype='object')\n"
     ]
    }
   ],
   "source": [
    "#Проверим наличие столбца 'years'\n",
    "print(с_and_r_df.columns)"
   ]
  },
  {
   "cell_type": "code",
   "execution_count": 44,
   "metadata": {},
   "outputs": [
    {
     "name": "stdout",
     "output_type": "stream",
     "text": [
      "    years  median_finance_per_round  total_rounds\n",
      "0    1978              2.333333e+06          71.0\n",
      "1    1979              2.916667e+06          60.0\n",
      "2    1980              3.000000e+06          64.0\n",
      "3    1983              2.702000e+06          95.0\n",
      "4    1984              2.500000e+06          71.0\n",
      "5    1985              1.664583e+06         266.0\n",
      "6    1986              3.379990e+06         104.0\n",
      "7    1987              2.141120e+06         158.0\n",
      "8    1988              1.439582e+06          80.0\n",
      "9    1989              4.625000e+06         174.0\n",
      "10   1990              3.593500e+06         105.0\n",
      "11   1991              2.613492e+06         170.0\n",
      "12   1992              2.623840e+06         145.0\n",
      "13   1993              3.000000e+06         219.0\n",
      "14   1994              3.750000e+06         349.0\n",
      "15   1995              3.000000e+06         560.0\n",
      "16   1996              1.838889e+06        1078.0\n",
      "17   1997              2.658333e+06        1184.0\n",
      "18   1998              2.236364e+06        1964.0\n",
      "19   1999              2.530000e+06        3271.0\n",
      "20   2000              2.333333e+06        4270.0\n",
      "21   2001              2.326560e+06        3813.0\n",
      "22   2002              2.000000e+06        4467.0\n",
      "23   2003              1.865833e+06        5706.0\n",
      "24   2004              1.750000e+06        7990.0\n",
      "25   2005              1.357884e+06        9508.0\n",
      "26   2006              1.166667e+06       10540.0\n",
      "27   2007              8.333333e+05       11322.0\n",
      "28   2008              5.000000e+05       10406.0\n",
      "29   2009              4.294200e+05       10309.0\n",
      "30   2010              3.328750e+05       10032.0\n",
      "31   2011              2.500000e+05       10044.0\n",
      "32   2012              1.600000e+05        6185.0\n",
      "33   2013              6.666667e+04        1456.0\n"
     ]
    }
   ],
   "source": [
    "summary = с_and_r_df.groupby('years').agg(\n",
    "    median_finance_per_round=('finance_per_round', 'median'),\n",
    "    total_rounds=('funding_rounds', 'sum')\n",
    ")\n",
    "\n",
    "summary_filtered = summary[summary['total_rounds'] > 50].sort_values(by='years', ascending=True).reset_index()\n",
    "summary_filtered['years'] = summary_filtered['years'].astype(int)\n",
    "\n",
    "print(summary_filtered)\n"
   ]
  },
  {
   "cell_type": "code",
   "execution_count": 45,
   "metadata": {
    "id": "Z92DzKMMFdKW",
    "scrolled": true
   },
   "outputs": [
    {
     "data": {
      "image/png": "[encoded data removed]",
      "text/plain": [
       "<Figure size 720x432 with 1 Axes>"
      ]
     },
     "metadata": {
      "needs_background": "light"
     },
     "output_type": "display_data"
    }
   ],
   "source": [
    "plt.figure(figsize=(10, 6))\n",
    "sns.lineplot(data= summary_filtered, x='years', y='median_finance_per_round')\n",
    "plt.title('Типичный размер финансирования по годам')\n",
    "plt.xlabel('Год')\n",
    "plt.ylabel('Меддианная сумма финансирования, е6 = млн $')\n",
    "plt.grid(True)\n",
    "plt.tight_layout()\n",
    "\n",
    "plt.xticks(ticks=summary_filtered['years'].unique(), rotation=45)\n",
    "\n",
    "plt.show()"
   ]
  },
  {
   "cell_type": "code",
   "execution_count": 46,
   "metadata": {
    "scrolled": false
   },
   "outputs": [
    {
     "data": {
      "image/png": "[encoded data removed]",
      "text/plain": [
       "<Figure size 720x432 with 1 Axes>"
      ]
     },
     "metadata": {
      "needs_background": "light"
     },
     "output_type": "display_data"
    }
   ],
   "source": [
    "plt.figure(figsize=(10, 6))\n",
    "sns.lineplot(data=summary_filtered, x='years', y='total_rounds')\n",
    "plt.title('Количество раундов по годам')\n",
    "plt.xlabel('Год')\n",
    "plt.ylabel('Количество раундов')\n",
    "plt.grid(True)\n",
    "plt.tight_layout()\n",
    "plt.show()"
   ]
  },
  {
   "cell_type": "markdown",
   "metadata": {},
   "source": [
    "В каком году типичный размер собранных в рамках одного раунда средств был максимален?\n",
    "- Судя по графику примерно в 1989 году\n",
    "Какая тенденция по количеству раундов и выделяемых в рамках каждого раунда средств наблюдалась в 2013 году?\n",
    "- Количество раундов возрастает примерно но 2007 года, затем убывает; по количеству выделяемых средств - убывание"
   ]
  },
  {
   "cell_type": "markdown",
   "metadata": {
    "id": "45if1en1rJg2"
   },
   "source": [
    "\n",
    "### 2.2. Люди и их образование\n",
    "\n",
    "Заказчик хочет понять, зависит ли полнота сведений о сотрудниках (например, об их образовании) от размера компаний.\n",
    "\n",
    "- Оцените, насколько информация об образовании сотрудников полна. Используя датасеты `people.csv` и `education.csv`, разделите все компании на несколько групп по количеству сотрудников и оцените среднюю долю сотрудников без информации об образовании в каждой из групп. Обоснуйте выбранные границы групп.\n",
    "- Оцените, возможно ли для выполнения задания присоединить к этим таблицам ещё и таблицу `degrees.csv`."
   ]
  },
  {
   "cell_type": "code",
   "execution_count": 47,
   "metadata": {
    "id": "psPO7C4MrJg2",
    "scrolled": false,
    "vscode": {
     "languageId": "plaintext"
    }
   },
   "outputs": [
    {
     "name": "stdout",
     "output_type": "stream",
     "text": [
      "<class 'pandas.core.frame.DataFrame'>\n",
      "RangeIndex: 109610 entries, 0 to 109609\n",
      "Data columns (total 4 columns):\n",
      " #   Column        Non-Null Count   Dtype         \n",
      "---  ------        --------------   -----         \n",
      " 0   id            109610 non-null  int64         \n",
      " 1   person_id     109610 non-null  int64         \n",
      " 2   instituition  109555 non-null  object        \n",
      " 3   graduated_at  58054 non-null   datetime64[ns]\n",
      "dtypes: datetime64[ns](1), int64(2), object(1)\n",
      "memory usage: 3.3+ MB\n"
     ]
    }
   ],
   "source": [
    "educat_df.info()"
   ]
  },
  {
   "cell_type": "code",
   "execution_count": 48,
   "metadata": {
    "scrolled": true
   },
   "outputs": [
    {
     "name": "stdout",
     "output_type": "stream",
     "text": [
      "<class 'pandas.core.frame.DataFrame'>\n",
      "RangeIndex: 109610 entries, 0 to 109609\n",
      "Data columns (total 4 columns):\n",
      " #   Column        Non-Null Count   Dtype         \n",
      "---  ------        --------------   -----         \n",
      " 0   id            109610 non-null  int64         \n",
      " 1   person_id     109610 non-null  int64         \n",
      " 2   instituition  109555 non-null  object        \n",
      " 3   graduated_at  58054 non-null   datetime64[ns]\n",
      "dtypes: datetime64[ns](1), int64(2), object(1)\n",
      "memory usage: 3.3+ MB\n"
     ]
    }
   ],
   "source": [
    "educat_df.info()"
   ]
  },
  {
   "cell_type": "code",
   "execution_count": 49,
   "metadata": {},
   "outputs": [
    {
     "data": {
      "text/plain": [
       "0"
      ]
     },
     "execution_count": 49,
     "metadata": {},
     "output_type": "execute_result"
    }
   ],
   "source": [
    "#Проверим полные дупликаты в educat_df:\n",
    "educat_df.duplicated().sum()"
   ]
  },
  {
   "cell_type": "code",
   "execution_count": 50,
   "metadata": {},
   "outputs": [
    {
     "data": {
      "text/plain": [
       "0"
      ]
     },
     "execution_count": 50,
     "metadata": {},
     "output_type": "execute_result"
    }
   ],
   "source": [
    "# Проверяем неявные дубликаты в датафрейме по стобцу 'id':\n",
    "educat_df.duplicated(subset='id').sum()"
   ]
  },
  {
   "cell_type": "code",
   "execution_count": 51,
   "metadata": {},
   "outputs": [
    {
     "data": {
      "text/html": [
       "<div>\n",
       "<style scoped>\n",
       "    .dataframe tbody tr th:only-of-type {\n",
       "        vertical-align: middle;\n",
       "    }\n",
       "\n",
       "    .dataframe tbody tr th {\n",
       "        vertical-align: top;\n",
       "    }\n",
       "\n",
       "    .dataframe thead th {\n",
       "        text-align: right;\n",
       "    }\n",
       "</style>\n",
       "<table border=\"1\" class=\"dataframe\">\n",
       "  <thead>\n",
       "    <tr style=\"text-align: right;\">\n",
       "      <th></th>\n",
       "      <th>id</th>\n",
       "      <th>person_id</th>\n",
       "      <th>instituition</th>\n",
       "      <th>graduated_at</th>\n",
       "    </tr>\n",
       "  </thead>\n",
       "  <tbody>\n",
       "    <tr>\n",
       "      <th>0</th>\n",
       "      <td>1</td>\n",
       "      <td>6117</td>\n",
       "      <td>NaN</td>\n",
       "      <td>NaT</td>\n",
       "    </tr>\n",
       "    <tr>\n",
       "      <th>1</th>\n",
       "      <td>2</td>\n",
       "      <td>6136</td>\n",
       "      <td>Washington University, St. Louis</td>\n",
       "      <td>1990-01-01</td>\n",
       "    </tr>\n",
       "    <tr>\n",
       "      <th>2</th>\n",
       "      <td>3</td>\n",
       "      <td>6136</td>\n",
       "      <td>Boston University</td>\n",
       "      <td>1992-01-01</td>\n",
       "    </tr>\n",
       "    <tr>\n",
       "      <th>3</th>\n",
       "      <td>4</td>\n",
       "      <td>6005</td>\n",
       "      <td>University of Greenwich</td>\n",
       "      <td>2006-01-01</td>\n",
       "    </tr>\n",
       "    <tr>\n",
       "      <th>4</th>\n",
       "      <td>5</td>\n",
       "      <td>5832</td>\n",
       "      <td>Rice University</td>\n",
       "      <td>NaT</td>\n",
       "    </tr>\n",
       "    <tr>\n",
       "      <th>...</th>\n",
       "      <td>...</td>\n",
       "      <td>...</td>\n",
       "      <td>...</td>\n",
       "      <td>...</td>\n",
       "    </tr>\n",
       "    <tr>\n",
       "      <th>109605</th>\n",
       "      <td>109606</td>\n",
       "      <td>268589</td>\n",
       "      <td>American Institute of Certtified Public Accoun...</td>\n",
       "      <td>NaT</td>\n",
       "    </tr>\n",
       "    <tr>\n",
       "      <th>109606</th>\n",
       "      <td>109607</td>\n",
       "      <td>268527</td>\n",
       "      <td>South China University of Technology</td>\n",
       "      <td>NaT</td>\n",
       "    </tr>\n",
       "    <tr>\n",
       "      <th>109607</th>\n",
       "      <td>109608</td>\n",
       "      <td>268527</td>\n",
       "      <td>Clarkson University</td>\n",
       "      <td>NaT</td>\n",
       "    </tr>\n",
       "    <tr>\n",
       "      <th>109608</th>\n",
       "      <td>109609</td>\n",
       "      <td>268528</td>\n",
       "      <td>Colorado State University</td>\n",
       "      <td>NaT</td>\n",
       "    </tr>\n",
       "    <tr>\n",
       "      <th>109609</th>\n",
       "      <td>109610</td>\n",
       "      <td>268528</td>\n",
       "      <td>University of San Diego School of Law</td>\n",
       "      <td>NaT</td>\n",
       "    </tr>\n",
       "  </tbody>\n",
       "</table>\n",
       "<p>109610 rows × 4 columns</p>\n",
       "</div>"
      ],
      "text/plain": [
       "            id  person_id                                       instituition  \\\n",
       "0            1       6117                                                NaN   \n",
       "1            2       6136                   Washington University, St. Louis   \n",
       "2            3       6136                                  Boston University   \n",
       "3            4       6005                            University of Greenwich   \n",
       "4            5       5832                                    Rice University   \n",
       "...        ...        ...                                                ...   \n",
       "109605  109606     268589  American Institute of Certtified Public Accoun...   \n",
       "109606  109607     268527               South China University of Technology   \n",
       "109607  109608     268527                                Clarkson University   \n",
       "109608  109609     268528                          Colorado State University   \n",
       "109609  109610     268528              University of San Diego School of Law   \n",
       "\n",
       "       graduated_at  \n",
       "0               NaT  \n",
       "1        1990-01-01  \n",
       "2        1992-01-01  \n",
       "3        2006-01-01  \n",
       "4               NaT  \n",
       "...             ...  \n",
       "109605          NaT  \n",
       "109606          NaT  \n",
       "109607          NaT  \n",
       "109608          NaT  \n",
       "109609          NaT  \n",
       "\n",
       "[109610 rows x 4 columns]"
      ]
     },
     "execution_count": 51,
     "metadata": {},
     "output_type": "execute_result"
    }
   ],
   "source": [
    "#Удалим полные дубликаты: \n",
    "educat_df.drop_duplicates()"
   ]
  },
  {
   "cell_type": "code",
   "execution_count": 52,
   "metadata": {},
   "outputs": [
    {
     "data": {
      "text/plain": [
       "0"
      ]
     },
     "execution_count": 52,
     "metadata": {},
     "output_type": "execute_result"
    }
   ],
   "source": [
    "#Проверяем избавились ли мы от дубликатов:\n",
    "educat_df.duplicated().sum()"
   ]
  },
  {
   "cell_type": "code",
   "execution_count": 53,
   "metadata": {},
   "outputs": [
    {
     "data": {
      "text/plain": [
       "0"
      ]
     },
     "execution_count": 53,
     "metadata": {},
     "output_type": "execute_result"
    }
   ],
   "source": [
    "#Проверим полные дупликаты в people_df:\n",
    "people_df.duplicated().sum()"
   ]
  },
  {
   "cell_type": "code",
   "execution_count": 54,
   "metadata": {},
   "outputs": [
    {
     "data": {
      "text/plain": [
       "1"
      ]
     },
     "execution_count": 54,
     "metadata": {},
     "output_type": "execute_result"
    }
   ],
   "source": [
    "# Проверяем неявные дубликаты в датафрейме по стобцу 'id':\n",
    "people_df.duplicated(subset='id').sum()"
   ]
  },
  {
   "cell_type": "code",
   "execution_count": 55,
   "metadata": {},
   "outputs": [
    {
     "data": {
      "text/html": [
       "<div>\n",
       "<style scoped>\n",
       "    .dataframe tbody tr th:only-of-type {\n",
       "        vertical-align: middle;\n",
       "    }\n",
       "\n",
       "    .dataframe tbody tr th {\n",
       "        vertical-align: top;\n",
       "    }\n",
       "\n",
       "    .dataframe thead th {\n",
       "        text-align: right;\n",
       "    }\n",
       "</style>\n",
       "<table border=\"1\" class=\"dataframe\">\n",
       "  <thead>\n",
       "    <tr style=\"text-align: right;\">\n",
       "      <th></th>\n",
       "      <th>id</th>\n",
       "      <th>first_name</th>\n",
       "      <th>last_name</th>\n",
       "      <th>company_id</th>\n",
       "      <th>network_username</th>\n",
       "    </tr>\n",
       "  </thead>\n",
       "  <tbody>\n",
       "    <tr>\n",
       "      <th>0</th>\n",
       "      <td>10</td>\n",
       "      <td>Mark</td>\n",
       "      <td>Zuckerberg</td>\n",
       "      <td>5.0</td>\n",
       "      <td>NaN</td>\n",
       "    </tr>\n",
       "    <tr>\n",
       "      <th>1</th>\n",
       "      <td>100</td>\n",
       "      <td>Peter</td>\n",
       "      <td>Lester</td>\n",
       "      <td>27.0</td>\n",
       "      <td>NaN</td>\n",
       "    </tr>\n",
       "    <tr>\n",
       "      <th>2</th>\n",
       "      <td>1000</td>\n",
       "      <td>Dr. Steven</td>\n",
       "      <td>E. Saunders</td>\n",
       "      <td>292.0</td>\n",
       "      <td>NaN</td>\n",
       "    </tr>\n",
       "    <tr>\n",
       "      <th>3</th>\n",
       "      <td>10000</td>\n",
       "      <td>Neil</td>\n",
       "      <td>Capel</td>\n",
       "      <td>2526.0</td>\n",
       "      <td>NaN</td>\n",
       "    </tr>\n",
       "    <tr>\n",
       "      <th>4</th>\n",
       "      <td>100000</td>\n",
       "      <td>Sue</td>\n",
       "      <td>Pilsch</td>\n",
       "      <td>NaN</td>\n",
       "      <td>NaN</td>\n",
       "    </tr>\n",
       "    <tr>\n",
       "      <th>...</th>\n",
       "      <td>...</td>\n",
       "      <td>...</td>\n",
       "      <td>...</td>\n",
       "      <td>...</td>\n",
       "      <td>...</td>\n",
       "    </tr>\n",
       "    <tr>\n",
       "      <th>226704</th>\n",
       "      <td>99999</td>\n",
       "      <td>Ramon</td>\n",
       "      <td>Peypoch</td>\n",
       "      <td>NaN</td>\n",
       "      <td>NaN</td>\n",
       "    </tr>\n",
       "    <tr>\n",
       "      <th>226705</th>\n",
       "      <td>174088</td>\n",
       "      <td>Dr. Ray</td>\n",
       "      <td>Woods</td>\n",
       "      <td>188200.0</td>\n",
       "      <td>network</td>\n",
       "    </tr>\n",
       "    <tr>\n",
       "      <th>226706</th>\n",
       "      <td>118386</td>\n",
       "      <td>Ricardo</td>\n",
       "      <td>Durand</td>\n",
       "      <td>143419.0</td>\n",
       "      <td>itechsocialnet</td>\n",
       "    </tr>\n",
       "    <tr>\n",
       "      <th>226707</th>\n",
       "      <td>175827</td>\n",
       "      <td>mahesh</td>\n",
       "      <td>kumar</td>\n",
       "      <td>NaN</td>\n",
       "      <td>socialnethubs</td>\n",
       "    </tr>\n",
       "    <tr>\n",
       "      <th>226708</th>\n",
       "      <td>178190</td>\n",
       "      <td>Alex</td>\n",
       "      <td>Smith</td>\n",
       "      <td>NaN</td>\n",
       "      <td>esocialnetlike</td>\n",
       "    </tr>\n",
       "  </tbody>\n",
       "</table>\n",
       "<p>226708 rows × 5 columns</p>\n",
       "</div>"
      ],
      "text/plain": [
       "            id  first_name    last_name  company_id network_username\n",
       "0           10        Mark   Zuckerberg         5.0              NaN\n",
       "1          100       Peter       Lester        27.0              NaN\n",
       "2         1000  Dr. Steven  E. Saunders       292.0              NaN\n",
       "3        10000        Neil        Capel      2526.0              NaN\n",
       "4       100000         Sue       Pilsch         NaN              NaN\n",
       "...        ...         ...          ...         ...              ...\n",
       "226704   99999       Ramon      Peypoch         NaN              NaN\n",
       "226705  174088     Dr. Ray        Woods    188200.0          network\n",
       "226706  118386     Ricardo       Durand    143419.0   itechsocialnet\n",
       "226707  175827      mahesh        kumar         NaN    socialnethubs\n",
       "226708  178190        Alex        Smith         NaN   esocialnetlike\n",
       "\n",
       "[226708 rows x 5 columns]"
      ]
     },
     "execution_count": 55,
     "metadata": {},
     "output_type": "execute_result"
    }
   ],
   "source": [
    "\n",
    "#Удалим полные дубликаты: \n",
    "people_df.drop_duplicates(subset='id')"
   ]
  },
  {
   "cell_type": "code",
   "execution_count": 56,
   "metadata": {},
   "outputs": [
    {
     "data": {
      "text/plain": [
       "1"
      ]
     },
     "execution_count": 56,
     "metadata": {},
     "output_type": "execute_result"
    }
   ],
   "source": [
    "# Проверяем избавились ли мы от дубликатов:\n",
    "people_df.duplicated(subset='id').sum()"
   ]
  },
  {
   "cell_type": "code",
   "execution_count": 57,
   "metadata": {},
   "outputs": [
    {
     "data": {
      "text/html": [
       "<div>\n",
       "<style scoped>\n",
       "    .dataframe tbody tr th:only-of-type {\n",
       "        vertical-align: middle;\n",
       "    }\n",
       "\n",
       "    .dataframe tbody tr th {\n",
       "        vertical-align: top;\n",
       "    }\n",
       "\n",
       "    .dataframe thead th {\n",
       "        text-align: right;\n",
       "    }\n",
       "</style>\n",
       "<table border=\"1\" class=\"dataframe\">\n",
       "  <thead>\n",
       "    <tr style=\"text-align: right;\">\n",
       "      <th></th>\n",
       "      <th>id_x</th>\n",
       "      <th>first_name</th>\n",
       "      <th>last_name</th>\n",
       "      <th>company_id</th>\n",
       "      <th>network_username</th>\n",
       "      <th>id_y</th>\n",
       "      <th>person_id</th>\n",
       "      <th>instituition</th>\n",
       "      <th>graduated_at</th>\n",
       "    </tr>\n",
       "  </thead>\n",
       "  <tbody>\n",
       "    <tr>\n",
       "      <th>0</th>\n",
       "      <td>10</td>\n",
       "      <td>Mark</td>\n",
       "      <td>Zuckerberg</td>\n",
       "      <td>5.0</td>\n",
       "      <td>NaN</td>\n",
       "      <td>2415.0</td>\n",
       "      <td>10.0</td>\n",
       "      <td>Harvard University</td>\n",
       "      <td>NaT</td>\n",
       "    </tr>\n",
       "    <tr>\n",
       "      <th>1</th>\n",
       "      <td>100</td>\n",
       "      <td>Peter</td>\n",
       "      <td>Lester</td>\n",
       "      <td>27.0</td>\n",
       "      <td>NaN</td>\n",
       "      <td>NaN</td>\n",
       "      <td>NaN</td>\n",
       "      <td>NaN</td>\n",
       "      <td>NaT</td>\n",
       "    </tr>\n",
       "    <tr>\n",
       "      <th>2</th>\n",
       "      <td>1000</td>\n",
       "      <td>Dr. Steven</td>\n",
       "      <td>E. Saunders</td>\n",
       "      <td>292.0</td>\n",
       "      <td>NaN</td>\n",
       "      <td>NaN</td>\n",
       "      <td>NaN</td>\n",
       "      <td>NaN</td>\n",
       "      <td>NaT</td>\n",
       "    </tr>\n",
       "    <tr>\n",
       "      <th>3</th>\n",
       "      <td>10000</td>\n",
       "      <td>Neil</td>\n",
       "      <td>Capel</td>\n",
       "      <td>2526.0</td>\n",
       "      <td>NaN</td>\n",
       "      <td>NaN</td>\n",
       "      <td>NaN</td>\n",
       "      <td>NaN</td>\n",
       "      <td>NaT</td>\n",
       "    </tr>\n",
       "    <tr>\n",
       "      <th>4</th>\n",
       "      <td>100000</td>\n",
       "      <td>Sue</td>\n",
       "      <td>Pilsch</td>\n",
       "      <td>NaN</td>\n",
       "      <td>NaN</td>\n",
       "      <td>NaN</td>\n",
       "      <td>NaN</td>\n",
       "      <td>NaN</td>\n",
       "      <td>NaT</td>\n",
       "    </tr>\n",
       "    <tr>\n",
       "      <th>...</th>\n",
       "      <td>...</td>\n",
       "      <td>...</td>\n",
       "      <td>...</td>\n",
       "      <td>...</td>\n",
       "      <td>...</td>\n",
       "      <td>...</td>\n",
       "      <td>...</td>\n",
       "      <td>...</td>\n",
       "      <td>...</td>\n",
       "    </tr>\n",
       "    <tr>\n",
       "      <th>267689</th>\n",
       "      <td>99999</td>\n",
       "      <td>Ramon</td>\n",
       "      <td>Peypoch</td>\n",
       "      <td>NaN</td>\n",
       "      <td>NaN</td>\n",
       "      <td>NaN</td>\n",
       "      <td>NaN</td>\n",
       "      <td>NaN</td>\n",
       "      <td>NaT</td>\n",
       "    </tr>\n",
       "    <tr>\n",
       "      <th>267690</th>\n",
       "      <td>174088</td>\n",
       "      <td>Dr. Ray</td>\n",
       "      <td>Woods</td>\n",
       "      <td>188200.0</td>\n",
       "      <td>network</td>\n",
       "      <td>25958.0</td>\n",
       "      <td>174088.0</td>\n",
       "      <td>Sydney University Medical School</td>\n",
       "      <td>1982-01-01</td>\n",
       "    </tr>\n",
       "    <tr>\n",
       "      <th>267691</th>\n",
       "      <td>118386</td>\n",
       "      <td>Ricardo</td>\n",
       "      <td>Durand</td>\n",
       "      <td>143419.0</td>\n",
       "      <td>itechsocialnet</td>\n",
       "      <td>18871.0</td>\n",
       "      <td>118386.0</td>\n",
       "      <td>ESCS</td>\n",
       "      <td>2004-01-01</td>\n",
       "    </tr>\n",
       "    <tr>\n",
       "      <th>267692</th>\n",
       "      <td>175827</td>\n",
       "      <td>mahesh</td>\n",
       "      <td>kumar</td>\n",
       "      <td>NaN</td>\n",
       "      <td>socialnethubs</td>\n",
       "      <td>NaN</td>\n",
       "      <td>NaN</td>\n",
       "      <td>NaN</td>\n",
       "      <td>NaT</td>\n",
       "    </tr>\n",
       "    <tr>\n",
       "      <th>267693</th>\n",
       "      <td>178190</td>\n",
       "      <td>Alex</td>\n",
       "      <td>Smith</td>\n",
       "      <td>NaN</td>\n",
       "      <td>esocialnetlike</td>\n",
       "      <td>NaN</td>\n",
       "      <td>NaN</td>\n",
       "      <td>NaN</td>\n",
       "      <td>NaT</td>\n",
       "    </tr>\n",
       "  </tbody>\n",
       "</table>\n",
       "<p>267694 rows × 9 columns</p>\n",
       "</div>"
      ],
      "text/plain": [
       "          id_x  first_name    last_name  company_id network_username     id_y  \\\n",
       "0           10        Mark   Zuckerberg         5.0              NaN   2415.0   \n",
       "1          100       Peter       Lester        27.0              NaN      NaN   \n",
       "2         1000  Dr. Steven  E. Saunders       292.0              NaN      NaN   \n",
       "3        10000        Neil        Capel      2526.0              NaN      NaN   \n",
       "4       100000         Sue       Pilsch         NaN              NaN      NaN   \n",
       "...        ...         ...          ...         ...              ...      ...   \n",
       "267689   99999       Ramon      Peypoch         NaN              NaN      NaN   \n",
       "267690  174088     Dr. Ray        Woods    188200.0          network  25958.0   \n",
       "267691  118386     Ricardo       Durand    143419.0   itechsocialnet  18871.0   \n",
       "267692  175827      mahesh        kumar         NaN    socialnethubs      NaN   \n",
       "267693  178190        Alex        Smith         NaN   esocialnetlike      NaN   \n",
       "\n",
       "        person_id                      instituition graduated_at  \n",
       "0            10.0                Harvard University          NaT  \n",
       "1             NaN                               NaN          NaT  \n",
       "2             NaN                               NaN          NaT  \n",
       "3             NaN                               NaN          NaT  \n",
       "4             NaN                               NaN          NaT  \n",
       "...           ...                               ...          ...  \n",
       "267689        NaN                               NaN          NaT  \n",
       "267690   174088.0  Sydney University Medical School   1982-01-01  \n",
       "267691   118386.0                              ESCS   2004-01-01  \n",
       "267692        NaN                               NaN          NaT  \n",
       "267693        NaN                               NaN          NaT  \n",
       "\n",
       "[267694 rows x 9 columns]"
      ]
     },
     "metadata": {},
     "output_type": "display_data"
    }
   ],
   "source": [
    "employ_df = people_df.merge(educat_df, left_on = 'id', right_on = 'person_id', how = 'left')\n",
    "display(employ_df)"
   ]
  },
  {
   "cell_type": "code",
   "execution_count": 58,
   "metadata": {},
   "outputs": [
    {
     "data": {
      "text/html": [
       "<div>\n",
       "<style scoped>\n",
       "    .dataframe tbody tr th:only-of-type {\n",
       "        vertical-align: middle;\n",
       "    }\n",
       "\n",
       "    .dataframe tbody tr th {\n",
       "        vertical-align: top;\n",
       "    }\n",
       "\n",
       "    .dataframe thead th {\n",
       "        text-align: right;\n",
       "    }\n",
       "</style>\n",
       "<table border=\"1\" class=\"dataframe\">\n",
       "  <thead>\n",
       "    <tr style=\"text-align: right;\">\n",
       "      <th></th>\n",
       "      <th>id_x</th>\n",
       "      <th>first_name</th>\n",
       "      <th>last_name</th>\n",
       "      <th>company_id</th>\n",
       "      <th>network_username</th>\n",
       "      <th>id_y</th>\n",
       "      <th>person_id</th>\n",
       "      <th>instituition</th>\n",
       "      <th>graduated_at</th>\n",
       "    </tr>\n",
       "  </thead>\n",
       "  <tbody>\n",
       "    <tr>\n",
       "      <th>1</th>\n",
       "      <td>100</td>\n",
       "      <td>Peter</td>\n",
       "      <td>Lester</td>\n",
       "      <td>27.0</td>\n",
       "      <td>NaN</td>\n",
       "      <td>NaN</td>\n",
       "      <td>NaN</td>\n",
       "      <td>NaN</td>\n",
       "      <td>NaT</td>\n",
       "    </tr>\n",
       "    <tr>\n",
       "      <th>2</th>\n",
       "      <td>1000</td>\n",
       "      <td>Dr. Steven</td>\n",
       "      <td>E. Saunders</td>\n",
       "      <td>292.0</td>\n",
       "      <td>NaN</td>\n",
       "      <td>NaN</td>\n",
       "      <td>NaN</td>\n",
       "      <td>NaN</td>\n",
       "      <td>NaT</td>\n",
       "    </tr>\n",
       "    <tr>\n",
       "      <th>3</th>\n",
       "      <td>10000</td>\n",
       "      <td>Neil</td>\n",
       "      <td>Capel</td>\n",
       "      <td>2526.0</td>\n",
       "      <td>NaN</td>\n",
       "      <td>NaN</td>\n",
       "      <td>NaN</td>\n",
       "      <td>NaN</td>\n",
       "      <td>NaT</td>\n",
       "    </tr>\n",
       "    <tr>\n",
       "      <th>4</th>\n",
       "      <td>100000</td>\n",
       "      <td>Sue</td>\n",
       "      <td>Pilsch</td>\n",
       "      <td>NaN</td>\n",
       "      <td>NaN</td>\n",
       "      <td>NaN</td>\n",
       "      <td>NaN</td>\n",
       "      <td>NaN</td>\n",
       "      <td>NaT</td>\n",
       "    </tr>\n",
       "    <tr>\n",
       "      <th>5</th>\n",
       "      <td>100002</td>\n",
       "      <td>Keith</td>\n",
       "      <td>Kurzendoerfer</td>\n",
       "      <td>NaN</td>\n",
       "      <td>NaN</td>\n",
       "      <td>NaN</td>\n",
       "      <td>NaN</td>\n",
       "      <td>NaN</td>\n",
       "      <td>NaT</td>\n",
       "    </tr>\n",
       "    <tr>\n",
       "      <th>...</th>\n",
       "      <td>...</td>\n",
       "      <td>...</td>\n",
       "      <td>...</td>\n",
       "      <td>...</td>\n",
       "      <td>...</td>\n",
       "      <td>...</td>\n",
       "      <td>...</td>\n",
       "      <td>...</td>\n",
       "      <td>...</td>\n",
       "    </tr>\n",
       "    <tr>\n",
       "      <th>267684</th>\n",
       "      <td>99996</td>\n",
       "      <td>Rick</td>\n",
       "      <td>Tamberrino</td>\n",
       "      <td>NaN</td>\n",
       "      <td>tamberrino</td>\n",
       "      <td>NaN</td>\n",
       "      <td>NaN</td>\n",
       "      <td>NaN</td>\n",
       "      <td>NaT</td>\n",
       "    </tr>\n",
       "    <tr>\n",
       "      <th>267688</th>\n",
       "      <td>99998</td>\n",
       "      <td>Adam</td>\n",
       "      <td>Neumann</td>\n",
       "      <td>NaN</td>\n",
       "      <td>NaN</td>\n",
       "      <td>NaN</td>\n",
       "      <td>NaN</td>\n",
       "      <td>NaN</td>\n",
       "      <td>NaT</td>\n",
       "    </tr>\n",
       "    <tr>\n",
       "      <th>267689</th>\n",
       "      <td>99999</td>\n",
       "      <td>Ramon</td>\n",
       "      <td>Peypoch</td>\n",
       "      <td>NaN</td>\n",
       "      <td>NaN</td>\n",
       "      <td>NaN</td>\n",
       "      <td>NaN</td>\n",
       "      <td>NaN</td>\n",
       "      <td>NaT</td>\n",
       "    </tr>\n",
       "    <tr>\n",
       "      <th>267692</th>\n",
       "      <td>175827</td>\n",
       "      <td>mahesh</td>\n",
       "      <td>kumar</td>\n",
       "      <td>NaN</td>\n",
       "      <td>socialnethubs</td>\n",
       "      <td>NaN</td>\n",
       "      <td>NaN</td>\n",
       "      <td>NaN</td>\n",
       "      <td>NaT</td>\n",
       "    </tr>\n",
       "    <tr>\n",
       "      <th>267693</th>\n",
       "      <td>178190</td>\n",
       "      <td>Alex</td>\n",
       "      <td>Smith</td>\n",
       "      <td>NaN</td>\n",
       "      <td>esocialnetlike</td>\n",
       "      <td>NaN</td>\n",
       "      <td>NaN</td>\n",
       "      <td>NaN</td>\n",
       "      <td>NaT</td>\n",
       "    </tr>\n",
       "  </tbody>\n",
       "</table>\n",
       "<p>158692 rows × 9 columns</p>\n",
       "</div>"
      ],
      "text/plain": [
       "          id_x  first_name      last_name  company_id network_username  id_y  \\\n",
       "1          100       Peter         Lester        27.0              NaN   NaN   \n",
       "2         1000  Dr. Steven    E. Saunders       292.0              NaN   NaN   \n",
       "3        10000        Neil          Capel      2526.0              NaN   NaN   \n",
       "4       100000         Sue         Pilsch         NaN              NaN   NaN   \n",
       "5       100002       Keith  Kurzendoerfer         NaN              NaN   NaN   \n",
       "...        ...         ...            ...         ...              ...   ...   \n",
       "267684   99996        Rick     Tamberrino         NaN       tamberrino   NaN   \n",
       "267688   99998        Adam        Neumann         NaN              NaN   NaN   \n",
       "267689   99999       Ramon        Peypoch         NaN              NaN   NaN   \n",
       "267692  175827      mahesh          kumar         NaN    socialnethubs   NaN   \n",
       "267693  178190        Alex          Smith         NaN   esocialnetlike   NaN   \n",
       "\n",
       "        person_id instituition graduated_at  \n",
       "1             NaN          NaN          NaT  \n",
       "2             NaN          NaN          NaT  \n",
       "3             NaN          NaN          NaT  \n",
       "4             NaN          NaN          NaT  \n",
       "5             NaN          NaN          NaT  \n",
       "...           ...          ...          ...  \n",
       "267684        NaN          NaN          NaT  \n",
       "267688        NaN          NaN          NaT  \n",
       "267689        NaN          NaN          NaT  \n",
       "267692        NaN          NaN          NaT  \n",
       "267693        NaN          NaN          NaT  \n",
       "\n",
       "[158692 rows x 9 columns]"
      ]
     },
     "execution_count": 58,
     "metadata": {},
     "output_type": "execute_result"
    }
   ],
   "source": [
    "employ_df[employ_df['instituition'].isna()]\n"
   ]
  },
  {
   "cell_type": "code",
   "execution_count": 59,
   "metadata": {},
   "outputs": [
    {
     "data": {
      "text/html": [
       "<div>\n",
       "<style scoped>\n",
       "    .dataframe tbody tr th:only-of-type {\n",
       "        vertical-align: middle;\n",
       "    }\n",
       "\n",
       "    .dataframe tbody tr th {\n",
       "        vertical-align: top;\n",
       "    }\n",
       "\n",
       "    .dataframe thead th {\n",
       "        text-align: right;\n",
       "    }\n",
       "</style>\n",
       "<table border=\"1\" class=\"dataframe\">\n",
       "  <thead>\n",
       "    <tr style=\"text-align: right;\">\n",
       "      <th></th>\n",
       "      <th>company_id</th>\n",
       "      <th>count</th>\n",
       "    </tr>\n",
       "  </thead>\n",
       "  <tbody>\n",
       "    <tr>\n",
       "      <th>11460</th>\n",
       "      <td>70873.0</td>\n",
       "      <td>0</td>\n",
       "    </tr>\n",
       "    <tr>\n",
       "      <th>9981</th>\n",
       "      <td>59987.0</td>\n",
       "      <td>0</td>\n",
       "    </tr>\n",
       "    <tr>\n",
       "      <th>19180</th>\n",
       "      <td>195378.0</td>\n",
       "      <td>0</td>\n",
       "    </tr>\n",
       "    <tr>\n",
       "      <th>19178</th>\n",
       "      <td>195353.0</td>\n",
       "      <td>0</td>\n",
       "    </tr>\n",
       "    <tr>\n",
       "      <th>9988</th>\n",
       "      <td>60023.0</td>\n",
       "      <td>0</td>\n",
       "    </tr>\n",
       "    <tr>\n",
       "      <th>...</th>\n",
       "      <td>...</td>\n",
       "      <td>...</td>\n",
       "    </tr>\n",
       "    <tr>\n",
       "      <th>1761</th>\n",
       "      <td>4175.0</td>\n",
       "      <td>82</td>\n",
       "    </tr>\n",
       "    <tr>\n",
       "      <th>20605</th>\n",
       "      <td>231067.0</td>\n",
       "      <td>97</td>\n",
       "    </tr>\n",
       "    <tr>\n",
       "      <th>777</th>\n",
       "      <td>1242.0</td>\n",
       "      <td>155</td>\n",
       "    </tr>\n",
       "    <tr>\n",
       "      <th>25</th>\n",
       "      <td>29.0</td>\n",
       "      <td>181</td>\n",
       "    </tr>\n",
       "    <tr>\n",
       "      <th>48</th>\n",
       "      <td>59.0</td>\n",
       "      <td>300</td>\n",
       "    </tr>\n",
       "  </tbody>\n",
       "</table>\n",
       "<p>22922 rows × 2 columns</p>\n",
       "</div>"
      ],
      "text/plain": [
       "       company_id  count\n",
       "11460     70873.0      0\n",
       "9981      59987.0      0\n",
       "19180    195378.0      0\n",
       "19178    195353.0      0\n",
       "9988      60023.0      0\n",
       "...           ...    ...\n",
       "1761       4175.0     82\n",
       "20605    231067.0     97\n",
       "777        1242.0    155\n",
       "25           29.0    181\n",
       "48           59.0    300\n",
       "\n",
       "[22922 rows x 2 columns]"
      ]
     },
     "metadata": {},
     "output_type": "display_data"
    }
   ],
   "source": [
    "#Нужно посчитать сколько в каждой компании сотрудников:\n",
    "company_sizes = employ_df.groupby('company_id')['person_id'].count().reset_index()\n",
    "company_sizes = company_sizes.rename(columns={'person_id': 'count'})\n",
    "company_sizes = company_sizes.sort_values(by='count', ascending=True)\n",
    "display(company_sizes)"
   ]
  },
  {
   "cell_type": "code",
   "execution_count": 60,
   "metadata": {
    "scrolled": true
   },
   "outputs": [
    {
     "name": "stdout",
     "output_type": "stream",
     "text": [
      "0      9503\n",
      "1      6650\n",
      "2      3958\n",
      "3      1406\n",
      "4       590\n",
      "5       297\n",
      "6       157\n",
      "7       105\n",
      "8        69\n",
      "9        39\n",
      "10       25\n",
      "11       13\n",
      "12       17\n",
      "13       14\n",
      "14        9\n",
      "15        7\n",
      "16        4\n",
      "17       13\n",
      "18        3\n",
      "19        4\n",
      "20        4\n",
      "22        5\n",
      "24        3\n",
      "25        1\n",
      "26        1\n",
      "28        1\n",
      "29        2\n",
      "30        1\n",
      "31        1\n",
      "33        1\n",
      "38        2\n",
      "39        2\n",
      "40        1\n",
      "42        1\n",
      "44        1\n",
      "48        1\n",
      "50        1\n",
      "54        1\n",
      "60        1\n",
      "64        1\n",
      "68        1\n",
      "72        1\n",
      "82        1\n",
      "97        1\n",
      "155       1\n",
      "181       1\n",
      "300       1\n",
      "Name: count, dtype: int64\n"
     ]
    }
   ],
   "source": [
    "company_sizes_sort = company_sizes['count'].value_counts().sort_index()\n",
    "print(company_sizes_sort)"
   ]
  },
  {
   "cell_type": "code",
   "execution_count": 61,
   "metadata": {
    "scrolled": true
   },
   "outputs": [
    {
     "data": {
      "text/plain": [
       "0          Микрокомпания\n",
       "1          Микрокомпания\n",
       "2          Микрокомпания\n",
       "3         Малая компания\n",
       "4         Малая компания\n",
       "               ...      \n",
       "267689               NaN\n",
       "267690               NaN\n",
       "267691               NaN\n",
       "267692               NaN\n",
       "267693               NaN\n",
       "Name: company_sizes_categ, Length: 267694, dtype: category\n",
       "Categories (3, object): ['Микрокомпания' < 'Малая компания' < 'Средняя компания']"
      ]
     },
     "metadata": {},
     "output_type": "display_data"
    }
   ],
   "source": [
    "#Разделим компании на категории, опираясь на классификацию компаний по кол-ву сотрудников в ней:\n",
    "employ_df['company_sizes_categ'] = pd.cut(company_sizes['count'],\n",
    "                                      bins=[0, 9, 97, 300],\n",
    "                                      labels=[\"Микрокомпания\", \"Малая компания\", \"Средняя компания\"])\n",
    "display(employ_df['company_sizes_categ'])"
   ]
  },
  {
   "cell_type": "markdown",
   "metadata": {},
   "source": [
    "Посчитаем сколько всего строк в датафрейме пусты по содержанию в столбцах instituition и graduated_at (отсутствие инф. в этих столбцах будем считать как отсутствие инф. об образовании сотрудника.)\n"
   ]
  },
  {
   "cell_type": "code",
   "execution_count": 62,
   "metadata": {},
   "outputs": [
    {
     "data": {
      "text/plain": [
       "158657"
      ]
     },
     "execution_count": 62,
     "metadata": {},
     "output_type": "execute_result"
    }
   ],
   "source": [
    "employ_df['has_no_education'] = employ_df['instituition'].isna() & employ_df['graduated_at'].isna()\n",
    "employ_df['has_no_education'].sum()"
   ]
  },
  {
   "cell_type": "markdown",
   "metadata": {},
   "source": [
    "Если считать за отсутствие информации по образованию - отсутствие информации в столбцах instituition и graduated_at одновременно, то получается - 158 656 строк."
   ]
  },
  {
   "cell_type": "code",
   "execution_count": 63,
   "metadata": {
    "scrolled": false
   },
   "outputs": [
    {
     "data": {
      "text/html": [
       "<div>\n",
       "<style scoped>\n",
       "    .dataframe tbody tr th:only-of-type {\n",
       "        vertical-align: middle;\n",
       "    }\n",
       "\n",
       "    .dataframe tbody tr th {\n",
       "        vertical-align: top;\n",
       "    }\n",
       "\n",
       "    .dataframe thead th {\n",
       "        text-align: right;\n",
       "    }\n",
       "</style>\n",
       "<table border=\"1\" class=\"dataframe\">\n",
       "  <thead>\n",
       "    <tr style=\"text-align: right;\">\n",
       "      <th></th>\n",
       "      <th>Размер компании</th>\n",
       "      <th>Доля без образования</th>\n",
       "    </tr>\n",
       "  </thead>\n",
       "  <tbody>\n",
       "    <tr>\n",
       "      <th>0</th>\n",
       "      <td>Микрокомпания</td>\n",
       "      <td>0.666415</td>\n",
       "    </tr>\n",
       "    <tr>\n",
       "      <th>1</th>\n",
       "      <td>Малая компания</td>\n",
       "      <td>0.648276</td>\n",
       "    </tr>\n",
       "    <tr>\n",
       "      <th>2</th>\n",
       "      <td>Средняя компания</td>\n",
       "      <td>0.333333</td>\n",
       "    </tr>\n",
       "  </tbody>\n",
       "</table>\n",
       "</div>"
      ],
      "text/plain": [
       "    Размер компании  Доля без образования\n",
       "0     Микрокомпания              0.666415\n",
       "1    Малая компания              0.648276\n",
       "2  Средняя компания              0.333333"
      ]
     },
     "metadata": {},
     "output_type": "display_data"
    }
   ],
   "source": [
    "#Теперь нужно посчитать долю отсутствия информации об образовании в разрезе каждой категории:\n",
    "summary = employ_df.groupby('company_sizes_categ')['has_no_education'].mean().reset_index()\n",
    "summary.columns = ['Размер компании', 'Доля без образования']\n",
    "display(summary)"
   ]
  },
  {
   "cell_type": "markdown",
   "metadata": {},
   "source": [
    "Из полученных выше данных можем сделать вывод: чем больше компания по количеству людей в ней - тем больше в ней людей с законченным образованием. В малых компаниях могут работать студенты."
   ]
  },
  {
   "cell_type": "markdown",
   "metadata": {},
   "source": [
    "Врят ли есть смысл добавлять датафрейм degrees - он скорее как дополнение к основному датафрейму education."
   ]
  },
  {
   "cell_type": "markdown",
   "metadata": {
    "id": "Lz7qjM32xglW"
   },
   "source": [
    "### 2.3. Объединять или не объединять — вот в чём вопрос\n",
    "\n",
    "Некоторые названия столбцов встречаются в датасетах чаще других. В результате предварительной проверки датасетов было выяснено, что столбец `company_id` подходит для объединения данных.\n",
    "\n",
    "- Установите, подходит ли для объединения данных столбец `network_username`, который встречается в нескольких датасетах. Нам необходимо понимать, дублируется ли для разных датасетов информация в столбцах с таким названием, и если да — то насколько часто.\n",
    "- Оцените, можно ли использовать столбцы с именем `network_username` для объединения данных."
   ]
  },
  {
   "cell_type": "markdown",
   "metadata": {},
   "source": [
    "Посмотрим еще раз на все датафреймы, где встречается network_username:"
   ]
  },
  {
   "cell_type": "code",
   "execution_count": 64,
   "metadata": {
    "id": "zyI3rt0rxg1O"
   },
   "outputs": [
    {
     "data": {
      "text/html": [
       "<div>\n",
       "<style scoped>\n",
       "    .dataframe tbody tr th:only-of-type {\n",
       "        vertical-align: middle;\n",
       "    }\n",
       "\n",
       "    .dataframe tbody tr th {\n",
       "        vertical-align: top;\n",
       "    }\n",
       "\n",
       "    .dataframe thead th {\n",
       "        text-align: right;\n",
       "    }\n",
       "</style>\n",
       "<table border=\"1\" class=\"dataframe\">\n",
       "  <thead>\n",
       "    <tr style=\"text-align: right;\">\n",
       "      <th></th>\n",
       "      <th>company_ID</th>\n",
       "      <th>name</th>\n",
       "      <th>category_code</th>\n",
       "      <th>status</th>\n",
       "      <th>founded_at</th>\n",
       "      <th>closed_at</th>\n",
       "      <th>domain</th>\n",
       "      <th>network_username</th>\n",
       "      <th>country_code</th>\n",
       "      <th>investment_rounds</th>\n",
       "      <th>...</th>\n",
       "      <th>company_id</th>\n",
       "      <th>funded_at</th>\n",
       "      <th>funding_round_type</th>\n",
       "      <th>raised_amount</th>\n",
       "      <th>pre_money_valuation</th>\n",
       "      <th>participants</th>\n",
       "      <th>is_first_round</th>\n",
       "      <th>is_last_round</th>\n",
       "      <th>years</th>\n",
       "      <th>finance_per_round</th>\n",
       "    </tr>\n",
       "  </thead>\n",
       "  <tbody>\n",
       "    <tr>\n",
       "      <th>0</th>\n",
       "      <td>1.0</td>\n",
       "      <td>Wetpaint</td>\n",
       "      <td>web</td>\n",
       "      <td>operating</td>\n",
       "      <td>2005-10-17</td>\n",
       "      <td>NaT</td>\n",
       "      <td>wetpaint-inc.com</td>\n",
       "      <td>BachelrWetpaint</td>\n",
       "      <td>USA</td>\n",
       "      <td>0.0</td>\n",
       "      <td>...</td>\n",
       "      <td>1.0</td>\n",
       "      <td>2005-10-01</td>\n",
       "      <td>series-a</td>\n",
       "      <td>5250000.0</td>\n",
       "      <td>0.0</td>\n",
       "      <td>2.0</td>\n",
       "      <td>0.0</td>\n",
       "      <td>1.0</td>\n",
       "      <td>2005</td>\n",
       "      <td>1.750000e+06</td>\n",
       "    </tr>\n",
       "    <tr>\n",
       "      <th>1</th>\n",
       "      <td>1.0</td>\n",
       "      <td>Wetpaint</td>\n",
       "      <td>web</td>\n",
       "      <td>operating</td>\n",
       "      <td>2005-10-17</td>\n",
       "      <td>NaT</td>\n",
       "      <td>wetpaint-inc.com</td>\n",
       "      <td>BachelrWetpaint</td>\n",
       "      <td>USA</td>\n",
       "      <td>0.0</td>\n",
       "      <td>...</td>\n",
       "      <td>1.0</td>\n",
       "      <td>2007-01-01</td>\n",
       "      <td>series-b</td>\n",
       "      <td>9500000.0</td>\n",
       "      <td>0.0</td>\n",
       "      <td>3.0</td>\n",
       "      <td>0.0</td>\n",
       "      <td>0.0</td>\n",
       "      <td>2005</td>\n",
       "      <td>3.166667e+06</td>\n",
       "    </tr>\n",
       "    <tr>\n",
       "      <th>2</th>\n",
       "      <td>1.0</td>\n",
       "      <td>Wetpaint</td>\n",
       "      <td>web</td>\n",
       "      <td>operating</td>\n",
       "      <td>2005-10-17</td>\n",
       "      <td>NaT</td>\n",
       "      <td>wetpaint-inc.com</td>\n",
       "      <td>BachelrWetpaint</td>\n",
       "      <td>USA</td>\n",
       "      <td>0.0</td>\n",
       "      <td>...</td>\n",
       "      <td>1.0</td>\n",
       "      <td>2008-05-19</td>\n",
       "      <td>series-c+</td>\n",
       "      <td>25000000.0</td>\n",
       "      <td>0.0</td>\n",
       "      <td>4.0</td>\n",
       "      <td>1.0</td>\n",
       "      <td>0.0</td>\n",
       "      <td>2005</td>\n",
       "      <td>8.333333e+06</td>\n",
       "    </tr>\n",
       "    <tr>\n",
       "      <th>5</th>\n",
       "      <td>10000.0</td>\n",
       "      <td>MYWEBBO</td>\n",
       "      <td>network_hosting</td>\n",
       "      <td>operating</td>\n",
       "      <td>2008-07-26</td>\n",
       "      <td>NaT</td>\n",
       "      <td>mywebbo.com</td>\n",
       "      <td>NaN</td>\n",
       "      <td>NaN</td>\n",
       "      <td>0.0</td>\n",
       "      <td>...</td>\n",
       "      <td>NaN</td>\n",
       "      <td>NaT</td>\n",
       "      <td>NaN</td>\n",
       "      <td>NaN</td>\n",
       "      <td>NaN</td>\n",
       "      <td>NaN</td>\n",
       "      <td>NaN</td>\n",
       "      <td>NaN</td>\n",
       "      <td>2008</td>\n",
       "      <td>NaN</td>\n",
       "    </tr>\n",
       "    <tr>\n",
       "      <th>6</th>\n",
       "      <td>10001.0</td>\n",
       "      <td>THE Movie Streamer</td>\n",
       "      <td>games_video</td>\n",
       "      <td>operating</td>\n",
       "      <td>2008-07-26</td>\n",
       "      <td>NaT</td>\n",
       "      <td>themoviestreamer.com</td>\n",
       "      <td>NaN</td>\n",
       "      <td>NaN</td>\n",
       "      <td>0.0</td>\n",
       "      <td>...</td>\n",
       "      <td>NaN</td>\n",
       "      <td>NaT</td>\n",
       "      <td>NaN</td>\n",
       "      <td>NaN</td>\n",
       "      <td>NaN</td>\n",
       "      <td>NaN</td>\n",
       "      <td>NaN</td>\n",
       "      <td>NaN</td>\n",
       "      <td>2008</td>\n",
       "      <td>NaN</td>\n",
       "    </tr>\n",
       "  </tbody>\n",
       "</table>\n",
       "<p>5 rows × 24 columns</p>\n",
       "</div>"
      ],
      "text/plain": [
       "   company_ID                name    category_code     status founded_at  \\\n",
       "0         1.0            Wetpaint              web  operating 2005-10-17   \n",
       "1         1.0            Wetpaint              web  operating 2005-10-17   \n",
       "2         1.0            Wetpaint              web  operating 2005-10-17   \n",
       "5     10000.0             MYWEBBO  network_hosting  operating 2008-07-26   \n",
       "6     10001.0  THE Movie Streamer      games_video  operating 2008-07-26   \n",
       "\n",
       "  closed_at                domain network_username country_code  \\\n",
       "0       NaT      wetpaint-inc.com  BachelrWetpaint          USA   \n",
       "1       NaT      wetpaint-inc.com  BachelrWetpaint          USA   \n",
       "2       NaT      wetpaint-inc.com  BachelrWetpaint          USA   \n",
       "5       NaT           mywebbo.com              NaN          NaN   \n",
       "6       NaT  themoviestreamer.com              NaN          NaN   \n",
       "\n",
       "   investment_rounds  ...  company_id  funded_at  funding_round_type  \\\n",
       "0                0.0  ...         1.0 2005-10-01            series-a   \n",
       "1                0.0  ...         1.0 2007-01-01            series-b   \n",
       "2                0.0  ...         1.0 2008-05-19           series-c+   \n",
       "5                0.0  ...         NaN        NaT                 NaN   \n",
       "6                0.0  ...         NaN        NaT                 NaN   \n",
       "\n",
       "   raised_amount  pre_money_valuation participants is_first_round  \\\n",
       "0      5250000.0                  0.0          2.0            0.0   \n",
       "1      9500000.0                  0.0          3.0            0.0   \n",
       "2     25000000.0                  0.0          4.0            1.0   \n",
       "5            NaN                  NaN          NaN            NaN   \n",
       "6            NaN                  NaN          NaN            NaN   \n",
       "\n",
       "   is_last_round  years  finance_per_round  \n",
       "0            1.0   2005       1.750000e+06  \n",
       "1            0.0   2005       3.166667e+06  \n",
       "2            0.0   2005       8.333333e+06  \n",
       "5            NaN   2008                NaN  \n",
       "6            NaN   2008                NaN  \n",
       "\n",
       "[5 rows x 24 columns]"
      ]
     },
     "execution_count": 64,
     "metadata": {},
     "output_type": "execute_result"
    }
   ],
   "source": [
    "с_and_r_df.head()"
   ]
  },
  {
   "cell_type": "code",
   "execution_count": 65,
   "metadata": {
    "id": "RxOS5rwmFcNW"
   },
   "outputs": [
    {
     "data": {
      "text/html": [
       "<div>\n",
       "<style scoped>\n",
       "    .dataframe tbody tr th:only-of-type {\n",
       "        vertical-align: middle;\n",
       "    }\n",
       "\n",
       "    .dataframe tbody tr th {\n",
       "        vertical-align: top;\n",
       "    }\n",
       "\n",
       "    .dataframe thead th {\n",
       "        text-align: right;\n",
       "    }\n",
       "</style>\n",
       "<table border=\"1\" class=\"dataframe\">\n",
       "  <thead>\n",
       "    <tr style=\"text-align: right;\">\n",
       "      <th></th>\n",
       "      <th>id</th>\n",
       "      <th>first_name</th>\n",
       "      <th>last_name</th>\n",
       "      <th>company_id</th>\n",
       "      <th>network_username</th>\n",
       "    </tr>\n",
       "  </thead>\n",
       "  <tbody>\n",
       "    <tr>\n",
       "      <th>0</th>\n",
       "      <td>10</td>\n",
       "      <td>Mark</td>\n",
       "      <td>Zuckerberg</td>\n",
       "      <td>5.0</td>\n",
       "      <td>NaN</td>\n",
       "    </tr>\n",
       "    <tr>\n",
       "      <th>1</th>\n",
       "      <td>100</td>\n",
       "      <td>Peter</td>\n",
       "      <td>Lester</td>\n",
       "      <td>27.0</td>\n",
       "      <td>NaN</td>\n",
       "    </tr>\n",
       "    <tr>\n",
       "      <th>2</th>\n",
       "      <td>1000</td>\n",
       "      <td>Dr. Steven</td>\n",
       "      <td>E. Saunders</td>\n",
       "      <td>292.0</td>\n",
       "      <td>NaN</td>\n",
       "    </tr>\n",
       "    <tr>\n",
       "      <th>3</th>\n",
       "      <td>10000</td>\n",
       "      <td>Neil</td>\n",
       "      <td>Capel</td>\n",
       "      <td>2526.0</td>\n",
       "      <td>NaN</td>\n",
       "    </tr>\n",
       "    <tr>\n",
       "      <th>4</th>\n",
       "      <td>100000</td>\n",
       "      <td>Sue</td>\n",
       "      <td>Pilsch</td>\n",
       "      <td>NaN</td>\n",
       "      <td>NaN</td>\n",
       "    </tr>\n",
       "    <tr>\n",
       "      <th>5</th>\n",
       "      <td>100002</td>\n",
       "      <td>Keith</td>\n",
       "      <td>Kurzendoerfer</td>\n",
       "      <td>NaN</td>\n",
       "      <td>NaN</td>\n",
       "    </tr>\n",
       "    <tr>\n",
       "      <th>6</th>\n",
       "      <td>100006</td>\n",
       "      <td>Courtney</td>\n",
       "      <td>Homer</td>\n",
       "      <td>81558.0</td>\n",
       "      <td>jobsbostontech</td>\n",
       "    </tr>\n",
       "    <tr>\n",
       "      <th>7</th>\n",
       "      <td>100009</td>\n",
       "      <td>Eddy</td>\n",
       "      <td>Badrina</td>\n",
       "      <td>NaN</td>\n",
       "      <td>NaN</td>\n",
       "    </tr>\n",
       "    <tr>\n",
       "      <th>8</th>\n",
       "      <td>100010</td>\n",
       "      <td>Michael</td>\n",
       "      <td>Dadashyan</td>\n",
       "      <td>NaN</td>\n",
       "      <td>fbroulette</td>\n",
       "    </tr>\n",
       "    <tr>\n",
       "      <th>9</th>\n",
       "      <td>100011</td>\n",
       "      <td>Jeff</td>\n",
       "      <td>Grell</td>\n",
       "      <td>NaN</td>\n",
       "      <td>NaN</td>\n",
       "    </tr>\n",
       "    <tr>\n",
       "      <th>10</th>\n",
       "      <td>100012</td>\n",
       "      <td>Nick</td>\n",
       "      <td>Bova</td>\n",
       "      <td>NaN</td>\n",
       "      <td>NaN</td>\n",
       "    </tr>\n",
       "    <tr>\n",
       "      <th>11</th>\n",
       "      <td>100013</td>\n",
       "      <td>Umesh</td>\n",
       "      <td>Singh</td>\n",
       "      <td>NaN</td>\n",
       "      <td>NaN</td>\n",
       "    </tr>\n",
       "    <tr>\n",
       "      <th>12</th>\n",
       "      <td>100014</td>\n",
       "      <td>Larry</td>\n",
       "      <td>Blankenship</td>\n",
       "      <td>NaN</td>\n",
       "      <td>NaN</td>\n",
       "    </tr>\n",
       "    <tr>\n",
       "      <th>13</th>\n",
       "      <td>100015</td>\n",
       "      <td>Steven</td>\n",
       "      <td>G. Anderson</td>\n",
       "      <td>NaN</td>\n",
       "      <td>NaN</td>\n",
       "    </tr>\n",
       "    <tr>\n",
       "      <th>14</th>\n",
       "      <td>100016</td>\n",
       "      <td>Thomas</td>\n",
       "      <td>F. Ackerman</td>\n",
       "      <td>NaN</td>\n",
       "      <td>NaN</td>\n",
       "    </tr>\n",
       "    <tr>\n",
       "      <th>15</th>\n",
       "      <td>100017</td>\n",
       "      <td>Kurt</td>\n",
       "      <td>Azarbarzin</td>\n",
       "      <td>NaN</td>\n",
       "      <td>NaN</td>\n",
       "    </tr>\n",
       "    <tr>\n",
       "      <th>16</th>\n",
       "      <td>100018</td>\n",
       "      <td>Adam</td>\n",
       "      <td>Beckerman</td>\n",
       "      <td>148554.0</td>\n",
       "      <td>adam_beckerman</td>\n",
       "    </tr>\n",
       "    <tr>\n",
       "      <th>17</th>\n",
       "      <td>100019</td>\n",
       "      <td>Melissa</td>\n",
       "      <td>French</td>\n",
       "      <td>NaN</td>\n",
       "      <td>netcastles</td>\n",
       "    </tr>\n",
       "    <tr>\n",
       "      <th>18</th>\n",
       "      <td>100022</td>\n",
       "      <td>OÄuz KaÄan</td>\n",
       "      <td>Aslan</td>\n",
       "      <td>NaN</td>\n",
       "      <td>OguzKaganAslan</td>\n",
       "    </tr>\n",
       "    <tr>\n",
       "      <th>19</th>\n",
       "      <td>100023</td>\n",
       "      <td>Neil</td>\n",
       "      <td>Chandran</td>\n",
       "      <td>81571.0</td>\n",
       "      <td>neilchandran</td>\n",
       "    </tr>\n",
       "  </tbody>\n",
       "</table>\n",
       "</div>"
      ],
      "text/plain": [
       "        id    first_name      last_name  company_id network_username\n",
       "0       10          Mark     Zuckerberg         5.0              NaN\n",
       "1      100         Peter         Lester        27.0              NaN\n",
       "2     1000    Dr. Steven    E. Saunders       292.0              NaN\n",
       "3    10000          Neil          Capel      2526.0              NaN\n",
       "4   100000           Sue         Pilsch         NaN              NaN\n",
       "5   100002         Keith  Kurzendoerfer         NaN              NaN\n",
       "6   100006      Courtney          Homer     81558.0   jobsbostontech\n",
       "7   100009          Eddy        Badrina         NaN              NaN\n",
       "8   100010       Michael      Dadashyan         NaN       fbroulette\n",
       "9   100011          Jeff          Grell         NaN              NaN\n",
       "10  100012          Nick           Bova         NaN              NaN\n",
       "11  100013         Umesh          Singh         NaN              NaN\n",
       "12  100014         Larry    Blankenship         NaN              NaN\n",
       "13  100015        Steven    G. Anderson         NaN              NaN\n",
       "14  100016        Thomas    F. Ackerman         NaN              NaN\n",
       "15  100017          Kurt     Azarbarzin         NaN              NaN\n",
       "16  100018          Adam      Beckerman    148554.0   adam_beckerman\n",
       "17  100019       Melissa         French         NaN       netcastles\n",
       "18  100022  OÄuz KaÄan          Aslan         NaN   OguzKaganAslan\n",
       "19  100023          Neil       Chandran     81571.0     neilchandran"
      ]
     },
     "execution_count": 65,
     "metadata": {},
     "output_type": "execute_result"
    }
   ],
   "source": [
    "people_df.head(20)"
   ]
  },
  {
   "cell_type": "code",
   "execution_count": 66,
   "metadata": {
    "id": "_7gjdrGOFcB2",
    "scrolled": true
   },
   "outputs": [
    {
     "data": {
      "text/plain": [
       "0.03"
      ]
     },
     "metadata": {},
     "output_type": "display_data"
    },
    {
     "data": {
      "text/plain": [
       "0.049"
      ]
     },
     "metadata": {},
     "output_type": "display_data"
    }
   ],
   "source": [
    "unique_df1 = set(с_and_r_df['network_username'].unique())\n",
    "unique_df2 = set(people_df['network_username'].unique())\n",
    "\n",
    "intersection = unique_df1 & unique_df2\n",
    "\n",
    "share1 = round(len(intersection)/len(unique_df1),3)\n",
    "share2 = round(len(intersection)/len(unique_df2),3)\n",
    "display(share1, share2)\n"
   ]
  },
  {
   "cell_type": "markdown",
   "metadata": {},
   "source": [
    "Доли пересекающихся значений очень малы, нельзя сказать, что столбец network_username подходит для объединения данных."
   ]
  },
  {
   "cell_type": "code",
   "execution_count": 67,
   "metadata": {
    "scrolled": true
   },
   "outputs": [
    {
     "data": {
      "image/png": "[encoded data removed]",
      "text/plain": [
       "<Figure size 432x288 with 1 Axes>"
      ]
     },
     "metadata": {},
     "output_type": "display_data"
    }
   ],
   "source": [
    "# Код ревьюера\n",
    "!pip install matplotlib-venn -q\n",
    "from matplotlib_venn import venn2\n",
    "first_id = set(с_and_r_df['network_username'].dropna().unique())\n",
    "second_id = set(people_df['network_username'].dropna().unique())\n",
    "# Строим диаграмму Венна\n",
    "venn2([first_id, second_id], set_labels=('с_and_r_df', 'people_df'))\n",
    "\n",
    "# Отображаем график\n",
    "plt.title(\"Пересечение \")\n",
    "plt.show()"
   ]
  },
  {
   "cell_type": "markdown",
   "metadata": {
    "id": "EHcODomVrJg1"
   },
   "source": [
    "\n",
    "### 2.4. Проблемный датасет и причина возникновения пропусков\n",
    "\n",
    "Во время собственного анализа данных у заказчика больше всего вопросов возникло к датасету `company_and_rounds.csv`. В нём много пропусков как раз в информации о раундах, которая заказчику важна.\n",
    "\n",
    "- Любым удобным способом приведите данные в вид, который позволит в дальнейшем проводить анализ в разрезе отдельных компаний. Обратите внимание на структуру датасета, порядок и названия столбцов, проанализируйте значения.\n",
    "\n",
    "По гипотезе заказчика данные по компаниям из этой таблицы раньше хранились иначе, более удобным для исследования образом.\n",
    "\n",
    "- Максимальным образом сохраняя данные, сохранив их связность и исключив возможные возникающие при этом ошибки, подготовьте данные так, чтобы удобно было отобрать компании по параметрам и рассчитать показатели из расчёта на одну компанию без промежуточных агрегаций."
   ]
  },
  {
   "cell_type": "code",
   "execution_count": 68,
   "metadata": {
    "id": "tJ6Sl6MKrJg1",
    "scrolled": false,
    "vscode": {
     "languageId": "plaintext"
    }
   },
   "outputs": [
    {
     "data": {
      "text/html": [
       "<div>\n",
       "<style scoped>\n",
       "    .dataframe tbody tr th:only-of-type {\n",
       "        vertical-align: middle;\n",
       "    }\n",
       "\n",
       "    .dataframe tbody tr th {\n",
       "        vertical-align: top;\n",
       "    }\n",
       "\n",
       "    .dataframe thead th {\n",
       "        text-align: right;\n",
       "    }\n",
       "</style>\n",
       "<table border=\"1\" class=\"dataframe\">\n",
       "  <thead>\n",
       "    <tr style=\"text-align: right;\">\n",
       "      <th></th>\n",
       "      <th>company_ID</th>\n",
       "      <th>name</th>\n",
       "      <th>category_code</th>\n",
       "      <th>status</th>\n",
       "      <th>founded_at</th>\n",
       "      <th>closed_at</th>\n",
       "      <th>domain</th>\n",
       "      <th>network_username</th>\n",
       "      <th>country_code</th>\n",
       "      <th>investment_rounds</th>\n",
       "      <th>...</th>\n",
       "      <th>company_id</th>\n",
       "      <th>funded_at</th>\n",
       "      <th>funding_round_type</th>\n",
       "      <th>raised_amount</th>\n",
       "      <th>pre_money_valuation</th>\n",
       "      <th>participants</th>\n",
       "      <th>is_first_round</th>\n",
       "      <th>is_last_round</th>\n",
       "      <th>years</th>\n",
       "      <th>finance_per_round</th>\n",
       "    </tr>\n",
       "  </thead>\n",
       "  <tbody>\n",
       "    <tr>\n",
       "      <th>0</th>\n",
       "      <td>1.0</td>\n",
       "      <td>Wetpaint</td>\n",
       "      <td>web</td>\n",
       "      <td>operating</td>\n",
       "      <td>2005-10-17</td>\n",
       "      <td>NaT</td>\n",
       "      <td>wetpaint-inc.com</td>\n",
       "      <td>BachelrWetpaint</td>\n",
       "      <td>USA</td>\n",
       "      <td>0.0</td>\n",
       "      <td>...</td>\n",
       "      <td>1.0</td>\n",
       "      <td>2005-10-01</td>\n",
       "      <td>series-a</td>\n",
       "      <td>5250000.0</td>\n",
       "      <td>0.0</td>\n",
       "      <td>2.0</td>\n",
       "      <td>0.0</td>\n",
       "      <td>1.0</td>\n",
       "      <td>2005</td>\n",
       "      <td>1.750000e+06</td>\n",
       "    </tr>\n",
       "    <tr>\n",
       "      <th>1</th>\n",
       "      <td>1.0</td>\n",
       "      <td>Wetpaint</td>\n",
       "      <td>web</td>\n",
       "      <td>operating</td>\n",
       "      <td>2005-10-17</td>\n",
       "      <td>NaT</td>\n",
       "      <td>wetpaint-inc.com</td>\n",
       "      <td>BachelrWetpaint</td>\n",
       "      <td>USA</td>\n",
       "      <td>0.0</td>\n",
       "      <td>...</td>\n",
       "      <td>1.0</td>\n",
       "      <td>2007-01-01</td>\n",
       "      <td>series-b</td>\n",
       "      <td>9500000.0</td>\n",
       "      <td>0.0</td>\n",
       "      <td>3.0</td>\n",
       "      <td>0.0</td>\n",
       "      <td>0.0</td>\n",
       "      <td>2005</td>\n",
       "      <td>3.166667e+06</td>\n",
       "    </tr>\n",
       "    <tr>\n",
       "      <th>2</th>\n",
       "      <td>1.0</td>\n",
       "      <td>Wetpaint</td>\n",
       "      <td>web</td>\n",
       "      <td>operating</td>\n",
       "      <td>2005-10-17</td>\n",
       "      <td>NaT</td>\n",
       "      <td>wetpaint-inc.com</td>\n",
       "      <td>BachelrWetpaint</td>\n",
       "      <td>USA</td>\n",
       "      <td>0.0</td>\n",
       "      <td>...</td>\n",
       "      <td>1.0</td>\n",
       "      <td>2008-05-19</td>\n",
       "      <td>series-c+</td>\n",
       "      <td>25000000.0</td>\n",
       "      <td>0.0</td>\n",
       "      <td>4.0</td>\n",
       "      <td>1.0</td>\n",
       "      <td>0.0</td>\n",
       "      <td>2005</td>\n",
       "      <td>8.333333e+06</td>\n",
       "    </tr>\n",
       "    <tr>\n",
       "      <th>5</th>\n",
       "      <td>10000.0</td>\n",
       "      <td>MYWEBBO</td>\n",
       "      <td>network_hosting</td>\n",
       "      <td>operating</td>\n",
       "      <td>2008-07-26</td>\n",
       "      <td>NaT</td>\n",
       "      <td>mywebbo.com</td>\n",
       "      <td>NaN</td>\n",
       "      <td>NaN</td>\n",
       "      <td>0.0</td>\n",
       "      <td>...</td>\n",
       "      <td>NaN</td>\n",
       "      <td>NaT</td>\n",
       "      <td>NaN</td>\n",
       "      <td>NaN</td>\n",
       "      <td>NaN</td>\n",
       "      <td>NaN</td>\n",
       "      <td>NaN</td>\n",
       "      <td>NaN</td>\n",
       "      <td>2008</td>\n",
       "      <td>NaN</td>\n",
       "    </tr>\n",
       "    <tr>\n",
       "      <th>6</th>\n",
       "      <td>10001.0</td>\n",
       "      <td>THE Movie Streamer</td>\n",
       "      <td>games_video</td>\n",
       "      <td>operating</td>\n",
       "      <td>2008-07-26</td>\n",
       "      <td>NaT</td>\n",
       "      <td>themoviestreamer.com</td>\n",
       "      <td>NaN</td>\n",
       "      <td>NaN</td>\n",
       "      <td>0.0</td>\n",
       "      <td>...</td>\n",
       "      <td>NaN</td>\n",
       "      <td>NaT</td>\n",
       "      <td>NaN</td>\n",
       "      <td>NaN</td>\n",
       "      <td>NaN</td>\n",
       "      <td>NaN</td>\n",
       "      <td>NaN</td>\n",
       "      <td>NaN</td>\n",
       "      <td>2008</td>\n",
       "      <td>NaN</td>\n",
       "    </tr>\n",
       "    <tr>\n",
       "      <th>7</th>\n",
       "      <td>10002.0</td>\n",
       "      <td>Synergie Media</td>\n",
       "      <td>advertising</td>\n",
       "      <td>operating</td>\n",
       "      <td>2007-06-27</td>\n",
       "      <td>NaT</td>\n",
       "      <td>synergie-media.com</td>\n",
       "      <td>NaN</td>\n",
       "      <td>MAR</td>\n",
       "      <td>0.0</td>\n",
       "      <td>...</td>\n",
       "      <td>NaN</td>\n",
       "      <td>NaT</td>\n",
       "      <td>NaN</td>\n",
       "      <td>NaN</td>\n",
       "      <td>NaN</td>\n",
       "      <td>NaN</td>\n",
       "      <td>NaN</td>\n",
       "      <td>NaN</td>\n",
       "      <td>2007</td>\n",
       "      <td>NaN</td>\n",
       "    </tr>\n",
       "    <tr>\n",
       "      <th>8</th>\n",
       "      <td>10003.0</td>\n",
       "      <td>Green Basti Ecosystems</td>\n",
       "      <td>cleantech</td>\n",
       "      <td>operating</td>\n",
       "      <td>2008-08-20</td>\n",
       "      <td>NaT</td>\n",
       "      <td>NaN</td>\n",
       "      <td>NaN</td>\n",
       "      <td>IND</td>\n",
       "      <td>0.0</td>\n",
       "      <td>...</td>\n",
       "      <td>NaN</td>\n",
       "      <td>NaT</td>\n",
       "      <td>NaN</td>\n",
       "      <td>NaN</td>\n",
       "      <td>NaN</td>\n",
       "      <td>NaN</td>\n",
       "      <td>NaN</td>\n",
       "      <td>NaN</td>\n",
       "      <td>2008</td>\n",
       "      <td>NaN</td>\n",
       "    </tr>\n",
       "    <tr>\n",
       "      <th>11</th>\n",
       "      <td>100062.0</td>\n",
       "      <td>Vetter Idea Management System</td>\n",
       "      <td>enterprise</td>\n",
       "      <td>operating</td>\n",
       "      <td>2011-08-01</td>\n",
       "      <td>NaT</td>\n",
       "      <td>getvetter.com</td>\n",
       "      <td>getvetter</td>\n",
       "      <td>NaN</td>\n",
       "      <td>0.0</td>\n",
       "      <td>...</td>\n",
       "      <td>NaN</td>\n",
       "      <td>NaT</td>\n",
       "      <td>NaN</td>\n",
       "      <td>NaN</td>\n",
       "      <td>NaN</td>\n",
       "      <td>NaN</td>\n",
       "      <td>NaN</td>\n",
       "      <td>NaN</td>\n",
       "      <td>2011</td>\n",
       "      <td>NaN</td>\n",
       "    </tr>\n",
       "    <tr>\n",
       "      <th>12</th>\n",
       "      <td>100068.0</td>\n",
       "      <td>ChatRandom</td>\n",
       "      <td>games_video</td>\n",
       "      <td>operating</td>\n",
       "      <td>2011-02-01</td>\n",
       "      <td>NaT</td>\n",
       "      <td>chatrandom.com</td>\n",
       "      <td>chatrandom</td>\n",
       "      <td>NaN</td>\n",
       "      <td>0.0</td>\n",
       "      <td>...</td>\n",
       "      <td>NaN</td>\n",
       "      <td>NaT</td>\n",
       "      <td>NaN</td>\n",
       "      <td>NaN</td>\n",
       "      <td>NaN</td>\n",
       "      <td>NaN</td>\n",
       "      <td>NaN</td>\n",
       "      <td>NaN</td>\n",
       "      <td>2011</td>\n",
       "      <td>NaN</td>\n",
       "    </tr>\n",
       "    <tr>\n",
       "      <th>13</th>\n",
       "      <td>10008.0</td>\n",
       "      <td>ScapadasAmorosas</td>\n",
       "      <td>other</td>\n",
       "      <td>operating</td>\n",
       "      <td>2007-03-01</td>\n",
       "      <td>NaT</td>\n",
       "      <td>scapadasamorosas.com</td>\n",
       "      <td>NaN</td>\n",
       "      <td>NaN</td>\n",
       "      <td>0.0</td>\n",
       "      <td>...</td>\n",
       "      <td>NaN</td>\n",
       "      <td>NaT</td>\n",
       "      <td>NaN</td>\n",
       "      <td>NaN</td>\n",
       "      <td>NaN</td>\n",
       "      <td>NaN</td>\n",
       "      <td>NaN</td>\n",
       "      <td>NaN</td>\n",
       "      <td>2007</td>\n",
       "      <td>NaN</td>\n",
       "    </tr>\n",
       "    <tr>\n",
       "      <th>14</th>\n",
       "      <td>10009.0</td>\n",
       "      <td>dimension5 labs</td>\n",
       "      <td>advertising</td>\n",
       "      <td>operating</td>\n",
       "      <td>2008-08-01</td>\n",
       "      <td>NaT</td>\n",
       "      <td>d5labs.com</td>\n",
       "      <td>NaN</td>\n",
       "      <td>USA</td>\n",
       "      <td>0.0</td>\n",
       "      <td>...</td>\n",
       "      <td>NaN</td>\n",
       "      <td>NaT</td>\n",
       "      <td>NaN</td>\n",
       "      <td>NaN</td>\n",
       "      <td>NaN</td>\n",
       "      <td>NaN</td>\n",
       "      <td>NaN</td>\n",
       "      <td>NaN</td>\n",
       "      <td>2008</td>\n",
       "      <td>NaN</td>\n",
       "    </tr>\n",
       "    <tr>\n",
       "      <th>15</th>\n",
       "      <td>1001.0</td>\n",
       "      <td>FriendFeed</td>\n",
       "      <td>web</td>\n",
       "      <td>acquired</td>\n",
       "      <td>2007-10-01</td>\n",
       "      <td>NaT</td>\n",
       "      <td>friendfeed.com</td>\n",
       "      <td>friendfeed</td>\n",
       "      <td>USA</td>\n",
       "      <td>0.0</td>\n",
       "      <td>...</td>\n",
       "      <td>1001.0</td>\n",
       "      <td>2008-02-26</td>\n",
       "      <td>series-a</td>\n",
       "      <td>5000000.0</td>\n",
       "      <td>0.0</td>\n",
       "      <td>3.0</td>\n",
       "      <td>1.0</td>\n",
       "      <td>1.0</td>\n",
       "      <td>2007</td>\n",
       "      <td>5.000000e+06</td>\n",
       "    </tr>\n",
       "    <tr>\n",
       "      <th>16</th>\n",
       "      <td>10010.0</td>\n",
       "      <td>Whooligan</td>\n",
       "      <td>games_video</td>\n",
       "      <td>operating</td>\n",
       "      <td>2007-12-01</td>\n",
       "      <td>NaT</td>\n",
       "      <td>whooligan.com</td>\n",
       "      <td>NaN</td>\n",
       "      <td>NaN</td>\n",
       "      <td>0.0</td>\n",
       "      <td>...</td>\n",
       "      <td>NaN</td>\n",
       "      <td>NaT</td>\n",
       "      <td>NaN</td>\n",
       "      <td>NaN</td>\n",
       "      <td>NaN</td>\n",
       "      <td>NaN</td>\n",
       "      <td>NaN</td>\n",
       "      <td>NaN</td>\n",
       "      <td>2007</td>\n",
       "      <td>NaN</td>\n",
       "    </tr>\n",
       "    <tr>\n",
       "      <th>17</th>\n",
       "      <td>10011.0</td>\n",
       "      <td>PoetryVisualized.com</td>\n",
       "      <td>games_video</td>\n",
       "      <td>operating</td>\n",
       "      <td>2008-01-01</td>\n",
       "      <td>NaT</td>\n",
       "      <td>poetryvisualized.com</td>\n",
       "      <td>NaN</td>\n",
       "      <td>USA</td>\n",
       "      <td>0.0</td>\n",
       "      <td>...</td>\n",
       "      <td>NaN</td>\n",
       "      <td>NaT</td>\n",
       "      <td>NaN</td>\n",
       "      <td>NaN</td>\n",
       "      <td>NaN</td>\n",
       "      <td>NaN</td>\n",
       "      <td>NaN</td>\n",
       "      <td>NaN</td>\n",
       "      <td>2008</td>\n",
       "      <td>NaN</td>\n",
       "    </tr>\n",
       "    <tr>\n",
       "      <th>18</th>\n",
       "      <td>10012.0</td>\n",
       "      <td>moviestring.com</td>\n",
       "      <td>games_video</td>\n",
       "      <td>closed</td>\n",
       "      <td>2008-08-22</td>\n",
       "      <td>2010-01-01</td>\n",
       "      <td>moviestring.com</td>\n",
       "      <td>NaN</td>\n",
       "      <td>NaN</td>\n",
       "      <td>0.0</td>\n",
       "      <td>...</td>\n",
       "      <td>NaN</td>\n",
       "      <td>NaT</td>\n",
       "      <td>NaN</td>\n",
       "      <td>NaN</td>\n",
       "      <td>NaN</td>\n",
       "      <td>NaN</td>\n",
       "      <td>NaN</td>\n",
       "      <td>NaN</td>\n",
       "      <td>2008</td>\n",
       "      <td>NaN</td>\n",
       "    </tr>\n",
       "  </tbody>\n",
       "</table>\n",
       "<p>15 rows × 24 columns</p>\n",
       "</div>"
      ],
      "text/plain": [
       "    company_ID                           name    category_code     status  \\\n",
       "0          1.0                       Wetpaint              web  operating   \n",
       "1          1.0                       Wetpaint              web  operating   \n",
       "2          1.0                       Wetpaint              web  operating   \n",
       "5      10000.0                        MYWEBBO  network_hosting  operating   \n",
       "6      10001.0             THE Movie Streamer      games_video  operating   \n",
       "7      10002.0                 Synergie Media      advertising  operating   \n",
       "8      10003.0         Green Basti Ecosystems        cleantech  operating   \n",
       "11    100062.0  Vetter Idea Management System       enterprise  operating   \n",
       "12    100068.0                     ChatRandom      games_video  operating   \n",
       "13     10008.0               ScapadasAmorosas            other  operating   \n",
       "14     10009.0                dimension5 labs      advertising  operating   \n",
       "15      1001.0                     FriendFeed              web   acquired   \n",
       "16     10010.0                      Whooligan      games_video  operating   \n",
       "17     10011.0           PoetryVisualized.com      games_video  operating   \n",
       "18     10012.0                moviestring.com      games_video     closed   \n",
       "\n",
       "   founded_at  closed_at                domain network_username country_code  \\\n",
       "0  2005-10-17        NaT      wetpaint-inc.com  BachelrWetpaint          USA   \n",
       "1  2005-10-17        NaT      wetpaint-inc.com  BachelrWetpaint          USA   \n",
       "2  2005-10-17        NaT      wetpaint-inc.com  BachelrWetpaint          USA   \n",
       "5  2008-07-26        NaT           mywebbo.com              NaN          NaN   \n",
       "6  2008-07-26        NaT  themoviestreamer.com              NaN          NaN   \n",
       "7  2007-06-27        NaT    synergie-media.com              NaN          MAR   \n",
       "8  2008-08-20        NaT                   NaN              NaN          IND   \n",
       "11 2011-08-01        NaT         getvetter.com        getvetter          NaN   \n",
       "12 2011-02-01        NaT        chatrandom.com       chatrandom          NaN   \n",
       "13 2007-03-01        NaT  scapadasamorosas.com              NaN          NaN   \n",
       "14 2008-08-01        NaT            d5labs.com              NaN          USA   \n",
       "15 2007-10-01        NaT        friendfeed.com       friendfeed          USA   \n",
       "16 2007-12-01        NaT         whooligan.com              NaN          NaN   \n",
       "17 2008-01-01        NaT  poetryvisualized.com              NaN          USA   \n",
       "18 2008-08-22 2010-01-01       moviestring.com              NaN          NaN   \n",
       "\n",
       "    investment_rounds  ...  company_id  funded_at  funding_round_type  \\\n",
       "0                 0.0  ...         1.0 2005-10-01            series-a   \n",
       "1                 0.0  ...         1.0 2007-01-01            series-b   \n",
       "2                 0.0  ...         1.0 2008-05-19           series-c+   \n",
       "5                 0.0  ...         NaN        NaT                 NaN   \n",
       "6                 0.0  ...         NaN        NaT                 NaN   \n",
       "7                 0.0  ...         NaN        NaT                 NaN   \n",
       "8                 0.0  ...         NaN        NaT                 NaN   \n",
       "11                0.0  ...         NaN        NaT                 NaN   \n",
       "12                0.0  ...         NaN        NaT                 NaN   \n",
       "13                0.0  ...         NaN        NaT                 NaN   \n",
       "14                0.0  ...         NaN        NaT                 NaN   \n",
       "15                0.0  ...      1001.0 2008-02-26            series-a   \n",
       "16                0.0  ...         NaN        NaT                 NaN   \n",
       "17                0.0  ...         NaN        NaT                 NaN   \n",
       "18                0.0  ...         NaN        NaT                 NaN   \n",
       "\n",
       "    raised_amount  pre_money_valuation participants is_first_round  \\\n",
       "0       5250000.0                  0.0          2.0            0.0   \n",
       "1       9500000.0                  0.0          3.0            0.0   \n",
       "2      25000000.0                  0.0          4.0            1.0   \n",
       "5             NaN                  NaN          NaN            NaN   \n",
       "6             NaN                  NaN          NaN            NaN   \n",
       "7             NaN                  NaN          NaN            NaN   \n",
       "8             NaN                  NaN          NaN            NaN   \n",
       "11            NaN                  NaN          NaN            NaN   \n",
       "12            NaN                  NaN          NaN            NaN   \n",
       "13            NaN                  NaN          NaN            NaN   \n",
       "14            NaN                  NaN          NaN            NaN   \n",
       "15      5000000.0                  0.0          3.0            1.0   \n",
       "16            NaN                  NaN          NaN            NaN   \n",
       "17            NaN                  NaN          NaN            NaN   \n",
       "18            NaN                  NaN          NaN            NaN   \n",
       "\n",
       "    is_last_round  years  finance_per_round  \n",
       "0             1.0   2005       1.750000e+06  \n",
       "1             0.0   2005       3.166667e+06  \n",
       "2             0.0   2005       8.333333e+06  \n",
       "5             NaN   2008                NaN  \n",
       "6             NaN   2008                NaN  \n",
       "7             NaN   2007                NaN  \n",
       "8             NaN   2008                NaN  \n",
       "11            NaN   2011                NaN  \n",
       "12            NaN   2011                NaN  \n",
       "13            NaN   2007                NaN  \n",
       "14            NaN   2008                NaN  \n",
       "15            1.0   2007       5.000000e+06  \n",
       "16            NaN   2007                NaN  \n",
       "17            NaN   2008                NaN  \n",
       "18            NaN   2008                NaN  \n",
       "\n",
       "[15 rows x 24 columns]"
      ]
     },
     "execution_count": 68,
     "metadata": {},
     "output_type": "execute_result"
    }
   ],
   "source": [
    "с_and_r_df.head(15)"
   ]
  },
  {
   "cell_type": "markdown",
   "metadata": {},
   "source": [
    "- По порядку стобцов начиная слева направо: логичнее было бы расположить в левой части все связанное с компанией, а далее - все что связано с финансированием и инвестициями.\n",
    "\n",
    "- По сортировке: было бы лучше передвинуть все компании которые еще открыты в начало, и только потом - закрытые.\n",
    "\n",
    "- Хорошо было бы сделать группировку сначала по названию компании, затем по category_code и затем отсортировать по founded_at, + учитывая все, что указано выше.\n",
    "\n"
   ]
  },
  {
   "cell_type": "markdown",
   "metadata": {},
   "source": [
    "Копируем сводку о пропусках для удобства:\n",
    "\n",
    "- closed_at: 214 325 пропусков (98.4%) - большинство компаний просто еще не закрылось.\n",
    "- funded_at: 165 094 (75.8%) - лишь 34.2% профинансированы\n",
    "\n",
    "\n",
    "- is_last_round, is_first_round, participants, pre_money_valuation, raised_amount, funding_round_type, funding_round_id, company_id: 164 846 (75.7%)\n",
    "\n",
    "\n",
    "- network_username: 122 240 (56.13%)\n",
    "- country_code: 109 167 (50.12%)\n",
    "- founde_at: 107 818 (49.5%)\n",
    "- category_code: 73 888 (34%)\n",
    "- domain 70 615 (32.42%)\n",
    "\n",
    "\n",
    "- company_ID, milestones, name, funding_rounds, investment_rounds, status, funding_total: 302 (0.14%)"
   ]
  },
  {
   "cell_type": "code",
   "execution_count": 69,
   "metadata": {
    "scrolled": false
   },
   "outputs": [
    {
     "data": {
      "text/html": [
       "<div>\n",
       "<style scoped>\n",
       "    .dataframe tbody tr th:only-of-type {\n",
       "        vertical-align: middle;\n",
       "    }\n",
       "\n",
       "    .dataframe tbody tr th {\n",
       "        vertical-align: top;\n",
       "    }\n",
       "\n",
       "    .dataframe thead th {\n",
       "        text-align: right;\n",
       "    }\n",
       "</style>\n",
       "<table border=\"1\" class=\"dataframe\">\n",
       "  <thead>\n",
       "    <tr style=\"text-align: right;\">\n",
       "      <th></th>\n",
       "      <th>company_ID</th>\n",
       "      <th>name</th>\n",
       "      <th>domain</th>\n",
       "      <th>network_username</th>\n",
       "      <th>category_code</th>\n",
       "      <th>status</th>\n",
       "      <th>founded_at</th>\n",
       "      <th>closed_at</th>\n",
       "    </tr>\n",
       "  </thead>\n",
       "  <tbody>\n",
       "    <tr>\n",
       "      <th>0</th>\n",
       "      <td>1.0</td>\n",
       "      <td>Wetpaint</td>\n",
       "      <td>wetpaint-inc.com</td>\n",
       "      <td>BachelrWetpaint</td>\n",
       "      <td>web</td>\n",
       "      <td>operating</td>\n",
       "      <td>2005-10-17</td>\n",
       "      <td>NaT</td>\n",
       "    </tr>\n",
       "    <tr>\n",
       "      <th>5</th>\n",
       "      <td>10000.0</td>\n",
       "      <td>MYWEBBO</td>\n",
       "      <td>mywebbo.com</td>\n",
       "      <td>NaN</td>\n",
       "      <td>network_hosting</td>\n",
       "      <td>operating</td>\n",
       "      <td>2008-07-26</td>\n",
       "      <td>NaT</td>\n",
       "    </tr>\n",
       "    <tr>\n",
       "      <th>6</th>\n",
       "      <td>10001.0</td>\n",
       "      <td>THE Movie Streamer</td>\n",
       "      <td>themoviestreamer.com</td>\n",
       "      <td>NaN</td>\n",
       "      <td>games_video</td>\n",
       "      <td>operating</td>\n",
       "      <td>2008-07-26</td>\n",
       "      <td>NaT</td>\n",
       "    </tr>\n",
       "    <tr>\n",
       "      <th>7</th>\n",
       "      <td>10002.0</td>\n",
       "      <td>Synergie Media</td>\n",
       "      <td>synergie-media.com</td>\n",
       "      <td>NaN</td>\n",
       "      <td>advertising</td>\n",
       "      <td>operating</td>\n",
       "      <td>2007-06-27</td>\n",
       "      <td>NaT</td>\n",
       "    </tr>\n",
       "    <tr>\n",
       "      <th>8</th>\n",
       "      <td>10003.0</td>\n",
       "      <td>Green Basti Ecosystems</td>\n",
       "      <td>NaN</td>\n",
       "      <td>NaN</td>\n",
       "      <td>cleantech</td>\n",
       "      <td>operating</td>\n",
       "      <td>2008-08-20</td>\n",
       "      <td>NaT</td>\n",
       "    </tr>\n",
       "    <tr>\n",
       "      <th>...</th>\n",
       "      <td>...</td>\n",
       "      <td>...</td>\n",
       "      <td>...</td>\n",
       "      <td>...</td>\n",
       "      <td>...</td>\n",
       "      <td>...</td>\n",
       "      <td>...</td>\n",
       "      <td>...</td>\n",
       "    </tr>\n",
       "    <tr>\n",
       "      <th>217460</th>\n",
       "      <td>150413.0</td>\n",
       "      <td>Infuy</td>\n",
       "      <td>infuy.com</td>\n",
       "      <td>network</td>\n",
       "      <td>software</td>\n",
       "      <td>operating</td>\n",
       "      <td>2007-01-01</td>\n",
       "      <td>NaT</td>\n",
       "    </tr>\n",
       "    <tr>\n",
       "      <th>217463</th>\n",
       "      <td>3429.0</td>\n",
       "      <td>Zend Technologies</td>\n",
       "      <td>zend.com</td>\n",
       "      <td>networkzend</td>\n",
       "      <td>software</td>\n",
       "      <td>operating</td>\n",
       "      <td>1999-01-01</td>\n",
       "      <td>NaT</td>\n",
       "    </tr>\n",
       "    <tr>\n",
       "      <th>217467</th>\n",
       "      <td>7748.0</td>\n",
       "      <td>Flowgram</td>\n",
       "      <td>flowgram.com</td>\n",
       "      <td>network</td>\n",
       "      <td>web</td>\n",
       "      <td>closed</td>\n",
       "      <td>2007-06-01</td>\n",
       "      <td>2008-06-11</td>\n",
       "    </tr>\n",
       "    <tr>\n",
       "      <th>217468</th>\n",
       "      <td>174536.0</td>\n",
       "      <td>Pphotonet</td>\n",
       "      <td>pPhotonet.co</td>\n",
       "      <td>pPhotonet</td>\n",
       "      <td>games_video</td>\n",
       "      <td>operating</td>\n",
       "      <td>2012-05-01</td>\n",
       "      <td>NaT</td>\n",
       "    </tr>\n",
       "    <tr>\n",
       "      <th>217469</th>\n",
       "      <td>43233.0</td>\n",
       "      <td>Photonet</td>\n",
       "      <td>Photonet.com</td>\n",
       "      <td>Photonet</td>\n",
       "      <td>photo_video</td>\n",
       "      <td>acquired</td>\n",
       "      <td>2010-03-01</td>\n",
       "      <td>NaT</td>\n",
       "    </tr>\n",
       "  </tbody>\n",
       "</table>\n",
       "<p>91222 rows × 8 columns</p>\n",
       "</div>"
      ],
      "text/plain": [
       "        company_ID                    name                domain  \\\n",
       "0              1.0                Wetpaint      wetpaint-inc.com   \n",
       "5          10000.0                 MYWEBBO           mywebbo.com   \n",
       "6          10001.0      THE Movie Streamer  themoviestreamer.com   \n",
       "7          10002.0          Synergie Media    synergie-media.com   \n",
       "8          10003.0  Green Basti Ecosystems                   NaN   \n",
       "...            ...                     ...                   ...   \n",
       "217460    150413.0                   Infuy             infuy.com   \n",
       "217463      3429.0       Zend Technologies              zend.com   \n",
       "217467      7748.0                Flowgram          flowgram.com   \n",
       "217468    174536.0               Pphotonet          pPhotonet.co   \n",
       "217469     43233.0                Photonet          Photonet.com   \n",
       "\n",
       "       network_username    category_code     status founded_at  closed_at  \n",
       "0       BachelrWetpaint              web  operating 2005-10-17        NaT  \n",
       "5                   NaN  network_hosting  operating 2008-07-26        NaT  \n",
       "6                   NaN      games_video  operating 2008-07-26        NaT  \n",
       "7                   NaN      advertising  operating 2007-06-27        NaT  \n",
       "8                   NaN        cleantech  operating 2008-08-20        NaT  \n",
       "...                 ...              ...        ...        ...        ...  \n",
       "217460          network         software  operating 2007-01-01        NaT  \n",
       "217463      networkzend         software  operating 1999-01-01        NaT  \n",
       "217467          network              web     closed 2007-06-01 2008-06-11  \n",
       "217468        pPhotonet      games_video  operating 2012-05-01        NaT  \n",
       "217469         Photonet      photo_video   acquired 2010-03-01        NaT  \n",
       "\n",
       "[91222 rows x 8 columns]"
      ]
     },
     "metadata": {},
     "output_type": "display_data"
    },
    {
     "data": {
      "text/html": [
       "<div>\n",
       "<style scoped>\n",
       "    .dataframe tbody tr th:only-of-type {\n",
       "        vertical-align: middle;\n",
       "    }\n",
       "\n",
       "    .dataframe tbody tr th {\n",
       "        vertical-align: top;\n",
       "    }\n",
       "\n",
       "    .dataframe thead th {\n",
       "        text-align: right;\n",
       "    }\n",
       "</style>\n",
       "<table border=\"1\" class=\"dataframe\">\n",
       "  <thead>\n",
       "    <tr style=\"text-align: right;\">\n",
       "      <th></th>\n",
       "      <th>company_id</th>\n",
       "      <th>investment_rounds</th>\n",
       "      <th>funding_rounds</th>\n",
       "      <th>funding_round_id</th>\n",
       "      <th>funded_at</th>\n",
       "      <th>funding_round_type</th>\n",
       "      <th>raised_amount</th>\n",
       "      <th>funding_total</th>\n",
       "      <th>milestones</th>\n",
       "      <th>pre_money_valuation</th>\n",
       "      <th>participants</th>\n",
       "      <th>is_first_round</th>\n",
       "      <th>is_last_round</th>\n",
       "    </tr>\n",
       "  </thead>\n",
       "  <tbody>\n",
       "    <tr>\n",
       "      <th>0</th>\n",
       "      <td>1.0</td>\n",
       "      <td>0.0</td>\n",
       "      <td>3.0</td>\n",
       "      <td>888.0</td>\n",
       "      <td>2005-10-01</td>\n",
       "      <td>series-a</td>\n",
       "      <td>5250000.0</td>\n",
       "      <td>39750000.0</td>\n",
       "      <td>5.0</td>\n",
       "      <td>0.0</td>\n",
       "      <td>2.0</td>\n",
       "      <td>0.0</td>\n",
       "      <td>1.0</td>\n",
       "    </tr>\n",
       "    <tr>\n",
       "      <th>1</th>\n",
       "      <td>1.0</td>\n",
       "      <td>0.0</td>\n",
       "      <td>3.0</td>\n",
       "      <td>889.0</td>\n",
       "      <td>2007-01-01</td>\n",
       "      <td>series-b</td>\n",
       "      <td>9500000.0</td>\n",
       "      <td>39750000.0</td>\n",
       "      <td>5.0</td>\n",
       "      <td>0.0</td>\n",
       "      <td>3.0</td>\n",
       "      <td>0.0</td>\n",
       "      <td>0.0</td>\n",
       "    </tr>\n",
       "    <tr>\n",
       "      <th>2</th>\n",
       "      <td>1.0</td>\n",
       "      <td>0.0</td>\n",
       "      <td>3.0</td>\n",
       "      <td>2312.0</td>\n",
       "      <td>2008-05-19</td>\n",
       "      <td>series-c+</td>\n",
       "      <td>25000000.0</td>\n",
       "      <td>39750000.0</td>\n",
       "      <td>5.0</td>\n",
       "      <td>0.0</td>\n",
       "      <td>4.0</td>\n",
       "      <td>1.0</td>\n",
       "      <td>0.0</td>\n",
       "    </tr>\n",
       "    <tr>\n",
       "      <th>5</th>\n",
       "      <td>NaN</td>\n",
       "      <td>0.0</td>\n",
       "      <td>0.0</td>\n",
       "      <td>NaN</td>\n",
       "      <td>NaT</td>\n",
       "      <td>NaN</td>\n",
       "      <td>NaN</td>\n",
       "      <td>0.0</td>\n",
       "      <td>0.0</td>\n",
       "      <td>NaN</td>\n",
       "      <td>NaN</td>\n",
       "      <td>NaN</td>\n",
       "      <td>NaN</td>\n",
       "    </tr>\n",
       "    <tr>\n",
       "      <th>15</th>\n",
       "      <td>1001.0</td>\n",
       "      <td>0.0</td>\n",
       "      <td>1.0</td>\n",
       "      <td>1644.0</td>\n",
       "      <td>2008-02-26</td>\n",
       "      <td>series-a</td>\n",
       "      <td>5000000.0</td>\n",
       "      <td>5000000.0</td>\n",
       "      <td>3.0</td>\n",
       "      <td>0.0</td>\n",
       "      <td>3.0</td>\n",
       "      <td>1.0</td>\n",
       "      <td>1.0</td>\n",
       "    </tr>\n",
       "    <tr>\n",
       "      <th>...</th>\n",
       "      <td>...</td>\n",
       "      <td>...</td>\n",
       "      <td>...</td>\n",
       "      <td>...</td>\n",
       "      <td>...</td>\n",
       "      <td>...</td>\n",
       "      <td>...</td>\n",
       "      <td>...</td>\n",
       "      <td>...</td>\n",
       "      <td>...</td>\n",
       "      <td>...</td>\n",
       "      <td>...</td>\n",
       "      <td>...</td>\n",
       "    </tr>\n",
       "    <tr>\n",
       "      <th>217466</th>\n",
       "      <td>3429.0</td>\n",
       "      <td>0.0</td>\n",
       "      <td>4.0</td>\n",
       "      <td>20896.0</td>\n",
       "      <td>2011-01-10</td>\n",
       "      <td>venture</td>\n",
       "      <td>7000000.0</td>\n",
       "      <td>44000000.0</td>\n",
       "      <td>6.0</td>\n",
       "      <td>0.0</td>\n",
       "      <td>1.0</td>\n",
       "      <td>1.0</td>\n",
       "      <td>0.0</td>\n",
       "    </tr>\n",
       "    <tr>\n",
       "      <th>217467</th>\n",
       "      <td>7748.0</td>\n",
       "      <td>0.0</td>\n",
       "      <td>1.0</td>\n",
       "      <td>2836.0</td>\n",
       "      <td>2008-01-31</td>\n",
       "      <td>angel</td>\n",
       "      <td>1300000.0</td>\n",
       "      <td>1300000.0</td>\n",
       "      <td>3.0</td>\n",
       "      <td>0.0</td>\n",
       "      <td>8.0</td>\n",
       "      <td>1.0</td>\n",
       "      <td>1.0</td>\n",
       "    </tr>\n",
       "    <tr>\n",
       "      <th>217469</th>\n",
       "      <td>43233.0</td>\n",
       "      <td>0.0</td>\n",
       "      <td>3.0</td>\n",
       "      <td>12687.0</td>\n",
       "      <td>2010-03-05</td>\n",
       "      <td>angel</td>\n",
       "      <td>500000.0</td>\n",
       "      <td>57500000.0</td>\n",
       "      <td>3.0</td>\n",
       "      <td>0.0</td>\n",
       "      <td>2.0</td>\n",
       "      <td>0.0</td>\n",
       "      <td>1.0</td>\n",
       "    </tr>\n",
       "    <tr>\n",
       "      <th>217470</th>\n",
       "      <td>43233.0</td>\n",
       "      <td>0.0</td>\n",
       "      <td>3.0</td>\n",
       "      <td>21259.0</td>\n",
       "      <td>2011-02-02</td>\n",
       "      <td>series-a</td>\n",
       "      <td>7000000.0</td>\n",
       "      <td>57500000.0</td>\n",
       "      <td>3.0</td>\n",
       "      <td>0.0</td>\n",
       "      <td>5.0</td>\n",
       "      <td>0.0</td>\n",
       "      <td>0.0</td>\n",
       "    </tr>\n",
       "    <tr>\n",
       "      <th>217471</th>\n",
       "      <td>43233.0</td>\n",
       "      <td>0.0</td>\n",
       "      <td>3.0</td>\n",
       "      <td>28645.0</td>\n",
       "      <td>2012-04-05</td>\n",
       "      <td>series-b</td>\n",
       "      <td>50000000.0</td>\n",
       "      <td>57500000.0</td>\n",
       "      <td>3.0</td>\n",
       "      <td>0.0</td>\n",
       "      <td>5.0</td>\n",
       "      <td>1.0</td>\n",
       "      <td>0.0</td>\n",
       "    </tr>\n",
       "  </tbody>\n",
       "</table>\n",
       "<p>43197 rows × 13 columns</p>\n",
       "</div>"
      ],
      "text/plain": [
       "        company_id  investment_rounds  funding_rounds  funding_round_id  \\\n",
       "0              1.0                0.0             3.0             888.0   \n",
       "1              1.0                0.0             3.0             889.0   \n",
       "2              1.0                0.0             3.0            2312.0   \n",
       "5              NaN                0.0             0.0               NaN   \n",
       "15          1001.0                0.0             1.0            1644.0   \n",
       "...            ...                ...             ...               ...   \n",
       "217466      3429.0                0.0             4.0           20896.0   \n",
       "217467      7748.0                0.0             1.0            2836.0   \n",
       "217469     43233.0                0.0             3.0           12687.0   \n",
       "217470     43233.0                0.0             3.0           21259.0   \n",
       "217471     43233.0                0.0             3.0           28645.0   \n",
       "\n",
       "        funded_at funding_round_type  raised_amount  funding_total  \\\n",
       "0      2005-10-01           series-a      5250000.0     39750000.0   \n",
       "1      2007-01-01           series-b      9500000.0     39750000.0   \n",
       "2      2008-05-19          series-c+     25000000.0     39750000.0   \n",
       "5             NaT                NaN            NaN            0.0   \n",
       "15     2008-02-26           series-a      5000000.0      5000000.0   \n",
       "...           ...                ...            ...            ...   \n",
       "217466 2011-01-10            venture      7000000.0     44000000.0   \n",
       "217467 2008-01-31              angel      1300000.0      1300000.0   \n",
       "217469 2010-03-05              angel       500000.0     57500000.0   \n",
       "217470 2011-02-02           series-a      7000000.0     57500000.0   \n",
       "217471 2012-04-05           series-b     50000000.0     57500000.0   \n",
       "\n",
       "        milestones  pre_money_valuation  participants  is_first_round  \\\n",
       "0              5.0                  0.0           2.0             0.0   \n",
       "1              5.0                  0.0           3.0             0.0   \n",
       "2              5.0                  0.0           4.0             1.0   \n",
       "5              0.0                  NaN           NaN             NaN   \n",
       "15             3.0                  0.0           3.0             1.0   \n",
       "...            ...                  ...           ...             ...   \n",
       "217466         6.0                  0.0           1.0             1.0   \n",
       "217467         3.0                  0.0           8.0             1.0   \n",
       "217469         3.0                  0.0           2.0             0.0   \n",
       "217470         3.0                  0.0           5.0             0.0   \n",
       "217471         3.0                  0.0           5.0             1.0   \n",
       "\n",
       "        is_last_round  \n",
       "0                 1.0  \n",
       "1                 0.0  \n",
       "2                 0.0  \n",
       "5                 NaN  \n",
       "15                1.0  \n",
       "...               ...  \n",
       "217466            0.0  \n",
       "217467            1.0  \n",
       "217469            1.0  \n",
       "217470            0.0  \n",
       "217471            0.0  \n",
       "\n",
       "[43197 rows x 13 columns]"
      ]
     },
     "metadata": {},
     "output_type": "display_data"
    }
   ],
   "source": [
    "df1 = с_and_r_df[['company_ID', 'name', 'domain', 'network_username', 'category_code', 'status', 'founded_at', 'closed_at']]\n",
    "\n",
    "funding_cols = [ \n",
    "    'company_id', 'investment_rounds', 'funding_rounds', 'funding_round_id', \n",
    "    'funded_at', 'funding_round_type', 'raised_amount', 'funding_total', \n",
    "    'milestones', 'pre_money_valuation', 'participants', \n",
    "    'is_first_round', 'is_last_round']\n",
    "\n",
    "df2 = с_and_r_df[funding_cols]\n",
    "df2 = df2[df2.notna().any(axis=1)]\n",
    "\n",
    "\n",
    "df1 = df1.drop_duplicates(subset = 'name')\n",
    "df2 = df2.drop_duplicates(subset = 'funding_round_id')\n",
    "\n",
    "display(df1)\n",
    "display(df2)\n"
   ]
  },
  {
   "cell_type": "code",
   "execution_count": 70,
   "metadata": {},
   "outputs": [
    {
     "data": {
      "text/plain": [
       "0"
      ]
     },
     "execution_count": 70,
     "metadata": {},
     "output_type": "execute_result"
    }
   ],
   "source": [
    "df1.duplicated().sum()"
   ]
  },
  {
   "cell_type": "code",
   "execution_count": 71,
   "metadata": {},
   "outputs": [
    {
     "data": {
      "text/plain": [
       "0"
      ]
     },
     "execution_count": 71,
     "metadata": {},
     "output_type": "execute_result"
    }
   ],
   "source": [
    "df2.duplicated().sum()"
   ]
  },
  {
   "cell_type": "markdown",
   "metadata": {
    "id": "bmVYhphNrJg2"
   },
   "source": [
    "\n",
    "## Шаг 3. Исследовательский анализ объединённых таблиц\n",
    "\n",
    "> Приступите к шагу 3 после проверки ревьюера.\n",
    "\n",
    "<big>Студентам нужно чётко сказать - проверять дальше или не проверять.</big>"
   ]
  },
  {
   "cell_type": "markdown",
   "metadata": {
    "id": "3Di6tCT3rJg2"
   },
   "source": [
    "\n",
    "### 3.1. Объединение данных\n",
    "\n",
    "Объедините данные для ответа на вопросы заказчика, которые касаются интересующих его компаний. Заказчика прежде всего интересуют те компании, которые меняли или готовы менять владельцев. Получение инвестиций или финансирования, по мнению заказчика, означает интерес к покупке или продаже компании.\n",
    "\n",
    "В качестве основы для объединённой таблицы возьмите данные из обработанного датасета `company_and_rounds.csv` — выберите только те компании, у которых указаны значения `funding_rounds` или `investment_rounds` больше нуля, или те, у которых в колонке `status` указано `acquired`. В результирующей таблице должно получиться порядка 40 тысяч компаний.\n",
    "\n",
    "Проверьте полноту и корректность получившейся таблицы. Далее работайте только с этими данными."
   ]
  },
  {
   "cell_type": "code",
   "execution_count": 72,
   "metadata": {
    "scrolled": false
   },
   "outputs": [
    {
     "data": {
      "text/html": [
       "<div>\n",
       "<style scoped>\n",
       "    .dataframe tbody tr th:only-of-type {\n",
       "        vertical-align: middle;\n",
       "    }\n",
       "\n",
       "    .dataframe tbody tr th {\n",
       "        vertical-align: top;\n",
       "    }\n",
       "\n",
       "    .dataframe thead th {\n",
       "        text-align: right;\n",
       "    }\n",
       "</style>\n",
       "<table border=\"1\" class=\"dataframe\">\n",
       "  <thead>\n",
       "    <tr style=\"text-align: right;\">\n",
       "      <th></th>\n",
       "      <th>company_ID</th>\n",
       "      <th>name</th>\n",
       "      <th>domain</th>\n",
       "      <th>network_username</th>\n",
       "      <th>category_code</th>\n",
       "      <th>status</th>\n",
       "      <th>founded_at</th>\n",
       "      <th>closed_at</th>\n",
       "      <th>company_id</th>\n",
       "      <th>investment_rounds</th>\n",
       "      <th>...</th>\n",
       "      <th>funding_round_id</th>\n",
       "      <th>funded_at</th>\n",
       "      <th>funding_round_type</th>\n",
       "      <th>raised_amount</th>\n",
       "      <th>funding_total</th>\n",
       "      <th>milestones</th>\n",
       "      <th>pre_money_valuation</th>\n",
       "      <th>participants</th>\n",
       "      <th>is_first_round</th>\n",
       "      <th>is_last_round</th>\n",
       "    </tr>\n",
       "  </thead>\n",
       "  <tbody>\n",
       "    <tr>\n",
       "      <th>0</th>\n",
       "      <td>1.0</td>\n",
       "      <td>Wetpaint</td>\n",
       "      <td>wetpaint-inc.com</td>\n",
       "      <td>BachelrWetpaint</td>\n",
       "      <td>web</td>\n",
       "      <td>operating</td>\n",
       "      <td>2005-10-17</td>\n",
       "      <td>NaT</td>\n",
       "      <td>1.0</td>\n",
       "      <td>0.0</td>\n",
       "      <td>...</td>\n",
       "      <td>888.0</td>\n",
       "      <td>2005-10-01</td>\n",
       "      <td>series-a</td>\n",
       "      <td>5250000.0</td>\n",
       "      <td>39750000.0</td>\n",
       "      <td>5.0</td>\n",
       "      <td>0.0</td>\n",
       "      <td>2.0</td>\n",
       "      <td>0.0</td>\n",
       "      <td>1.0</td>\n",
       "    </tr>\n",
       "    <tr>\n",
       "      <th>1</th>\n",
       "      <td>1.0</td>\n",
       "      <td>Wetpaint</td>\n",
       "      <td>wetpaint-inc.com</td>\n",
       "      <td>BachelrWetpaint</td>\n",
       "      <td>web</td>\n",
       "      <td>operating</td>\n",
       "      <td>2005-10-17</td>\n",
       "      <td>NaT</td>\n",
       "      <td>1.0</td>\n",
       "      <td>0.0</td>\n",
       "      <td>...</td>\n",
       "      <td>889.0</td>\n",
       "      <td>2007-01-01</td>\n",
       "      <td>series-b</td>\n",
       "      <td>9500000.0</td>\n",
       "      <td>39750000.0</td>\n",
       "      <td>5.0</td>\n",
       "      <td>0.0</td>\n",
       "      <td>3.0</td>\n",
       "      <td>0.0</td>\n",
       "      <td>0.0</td>\n",
       "    </tr>\n",
       "    <tr>\n",
       "      <th>2</th>\n",
       "      <td>1.0</td>\n",
       "      <td>Wetpaint</td>\n",
       "      <td>wetpaint-inc.com</td>\n",
       "      <td>BachelrWetpaint</td>\n",
       "      <td>web</td>\n",
       "      <td>operating</td>\n",
       "      <td>2005-10-17</td>\n",
       "      <td>NaT</td>\n",
       "      <td>1.0</td>\n",
       "      <td>0.0</td>\n",
       "      <td>...</td>\n",
       "      <td>2312.0</td>\n",
       "      <td>2008-05-19</td>\n",
       "      <td>series-c+</td>\n",
       "      <td>25000000.0</td>\n",
       "      <td>39750000.0</td>\n",
       "      <td>5.0</td>\n",
       "      <td>0.0</td>\n",
       "      <td>4.0</td>\n",
       "      <td>1.0</td>\n",
       "      <td>0.0</td>\n",
       "    </tr>\n",
       "    <tr>\n",
       "      <th>3</th>\n",
       "      <td>NaN</td>\n",
       "      <td>NaN</td>\n",
       "      <td>NaN</td>\n",
       "      <td>NaN</td>\n",
       "      <td>NaN</td>\n",
       "      <td>NaN</td>\n",
       "      <td>NaT</td>\n",
       "      <td>NaT</td>\n",
       "      <td>NaN</td>\n",
       "      <td>0.0</td>\n",
       "      <td>...</td>\n",
       "      <td>NaN</td>\n",
       "      <td>NaT</td>\n",
       "      <td>NaN</td>\n",
       "      <td>NaN</td>\n",
       "      <td>0.0</td>\n",
       "      <td>0.0</td>\n",
       "      <td>NaN</td>\n",
       "      <td>NaN</td>\n",
       "      <td>NaN</td>\n",
       "      <td>NaN</td>\n",
       "    </tr>\n",
       "    <tr>\n",
       "      <th>4</th>\n",
       "      <td>1001.0</td>\n",
       "      <td>FriendFeed</td>\n",
       "      <td>friendfeed.com</td>\n",
       "      <td>friendfeed</td>\n",
       "      <td>web</td>\n",
       "      <td>acquired</td>\n",
       "      <td>2007-10-01</td>\n",
       "      <td>NaT</td>\n",
       "      <td>1001.0</td>\n",
       "      <td>0.0</td>\n",
       "      <td>...</td>\n",
       "      <td>1644.0</td>\n",
       "      <td>2008-02-26</td>\n",
       "      <td>series-a</td>\n",
       "      <td>5000000.0</td>\n",
       "      <td>5000000.0</td>\n",
       "      <td>3.0</td>\n",
       "      <td>0.0</td>\n",
       "      <td>3.0</td>\n",
       "      <td>1.0</td>\n",
       "      <td>1.0</td>\n",
       "    </tr>\n",
       "    <tr>\n",
       "      <th>...</th>\n",
       "      <td>...</td>\n",
       "      <td>...</td>\n",
       "      <td>...</td>\n",
       "      <td>...</td>\n",
       "      <td>...</td>\n",
       "      <td>...</td>\n",
       "      <td>...</td>\n",
       "      <td>...</td>\n",
       "      <td>...</td>\n",
       "      <td>...</td>\n",
       "      <td>...</td>\n",
       "      <td>...</td>\n",
       "      <td>...</td>\n",
       "      <td>...</td>\n",
       "      <td>...</td>\n",
       "      <td>...</td>\n",
       "      <td>...</td>\n",
       "      <td>...</td>\n",
       "      <td>...</td>\n",
       "      <td>...</td>\n",
       "      <td>...</td>\n",
       "    </tr>\n",
       "    <tr>\n",
       "      <th>43192</th>\n",
       "      <td>3429.0</td>\n",
       "      <td>Zend Technologies</td>\n",
       "      <td>zend.com</td>\n",
       "      <td>networkzend</td>\n",
       "      <td>software</td>\n",
       "      <td>operating</td>\n",
       "      <td>1999-01-01</td>\n",
       "      <td>NaT</td>\n",
       "      <td>3429.0</td>\n",
       "      <td>0.0</td>\n",
       "      <td>...</td>\n",
       "      <td>20896.0</td>\n",
       "      <td>2011-01-10</td>\n",
       "      <td>venture</td>\n",
       "      <td>7000000.0</td>\n",
       "      <td>44000000.0</td>\n",
       "      <td>6.0</td>\n",
       "      <td>0.0</td>\n",
       "      <td>1.0</td>\n",
       "      <td>1.0</td>\n",
       "      <td>0.0</td>\n",
       "    </tr>\n",
       "    <tr>\n",
       "      <th>43193</th>\n",
       "      <td>7748.0</td>\n",
       "      <td>Flowgram</td>\n",
       "      <td>flowgram.com</td>\n",
       "      <td>network</td>\n",
       "      <td>web</td>\n",
       "      <td>closed</td>\n",
       "      <td>2007-06-01</td>\n",
       "      <td>2008-06-11</td>\n",
       "      <td>7748.0</td>\n",
       "      <td>0.0</td>\n",
       "      <td>...</td>\n",
       "      <td>2836.0</td>\n",
       "      <td>2008-01-31</td>\n",
       "      <td>angel</td>\n",
       "      <td>1300000.0</td>\n",
       "      <td>1300000.0</td>\n",
       "      <td>3.0</td>\n",
       "      <td>0.0</td>\n",
       "      <td>8.0</td>\n",
       "      <td>1.0</td>\n",
       "      <td>1.0</td>\n",
       "    </tr>\n",
       "    <tr>\n",
       "      <th>43194</th>\n",
       "      <td>43233.0</td>\n",
       "      <td>Photonet</td>\n",
       "      <td>Photonet.com</td>\n",
       "      <td>Photonet</td>\n",
       "      <td>photo_video</td>\n",
       "      <td>acquired</td>\n",
       "      <td>2010-03-01</td>\n",
       "      <td>NaT</td>\n",
       "      <td>43233.0</td>\n",
       "      <td>0.0</td>\n",
       "      <td>...</td>\n",
       "      <td>12687.0</td>\n",
       "      <td>2010-03-05</td>\n",
       "      <td>angel</td>\n",
       "      <td>500000.0</td>\n",
       "      <td>57500000.0</td>\n",
       "      <td>3.0</td>\n",
       "      <td>0.0</td>\n",
       "      <td>2.0</td>\n",
       "      <td>0.0</td>\n",
       "      <td>1.0</td>\n",
       "    </tr>\n",
       "    <tr>\n",
       "      <th>43195</th>\n",
       "      <td>43233.0</td>\n",
       "      <td>Photonet</td>\n",
       "      <td>Photonet.com</td>\n",
       "      <td>Photonet</td>\n",
       "      <td>photo_video</td>\n",
       "      <td>acquired</td>\n",
       "      <td>2010-03-01</td>\n",
       "      <td>NaT</td>\n",
       "      <td>43233.0</td>\n",
       "      <td>0.0</td>\n",
       "      <td>...</td>\n",
       "      <td>21259.0</td>\n",
       "      <td>2011-02-02</td>\n",
       "      <td>series-a</td>\n",
       "      <td>7000000.0</td>\n",
       "      <td>57500000.0</td>\n",
       "      <td>3.0</td>\n",
       "      <td>0.0</td>\n",
       "      <td>5.0</td>\n",
       "      <td>0.0</td>\n",
       "      <td>0.0</td>\n",
       "    </tr>\n",
       "    <tr>\n",
       "      <th>43196</th>\n",
       "      <td>43233.0</td>\n",
       "      <td>Photonet</td>\n",
       "      <td>Photonet.com</td>\n",
       "      <td>Photonet</td>\n",
       "      <td>photo_video</td>\n",
       "      <td>acquired</td>\n",
       "      <td>2010-03-01</td>\n",
       "      <td>NaT</td>\n",
       "      <td>43233.0</td>\n",
       "      <td>0.0</td>\n",
       "      <td>...</td>\n",
       "      <td>28645.0</td>\n",
       "      <td>2012-04-05</td>\n",
       "      <td>series-b</td>\n",
       "      <td>50000000.0</td>\n",
       "      <td>57500000.0</td>\n",
       "      <td>3.0</td>\n",
       "      <td>0.0</td>\n",
       "      <td>5.0</td>\n",
       "      <td>1.0</td>\n",
       "      <td>0.0</td>\n",
       "    </tr>\n",
       "  </tbody>\n",
       "</table>\n",
       "<p>43197 rows × 21 columns</p>\n",
       "</div>"
      ],
      "text/plain": [
       "       company_ID               name            domain network_username  \\\n",
       "0             1.0           Wetpaint  wetpaint-inc.com  BachelrWetpaint   \n",
       "1             1.0           Wetpaint  wetpaint-inc.com  BachelrWetpaint   \n",
       "2             1.0           Wetpaint  wetpaint-inc.com  BachelrWetpaint   \n",
       "3             NaN                NaN               NaN              NaN   \n",
       "4          1001.0         FriendFeed    friendfeed.com       friendfeed   \n",
       "...           ...                ...               ...              ...   \n",
       "43192      3429.0  Zend Technologies          zend.com      networkzend   \n",
       "43193      7748.0           Flowgram      flowgram.com          network   \n",
       "43194     43233.0           Photonet      Photonet.com         Photonet   \n",
       "43195     43233.0           Photonet      Photonet.com         Photonet   \n",
       "43196     43233.0           Photonet      Photonet.com         Photonet   \n",
       "\n",
       "      category_code     status founded_at  closed_at  company_id  \\\n",
       "0               web  operating 2005-10-17        NaT         1.0   \n",
       "1               web  operating 2005-10-17        NaT         1.0   \n",
       "2               web  operating 2005-10-17        NaT         1.0   \n",
       "3               NaN        NaN        NaT        NaT         NaN   \n",
       "4               web   acquired 2007-10-01        NaT      1001.0   \n",
       "...             ...        ...        ...        ...         ...   \n",
       "43192      software  operating 1999-01-01        NaT      3429.0   \n",
       "43193           web     closed 2007-06-01 2008-06-11      7748.0   \n",
       "43194   photo_video   acquired 2010-03-01        NaT     43233.0   \n",
       "43195   photo_video   acquired 2010-03-01        NaT     43233.0   \n",
       "43196   photo_video   acquired 2010-03-01        NaT     43233.0   \n",
       "\n",
       "       investment_rounds  ...  funding_round_id  funded_at funding_round_type  \\\n",
       "0                    0.0  ...             888.0 2005-10-01           series-a   \n",
       "1                    0.0  ...             889.0 2007-01-01           series-b   \n",
       "2                    0.0  ...            2312.0 2008-05-19          series-c+   \n",
       "3                    0.0  ...               NaN        NaT                NaN   \n",
       "4                    0.0  ...            1644.0 2008-02-26           series-a   \n",
       "...                  ...  ...               ...        ...                ...   \n",
       "43192                0.0  ...           20896.0 2011-01-10            venture   \n",
       "43193                0.0  ...            2836.0 2008-01-31              angel   \n",
       "43194                0.0  ...           12687.0 2010-03-05              angel   \n",
       "43195                0.0  ...           21259.0 2011-02-02           series-a   \n",
       "43196                0.0  ...           28645.0 2012-04-05           series-b   \n",
       "\n",
       "      raised_amount  funding_total  milestones  pre_money_valuation  \\\n",
       "0         5250000.0     39750000.0         5.0                  0.0   \n",
       "1         9500000.0     39750000.0         5.0                  0.0   \n",
       "2        25000000.0     39750000.0         5.0                  0.0   \n",
       "3               NaN            0.0         0.0                  NaN   \n",
       "4         5000000.0      5000000.0         3.0                  0.0   \n",
       "...             ...            ...         ...                  ...   \n",
       "43192     7000000.0     44000000.0         6.0                  0.0   \n",
       "43193     1300000.0      1300000.0         3.0                  0.0   \n",
       "43194      500000.0     57500000.0         3.0                  0.0   \n",
       "43195     7000000.0     57500000.0         3.0                  0.0   \n",
       "43196    50000000.0     57500000.0         3.0                  0.0   \n",
       "\n",
       "       participants  is_first_round  is_last_round  \n",
       "0               2.0             0.0            1.0  \n",
       "1               3.0             0.0            0.0  \n",
       "2               4.0             1.0            0.0  \n",
       "3               NaN             NaN            NaN  \n",
       "4               3.0             1.0            1.0  \n",
       "...             ...             ...            ...  \n",
       "43192           1.0             1.0            0.0  \n",
       "43193           8.0             1.0            1.0  \n",
       "43194           2.0             0.0            1.0  \n",
       "43195           5.0             0.0            0.0  \n",
       "43196           5.0             1.0            0.0  \n",
       "\n",
       "[43197 rows x 21 columns]"
      ]
     },
     "metadata": {},
     "output_type": "display_data"
    }
   ],
   "source": [
    "#Объединим снова датафреймы:\n",
    "new_с_and_r_df = df1.merge(df2, left_on = 'company_ID', right_on = 'company_id', how = 'right')\n",
    "display(new_с_and_r_df)"
   ]
  },
  {
   "cell_type": "code",
   "execution_count": 73,
   "metadata": {
    "id": "kuV1b5MXFg3_"
   },
   "outputs": [
    {
     "data": {
      "text/html": [
       "<div>\n",
       "<style scoped>\n",
       "    .dataframe tbody tr th:only-of-type {\n",
       "        vertical-align: middle;\n",
       "    }\n",
       "\n",
       "    .dataframe tbody tr th {\n",
       "        vertical-align: top;\n",
       "    }\n",
       "\n",
       "    .dataframe thead th {\n",
       "        text-align: right;\n",
       "    }\n",
       "</style>\n",
       "<table border=\"1\" class=\"dataframe\">\n",
       "  <thead>\n",
       "    <tr style=\"text-align: right;\">\n",
       "      <th></th>\n",
       "      <th>company_ID</th>\n",
       "      <th>name</th>\n",
       "      <th>domain</th>\n",
       "      <th>network_username</th>\n",
       "      <th>category_code</th>\n",
       "      <th>status</th>\n",
       "      <th>founded_at</th>\n",
       "      <th>closed_at</th>\n",
       "      <th>company_id</th>\n",
       "      <th>investment_rounds</th>\n",
       "      <th>...</th>\n",
       "      <th>funding_round_id</th>\n",
       "      <th>funded_at</th>\n",
       "      <th>funding_round_type</th>\n",
       "      <th>raised_amount</th>\n",
       "      <th>funding_total</th>\n",
       "      <th>milestones</th>\n",
       "      <th>pre_money_valuation</th>\n",
       "      <th>participants</th>\n",
       "      <th>is_first_round</th>\n",
       "      <th>is_last_round</th>\n",
       "    </tr>\n",
       "  </thead>\n",
       "  <tbody>\n",
       "    <tr>\n",
       "      <th>0</th>\n",
       "      <td>1.0</td>\n",
       "      <td>Wetpaint</td>\n",
       "      <td>wetpaint-inc.com</td>\n",
       "      <td>BachelrWetpaint</td>\n",
       "      <td>web</td>\n",
       "      <td>operating</td>\n",
       "      <td>2005-10-17</td>\n",
       "      <td>NaT</td>\n",
       "      <td>1.0</td>\n",
       "      <td>0.0</td>\n",
       "      <td>...</td>\n",
       "      <td>888.0</td>\n",
       "      <td>2005-10-01</td>\n",
       "      <td>series-a</td>\n",
       "      <td>5250000.0</td>\n",
       "      <td>39750000.0</td>\n",
       "      <td>5.0</td>\n",
       "      <td>0.0</td>\n",
       "      <td>2.0</td>\n",
       "      <td>0.0</td>\n",
       "      <td>1.0</td>\n",
       "    </tr>\n",
       "    <tr>\n",
       "      <th>1</th>\n",
       "      <td>1.0</td>\n",
       "      <td>Wetpaint</td>\n",
       "      <td>wetpaint-inc.com</td>\n",
       "      <td>BachelrWetpaint</td>\n",
       "      <td>web</td>\n",
       "      <td>operating</td>\n",
       "      <td>2005-10-17</td>\n",
       "      <td>NaT</td>\n",
       "      <td>1.0</td>\n",
       "      <td>0.0</td>\n",
       "      <td>...</td>\n",
       "      <td>889.0</td>\n",
       "      <td>2007-01-01</td>\n",
       "      <td>series-b</td>\n",
       "      <td>9500000.0</td>\n",
       "      <td>39750000.0</td>\n",
       "      <td>5.0</td>\n",
       "      <td>0.0</td>\n",
       "      <td>3.0</td>\n",
       "      <td>0.0</td>\n",
       "      <td>0.0</td>\n",
       "    </tr>\n",
       "    <tr>\n",
       "      <th>2</th>\n",
       "      <td>1.0</td>\n",
       "      <td>Wetpaint</td>\n",
       "      <td>wetpaint-inc.com</td>\n",
       "      <td>BachelrWetpaint</td>\n",
       "      <td>web</td>\n",
       "      <td>operating</td>\n",
       "      <td>2005-10-17</td>\n",
       "      <td>NaT</td>\n",
       "      <td>1.0</td>\n",
       "      <td>0.0</td>\n",
       "      <td>...</td>\n",
       "      <td>2312.0</td>\n",
       "      <td>2008-05-19</td>\n",
       "      <td>series-c+</td>\n",
       "      <td>25000000.0</td>\n",
       "      <td>39750000.0</td>\n",
       "      <td>5.0</td>\n",
       "      <td>0.0</td>\n",
       "      <td>4.0</td>\n",
       "      <td>1.0</td>\n",
       "      <td>0.0</td>\n",
       "    </tr>\n",
       "    <tr>\n",
       "      <th>4</th>\n",
       "      <td>1001.0</td>\n",
       "      <td>FriendFeed</td>\n",
       "      <td>friendfeed.com</td>\n",
       "      <td>friendfeed</td>\n",
       "      <td>web</td>\n",
       "      <td>acquired</td>\n",
       "      <td>2007-10-01</td>\n",
       "      <td>NaT</td>\n",
       "      <td>1001.0</td>\n",
       "      <td>0.0</td>\n",
       "      <td>...</td>\n",
       "      <td>1644.0</td>\n",
       "      <td>2008-02-26</td>\n",
       "      <td>series-a</td>\n",
       "      <td>5000000.0</td>\n",
       "      <td>5000000.0</td>\n",
       "      <td>3.0</td>\n",
       "      <td>0.0</td>\n",
       "      <td>3.0</td>\n",
       "      <td>1.0</td>\n",
       "      <td>1.0</td>\n",
       "    </tr>\n",
       "    <tr>\n",
       "      <th>5</th>\n",
       "      <td>10014.0</td>\n",
       "      <td>Mobclix</td>\n",
       "      <td>mobclix.com</td>\n",
       "      <td>mobclix</td>\n",
       "      <td>mobile</td>\n",
       "      <td>acquired</td>\n",
       "      <td>2008-03-01</td>\n",
       "      <td>NaT</td>\n",
       "      <td>10014.0</td>\n",
       "      <td>0.0</td>\n",
       "      <td>...</td>\n",
       "      <td>6682.0</td>\n",
       "      <td>2008-09-01</td>\n",
       "      <td>angel</td>\n",
       "      <td>0.0</td>\n",
       "      <td>0.0</td>\n",
       "      <td>4.0</td>\n",
       "      <td>0.0</td>\n",
       "      <td>1.0</td>\n",
       "      <td>1.0</td>\n",
       "      <td>1.0</td>\n",
       "    </tr>\n",
       "    <tr>\n",
       "      <th>...</th>\n",
       "      <td>...</td>\n",
       "      <td>...</td>\n",
       "      <td>...</td>\n",
       "      <td>...</td>\n",
       "      <td>...</td>\n",
       "      <td>...</td>\n",
       "      <td>...</td>\n",
       "      <td>...</td>\n",
       "      <td>...</td>\n",
       "      <td>...</td>\n",
       "      <td>...</td>\n",
       "      <td>...</td>\n",
       "      <td>...</td>\n",
       "      <td>...</td>\n",
       "      <td>...</td>\n",
       "      <td>...</td>\n",
       "      <td>...</td>\n",
       "      <td>...</td>\n",
       "      <td>...</td>\n",
       "      <td>...</td>\n",
       "      <td>...</td>\n",
       "    </tr>\n",
       "    <tr>\n",
       "      <th>43192</th>\n",
       "      <td>3429.0</td>\n",
       "      <td>Zend Technologies</td>\n",
       "      <td>zend.com</td>\n",
       "      <td>networkzend</td>\n",
       "      <td>software</td>\n",
       "      <td>operating</td>\n",
       "      <td>1999-01-01</td>\n",
       "      <td>NaT</td>\n",
       "      <td>3429.0</td>\n",
       "      <td>0.0</td>\n",
       "      <td>...</td>\n",
       "      <td>20896.0</td>\n",
       "      <td>2011-01-10</td>\n",
       "      <td>venture</td>\n",
       "      <td>7000000.0</td>\n",
       "      <td>44000000.0</td>\n",
       "      <td>6.0</td>\n",
       "      <td>0.0</td>\n",
       "      <td>1.0</td>\n",
       "      <td>1.0</td>\n",
       "      <td>0.0</td>\n",
       "    </tr>\n",
       "    <tr>\n",
       "      <th>43193</th>\n",
       "      <td>7748.0</td>\n",
       "      <td>Flowgram</td>\n",
       "      <td>flowgram.com</td>\n",
       "      <td>network</td>\n",
       "      <td>web</td>\n",
       "      <td>closed</td>\n",
       "      <td>2007-06-01</td>\n",
       "      <td>2008-06-11</td>\n",
       "      <td>7748.0</td>\n",
       "      <td>0.0</td>\n",
       "      <td>...</td>\n",
       "      <td>2836.0</td>\n",
       "      <td>2008-01-31</td>\n",
       "      <td>angel</td>\n",
       "      <td>1300000.0</td>\n",
       "      <td>1300000.0</td>\n",
       "      <td>3.0</td>\n",
       "      <td>0.0</td>\n",
       "      <td>8.0</td>\n",
       "      <td>1.0</td>\n",
       "      <td>1.0</td>\n",
       "    </tr>\n",
       "    <tr>\n",
       "      <th>43194</th>\n",
       "      <td>43233.0</td>\n",
       "      <td>Photonet</td>\n",
       "      <td>Photonet.com</td>\n",
       "      <td>Photonet</td>\n",
       "      <td>photo_video</td>\n",
       "      <td>acquired</td>\n",
       "      <td>2010-03-01</td>\n",
       "      <td>NaT</td>\n",
       "      <td>43233.0</td>\n",
       "      <td>0.0</td>\n",
       "      <td>...</td>\n",
       "      <td>12687.0</td>\n",
       "      <td>2010-03-05</td>\n",
       "      <td>angel</td>\n",
       "      <td>500000.0</td>\n",
       "      <td>57500000.0</td>\n",
       "      <td>3.0</td>\n",
       "      <td>0.0</td>\n",
       "      <td>2.0</td>\n",
       "      <td>0.0</td>\n",
       "      <td>1.0</td>\n",
       "    </tr>\n",
       "    <tr>\n",
       "      <th>43195</th>\n",
       "      <td>43233.0</td>\n",
       "      <td>Photonet</td>\n",
       "      <td>Photonet.com</td>\n",
       "      <td>Photonet</td>\n",
       "      <td>photo_video</td>\n",
       "      <td>acquired</td>\n",
       "      <td>2010-03-01</td>\n",
       "      <td>NaT</td>\n",
       "      <td>43233.0</td>\n",
       "      <td>0.0</td>\n",
       "      <td>...</td>\n",
       "      <td>21259.0</td>\n",
       "      <td>2011-02-02</td>\n",
       "      <td>series-a</td>\n",
       "      <td>7000000.0</td>\n",
       "      <td>57500000.0</td>\n",
       "      <td>3.0</td>\n",
       "      <td>0.0</td>\n",
       "      <td>5.0</td>\n",
       "      <td>0.0</td>\n",
       "      <td>0.0</td>\n",
       "    </tr>\n",
       "    <tr>\n",
       "      <th>43196</th>\n",
       "      <td>43233.0</td>\n",
       "      <td>Photonet</td>\n",
       "      <td>Photonet.com</td>\n",
       "      <td>Photonet</td>\n",
       "      <td>photo_video</td>\n",
       "      <td>acquired</td>\n",
       "      <td>2010-03-01</td>\n",
       "      <td>NaT</td>\n",
       "      <td>43233.0</td>\n",
       "      <td>0.0</td>\n",
       "      <td>...</td>\n",
       "      <td>28645.0</td>\n",
       "      <td>2012-04-05</td>\n",
       "      <td>series-b</td>\n",
       "      <td>50000000.0</td>\n",
       "      <td>57500000.0</td>\n",
       "      <td>3.0</td>\n",
       "      <td>0.0</td>\n",
       "      <td>5.0</td>\n",
       "      <td>1.0</td>\n",
       "      <td>0.0</td>\n",
       "    </tr>\n",
       "  </tbody>\n",
       "</table>\n",
       "<p>43196 rows × 21 columns</p>\n",
       "</div>"
      ],
      "text/plain": [
       "       company_ID               name            domain network_username  \\\n",
       "0             1.0           Wetpaint  wetpaint-inc.com  BachelrWetpaint   \n",
       "1             1.0           Wetpaint  wetpaint-inc.com  BachelrWetpaint   \n",
       "2             1.0           Wetpaint  wetpaint-inc.com  BachelrWetpaint   \n",
       "4          1001.0         FriendFeed    friendfeed.com       friendfeed   \n",
       "5         10014.0            Mobclix       mobclix.com          mobclix   \n",
       "...           ...                ...               ...              ...   \n",
       "43192      3429.0  Zend Technologies          zend.com      networkzend   \n",
       "43193      7748.0           Flowgram      flowgram.com          network   \n",
       "43194     43233.0           Photonet      Photonet.com         Photonet   \n",
       "43195     43233.0           Photonet      Photonet.com         Photonet   \n",
       "43196     43233.0           Photonet      Photonet.com         Photonet   \n",
       "\n",
       "      category_code     status founded_at  closed_at  company_id  \\\n",
       "0               web  operating 2005-10-17        NaT         1.0   \n",
       "1               web  operating 2005-10-17        NaT         1.0   \n",
       "2               web  operating 2005-10-17        NaT         1.0   \n",
       "4               web   acquired 2007-10-01        NaT      1001.0   \n",
       "5            mobile   acquired 2008-03-01        NaT     10014.0   \n",
       "...             ...        ...        ...        ...         ...   \n",
       "43192      software  operating 1999-01-01        NaT      3429.0   \n",
       "43193           web     closed 2007-06-01 2008-06-11      7748.0   \n",
       "43194   photo_video   acquired 2010-03-01        NaT     43233.0   \n",
       "43195   photo_video   acquired 2010-03-01        NaT     43233.0   \n",
       "43196   photo_video   acquired 2010-03-01        NaT     43233.0   \n",
       "\n",
       "       investment_rounds  ...  funding_round_id  funded_at funding_round_type  \\\n",
       "0                    0.0  ...             888.0 2005-10-01           series-a   \n",
       "1                    0.0  ...             889.0 2007-01-01           series-b   \n",
       "2                    0.0  ...            2312.0 2008-05-19          series-c+   \n",
       "4                    0.0  ...            1644.0 2008-02-26           series-a   \n",
       "5                    0.0  ...            6682.0 2008-09-01              angel   \n",
       "...                  ...  ...               ...        ...                ...   \n",
       "43192                0.0  ...           20896.0 2011-01-10            venture   \n",
       "43193                0.0  ...            2836.0 2008-01-31              angel   \n",
       "43194                0.0  ...           12687.0 2010-03-05              angel   \n",
       "43195                0.0  ...           21259.0 2011-02-02           series-a   \n",
       "43196                0.0  ...           28645.0 2012-04-05           series-b   \n",
       "\n",
       "      raised_amount  funding_total  milestones  pre_money_valuation  \\\n",
       "0         5250000.0     39750000.0         5.0                  0.0   \n",
       "1         9500000.0     39750000.0         5.0                  0.0   \n",
       "2        25000000.0     39750000.0         5.0                  0.0   \n",
       "4         5000000.0      5000000.0         3.0                  0.0   \n",
       "5               0.0            0.0         4.0                  0.0   \n",
       "...             ...            ...         ...                  ...   \n",
       "43192     7000000.0     44000000.0         6.0                  0.0   \n",
       "43193     1300000.0      1300000.0         3.0                  0.0   \n",
       "43194      500000.0     57500000.0         3.0                  0.0   \n",
       "43195     7000000.0     57500000.0         3.0                  0.0   \n",
       "43196    50000000.0     57500000.0         3.0                  0.0   \n",
       "\n",
       "       participants  is_first_round  is_last_round  \n",
       "0               2.0             0.0            1.0  \n",
       "1               3.0             0.0            0.0  \n",
       "2               4.0             1.0            0.0  \n",
       "4               3.0             1.0            1.0  \n",
       "5               1.0             1.0            1.0  \n",
       "...             ...             ...            ...  \n",
       "43192           1.0             1.0            0.0  \n",
       "43193           8.0             1.0            1.0  \n",
       "43194           2.0             0.0            1.0  \n",
       "43195           5.0             0.0            0.0  \n",
       "43196           5.0             1.0            0.0  \n",
       "\n",
       "[43196 rows x 21 columns]"
      ]
     },
     "metadata": {},
     "output_type": "display_data"
    }
   ],
   "source": [
    "new_с_and_r_df_filtr = new_с_and_r_df[\n",
    "    (new_с_and_r_df['funding_rounds'] > 0)|\n",
    "    (new_с_and_r_df['investment_rounds'] > 0)|\n",
    "    (new_с_and_r_df['status'] == 'acquired')\n",
    "]\n",
    "display(new_с_and_r_df_filtr)"
   ]
  },
  {
   "cell_type": "markdown",
   "metadata": {
    "id": "DFHINkV3rJg2"
   },
   "source": [
    "\n",
    "### 3.2. Анализ выбросов\n",
    "\n",
    "Заказчика интересует обычный для рассматриваемого периода размер средств, который предоставлялся компаниям.\n",
    "\n",
    "- По предобработанному столбцу `funding_total` графическим способом оцените, какой размер общего финансирования для одной компании будет типичным, а какой — выбивающимся.\n",
    "- В процессе расчёта значений обратите внимание, например, на показатели, возвращаемые методом `.describe()`, — объясните их. Применимы ли к таким данным обычные способы нахождения типичных значений?"
   ]
  },
  {
   "cell_type": "code",
   "execution_count": 74,
   "metadata": {
    "scrolled": true
   },
   "outputs": [
    {
     "data": {
      "text/plain": [
       "count    4.319600e+04\n",
       "mean     2.674832e+07\n",
       "std      1.013341e+08\n",
       "min      0.000000e+00\n",
       "25%      6.600000e+05\n",
       "50%      5.000000e+06\n",
       "75%      2.307720e+07\n",
       "max      5.700000e+09\n",
       "Name: funding_total, dtype: float64"
      ]
     },
     "execution_count": 74,
     "metadata": {},
     "output_type": "execute_result"
    }
   ],
   "source": [
    "new_с_and_r_df_filtr['funding_total'].describe()"
   ]
  },
  {
   "cell_type": "markdown",
   "metadata": {},
   "source": [
    "(е6 = млн $)\n",
    "Среднее = 2.67 млн $,\n",
    "Медиана = 5.0 млн $ - значит есть выбросы. "
   ]
  },
  {
   "cell_type": "code",
   "execution_count": 75,
   "metadata": {
    "id": "8jm75fKXrJg2",
    "scrolled": false,
    "vscode": {
     "languageId": "plaintext"
    }
   },
   "outputs": [
    {
     "data": {
      "image/png": "[encoded data removed]",
      "text/plain": [
       "<Figure size 432x288 with 1 Axes>"
      ]
     },
     "metadata": {
      "needs_background": "light"
     },
     "output_type": "display_data"
    }
   ],
   "source": [
    "plt.hist(new_с_and_r_df_filtr['funding_total'], bins=50)\n",
    "plt.title('Распределение общего финансирования')\n",
    "plt.xlabel('Размер финансирования')\n",
    "plt.ylabel('Частота')\n",
    "\n",
    "plt.grid()\n",
    "\n",
    "plt.show()"
   ]
  },
  {
   "cell_type": "code",
   "execution_count": 76,
   "metadata": {
    "scrolled": true
   },
   "outputs": [
    {
     "data": {
      "image/png": "[encoded data removed]",
      "text/plain": [
       "<Figure size 1008x288 with 1 Axes>"
      ]
     },
     "metadata": {
      "needs_background": "light"
     },
     "output_type": "display_data"
    }
   ],
   "source": [
    "plt.figure(figsize=(14, 4))\n",
    "plt.boxplot(new_с_and_r_df_filtr['funding_total'], vert = False)\n",
    "plt.title('Распределение общего финансирования, млн $')\n",
    "plt.xlabel('Размер финансирования')\n",
    "plt.grid()\n",
    "\n",
    "plt.show()"
   ]
  },
  {
   "cell_type": "markdown",
   "metadata": {
    "id": "JqkRAQrIrJg2"
   },
   "source": [
    "\n",
    "### 3.3. Куплены забесплатно?\n",
    "\n",
    "- Исследуйте компании, которые были проданы за ноль или за один доллар, и при этом известно, что у них был ненулевой общий объём финансирования.\n",
    "\n",
    "- Рассчитайте аналитически верхнюю и нижнюю границу выбросов для столбца `funding_total` и укажите, каким процентилям границы соответствуют."
   ]
  },
  {
   "cell_type": "code",
   "execution_count": 77,
   "metadata": {
    "id": "wJHXCBwwrJg2",
    "vscode": {
     "languageId": "plaintext"
    }
   },
   "outputs": [
    {
     "data": {
      "text/html": [
       "<div>\n",
       "<style scoped>\n",
       "    .dataframe tbody tr th:only-of-type {\n",
       "        vertical-align: middle;\n",
       "    }\n",
       "\n",
       "    .dataframe tbody tr th {\n",
       "        vertical-align: top;\n",
       "    }\n",
       "\n",
       "    .dataframe thead th {\n",
       "        text-align: right;\n",
       "    }\n",
       "</style>\n",
       "<table border=\"1\" class=\"dataframe\">\n",
       "  <thead>\n",
       "    <tr style=\"text-align: right;\">\n",
       "      <th></th>\n",
       "      <th>company_ID</th>\n",
       "      <th>name</th>\n",
       "      <th>domain</th>\n",
       "      <th>network_username</th>\n",
       "      <th>category_code</th>\n",
       "      <th>status</th>\n",
       "      <th>founded_at</th>\n",
       "      <th>closed_at</th>\n",
       "      <th>company_id</th>\n",
       "      <th>investment_rounds</th>\n",
       "      <th>...</th>\n",
       "      <th>funding_round_id</th>\n",
       "      <th>funded_at</th>\n",
       "      <th>funding_round_type</th>\n",
       "      <th>raised_amount</th>\n",
       "      <th>funding_total</th>\n",
       "      <th>milestones</th>\n",
       "      <th>pre_money_valuation</th>\n",
       "      <th>participants</th>\n",
       "      <th>is_first_round</th>\n",
       "      <th>is_last_round</th>\n",
       "    </tr>\n",
       "  </thead>\n",
       "  <tbody>\n",
       "    <tr>\n",
       "      <th>61</th>\n",
       "      <td>101094.0</td>\n",
       "      <td>Rev Worldwide</td>\n",
       "      <td>revworldwide.com</td>\n",
       "      <td>revworldwide</td>\n",
       "      <td>ecommerce</td>\n",
       "      <td>operating</td>\n",
       "      <td>2008-01-01</td>\n",
       "      <td>NaT</td>\n",
       "      <td>101094.0</td>\n",
       "      <td>0.0</td>\n",
       "      <td>...</td>\n",
       "      <td>46122.0</td>\n",
       "      <td>2013-02-01</td>\n",
       "      <td>series-c+</td>\n",
       "      <td>0.0</td>\n",
       "      <td>4815940.0</td>\n",
       "      <td>0.0</td>\n",
       "      <td>0.0</td>\n",
       "      <td>1.0</td>\n",
       "      <td>0.0</td>\n",
       "      <td>1.0</td>\n",
       "    </tr>\n",
       "    <tr>\n",
       "      <th>72</th>\n",
       "      <td>10129.0</td>\n",
       "      <td>Sportsvite</td>\n",
       "      <td>sportsvite.com</td>\n",
       "      <td>sportsvite</td>\n",
       "      <td>web</td>\n",
       "      <td>operating</td>\n",
       "      <td>2007-01-01</td>\n",
       "      <td>NaT</td>\n",
       "      <td>10129.0</td>\n",
       "      <td>0.0</td>\n",
       "      <td>...</td>\n",
       "      <td>54815.0</td>\n",
       "      <td>2013-03-01</td>\n",
       "      <td>angel</td>\n",
       "      <td>0.0</td>\n",
       "      <td>4350000.0</td>\n",
       "      <td>0.0</td>\n",
       "      <td>0.0</td>\n",
       "      <td>1.0</td>\n",
       "      <td>1.0</td>\n",
       "      <td>0.0</td>\n",
       "    </tr>\n",
       "    <tr>\n",
       "      <th>75</th>\n",
       "      <td>101312.0</td>\n",
       "      <td>SideTour</td>\n",
       "      <td>sidetour.com</td>\n",
       "      <td>sidetour</td>\n",
       "      <td>web</td>\n",
       "      <td>acquired</td>\n",
       "      <td>2011-06-01</td>\n",
       "      <td>NaT</td>\n",
       "      <td>101312.0</td>\n",
       "      <td>0.0</td>\n",
       "      <td>...</td>\n",
       "      <td>38158.0</td>\n",
       "      <td>2011-07-01</td>\n",
       "      <td>angel</td>\n",
       "      <td>0.0</td>\n",
       "      <td>4000000.0</td>\n",
       "      <td>2.0</td>\n",
       "      <td>0.0</td>\n",
       "      <td>1.0</td>\n",
       "      <td>0.0</td>\n",
       "      <td>1.0</td>\n",
       "    </tr>\n",
       "    <tr>\n",
       "      <th>98</th>\n",
       "      <td>10161.0</td>\n",
       "      <td>Cartera Commerce</td>\n",
       "      <td>cartera.com</td>\n",
       "      <td>CarteraCommerce</td>\n",
       "      <td>advertising</td>\n",
       "      <td>operating</td>\n",
       "      <td>2005-01-01</td>\n",
       "      <td>NaT</td>\n",
       "      <td>10161.0</td>\n",
       "      <td>0.0</td>\n",
       "      <td>...</td>\n",
       "      <td>3283.0</td>\n",
       "      <td>2006-03-13</td>\n",
       "      <td>series-a</td>\n",
       "      <td>0.0</td>\n",
       "      <td>37570700.0</td>\n",
       "      <td>2.0</td>\n",
       "      <td>0.0</td>\n",
       "      <td>1.0</td>\n",
       "      <td>0.0</td>\n",
       "      <td>1.0</td>\n",
       "    </tr>\n",
       "    <tr>\n",
       "      <th>171</th>\n",
       "      <td>102774.0</td>\n",
       "      <td>SHOP.CA</td>\n",
       "      <td>shop.ca</td>\n",
       "      <td>SHOPdotCA</td>\n",
       "      <td>ecommerce</td>\n",
       "      <td>operating</td>\n",
       "      <td>2011-07-01</td>\n",
       "      <td>NaT</td>\n",
       "      <td>102774.0</td>\n",
       "      <td>0.0</td>\n",
       "      <td>...</td>\n",
       "      <td>50176.0</td>\n",
       "      <td>2013-09-26</td>\n",
       "      <td>angel</td>\n",
       "      <td>0.0</td>\n",
       "      <td>26752200.0</td>\n",
       "      <td>1.0</td>\n",
       "      <td>0.0</td>\n",
       "      <td>0.0</td>\n",
       "      <td>1.0</td>\n",
       "      <td>0.0</td>\n",
       "    </tr>\n",
       "    <tr>\n",
       "      <th>...</th>\n",
       "      <td>...</td>\n",
       "      <td>...</td>\n",
       "      <td>...</td>\n",
       "      <td>...</td>\n",
       "      <td>...</td>\n",
       "      <td>...</td>\n",
       "      <td>...</td>\n",
       "      <td>...</td>\n",
       "      <td>...</td>\n",
       "      <td>...</td>\n",
       "      <td>...</td>\n",
       "      <td>...</td>\n",
       "      <td>...</td>\n",
       "      <td>...</td>\n",
       "      <td>...</td>\n",
       "      <td>...</td>\n",
       "      <td>...</td>\n",
       "      <td>...</td>\n",
       "      <td>...</td>\n",
       "      <td>...</td>\n",
       "      <td>...</td>\n",
       "    </tr>\n",
       "    <tr>\n",
       "      <th>43064</th>\n",
       "      <td>9784.0</td>\n",
       "      <td>Trilliant</td>\n",
       "      <td>trilliantinc.com</td>\n",
       "      <td>Trilliant</td>\n",
       "      <td>hardware</td>\n",
       "      <td>operating</td>\n",
       "      <td>1995-01-01</td>\n",
       "      <td>NaT</td>\n",
       "      <td>9784.0</td>\n",
       "      <td>0.0</td>\n",
       "      <td>...</td>\n",
       "      <td>20608.0</td>\n",
       "      <td>2010-12-21</td>\n",
       "      <td>venture</td>\n",
       "      <td>0.0</td>\n",
       "      <td>146000000.0</td>\n",
       "      <td>3.0</td>\n",
       "      <td>0.0</td>\n",
       "      <td>5.0</td>\n",
       "      <td>1.0</td>\n",
       "      <td>0.0</td>\n",
       "    </tr>\n",
       "    <tr>\n",
       "      <th>43088</th>\n",
       "      <td>9840.0</td>\n",
       "      <td>KoolSpan</td>\n",
       "      <td>koolspan.com</td>\n",
       "      <td>KoolSpan1</td>\n",
       "      <td>security</td>\n",
       "      <td>operating</td>\n",
       "      <td>2003-03-01</td>\n",
       "      <td>NaT</td>\n",
       "      <td>9840.0</td>\n",
       "      <td>0.0</td>\n",
       "      <td>...</td>\n",
       "      <td>3757.0</td>\n",
       "      <td>2003-01-01</td>\n",
       "      <td>angel</td>\n",
       "      <td>0.0</td>\n",
       "      <td>28200000.0</td>\n",
       "      <td>3.0</td>\n",
       "      <td>0.0</td>\n",
       "      <td>2.0</td>\n",
       "      <td>0.0</td>\n",
       "      <td>1.0</td>\n",
       "    </tr>\n",
       "    <tr>\n",
       "      <th>43098</th>\n",
       "      <td>9843.0</td>\n",
       "      <td>CE Interactive</td>\n",
       "      <td>ce-interactive.com</td>\n",
       "      <td>NaN</td>\n",
       "      <td>software</td>\n",
       "      <td>operating</td>\n",
       "      <td>2004-01-01</td>\n",
       "      <td>NaT</td>\n",
       "      <td>9843.0</td>\n",
       "      <td>0.0</td>\n",
       "      <td>...</td>\n",
       "      <td>3755.0</td>\n",
       "      <td>2005-01-01</td>\n",
       "      <td>angel</td>\n",
       "      <td>0.0</td>\n",
       "      <td>2000000.0</td>\n",
       "      <td>0.0</td>\n",
       "      <td>0.0</td>\n",
       "      <td>1.0</td>\n",
       "      <td>0.0</td>\n",
       "      <td>1.0</td>\n",
       "    </tr>\n",
       "    <tr>\n",
       "      <th>43118</th>\n",
       "      <td>99.0</td>\n",
       "      <td>Amie Street</td>\n",
       "      <td>amiestreet.com</td>\n",
       "      <td>amiestreet_logs</td>\n",
       "      <td>web</td>\n",
       "      <td>acquired</td>\n",
       "      <td>2011-07-04</td>\n",
       "      <td>NaT</td>\n",
       "      <td>99.0</td>\n",
       "      <td>0.0</td>\n",
       "      <td>...</td>\n",
       "      <td>307.0</td>\n",
       "      <td>2007-08-01</td>\n",
       "      <td>series-a</td>\n",
       "      <td>0.0</td>\n",
       "      <td>3900000.0</td>\n",
       "      <td>0.0</td>\n",
       "      <td>0.0</td>\n",
       "      <td>1.0</td>\n",
       "      <td>0.0</td>\n",
       "      <td>1.0</td>\n",
       "    </tr>\n",
       "    <tr>\n",
       "      <th>43177</th>\n",
       "      <td>152840.0</td>\n",
       "      <td>Tracks.by</td>\n",
       "      <td>socialnet.com::pitbullturkishpage4</td>\n",
       "      <td>NaN</td>\n",
       "      <td>music</td>\n",
       "      <td>operating</td>\n",
       "      <td>1996-02-15</td>\n",
       "      <td>NaT</td>\n",
       "      <td>152840.0</td>\n",
       "      <td>0.0</td>\n",
       "      <td>...</td>\n",
       "      <td>28897.0</td>\n",
       "      <td>2012-08-01</td>\n",
       "      <td>angel</td>\n",
       "      <td>0.0</td>\n",
       "      <td>88000.0</td>\n",
       "      <td>2.0</td>\n",
       "      <td>0.0</td>\n",
       "      <td>18.0</td>\n",
       "      <td>0.0</td>\n",
       "      <td>1.0</td>\n",
       "    </tr>\n",
       "  </tbody>\n",
       "</table>\n",
       "<p>1589 rows × 21 columns</p>\n",
       "</div>"
      ],
      "text/plain": [
       "       company_ID              name                              domain  \\\n",
       "61       101094.0     Rev Worldwide                    revworldwide.com   \n",
       "72        10129.0        Sportsvite                      sportsvite.com   \n",
       "75       101312.0          SideTour                        sidetour.com   \n",
       "98        10161.0  Cartera Commerce                         cartera.com   \n",
       "171      102774.0           SHOP.CA                             shop.ca   \n",
       "...           ...               ...                                 ...   \n",
       "43064      9784.0         Trilliant                    trilliantinc.com   \n",
       "43088      9840.0          KoolSpan                        koolspan.com   \n",
       "43098      9843.0    CE Interactive                  ce-interactive.com   \n",
       "43118        99.0       Amie Street                      amiestreet.com   \n",
       "43177    152840.0         Tracks.by  socialnet.com::pitbullturkishpage4   \n",
       "\n",
       "      network_username category_code     status founded_at closed_at  \\\n",
       "61        revworldwide     ecommerce  operating 2008-01-01       NaT   \n",
       "72          sportsvite           web  operating 2007-01-01       NaT   \n",
       "75            sidetour           web   acquired 2011-06-01       NaT   \n",
       "98     CarteraCommerce   advertising  operating 2005-01-01       NaT   \n",
       "171          SHOPdotCA     ecommerce  operating 2011-07-01       NaT   \n",
       "...                ...           ...        ...        ...       ...   \n",
       "43064        Trilliant      hardware  operating 1995-01-01       NaT   \n",
       "43088        KoolSpan1      security  operating 2003-03-01       NaT   \n",
       "43098              NaN      software  operating 2004-01-01       NaT   \n",
       "43118  amiestreet_logs           web   acquired 2011-07-04       NaT   \n",
       "43177              NaN         music  operating 1996-02-15       NaT   \n",
       "\n",
       "       company_id  investment_rounds  ...  funding_round_id  funded_at  \\\n",
       "61       101094.0                0.0  ...           46122.0 2013-02-01   \n",
       "72        10129.0                0.0  ...           54815.0 2013-03-01   \n",
       "75       101312.0                0.0  ...           38158.0 2011-07-01   \n",
       "98        10161.0                0.0  ...            3283.0 2006-03-13   \n",
       "171      102774.0                0.0  ...           50176.0 2013-09-26   \n",
       "...           ...                ...  ...               ...        ...   \n",
       "43064      9784.0                0.0  ...           20608.0 2010-12-21   \n",
       "43088      9840.0                0.0  ...            3757.0 2003-01-01   \n",
       "43098      9843.0                0.0  ...            3755.0 2005-01-01   \n",
       "43118        99.0                0.0  ...             307.0 2007-08-01   \n",
       "43177    152840.0                0.0  ...           28897.0 2012-08-01   \n",
       "\n",
       "      funding_round_type raised_amount  funding_total  milestones  \\\n",
       "61             series-c+           0.0      4815940.0         0.0   \n",
       "72                 angel           0.0      4350000.0         0.0   \n",
       "75                 angel           0.0      4000000.0         2.0   \n",
       "98              series-a           0.0     37570700.0         2.0   \n",
       "171                angel           0.0     26752200.0         1.0   \n",
       "...                  ...           ...            ...         ...   \n",
       "43064            venture           0.0    146000000.0         3.0   \n",
       "43088              angel           0.0     28200000.0         3.0   \n",
       "43098              angel           0.0      2000000.0         0.0   \n",
       "43118           series-a           0.0      3900000.0         0.0   \n",
       "43177              angel           0.0        88000.0         2.0   \n",
       "\n",
       "       pre_money_valuation  participants  is_first_round  is_last_round  \n",
       "61                     0.0           1.0             0.0            1.0  \n",
       "72                     0.0           1.0             1.0            0.0  \n",
       "75                     0.0           1.0             0.0            1.0  \n",
       "98                     0.0           1.0             0.0            1.0  \n",
       "171                    0.0           0.0             1.0            0.0  \n",
       "...                    ...           ...             ...            ...  \n",
       "43064                  0.0           5.0             1.0            0.0  \n",
       "43088                  0.0           2.0             0.0            1.0  \n",
       "43098                  0.0           1.0             0.0            1.0  \n",
       "43118                  0.0           1.0             0.0            1.0  \n",
       "43177                  0.0          18.0             0.0            1.0  \n",
       "\n",
       "[1589 rows x 21 columns]"
      ]
     },
     "metadata": {},
     "output_type": "display_data"
    }
   ],
   "source": [
    "new_с_and_r_df_cheep = new_с_and_r_df[\n",
    "    (new_с_and_r_df['funding_total'] != 0)&\n",
    "    (new_с_and_r_df['raised_amount']<=1)\n",
    "]\n",
    "display(new_с_and_r_df_cheep)"
   ]
  },
  {
   "cell_type": "code",
   "execution_count": 78,
   "metadata": {
    "id": "9IDTHfYQFhuX",
    "scrolled": true
   },
   "outputs": [
    {
     "data": {
      "text/plain": [
       "count    1.589000e+03\n",
       "mean     2.043606e+07\n",
       "std      7.166628e+07\n",
       "min      3.064000e+03\n",
       "25%      1.000000e+06\n",
       "50%      4.500000e+06\n",
       "75%      1.500000e+07\n",
       "max      1.451000e+09\n",
       "Name: funding_total, dtype: float64"
      ]
     },
     "execution_count": 78,
     "metadata": {},
     "output_type": "execute_result"
    }
   ],
   "source": [
    "new_с_and_r_df_cheep['funding_total'].describe()"
   ]
  },
  {
   "cell_type": "code",
   "execution_count": 79,
   "metadata": {
    "scrolled": true
   },
   "outputs": [
    {
     "name": "stdout",
     "output_type": "stream",
     "text": [
      "22417200.0\n"
     ]
    }
   ],
   "source": [
    "Q1 = 6.600000e+05\n",
    "Q3 = 2.307720e+07\n",
    "IQR = Q3 - Q1\n",
    "print(IQR)"
   ]
  },
  {
   "cell_type": "code",
   "execution_count": 80,
   "metadata": {},
   "outputs": [
    {
     "name": "stdout",
     "output_type": "stream",
     "text": [
      " Верхний порог выбросов: 56703000.0\n",
      " Нижний порог выбросов: -32965800.0\n"
     ]
    }
   ],
   "source": [
    "#Расчитываем пороги выбросов:\n",
    "P1 = Q3 +(1.5*IQR)\n",
    "P2 = Q1 -(1.5*IQR)\n",
    "print(f' Верхний порог выбросов: {P1}')\n",
    "print(f' Нижний порог выбросов: {P2}')"
   ]
  },
  {
   "cell_type": "code",
   "execution_count": 81,
   "metadata": {
    "scrolled": false
   },
   "outputs": [
    {
     "name": "stdout",
     "output_type": "stream",
     "text": [
      "Процентиль для верхнего порога Р1: 88.91%\n",
      "Процентиль для нижнего порога Р2: 100.00%\n"
     ]
    }
   ],
   "source": [
    "import numpy as np\n",
    "data = new_с_and_r_df_filtr['funding_total']\n",
    "percentile_P1 = np.sum(data <= P1) / len(data) * 100 \n",
    "percentile_P2 = np.sum(data >= P2) / len(data) * 100\n",
    "print(f'Процентиль для верхнего порога Р1: {percentile_P1:.2f}%')\n",
    "print(f'Процентиль для нижнего порога Р2: {percentile_P2:.2f}%')"
   ]
  },
  {
   "cell_type": "markdown",
   "metadata": {},
   "source": [
    "За нижним порогом нет аномальных значений! Выбросы есть за верхним порогом."
   ]
  },
  {
   "cell_type": "code",
   "execution_count": 82,
   "metadata": {
    "scrolled": false
   },
   "outputs": [
    {
     "name": "stdout",
     "output_type": "stream",
     "text": [
      "Выбросы выше верхнего порога: 6        6.806920e+07\n",
      "7        6.806920e+07\n",
      "8        6.806920e+07\n",
      "9        6.806920e+07\n",
      "10       6.806920e+07\n",
      "             ...     \n",
      "43175    1.160170e+09\n",
      "43176    1.160170e+09\n",
      "43194    5.750000e+07\n",
      "43195    5.750000e+07\n",
      "43196    5.750000e+07\n",
      "Name: funding_total, Length: 4792, dtype: float64\n"
     ]
    }
   ],
   "source": [
    "above_P1 = data[data>P1]\n",
    "print(\"Выбросы выше верхнего порога:\", above_P1)"
   ]
  },
  {
   "cell_type": "code",
   "execution_count": 83,
   "metadata": {},
   "outputs": [
    {
     "data": {
      "text/html": [
       "<div>\n",
       "<style scoped>\n",
       "    .dataframe tbody tr th:only-of-type {\n",
       "        vertical-align: middle;\n",
       "    }\n",
       "\n",
       "    .dataframe tbody tr th {\n",
       "        vertical-align: top;\n",
       "    }\n",
       "\n",
       "    .dataframe thead th {\n",
       "        text-align: right;\n",
       "    }\n",
       "</style>\n",
       "<table border=\"1\" class=\"dataframe\">\n",
       "  <thead>\n",
       "    <tr style=\"text-align: right;\">\n",
       "      <th></th>\n",
       "      <th>company_ID</th>\n",
       "      <th>name</th>\n",
       "      <th>domain</th>\n",
       "      <th>network_username</th>\n",
       "      <th>category_code</th>\n",
       "      <th>status</th>\n",
       "      <th>founded_at</th>\n",
       "      <th>closed_at</th>\n",
       "      <th>company_id</th>\n",
       "      <th>investment_rounds</th>\n",
       "      <th>...</th>\n",
       "      <th>funding_round_id</th>\n",
       "      <th>funded_at</th>\n",
       "      <th>funding_round_type</th>\n",
       "      <th>raised_amount</th>\n",
       "      <th>funding_total</th>\n",
       "      <th>milestones</th>\n",
       "      <th>pre_money_valuation</th>\n",
       "      <th>participants</th>\n",
       "      <th>is_first_round</th>\n",
       "      <th>is_last_round</th>\n",
       "    </tr>\n",
       "  </thead>\n",
       "  <tbody>\n",
       "    <tr>\n",
       "      <th>0</th>\n",
       "      <td>1.0</td>\n",
       "      <td>Wetpaint</td>\n",
       "      <td>wetpaint-inc.com</td>\n",
       "      <td>BachelrWetpaint</td>\n",
       "      <td>web</td>\n",
       "      <td>operating</td>\n",
       "      <td>2005-10-17</td>\n",
       "      <td>NaT</td>\n",
       "      <td>1.0</td>\n",
       "      <td>0.0</td>\n",
       "      <td>...</td>\n",
       "      <td>888.0</td>\n",
       "      <td>2005-10-01</td>\n",
       "      <td>series-a</td>\n",
       "      <td>5250000.0</td>\n",
       "      <td>39750000.0</td>\n",
       "      <td>5.0</td>\n",
       "      <td>0.0</td>\n",
       "      <td>2.0</td>\n",
       "      <td>0.0</td>\n",
       "      <td>1.0</td>\n",
       "    </tr>\n",
       "    <tr>\n",
       "      <th>1</th>\n",
       "      <td>1.0</td>\n",
       "      <td>Wetpaint</td>\n",
       "      <td>wetpaint-inc.com</td>\n",
       "      <td>BachelrWetpaint</td>\n",
       "      <td>web</td>\n",
       "      <td>operating</td>\n",
       "      <td>2005-10-17</td>\n",
       "      <td>NaT</td>\n",
       "      <td>1.0</td>\n",
       "      <td>0.0</td>\n",
       "      <td>...</td>\n",
       "      <td>889.0</td>\n",
       "      <td>2007-01-01</td>\n",
       "      <td>series-b</td>\n",
       "      <td>9500000.0</td>\n",
       "      <td>39750000.0</td>\n",
       "      <td>5.0</td>\n",
       "      <td>0.0</td>\n",
       "      <td>3.0</td>\n",
       "      <td>0.0</td>\n",
       "      <td>0.0</td>\n",
       "    </tr>\n",
       "    <tr>\n",
       "      <th>2</th>\n",
       "      <td>1.0</td>\n",
       "      <td>Wetpaint</td>\n",
       "      <td>wetpaint-inc.com</td>\n",
       "      <td>BachelrWetpaint</td>\n",
       "      <td>web</td>\n",
       "      <td>operating</td>\n",
       "      <td>2005-10-17</td>\n",
       "      <td>NaT</td>\n",
       "      <td>1.0</td>\n",
       "      <td>0.0</td>\n",
       "      <td>...</td>\n",
       "      <td>2312.0</td>\n",
       "      <td>2008-05-19</td>\n",
       "      <td>series-c+</td>\n",
       "      <td>25000000.0</td>\n",
       "      <td>39750000.0</td>\n",
       "      <td>5.0</td>\n",
       "      <td>0.0</td>\n",
       "      <td>4.0</td>\n",
       "      <td>1.0</td>\n",
       "      <td>0.0</td>\n",
       "    </tr>\n",
       "    <tr>\n",
       "      <th>3</th>\n",
       "      <td>1001.0</td>\n",
       "      <td>FriendFeed</td>\n",
       "      <td>friendfeed.com</td>\n",
       "      <td>friendfeed</td>\n",
       "      <td>web</td>\n",
       "      <td>acquired</td>\n",
       "      <td>2007-10-01</td>\n",
       "      <td>NaT</td>\n",
       "      <td>1001.0</td>\n",
       "      <td>0.0</td>\n",
       "      <td>...</td>\n",
       "      <td>1644.0</td>\n",
       "      <td>2008-02-26</td>\n",
       "      <td>series-a</td>\n",
       "      <td>5000000.0</td>\n",
       "      <td>5000000.0</td>\n",
       "      <td>3.0</td>\n",
       "      <td>0.0</td>\n",
       "      <td>3.0</td>\n",
       "      <td>1.0</td>\n",
       "      <td>1.0</td>\n",
       "    </tr>\n",
       "    <tr>\n",
       "      <th>4</th>\n",
       "      <td>10014.0</td>\n",
       "      <td>Mobclix</td>\n",
       "      <td>mobclix.com</td>\n",
       "      <td>mobclix</td>\n",
       "      <td>mobile</td>\n",
       "      <td>acquired</td>\n",
       "      <td>2008-03-01</td>\n",
       "      <td>NaT</td>\n",
       "      <td>10014.0</td>\n",
       "      <td>0.0</td>\n",
       "      <td>...</td>\n",
       "      <td>6682.0</td>\n",
       "      <td>2008-09-01</td>\n",
       "      <td>angel</td>\n",
       "      <td>0.0</td>\n",
       "      <td>0.0</td>\n",
       "      <td>4.0</td>\n",
       "      <td>0.0</td>\n",
       "      <td>1.0</td>\n",
       "      <td>1.0</td>\n",
       "      <td>1.0</td>\n",
       "    </tr>\n",
       "    <tr>\n",
       "      <th>...</th>\n",
       "      <td>...</td>\n",
       "      <td>...</td>\n",
       "      <td>...</td>\n",
       "      <td>...</td>\n",
       "      <td>...</td>\n",
       "      <td>...</td>\n",
       "      <td>...</td>\n",
       "      <td>...</td>\n",
       "      <td>...</td>\n",
       "      <td>...</td>\n",
       "      <td>...</td>\n",
       "      <td>...</td>\n",
       "      <td>...</td>\n",
       "      <td>...</td>\n",
       "      <td>...</td>\n",
       "      <td>...</td>\n",
       "      <td>...</td>\n",
       "      <td>...</td>\n",
       "      <td>...</td>\n",
       "      <td>...</td>\n",
       "      <td>...</td>\n",
       "    </tr>\n",
       "    <tr>\n",
       "      <th>38399</th>\n",
       "      <td>3429.0</td>\n",
       "      <td>Zend Technologies</td>\n",
       "      <td>zend.com</td>\n",
       "      <td>networkzend</td>\n",
       "      <td>software</td>\n",
       "      <td>operating</td>\n",
       "      <td>1999-01-01</td>\n",
       "      <td>NaT</td>\n",
       "      <td>3429.0</td>\n",
       "      <td>0.0</td>\n",
       "      <td>...</td>\n",
       "      <td>2318.0</td>\n",
       "      <td>2006-08-28</td>\n",
       "      <td>series-c+</td>\n",
       "      <td>20000000.0</td>\n",
       "      <td>44000000.0</td>\n",
       "      <td>6.0</td>\n",
       "      <td>0.0</td>\n",
       "      <td>7.0</td>\n",
       "      <td>0.0</td>\n",
       "      <td>0.0</td>\n",
       "    </tr>\n",
       "    <tr>\n",
       "      <th>38400</th>\n",
       "      <td>3429.0</td>\n",
       "      <td>Zend Technologies</td>\n",
       "      <td>zend.com</td>\n",
       "      <td>networkzend</td>\n",
       "      <td>software</td>\n",
       "      <td>operating</td>\n",
       "      <td>1999-01-01</td>\n",
       "      <td>NaT</td>\n",
       "      <td>3429.0</td>\n",
       "      <td>0.0</td>\n",
       "      <td>...</td>\n",
       "      <td>2319.0</td>\n",
       "      <td>2004-07-19</td>\n",
       "      <td>series-c+</td>\n",
       "      <td>8000000.0</td>\n",
       "      <td>44000000.0</td>\n",
       "      <td>6.0</td>\n",
       "      <td>0.0</td>\n",
       "      <td>4.0</td>\n",
       "      <td>0.0</td>\n",
       "      <td>1.0</td>\n",
       "    </tr>\n",
       "    <tr>\n",
       "      <th>38401</th>\n",
       "      <td>3429.0</td>\n",
       "      <td>Zend Technologies</td>\n",
       "      <td>zend.com</td>\n",
       "      <td>networkzend</td>\n",
       "      <td>software</td>\n",
       "      <td>operating</td>\n",
       "      <td>1999-01-01</td>\n",
       "      <td>NaT</td>\n",
       "      <td>3429.0</td>\n",
       "      <td>0.0</td>\n",
       "      <td>...</td>\n",
       "      <td>15655.0</td>\n",
       "      <td>2010-05-17</td>\n",
       "      <td>venture</td>\n",
       "      <td>9000000.0</td>\n",
       "      <td>44000000.0</td>\n",
       "      <td>6.0</td>\n",
       "      <td>0.0</td>\n",
       "      <td>6.0</td>\n",
       "      <td>0.0</td>\n",
       "      <td>0.0</td>\n",
       "    </tr>\n",
       "    <tr>\n",
       "      <th>38402</th>\n",
       "      <td>3429.0</td>\n",
       "      <td>Zend Technologies</td>\n",
       "      <td>zend.com</td>\n",
       "      <td>networkzend</td>\n",
       "      <td>software</td>\n",
       "      <td>operating</td>\n",
       "      <td>1999-01-01</td>\n",
       "      <td>NaT</td>\n",
       "      <td>3429.0</td>\n",
       "      <td>0.0</td>\n",
       "      <td>...</td>\n",
       "      <td>20896.0</td>\n",
       "      <td>2011-01-10</td>\n",
       "      <td>venture</td>\n",
       "      <td>7000000.0</td>\n",
       "      <td>44000000.0</td>\n",
       "      <td>6.0</td>\n",
       "      <td>0.0</td>\n",
       "      <td>1.0</td>\n",
       "      <td>1.0</td>\n",
       "      <td>0.0</td>\n",
       "    </tr>\n",
       "    <tr>\n",
       "      <th>38403</th>\n",
       "      <td>7748.0</td>\n",
       "      <td>Flowgram</td>\n",
       "      <td>flowgram.com</td>\n",
       "      <td>network</td>\n",
       "      <td>web</td>\n",
       "      <td>closed</td>\n",
       "      <td>2007-06-01</td>\n",
       "      <td>2008-06-11</td>\n",
       "      <td>7748.0</td>\n",
       "      <td>0.0</td>\n",
       "      <td>...</td>\n",
       "      <td>2836.0</td>\n",
       "      <td>2008-01-31</td>\n",
       "      <td>angel</td>\n",
       "      <td>1300000.0</td>\n",
       "      <td>1300000.0</td>\n",
       "      <td>3.0</td>\n",
       "      <td>0.0</td>\n",
       "      <td>8.0</td>\n",
       "      <td>1.0</td>\n",
       "      <td>1.0</td>\n",
       "    </tr>\n",
       "  </tbody>\n",
       "</table>\n",
       "<p>38404 rows × 21 columns</p>\n",
       "</div>"
      ],
      "text/plain": [
       "       company_ID               name            domain network_username  \\\n",
       "0             1.0           Wetpaint  wetpaint-inc.com  BachelrWetpaint   \n",
       "1             1.0           Wetpaint  wetpaint-inc.com  BachelrWetpaint   \n",
       "2             1.0           Wetpaint  wetpaint-inc.com  BachelrWetpaint   \n",
       "3          1001.0         FriendFeed    friendfeed.com       friendfeed   \n",
       "4         10014.0            Mobclix       mobclix.com          mobclix   \n",
       "...           ...                ...               ...              ...   \n",
       "38399      3429.0  Zend Technologies          zend.com      networkzend   \n",
       "38400      3429.0  Zend Technologies          zend.com      networkzend   \n",
       "38401      3429.0  Zend Technologies          zend.com      networkzend   \n",
       "38402      3429.0  Zend Technologies          zend.com      networkzend   \n",
       "38403      7748.0           Flowgram      flowgram.com          network   \n",
       "\n",
       "      category_code     status founded_at  closed_at  company_id  \\\n",
       "0               web  operating 2005-10-17        NaT         1.0   \n",
       "1               web  operating 2005-10-17        NaT         1.0   \n",
       "2               web  operating 2005-10-17        NaT         1.0   \n",
       "3               web   acquired 2007-10-01        NaT      1001.0   \n",
       "4            mobile   acquired 2008-03-01        NaT     10014.0   \n",
       "...             ...        ...        ...        ...         ...   \n",
       "38399      software  operating 1999-01-01        NaT      3429.0   \n",
       "38400      software  operating 1999-01-01        NaT      3429.0   \n",
       "38401      software  operating 1999-01-01        NaT      3429.0   \n",
       "38402      software  operating 1999-01-01        NaT      3429.0   \n",
       "38403           web     closed 2007-06-01 2008-06-11      7748.0   \n",
       "\n",
       "       investment_rounds  ...  funding_round_id  funded_at funding_round_type  \\\n",
       "0                    0.0  ...             888.0 2005-10-01           series-a   \n",
       "1                    0.0  ...             889.0 2007-01-01           series-b   \n",
       "2                    0.0  ...            2312.0 2008-05-19          series-c+   \n",
       "3                    0.0  ...            1644.0 2008-02-26           series-a   \n",
       "4                    0.0  ...            6682.0 2008-09-01              angel   \n",
       "...                  ...  ...               ...        ...                ...   \n",
       "38399                0.0  ...            2318.0 2006-08-28          series-c+   \n",
       "38400                0.0  ...            2319.0 2004-07-19          series-c+   \n",
       "38401                0.0  ...           15655.0 2010-05-17            venture   \n",
       "38402                0.0  ...           20896.0 2011-01-10            venture   \n",
       "38403                0.0  ...            2836.0 2008-01-31              angel   \n",
       "\n",
       "      raised_amount  funding_total  milestones  pre_money_valuation  \\\n",
       "0         5250000.0     39750000.0         5.0                  0.0   \n",
       "1         9500000.0     39750000.0         5.0                  0.0   \n",
       "2        25000000.0     39750000.0         5.0                  0.0   \n",
       "3         5000000.0      5000000.0         3.0                  0.0   \n",
       "4               0.0            0.0         4.0                  0.0   \n",
       "...             ...            ...         ...                  ...   \n",
       "38399    20000000.0     44000000.0         6.0                  0.0   \n",
       "38400     8000000.0     44000000.0         6.0                  0.0   \n",
       "38401     9000000.0     44000000.0         6.0                  0.0   \n",
       "38402     7000000.0     44000000.0         6.0                  0.0   \n",
       "38403     1300000.0      1300000.0         3.0                  0.0   \n",
       "\n",
       "       participants  is_first_round  is_last_round  \n",
       "0               2.0             0.0            1.0  \n",
       "1               3.0             0.0            0.0  \n",
       "2               4.0             1.0            0.0  \n",
       "3               3.0             1.0            1.0  \n",
       "4               1.0             1.0            1.0  \n",
       "...             ...             ...            ...  \n",
       "38399           7.0             0.0            0.0  \n",
       "38400           4.0             0.0            1.0  \n",
       "38401           6.0             0.0            0.0  \n",
       "38402           1.0             1.0            0.0  \n",
       "38403           8.0             1.0            1.0  \n",
       "\n",
       "[38404 rows x 21 columns]"
      ]
     },
     "metadata": {},
     "output_type": "display_data"
    }
   ],
   "source": [
    "#Отфильтруем данные от выбросов, которые мы обнаружили:\n",
    "data_no_eject = new_с_and_r_df_filtr[new_с_and_r_df_filtr['funding_total'] < P1]\n",
    "data_no_eject.reset_index(drop=True, inplace=True)\n",
    "display(data_no_eject)"
   ]
  },
  {
   "cell_type": "markdown",
   "metadata": {
    "id": "mEiWpROjrJg2"
   },
   "source": [
    "\n",
    "### 3.4. Цены стартапов по категориям\n",
    "\n",
    "Категории стартапов с типично высокими ценами покупки стартапов и значительным разбросом цен могут быть привлекательными для крупных инвесторов, которые готовы к высоким рискам ради потенциально больших доходов. Среди категорий стартапов выделите категории стартапов, характеризующиеся:\n",
    "\n",
    "- типично высокими ценами;\n",
    "- и наибольшим разбросом цен за стартап.\n",
    "\n",
    "Объясните, почему решили составить топ именно из такого числа категорий и почему рассчитывали именно так."
   ]
  },
  {
   "cell_type": "code",
   "execution_count": 84,
   "metadata": {
    "scrolled": true
   },
   "outputs": [
    {
     "data": {
      "text/plain": [
       "name\n",
       "EnterpriseDB                 56600000.0\n",
       "CeQur                        56600000.0\n",
       "3VR                          56567200.0\n",
       "AudienceScience              56546900.0\n",
       "OnLive                       56500000.0\n",
       "ADOR                         56464900.0\n",
       "InsideView                   56462000.0\n",
       "NetRetail Holding            56428000.0\n",
       "CareCloud                    56400000.0\n",
       "ePals                        56309200.0\n",
       "Pandora Media                56300000.0\n",
       "Vermillion                   56292400.0\n",
       "Endgame                      56250000.0\n",
       "Software Cellular Network    56170000.0\n",
       "Oesia                        56130000.0\n",
       "Name: funding_total, dtype: float64"
      ]
     },
     "metadata": {},
     "output_type": "display_data"
    }
   ],
   "source": [
    "#Допустим топ 15 компаний по ценам:\n",
    "top = data_no_eject.groupby('name')['funding_total'].mean().sort_values(ascending=False).head(15)\n",
    "display(top)"
   ]
  },
  {
   "cell_type": "code",
   "execution_count": 87,
   "metadata": {},
   "outputs": [
    {
     "data": {
      "text/plain": [
       "array(['web', 'mobile', 'cleantech', 'analytics', 'network_hosting',\n",
       "       'education', 'medical', 'manufacturing', 'games_video',\n",
       "       'enterprise', 'ecommerce', 'software', 'advertising', 'news',\n",
       "       'government', 'other', 'security', 'biotech', 'finance',\n",
       "       'photo_video', 'travel', 'public_relations', 'social',\n",
       "       'transportation', 'hardware', 'hospitality', 'health', 'sports',\n",
       "       'nonprofit', 'search', 'fashion', 'messaging', 'music', nan,\n",
       "       'consulting', 'design', 'legal', 'real_estate', 'semiconductor',\n",
       "       'automotive', 'nanotech', 'pets', 'local'], dtype=object)"
      ]
     },
     "execution_count": 87,
     "metadata": {},
     "output_type": "execute_result"
    }
   ],
   "source": [
    "data_no_eject['category_code'].unique()"
   ]
  },
  {
   "cell_type": "code",
   "execution_count": 122,
   "metadata": {
    "scrolled": false
   },
   "outputs": [
    {
     "data": {
      "text/html": [
       "<div>\n",
       "<style scoped>\n",
       "    .dataframe tbody tr th:only-of-type {\n",
       "        vertical-align: middle;\n",
       "    }\n",
       "\n",
       "    .dataframe tbody tr th {\n",
       "        vertical-align: top;\n",
       "    }\n",
       "\n",
       "    .dataframe thead th {\n",
       "        text-align: right;\n",
       "    }\n",
       "</style>\n",
       "<table border=\"1\" class=\"dataframe\">\n",
       "  <thead>\n",
       "    <tr style=\"text-align: right;\">\n",
       "      <th></th>\n",
       "      <th>category_code</th>\n",
       "      <th>mean</th>\n",
       "    </tr>\n",
       "  </thead>\n",
       "  <tbody>\n",
       "    <tr>\n",
       "      <th>35</th>\n",
       "      <td>semiconductor</td>\n",
       "      <td>2.113384e+07</td>\n",
       "    </tr>\n",
       "    <tr>\n",
       "      <th>20</th>\n",
       "      <td>medical</td>\n",
       "      <td>1.658678e+07</td>\n",
       "    </tr>\n",
       "    <tr>\n",
       "      <th>24</th>\n",
       "      <td>nanotech</td>\n",
       "      <td>1.609055e+07</td>\n",
       "    </tr>\n",
       "    <tr>\n",
       "      <th>4</th>\n",
       "      <td>cleantech</td>\n",
       "      <td>1.567319e+07</td>\n",
       "    </tr>\n",
       "    <tr>\n",
       "      <th>34</th>\n",
       "      <td>security</td>\n",
       "      <td>1.539312e+07</td>\n",
       "    </tr>\n",
       "    <tr>\n",
       "      <th>3</th>\n",
       "      <td>biotech</td>\n",
       "      <td>1.432381e+07</td>\n",
       "    </tr>\n",
       "    <tr>\n",
       "      <th>25</th>\n",
       "      <td>network_hosting</td>\n",
       "      <td>1.423362e+07</td>\n",
       "    </tr>\n",
       "    <tr>\n",
       "      <th>9</th>\n",
       "      <td>enterprise</td>\n",
       "      <td>1.334042e+07</td>\n",
       "    </tr>\n",
       "    <tr>\n",
       "      <th>19</th>\n",
       "      <td>manufacturing</td>\n",
       "      <td>1.219379e+07</td>\n",
       "    </tr>\n",
       "    <tr>\n",
       "      <th>0</th>\n",
       "      <td>advertising</td>\n",
       "      <td>1.103784e+07</td>\n",
       "    </tr>\n",
       "    <tr>\n",
       "      <th>1</th>\n",
       "      <td>analytics</td>\n",
       "      <td>1.036673e+07</td>\n",
       "    </tr>\n",
       "    <tr>\n",
       "      <th>14</th>\n",
       "      <td>hardware</td>\n",
       "      <td>1.020539e+07</td>\n",
       "    </tr>\n",
       "    <tr>\n",
       "      <th>26</th>\n",
       "      <td>news</td>\n",
       "      <td>1.012961e+07</td>\n",
       "    </tr>\n",
       "    <tr>\n",
       "      <th>11</th>\n",
       "      <td>finance</td>\n",
       "      <td>1.008546e+07</td>\n",
       "    </tr>\n",
       "    <tr>\n",
       "      <th>37</th>\n",
       "      <td>software</td>\n",
       "      <td>9.517230e+06</td>\n",
       "    </tr>\n",
       "    <tr>\n",
       "      <th>31</th>\n",
       "      <td>public_relations</td>\n",
       "      <td>8.790859e+06</td>\n",
       "    </tr>\n",
       "    <tr>\n",
       "      <th>12</th>\n",
       "      <td>games_video</td>\n",
       "      <td>8.516418e+06</td>\n",
       "    </tr>\n",
       "    <tr>\n",
       "      <th>23</th>\n",
       "      <td>music</td>\n",
       "      <td>8.410871e+06</td>\n",
       "    </tr>\n",
       "    <tr>\n",
       "      <th>2</th>\n",
       "      <td>automotive</td>\n",
       "      <td>7.937173e+06</td>\n",
       "    </tr>\n",
       "    <tr>\n",
       "      <th>22</th>\n",
       "      <td>mobile</td>\n",
       "      <td>7.935844e+06</td>\n",
       "    </tr>\n",
       "    <tr>\n",
       "      <th>17</th>\n",
       "      <td>legal</td>\n",
       "      <td>7.854904e+06</td>\n",
       "    </tr>\n",
       "    <tr>\n",
       "      <th>21</th>\n",
       "      <td>messaging</td>\n",
       "      <td>7.786098e+06</td>\n",
       "    </tr>\n",
       "    <tr>\n",
       "      <th>15</th>\n",
       "      <td>health</td>\n",
       "      <td>7.727175e+06</td>\n",
       "    </tr>\n",
       "    <tr>\n",
       "      <th>5</th>\n",
       "      <td>consulting</td>\n",
       "      <td>7.595652e+06</td>\n",
       "    </tr>\n",
       "    <tr>\n",
       "      <th>40</th>\n",
       "      <td>travel</td>\n",
       "      <td>7.570359e+06</td>\n",
       "    </tr>\n",
       "    <tr>\n",
       "      <th>10</th>\n",
       "      <td>fashion</td>\n",
       "      <td>7.567152e+06</td>\n",
       "    </tr>\n",
       "    <tr>\n",
       "      <th>29</th>\n",
       "      <td>pets</td>\n",
       "      <td>7.106129e+06</td>\n",
       "    </tr>\n",
       "    <tr>\n",
       "      <th>33</th>\n",
       "      <td>search</td>\n",
       "      <td>7.024959e+06</td>\n",
       "    </tr>\n",
       "    <tr>\n",
       "      <th>7</th>\n",
       "      <td>ecommerce</td>\n",
       "      <td>6.903730e+06</td>\n",
       "    </tr>\n",
       "    <tr>\n",
       "      <th>39</th>\n",
       "      <td>transportation</td>\n",
       "      <td>6.897968e+06</td>\n",
       "    </tr>\n",
       "    <tr>\n",
       "      <th>16</th>\n",
       "      <td>hospitality</td>\n",
       "      <td>6.586704e+06</td>\n",
       "    </tr>\n",
       "    <tr>\n",
       "      <th>8</th>\n",
       "      <td>education</td>\n",
       "      <td>6.036788e+06</td>\n",
       "    </tr>\n",
       "    <tr>\n",
       "      <th>41</th>\n",
       "      <td>web</td>\n",
       "      <td>5.852648e+06</td>\n",
       "    </tr>\n",
       "    <tr>\n",
       "      <th>28</th>\n",
       "      <td>other</td>\n",
       "      <td>5.316448e+06</td>\n",
       "    </tr>\n",
       "    <tr>\n",
       "      <th>13</th>\n",
       "      <td>government</td>\n",
       "      <td>4.992222e+06</td>\n",
       "    </tr>\n",
       "    <tr>\n",
       "      <th>30</th>\n",
       "      <td>photo_video</td>\n",
       "      <td>4.833761e+06</td>\n",
       "    </tr>\n",
       "    <tr>\n",
       "      <th>36</th>\n",
       "      <td>social</td>\n",
       "      <td>4.695210e+06</td>\n",
       "    </tr>\n",
       "    <tr>\n",
       "      <th>18</th>\n",
       "      <td>local</td>\n",
       "      <td>4.468745e+06</td>\n",
       "    </tr>\n",
       "    <tr>\n",
       "      <th>38</th>\n",
       "      <td>sports</td>\n",
       "      <td>4.065493e+06</td>\n",
       "    </tr>\n",
       "    <tr>\n",
       "      <th>32</th>\n",
       "      <td>real_estate</td>\n",
       "      <td>4.031110e+06</td>\n",
       "    </tr>\n",
       "    <tr>\n",
       "      <th>27</th>\n",
       "      <td>nonprofit</td>\n",
       "      <td>3.888720e+06</td>\n",
       "    </tr>\n",
       "    <tr>\n",
       "      <th>6</th>\n",
       "      <td>design</td>\n",
       "      <td>3.104245e+06</td>\n",
       "    </tr>\n",
       "  </tbody>\n",
       "</table>\n",
       "</div>"
      ],
      "text/plain": [
       "       category_code          mean\n",
       "35     semiconductor  2.113384e+07\n",
       "20           medical  1.658678e+07\n",
       "24          nanotech  1.609055e+07\n",
       "4          cleantech  1.567319e+07\n",
       "34          security  1.539312e+07\n",
       "3            biotech  1.432381e+07\n",
       "25   network_hosting  1.423362e+07\n",
       "9         enterprise  1.334042e+07\n",
       "19     manufacturing  1.219379e+07\n",
       "0        advertising  1.103784e+07\n",
       "1          analytics  1.036673e+07\n",
       "14          hardware  1.020539e+07\n",
       "26              news  1.012961e+07\n",
       "11           finance  1.008546e+07\n",
       "37          software  9.517230e+06\n",
       "31  public_relations  8.790859e+06\n",
       "12       games_video  8.516418e+06\n",
       "23             music  8.410871e+06\n",
       "2         automotive  7.937173e+06\n",
       "22            mobile  7.935844e+06\n",
       "17             legal  7.854904e+06\n",
       "21         messaging  7.786098e+06\n",
       "15            health  7.727175e+06\n",
       "5         consulting  7.595652e+06\n",
       "40            travel  7.570359e+06\n",
       "10           fashion  7.567152e+06\n",
       "29              pets  7.106129e+06\n",
       "33            search  7.024959e+06\n",
       "7          ecommerce  6.903730e+06\n",
       "39    transportation  6.897968e+06\n",
       "16       hospitality  6.586704e+06\n",
       "8          education  6.036788e+06\n",
       "41               web  5.852648e+06\n",
       "28             other  5.316448e+06\n",
       "13        government  4.992222e+06\n",
       "30       photo_video  4.833761e+06\n",
       "36            social  4.695210e+06\n",
       "18             local  4.468745e+06\n",
       "38            sports  4.065493e+06\n",
       "32       real_estate  4.031110e+06\n",
       "27         nonprofit  3.888720e+06\n",
       "6             design  3.104245e+06"
      ]
     },
     "metadata": {},
     "output_type": "display_data"
    }
   ],
   "source": [
    "df = data_no_eject.copy()\n",
    "data_categ_code = df.groupby('category_code')['funding_total'].mean().reset_index(name = 'mean').sort_values(by='mean', ascending=False)\n",
    "display(data_categ_code)"
   ]
  },
  {
   "cell_type": "code",
   "execution_count": 102,
   "metadata": {},
   "outputs": [
    {
     "data": {
      "text/html": [
       "<div>\n",
       "<style scoped>\n",
       "    .dataframe tbody tr th:only-of-type {\n",
       "        vertical-align: middle;\n",
       "    }\n",
       "\n",
       "    .dataframe tbody tr th {\n",
       "        vertical-align: top;\n",
       "    }\n",
       "\n",
       "    .dataframe thead th {\n",
       "        text-align: right;\n",
       "    }\n",
       "</style>\n",
       "<table border=\"1\" class=\"dataframe\">\n",
       "  <thead>\n",
       "    <tr style=\"text-align: right;\">\n",
       "      <th></th>\n",
       "      <th>category_code</th>\n",
       "      <th>mean</th>\n",
       "      <th>std</th>\n",
       "      <th>count</th>\n",
       "    </tr>\n",
       "  </thead>\n",
       "  <tbody>\n",
       "    <tr>\n",
       "      <th>0</th>\n",
       "      <td>advertising</td>\n",
       "      <td>1.103784e+07</td>\n",
       "      <td>1.335866e+07</td>\n",
       "      <td>1905</td>\n",
       "    </tr>\n",
       "    <tr>\n",
       "      <th>1</th>\n",
       "      <td>analytics</td>\n",
       "      <td>1.036673e+07</td>\n",
       "      <td>1.301154e+07</td>\n",
       "      <td>1156</td>\n",
       "    </tr>\n",
       "    <tr>\n",
       "      <th>2</th>\n",
       "      <td>automotive</td>\n",
       "      <td>7.937173e+06</td>\n",
       "      <td>1.238218e+07</td>\n",
       "      <td>112</td>\n",
       "    </tr>\n",
       "    <tr>\n",
       "      <th>3</th>\n",
       "      <td>biotech</td>\n",
       "      <td>1.432381e+07</td>\n",
       "      <td>1.548147e+07</td>\n",
       "      <td>3245</td>\n",
       "    </tr>\n",
       "    <tr>\n",
       "      <th>4</th>\n",
       "      <td>cleantech</td>\n",
       "      <td>1.567319e+07</td>\n",
       "      <td>1.580317e+07</td>\n",
       "      <td>975</td>\n",
       "    </tr>\n",
       "    <tr>\n",
       "      <th>5</th>\n",
       "      <td>consulting</td>\n",
       "      <td>7.595652e+06</td>\n",
       "      <td>1.239030e+07</td>\n",
       "      <td>305</td>\n",
       "    </tr>\n",
       "    <tr>\n",
       "      <th>6</th>\n",
       "      <td>design</td>\n",
       "      <td>3.104245e+06</td>\n",
       "      <td>4.914869e+06</td>\n",
       "      <td>65</td>\n",
       "    </tr>\n",
       "    <tr>\n",
       "      <th>7</th>\n",
       "      <td>ecommerce</td>\n",
       "      <td>6.903730e+06</td>\n",
       "      <td>1.196294e+07</td>\n",
       "      <td>2012</td>\n",
       "    </tr>\n",
       "    <tr>\n",
       "      <th>8</th>\n",
       "      <td>education</td>\n",
       "      <td>6.036788e+06</td>\n",
       "      <td>1.004069e+07</td>\n",
       "      <td>653</td>\n",
       "    </tr>\n",
       "    <tr>\n",
       "      <th>9</th>\n",
       "      <td>enterprise</td>\n",
       "      <td>1.334042e+07</td>\n",
       "      <td>1.442160e+07</td>\n",
       "      <td>2652</td>\n",
       "    </tr>\n",
       "    <tr>\n",
       "      <th>10</th>\n",
       "      <td>fashion</td>\n",
       "      <td>7.567152e+06</td>\n",
       "      <td>1.172961e+07</td>\n",
       "      <td>288</td>\n",
       "    </tr>\n",
       "    <tr>\n",
       "      <th>11</th>\n",
       "      <td>finance</td>\n",
       "      <td>1.008546e+07</td>\n",
       "      <td>1.345856e+07</td>\n",
       "      <td>675</td>\n",
       "    </tr>\n",
       "    <tr>\n",
       "      <th>12</th>\n",
       "      <td>games_video</td>\n",
       "      <td>8.516418e+06</td>\n",
       "      <td>1.245265e+07</td>\n",
       "      <td>1696</td>\n",
       "    </tr>\n",
       "    <tr>\n",
       "      <th>13</th>\n",
       "      <td>government</td>\n",
       "      <td>4.992222e+06</td>\n",
       "      <td>1.245858e+07</td>\n",
       "      <td>9</td>\n",
       "    </tr>\n",
       "    <tr>\n",
       "      <th>14</th>\n",
       "      <td>hardware</td>\n",
       "      <td>1.020539e+07</td>\n",
       "      <td>1.345631e+07</td>\n",
       "      <td>1198</td>\n",
       "    </tr>\n",
       "    <tr>\n",
       "      <th>15</th>\n",
       "      <td>health</td>\n",
       "      <td>7.727175e+06</td>\n",
       "      <td>1.199875e+07</td>\n",
       "      <td>671</td>\n",
       "    </tr>\n",
       "    <tr>\n",
       "      <th>16</th>\n",
       "      <td>hospitality</td>\n",
       "      <td>6.586704e+06</td>\n",
       "      <td>1.139054e+07</td>\n",
       "      <td>295</td>\n",
       "    </tr>\n",
       "    <tr>\n",
       "      <th>17</th>\n",
       "      <td>legal</td>\n",
       "      <td>7.854904e+06</td>\n",
       "      <td>1.315299e+07</td>\n",
       "      <td>85</td>\n",
       "    </tr>\n",
       "    <tr>\n",
       "      <th>18</th>\n",
       "      <td>local</td>\n",
       "      <td>4.468745e+06</td>\n",
       "      <td>8.919887e+06</td>\n",
       "      <td>41</td>\n",
       "    </tr>\n",
       "    <tr>\n",
       "      <th>19</th>\n",
       "      <td>manufacturing</td>\n",
       "      <td>1.219379e+07</td>\n",
       "      <td>1.434439e+07</td>\n",
       "      <td>322</td>\n",
       "    </tr>\n",
       "    <tr>\n",
       "      <th>20</th>\n",
       "      <td>medical</td>\n",
       "      <td>1.658678e+07</td>\n",
       "      <td>1.582019e+07</td>\n",
       "      <td>755</td>\n",
       "    </tr>\n",
       "    <tr>\n",
       "      <th>21</th>\n",
       "      <td>messaging</td>\n",
       "      <td>7.786098e+06</td>\n",
       "      <td>1.282673e+07</td>\n",
       "      <td>332</td>\n",
       "    </tr>\n",
       "    <tr>\n",
       "      <th>22</th>\n",
       "      <td>mobile</td>\n",
       "      <td>7.935844e+06</td>\n",
       "      <td>1.153315e+07</td>\n",
       "      <td>3004</td>\n",
       "    </tr>\n",
       "    <tr>\n",
       "      <th>23</th>\n",
       "      <td>music</td>\n",
       "      <td>8.410871e+06</td>\n",
       "      <td>1.213301e+07</td>\n",
       "      <td>273</td>\n",
       "    </tr>\n",
       "    <tr>\n",
       "      <th>24</th>\n",
       "      <td>nanotech</td>\n",
       "      <td>1.609055e+07</td>\n",
       "      <td>1.587364e+07</td>\n",
       "      <td>75</td>\n",
       "    </tr>\n",
       "    <tr>\n",
       "      <th>25</th>\n",
       "      <td>network_hosting</td>\n",
       "      <td>1.423362e+07</td>\n",
       "      <td>1.547132e+07</td>\n",
       "      <td>587</td>\n",
       "    </tr>\n",
       "    <tr>\n",
       "      <th>26</th>\n",
       "      <td>news</td>\n",
       "      <td>1.012961e+07</td>\n",
       "      <td>1.473329e+07</td>\n",
       "      <td>272</td>\n",
       "    </tr>\n",
       "    <tr>\n",
       "      <th>27</th>\n",
       "      <td>nonprofit</td>\n",
       "      <td>3.888720e+06</td>\n",
       "      <td>5.319560e+06</td>\n",
       "      <td>119</td>\n",
       "    </tr>\n",
       "    <tr>\n",
       "      <th>28</th>\n",
       "      <td>other</td>\n",
       "      <td>5.316448e+06</td>\n",
       "      <td>9.757335e+06</td>\n",
       "      <td>599</td>\n",
       "    </tr>\n",
       "    <tr>\n",
       "      <th>29</th>\n",
       "      <td>pets</td>\n",
       "      <td>7.106129e+06</td>\n",
       "      <td>8.824105e+06</td>\n",
       "      <td>33</td>\n",
       "    </tr>\n",
       "    <tr>\n",
       "      <th>30</th>\n",
       "      <td>photo_video</td>\n",
       "      <td>4.833761e+06</td>\n",
       "      <td>8.715543e+06</td>\n",
       "      <td>198</td>\n",
       "    </tr>\n",
       "    <tr>\n",
       "      <th>31</th>\n",
       "      <td>public_relations</td>\n",
       "      <td>8.790859e+06</td>\n",
       "      <td>1.207009e+07</td>\n",
       "      <td>374</td>\n",
       "    </tr>\n",
       "    <tr>\n",
       "      <th>32</th>\n",
       "      <td>real_estate</td>\n",
       "      <td>4.031110e+06</td>\n",
       "      <td>7.877075e+06</td>\n",
       "      <td>170</td>\n",
       "    </tr>\n",
       "    <tr>\n",
       "      <th>33</th>\n",
       "      <td>search</td>\n",
       "      <td>7.024959e+06</td>\n",
       "      <td>1.099704e+07</td>\n",
       "      <td>437</td>\n",
       "    </tr>\n",
       "    <tr>\n",
       "      <th>34</th>\n",
       "      <td>security</td>\n",
       "      <td>1.539312e+07</td>\n",
       "      <td>1.663059e+07</td>\n",
       "      <td>592</td>\n",
       "    </tr>\n",
       "    <tr>\n",
       "      <th>35</th>\n",
       "      <td>semiconductor</td>\n",
       "      <td>2.113384e+07</td>\n",
       "      <td>1.545674e+07</td>\n",
       "      <td>585</td>\n",
       "    </tr>\n",
       "    <tr>\n",
       "      <th>36</th>\n",
       "      <td>social</td>\n",
       "      <td>4.695210e+06</td>\n",
       "      <td>9.707228e+06</td>\n",
       "      <td>803</td>\n",
       "    </tr>\n",
       "    <tr>\n",
       "      <th>37</th>\n",
       "      <td>software</td>\n",
       "      <td>9.517230e+06</td>\n",
       "      <td>1.264778e+07</td>\n",
       "      <td>6080</td>\n",
       "    </tr>\n",
       "    <tr>\n",
       "      <th>38</th>\n",
       "      <td>sports</td>\n",
       "      <td>4.065493e+06</td>\n",
       "      <td>8.414786e+06</td>\n",
       "      <td>163</td>\n",
       "    </tr>\n",
       "    <tr>\n",
       "      <th>39</th>\n",
       "      <td>transportation</td>\n",
       "      <td>6.897968e+06</td>\n",
       "      <td>1.050909e+07</td>\n",
       "      <td>107</td>\n",
       "    </tr>\n",
       "    <tr>\n",
       "      <th>40</th>\n",
       "      <td>travel</td>\n",
       "      <td>7.570359e+06</td>\n",
       "      <td>1.259808e+07</td>\n",
       "      <td>312</td>\n",
       "    </tr>\n",
       "    <tr>\n",
       "      <th>41</th>\n",
       "      <td>web</td>\n",
       "      <td>5.852648e+06</td>\n",
       "      <td>1.019808e+07</td>\n",
       "      <td>3595</td>\n",
       "    </tr>\n",
       "  </tbody>\n",
       "</table>\n",
       "</div>"
      ],
      "text/plain": [
       "       category_code          mean           std  count\n",
       "0        advertising  1.103784e+07  1.335866e+07   1905\n",
       "1          analytics  1.036673e+07  1.301154e+07   1156\n",
       "2         automotive  7.937173e+06  1.238218e+07    112\n",
       "3            biotech  1.432381e+07  1.548147e+07   3245\n",
       "4          cleantech  1.567319e+07  1.580317e+07    975\n",
       "5         consulting  7.595652e+06  1.239030e+07    305\n",
       "6             design  3.104245e+06  4.914869e+06     65\n",
       "7          ecommerce  6.903730e+06  1.196294e+07   2012\n",
       "8          education  6.036788e+06  1.004069e+07    653\n",
       "9         enterprise  1.334042e+07  1.442160e+07   2652\n",
       "10           fashion  7.567152e+06  1.172961e+07    288\n",
       "11           finance  1.008546e+07  1.345856e+07    675\n",
       "12       games_video  8.516418e+06  1.245265e+07   1696\n",
       "13        government  4.992222e+06  1.245858e+07      9\n",
       "14          hardware  1.020539e+07  1.345631e+07   1198\n",
       "15            health  7.727175e+06  1.199875e+07    671\n",
       "16       hospitality  6.586704e+06  1.139054e+07    295\n",
       "17             legal  7.854904e+06  1.315299e+07     85\n",
       "18             local  4.468745e+06  8.919887e+06     41\n",
       "19     manufacturing  1.219379e+07  1.434439e+07    322\n",
       "20           medical  1.658678e+07  1.582019e+07    755\n",
       "21         messaging  7.786098e+06  1.282673e+07    332\n",
       "22            mobile  7.935844e+06  1.153315e+07   3004\n",
       "23             music  8.410871e+06  1.213301e+07    273\n",
       "24          nanotech  1.609055e+07  1.587364e+07     75\n",
       "25   network_hosting  1.423362e+07  1.547132e+07    587\n",
       "26              news  1.012961e+07  1.473329e+07    272\n",
       "27         nonprofit  3.888720e+06  5.319560e+06    119\n",
       "28             other  5.316448e+06  9.757335e+06    599\n",
       "29              pets  7.106129e+06  8.824105e+06     33\n",
       "30       photo_video  4.833761e+06  8.715543e+06    198\n",
       "31  public_relations  8.790859e+06  1.207009e+07    374\n",
       "32       real_estate  4.031110e+06  7.877075e+06    170\n",
       "33            search  7.024959e+06  1.099704e+07    437\n",
       "34          security  1.539312e+07  1.663059e+07    592\n",
       "35     semiconductor  2.113384e+07  1.545674e+07    585\n",
       "36            social  4.695210e+06  9.707228e+06    803\n",
       "37          software  9.517230e+06  1.264778e+07   6080\n",
       "38            sports  4.065493e+06  8.414786e+06    163\n",
       "39    transportation  6.897968e+06  1.050909e+07    107\n",
       "40            travel  7.570359e+06  1.259808e+07    312\n",
       "41               web  5.852648e+06  1.019808e+07   3595"
      ]
     },
     "metadata": {},
     "output_type": "display_data"
    }
   ],
   "source": [
    "agg_stats = df.groupby('category_code')['funding_total'].agg(['mean', 'std', 'count']).reset_index()\n",
    "display(agg_stats)\n"
   ]
  },
  {
   "cell_type": "code",
   "execution_count": 123,
   "metadata": {
    "scrolled": false
   },
   "outputs": [
    {
     "data": {
      "text/html": [
       "<div>\n",
       "<style scoped>\n",
       "    .dataframe tbody tr th:only-of-type {\n",
       "        vertical-align: middle;\n",
       "    }\n",
       "\n",
       "    .dataframe tbody tr th {\n",
       "        vertical-align: top;\n",
       "    }\n",
       "\n",
       "    .dataframe thead th {\n",
       "        text-align: right;\n",
       "    }\n",
       "</style>\n",
       "<table border=\"1\" class=\"dataframe\">\n",
       "  <thead>\n",
       "    <tr style=\"text-align: right;\">\n",
       "      <th></th>\n",
       "      <th>category_code</th>\n",
       "      <th>mean</th>\n",
       "      <th>std</th>\n",
       "      <th>count</th>\n",
       "    </tr>\n",
       "  </thead>\n",
       "  <tbody>\n",
       "    <tr>\n",
       "      <th>35</th>\n",
       "      <td>semiconductor</td>\n",
       "      <td>2.113384e+07</td>\n",
       "      <td>1.545674e+07</td>\n",
       "      <td>585</td>\n",
       "    </tr>\n",
       "    <tr>\n",
       "      <th>20</th>\n",
       "      <td>medical</td>\n",
       "      <td>1.658678e+07</td>\n",
       "      <td>1.582019e+07</td>\n",
       "      <td>755</td>\n",
       "    </tr>\n",
       "    <tr>\n",
       "      <th>24</th>\n",
       "      <td>nanotech</td>\n",
       "      <td>1.609055e+07</td>\n",
       "      <td>1.587364e+07</td>\n",
       "      <td>75</td>\n",
       "    </tr>\n",
       "    <tr>\n",
       "      <th>4</th>\n",
       "      <td>cleantech</td>\n",
       "      <td>1.567319e+07</td>\n",
       "      <td>1.580317e+07</td>\n",
       "      <td>975</td>\n",
       "    </tr>\n",
       "    <tr>\n",
       "      <th>34</th>\n",
       "      <td>security</td>\n",
       "      <td>1.539312e+07</td>\n",
       "      <td>1.663059e+07</td>\n",
       "      <td>592</td>\n",
       "    </tr>\n",
       "    <tr>\n",
       "      <th>3</th>\n",
       "      <td>biotech</td>\n",
       "      <td>1.432381e+07</td>\n",
       "      <td>1.548147e+07</td>\n",
       "      <td>3245</td>\n",
       "    </tr>\n",
       "    <tr>\n",
       "      <th>25</th>\n",
       "      <td>network_hosting</td>\n",
       "      <td>1.423362e+07</td>\n",
       "      <td>1.547132e+07</td>\n",
       "      <td>587</td>\n",
       "    </tr>\n",
       "    <tr>\n",
       "      <th>9</th>\n",
       "      <td>enterprise</td>\n",
       "      <td>1.334042e+07</td>\n",
       "      <td>1.442160e+07</td>\n",
       "      <td>2652</td>\n",
       "    </tr>\n",
       "    <tr>\n",
       "      <th>19</th>\n",
       "      <td>manufacturing</td>\n",
       "      <td>1.219379e+07</td>\n",
       "      <td>1.434439e+07</td>\n",
       "      <td>322</td>\n",
       "    </tr>\n",
       "    <tr>\n",
       "      <th>0</th>\n",
       "      <td>advertising</td>\n",
       "      <td>1.103784e+07</td>\n",
       "      <td>1.335866e+07</td>\n",
       "      <td>1905</td>\n",
       "    </tr>\n",
       "  </tbody>\n",
       "</table>\n",
       "</div>"
      ],
      "text/plain": [
       "      category_code          mean           std  count\n",
       "35    semiconductor  2.113384e+07  1.545674e+07    585\n",
       "20          medical  1.658678e+07  1.582019e+07    755\n",
       "24         nanotech  1.609055e+07  1.587364e+07     75\n",
       "4         cleantech  1.567319e+07  1.580317e+07    975\n",
       "34         security  1.539312e+07  1.663059e+07    592\n",
       "3           biotech  1.432381e+07  1.548147e+07   3245\n",
       "25  network_hosting  1.423362e+07  1.547132e+07    587\n",
       "9        enterprise  1.334042e+07  1.442160e+07   2652\n",
       "19    manufacturing  1.219379e+07  1.434439e+07    322\n",
       "0       advertising  1.103784e+07  1.335866e+07   1905"
      ]
     },
     "metadata": {},
     "output_type": "display_data"
    },
    {
     "data": {
      "text/html": [
       "<div>\n",
       "<style scoped>\n",
       "    .dataframe tbody tr th:only-of-type {\n",
       "        vertical-align: middle;\n",
       "    }\n",
       "\n",
       "    .dataframe tbody tr th {\n",
       "        vertical-align: top;\n",
       "    }\n",
       "\n",
       "    .dataframe thead th {\n",
       "        text-align: right;\n",
       "    }\n",
       "</style>\n",
       "<table border=\"1\" class=\"dataframe\">\n",
       "  <thead>\n",
       "    <tr style=\"text-align: right;\">\n",
       "      <th></th>\n",
       "      <th>category_code</th>\n",
       "      <th>mean</th>\n",
       "      <th>std</th>\n",
       "      <th>count</th>\n",
       "    </tr>\n",
       "  </thead>\n",
       "  <tbody>\n",
       "    <tr>\n",
       "      <th>34</th>\n",
       "      <td>security</td>\n",
       "      <td>1.539312e+07</td>\n",
       "      <td>1.663059e+07</td>\n",
       "      <td>592</td>\n",
       "    </tr>\n",
       "    <tr>\n",
       "      <th>24</th>\n",
       "      <td>nanotech</td>\n",
       "      <td>1.609055e+07</td>\n",
       "      <td>1.587364e+07</td>\n",
       "      <td>75</td>\n",
       "    </tr>\n",
       "    <tr>\n",
       "      <th>20</th>\n",
       "      <td>medical</td>\n",
       "      <td>1.658678e+07</td>\n",
       "      <td>1.582019e+07</td>\n",
       "      <td>755</td>\n",
       "    </tr>\n",
       "    <tr>\n",
       "      <th>4</th>\n",
       "      <td>cleantech</td>\n",
       "      <td>1.567319e+07</td>\n",
       "      <td>1.580317e+07</td>\n",
       "      <td>975</td>\n",
       "    </tr>\n",
       "    <tr>\n",
       "      <th>3</th>\n",
       "      <td>biotech</td>\n",
       "      <td>1.432381e+07</td>\n",
       "      <td>1.548147e+07</td>\n",
       "      <td>3245</td>\n",
       "    </tr>\n",
       "    <tr>\n",
       "      <th>25</th>\n",
       "      <td>network_hosting</td>\n",
       "      <td>1.423362e+07</td>\n",
       "      <td>1.547132e+07</td>\n",
       "      <td>587</td>\n",
       "    </tr>\n",
       "    <tr>\n",
       "      <th>35</th>\n",
       "      <td>semiconductor</td>\n",
       "      <td>2.113384e+07</td>\n",
       "      <td>1.545674e+07</td>\n",
       "      <td>585</td>\n",
       "    </tr>\n",
       "    <tr>\n",
       "      <th>26</th>\n",
       "      <td>news</td>\n",
       "      <td>1.012961e+07</td>\n",
       "      <td>1.473329e+07</td>\n",
       "      <td>272</td>\n",
       "    </tr>\n",
       "    <tr>\n",
       "      <th>9</th>\n",
       "      <td>enterprise</td>\n",
       "      <td>1.334042e+07</td>\n",
       "      <td>1.442160e+07</td>\n",
       "      <td>2652</td>\n",
       "    </tr>\n",
       "    <tr>\n",
       "      <th>19</th>\n",
       "      <td>manufacturing</td>\n",
       "      <td>1.219379e+07</td>\n",
       "      <td>1.434439e+07</td>\n",
       "      <td>322</td>\n",
       "    </tr>\n",
       "  </tbody>\n",
       "</table>\n",
       "</div>"
      ],
      "text/plain": [
       "      category_code          mean           std  count\n",
       "34         security  1.539312e+07  1.663059e+07    592\n",
       "24         nanotech  1.609055e+07  1.587364e+07     75\n",
       "20          medical  1.658678e+07  1.582019e+07    755\n",
       "4         cleantech  1.567319e+07  1.580317e+07    975\n",
       "3           biotech  1.432381e+07  1.548147e+07   3245\n",
       "25  network_hosting  1.423362e+07  1.547132e+07    587\n",
       "35    semiconductor  2.113384e+07  1.545674e+07    585\n",
       "26             news  1.012961e+07  1.473329e+07    272\n",
       "9        enterprise  1.334042e+07  1.442160e+07   2652\n",
       "19    manufacturing  1.219379e+07  1.434439e+07    322"
      ]
     },
     "metadata": {},
     "output_type": "display_data"
    }
   ],
   "source": [
    "top_mean = agg_stats.sort_values(by='mean', ascending=False)\n",
    "top_std = agg_stats.sort_values(by='std', ascending=False)\n",
    "display(top_mean.head(10))\n",
    "display(top_std.head(10))"
   ]
  },
  {
   "cell_type": "markdown",
   "metadata": {},
   "source": [
    "В обоих топах лидирующие позиции заняли категории: medical, nanotech."
   ]
  },
  {
   "cell_type": "markdown",
   "metadata": {
    "id": "ADOfyVY_rJg3"
   },
   "source": [
    "\n",
    "### 3.5. Сколько раундов продержится стартап перед покупкой\n",
    "\n",
    "- Необходимо проанализировать столбец `funding_rounds`. Исследуйте значения столбца. Заказчика интересует типичное значение количества раундов для каждого возможного статуса стартапа.\n",
    "- Постройте график, который отображает, сколько в среднем раундов финансирования проходило для стартапов из каждой группы. Сделайте выводы."
   ]
  },
  {
   "cell_type": "code",
   "execution_count": 151,
   "metadata": {},
   "outputs": [
    {
     "data": {
      "text/plain": [
       "status\n",
       "acquired     2.843898\n",
       "closed       1.943192\n",
       "ipo          4.838674\n",
       "operating    2.676006\n",
       "Name: funding_rounds, dtype: float64"
      ]
     },
     "execution_count": 151,
     "metadata": {},
     "output_type": "execute_result"
    }
   ],
   "source": [
    "#Количество раундов для каждого возможного статуса стартапа:\n",
    "new_с_and_r_df.groupby('status')['funding_rounds'].mean()"
   ]
  },
  {
   "cell_type": "code",
   "execution_count": 154,
   "metadata": {
    "id": "pV3e7kw5Fj1Y",
    "scrolled": true
   },
   "outputs": [
    {
     "data": {
      "image/png": "[encoded data removed]",
      "text/plain": [
       "<Figure size 720x432 with 1 Axes>"
      ]
     },
     "metadata": {
      "needs_background": "light"
     },
     "output_type": "display_data"
    }
   ],
   "source": [
    "plt.figure(figsize=(10, 6))\n",
    "new_с_and_r_df.groupby('status')['funding_rounds'].mean().sort_values(ascending=False).plot(\n",
    "                kind='bar', \n",
    "                alpha=0.75,\n",
    "                edgecolor='black',\n",
    "                rot=0 \n",
    ")\n",
    "plt.title('Среднее количество раундов для каждого статуса стартапа')\n",
    "plt.xlabel('Среднее количество раундов')\n",
    "plt.ylabel('Статус стартапа')\n",
    "\n",
    "plt.grid()\n",
    "plt.show()\n",
    "\n"
   ]
  },
  {
   "cell_type": "markdown",
   "metadata": {},
   "source": [
    "Судя по результатам дольше всего протянут стартапы со статусом ipo."
   ]
  },
  {
   "cell_type": "markdown",
   "metadata": {
    "id": "VAFEZ2HBrJg3"
   },
   "source": [
    "\n",
    "## Шаг 4. Итоговый вывод и рекомендации\n",
    "\n",
    "Опишите, что было сделано в проекте, какие были сделаны выводы, подкрепляют ли они друг друга или заставляют сомневаться в полученных результатах."
   ]
  },
  {
   "cell_type": "markdown",
   "metadata": {},
   "source": [
    "В первую очередь были проанализированы все датафреймы на корректность значений в столбцах, на наличие пропусков и дубликатов, была произведена коррекция по типам данных в ряде столбцов в разных датафреймах - в основном скорректирован тип данных по дате и времени.\n",
    "На этапе предварительного исследования выснилось следующее:\n",
    "- В 1989 году типичный размер собранных в рамках одного раунда средств был максимален.\n",
    "- Количество раундов возрастает примерно но 2007 года, затем убывает\n",
    "- В 2013 году - снижение тендненции по количеству раундов и выделяемых в рамках каждого раунда средств\n",
    "- Чем больше компания по количеству людей в ней - тем больше в ней людей с законченным образованием. В малых компаниях могут работать студенты. Датафрейм degrees мало чем нам поможет в понимании доли людей без образования, но может послужить для детализации в рамках отдельных отраслей.\n",
    "- Столбец network_username не подходит для объединения данных т.к.доли пересекающихся значений очень малы.\n",
    "- Была выяснена причина большого количества пропусков в датафрейме company_and_rounds, причина - некорректно объединение двух таблиц.\n",
    "В результате исследовательского анализа был получен корректный датафрейм, показывающий информацию о компаниях которые меняли или готовы менять владельцов.\n",
    "  - Анализ выбросов показал их наличие только с одной стороны - выше верхнего порогового значения. Их мы отфильтровали, чтобы они не искажали данные.\n",
    "  - Составлен топ 15 компаний по уровню финансирования\n",
    "  - Компании разделены на 4 категориии по значениям цен(низкая, средняя, высокая, очень высокая)\n",
    "  - Определено среднее количество раундов для каждого статуса стартапа.\n",
    "  - Для крупных инвесторов наиболее будут привлекательны стартапы с категоряими medical и nanotech.\n",
    "  - Дольше всего протянут стартапы со статусом ipo.(даанный статус стартапа имеет наибольшее количество раундов)"
   ]
  }
 ],
 "metadata": {
  "ExecuteTimeLog": [
   {
    "duration": 4944,
    "start_time": "2025-06-10T13:36:42.558Z"
   },
   {
    "duration": 3414,
    "start_time": "2025-06-10T13:36:47.505Z"
   },
   {
    "duration": 6,
    "start_time": "2025-06-10T13:36:50.921Z"
   },
   {
    "duration": 4,
    "start_time": "2025-06-10T13:38:47.279Z"
   },
   {
    "duration": 5,
    "start_time": "2025-06-10T13:38:48.307Z"
   },
   {
    "duration": 4,
    "start_time": "2025-06-10T13:38:49.122Z"
   },
   {
    "duration": 4,
    "start_time": "2025-06-10T13:38:49.261Z"
   },
   {
    "duration": 4,
    "start_time": "2025-06-10T13:38:51.172Z"
   },
   {
    "duration": 3,
    "start_time": "2025-06-10T14:45:48.848Z"
   },
   {
    "duration": 90,
    "start_time": "2025-06-10T14:45:49.859Z"
   },
   {
    "duration": 488,
    "start_time": "2025-06-10T14:46:04.164Z"
   },
   {
    "duration": 4,
    "start_time": "2025-06-10T14:46:16.854Z"
   },
   {
    "duration": 465,
    "start_time": "2025-06-10T14:47:07.837Z"
   },
   {
    "duration": 4,
    "start_time": "2025-06-10T14:47:08.418Z"
   },
   {
    "duration": 12,
    "start_time": "2025-06-10T14:50:19.360Z"
   },
   {
    "duration": 15,
    "start_time": "2025-06-10T14:52:48.470Z"
   },
   {
    "duration": 13,
    "start_time": "2025-06-10T14:52:50.024Z"
   },
   {
    "duration": 9,
    "start_time": "2025-06-10T15:06:23.541Z"
   },
   {
    "duration": 11,
    "start_time": "2025-06-10T15:06:31.495Z"
   },
   {
    "duration": 12,
    "start_time": "2025-06-10T15:12:28.163Z"
   },
   {
    "duration": 106,
    "start_time": "2025-06-10T15:12:28.528Z"
   },
   {
    "duration": 27,
    "start_time": "2025-06-10T15:17:29.393Z"
   },
   {
    "duration": 113,
    "start_time": "2025-06-10T15:17:34.708Z"
   },
   {
    "duration": 52,
    "start_time": "2025-06-11T14:53:03.680Z"
   },
   {
    "duration": 4917,
    "start_time": "2025-06-11T14:53:12.821Z"
   },
   {
    "duration": 2006,
    "start_time": "2025-06-11T14:53:17.741Z"
   },
   {
    "duration": 6,
    "start_time": "2025-06-11T14:53:19.749Z"
   },
   {
    "duration": 33,
    "start_time": "2025-06-11T14:53:19.757Z"
   },
   {
    "duration": 29,
    "start_time": "2025-06-11T14:53:19.792Z"
   },
   {
    "duration": 43,
    "start_time": "2025-06-11T14:53:19.823Z"
   },
   {
    "duration": 25,
    "start_time": "2025-06-11T14:53:19.867Z"
   },
   {
    "duration": 504,
    "start_time": "2025-06-11T14:53:19.893Z"
   },
   {
    "duration": 4,
    "start_time": "2025-06-11T14:53:20.399Z"
   },
   {
    "duration": 3,
    "start_time": "2025-06-11T14:53:22.644Z"
   },
   {
    "duration": 11,
    "start_time": "2025-06-11T14:53:23.038Z"
   },
   {
    "duration": 13,
    "start_time": "2025-06-11T14:53:23.325Z"
   },
   {
    "duration": 25,
    "start_time": "2025-06-11T14:53:43.176Z"
   },
   {
    "duration": 104,
    "start_time": "2025-06-11T14:53:43.843Z"
   },
   {
    "duration": 10,
    "start_time": "2025-06-11T14:53:45.991Z"
   },
   {
    "duration": 41,
    "start_time": "2025-06-11T14:53:47.092Z"
   },
   {
    "duration": 13,
    "start_time": "2025-06-11T14:54:17.309Z"
   },
   {
    "duration": 9,
    "start_time": "2025-06-11T14:54:37.480Z"
   },
   {
    "duration": 8,
    "start_time": "2025-06-11T15:03:53.014Z"
   },
   {
    "duration": 19,
    "start_time": "2025-06-11T15:03:54.849Z"
   },
   {
    "duration": 9,
    "start_time": "2025-06-11T15:08:37.480Z"
   },
   {
    "duration": 26,
    "start_time": "2025-06-11T15:08:37.884Z"
   },
   {
    "duration": 7,
    "start_time": "2025-06-11T15:58:21.066Z"
   },
   {
    "duration": 22,
    "start_time": "2025-06-11T15:58:21.601Z"
   },
   {
    "duration": 94,
    "start_time": "2025-06-11T15:58:23.871Z"
   },
   {
    "duration": 95,
    "start_time": "2025-06-11T15:58:24.272Z"
   },
   {
    "duration": 100,
    "start_time": "2025-06-11T16:03:11.583Z"
   },
   {
    "duration": 106,
    "start_time": "2025-06-11T16:04:22.636Z"
   },
   {
    "duration": 37,
    "start_time": "2025-06-11T16:06:29.766Z"
   },
   {
    "duration": 38,
    "start_time": "2025-06-11T16:06:30.616Z"
   },
   {
    "duration": 42,
    "start_time": "2025-06-11T16:07:04.609Z"
   },
   {
    "duration": 41,
    "start_time": "2025-06-11T16:07:38.326Z"
   },
   {
    "duration": 16,
    "start_time": "2025-06-11T16:07:42.492Z"
   },
   {
    "duration": 17,
    "start_time": "2025-06-11T16:07:42.960Z"
   },
   {
    "duration": 21,
    "start_time": "2025-06-11T16:07:50.814Z"
   },
   {
    "duration": 26,
    "start_time": "2025-06-11T16:07:51.296Z"
   },
   {
    "duration": 821,
    "start_time": "2025-06-11T16:43:23.464Z"
   },
   {
    "duration": 0,
    "start_time": "2025-06-11T16:43:24.287Z"
   },
   {
    "duration": 123,
    "start_time": "2025-06-11T16:43:49.266Z"
   },
   {
    "duration": 5,
    "start_time": "2025-06-11T16:43:52.889Z"
   },
   {
    "duration": 4780,
    "start_time": "2025-06-12T09:01:04.459Z"
   },
   {
    "duration": 1815,
    "start_time": "2025-06-12T09:01:09.242Z"
   },
   {
    "duration": 6,
    "start_time": "2025-06-12T09:01:11.059Z"
   },
   {
    "duration": 5,
    "start_time": "2025-06-12T09:01:11.067Z"
   },
   {
    "duration": 5,
    "start_time": "2025-06-12T09:01:11.074Z"
   },
   {
    "duration": 5,
    "start_time": "2025-06-12T09:01:11.081Z"
   },
   {
    "duration": 20,
    "start_time": "2025-06-12T09:01:11.087Z"
   },
   {
    "duration": 487,
    "start_time": "2025-06-12T09:01:11.108Z"
   },
   {
    "duration": 9,
    "start_time": "2025-06-12T09:01:11.597Z"
   },
   {
    "duration": 3,
    "start_time": "2025-06-12T09:01:11.608Z"
   },
   {
    "duration": 11,
    "start_time": "2025-06-12T09:01:11.612Z"
   },
   {
    "duration": 11,
    "start_time": "2025-06-12T09:01:11.624Z"
   },
   {
    "duration": 24,
    "start_time": "2025-06-12T09:01:11.839Z"
   },
   {
    "duration": 99,
    "start_time": "2025-06-12T09:01:12.489Z"
   },
   {
    "duration": 9,
    "start_time": "2025-06-12T09:01:13.807Z"
   },
   {
    "duration": 39,
    "start_time": "2025-06-12T09:01:14.186Z"
   },
   {
    "duration": 8,
    "start_time": "2025-06-12T09:01:14.929Z"
   },
   {
    "duration": 21,
    "start_time": "2025-06-12T09:01:15.552Z"
   },
   {
    "duration": 8,
    "start_time": "2025-06-12T09:01:16.573Z"
   },
   {
    "duration": 24,
    "start_time": "2025-06-12T09:01:16.963Z"
   },
   {
    "duration": 8,
    "start_time": "2025-06-12T09:01:18.434Z"
   },
   {
    "duration": 10,
    "start_time": "2025-06-12T09:01:19.372Z"
   },
   {
    "duration": 103,
    "start_time": "2025-06-12T09:01:20.108Z"
   },
   {
    "duration": 99,
    "start_time": "2025-06-12T09:01:20.710Z"
   },
   {
    "duration": 39,
    "start_time": "2025-06-12T09:01:21.878Z"
   },
   {
    "duration": 39,
    "start_time": "2025-06-12T09:01:22.314Z"
   },
   {
    "duration": 16,
    "start_time": "2025-06-12T09:01:23.500Z"
   },
   {
    "duration": 19,
    "start_time": "2025-06-12T09:01:23.931Z"
   },
   {
    "duration": 21,
    "start_time": "2025-06-12T09:01:25.182Z"
   },
   {
    "duration": 21,
    "start_time": "2025-06-12T09:01:25.596Z"
   },
   {
    "duration": 129,
    "start_time": "2025-06-12T09:01:28.179Z"
   },
   {
    "duration": 5,
    "start_time": "2025-06-12T09:01:28.666Z"
   },
   {
    "duration": 1800,
    "start_time": "2025-06-12T09:01:32.806Z"
   },
   {
    "duration": 0,
    "start_time": "2025-06-12T09:01:34.608Z"
   },
   {
    "duration": 1426,
    "start_time": "2025-06-12T09:03:30.839Z"
   },
   {
    "duration": 1350,
    "start_time": "2025-06-12T09:04:34.887Z"
   },
   {
    "duration": 3,
    "start_time": "2025-06-12T09:06:56.321Z"
   },
   {
    "duration": 432,
    "start_time": "2025-06-12T09:07:56.480Z"
   },
   {
    "duration": 4,
    "start_time": "2025-06-12T09:07:56.916Z"
   },
   {
    "duration": 2,
    "start_time": "2025-06-12T09:07:57.795Z"
   },
   {
    "duration": 8,
    "start_time": "2025-06-12T09:07:59.011Z"
   },
   {
    "duration": 11,
    "start_time": "2025-06-12T09:07:59.462Z"
   },
   {
    "duration": 29,
    "start_time": "2025-06-12T09:08:01.488Z"
   },
   {
    "duration": 202,
    "start_time": "2025-06-12T09:08:01.520Z"
   },
   {
    "duration": 10,
    "start_time": "2025-06-12T09:08:02.592Z"
   },
   {
    "duration": 39,
    "start_time": "2025-06-12T09:08:02.935Z"
   },
   {
    "duration": 10,
    "start_time": "2025-06-12T09:08:03.882Z"
   },
   {
    "duration": 26,
    "start_time": "2025-06-12T09:08:04.259Z"
   },
   {
    "duration": 7,
    "start_time": "2025-06-12T09:08:05.440Z"
   },
   {
    "duration": 27,
    "start_time": "2025-06-12T09:08:05.782Z"
   },
   {
    "duration": 6,
    "start_time": "2025-06-12T09:08:07.529Z"
   },
   {
    "duration": 6,
    "start_time": "2025-06-12T09:08:08.062Z"
   },
   {
    "duration": 78,
    "start_time": "2025-06-12T09:08:08.906Z"
   },
   {
    "duration": 77,
    "start_time": "2025-06-12T09:08:09.638Z"
   },
   {
    "duration": 40,
    "start_time": "2025-06-12T09:08:10.305Z"
   },
   {
    "duration": 40,
    "start_time": "2025-06-12T09:08:10.937Z"
   },
   {
    "duration": 15,
    "start_time": "2025-06-12T09:08:12.050Z"
   },
   {
    "duration": 18,
    "start_time": "2025-06-12T09:08:12.381Z"
   },
   {
    "duration": 22,
    "start_time": "2025-06-12T09:08:13.120Z"
   },
   {
    "duration": 21,
    "start_time": "2025-06-12T09:08:13.739Z"
   },
   {
    "duration": 29,
    "start_time": "2025-06-12T09:08:15.878Z"
   },
   {
    "duration": 5,
    "start_time": "2025-06-12T09:08:16.829Z"
   },
   {
    "duration": 3,
    "start_time": "2025-06-12T09:08:19.586Z"
   },
   {
    "duration": 1365,
    "start_time": "2025-06-12T09:08:21.175Z"
   },
   {
    "duration": 72,
    "start_time": "2025-06-12T09:08:22.780Z"
   },
   {
    "duration": 23,
    "start_time": "2025-06-12T09:09:10.480Z"
   },
   {
    "duration": 69,
    "start_time": "2025-06-12T09:09:14.805Z"
   },
   {
    "duration": 475,
    "start_time": "2025-06-12T09:10:34.901Z"
   },
   {
    "duration": 4,
    "start_time": "2025-06-12T09:10:35.635Z"
   },
   {
    "duration": 4,
    "start_time": "2025-06-12T09:14:45.614Z"
   },
   {
    "duration": 4,
    "start_time": "2025-06-12T09:14:47.570Z"
   },
   {
    "duration": 3563,
    "start_time": "2025-06-12T09:17:17.435Z"
   },
   {
    "duration": 2289,
    "start_time": "2025-06-12T09:17:21.000Z"
   },
   {
    "duration": 15,
    "start_time": "2025-06-12T09:17:23.291Z"
   },
   {
    "duration": 59,
    "start_time": "2025-06-12T09:17:23.308Z"
   },
   {
    "duration": 28,
    "start_time": "2025-06-12T09:17:23.369Z"
   },
   {
    "duration": 25,
    "start_time": "2025-06-12T09:17:23.398Z"
   },
   {
    "duration": 4,
    "start_time": "2025-06-12T09:17:29.380Z"
   },
   {
    "duration": 376,
    "start_time": "2025-06-12T09:17:32.012Z"
   },
   {
    "duration": 4,
    "start_time": "2025-06-12T09:17:32.779Z"
   },
   {
    "duration": 4,
    "start_time": "2025-06-12T09:19:29.592Z"
   },
   {
    "duration": 4,
    "start_time": "2025-06-12T09:19:30.307Z"
   },
   {
    "duration": 3,
    "start_time": "2025-06-12T09:20:34.214Z"
   },
   {
    "duration": 3,
    "start_time": "2025-06-12T09:20:34.665Z"
   },
   {
    "duration": 5,
    "start_time": "2025-06-12T09:26:25.143Z"
   },
   {
    "duration": 5,
    "start_time": "2025-06-12T09:26:26.188Z"
   },
   {
    "duration": 5,
    "start_time": "2025-06-12T09:27:59.435Z"
   },
   {
    "duration": 5,
    "start_time": "2025-06-12T09:27:59.960Z"
   },
   {
    "duration": 5,
    "start_time": "2025-06-12T09:28:01.580Z"
   },
   {
    "duration": 4,
    "start_time": "2025-06-12T09:28:21.527Z"
   },
   {
    "duration": 4,
    "start_time": "2025-06-12T09:28:22.115Z"
   },
   {
    "duration": 3648,
    "start_time": "2025-06-12T09:28:45.776Z"
   },
   {
    "duration": 2317,
    "start_time": "2025-06-12T09:28:49.427Z"
   },
   {
    "duration": 6,
    "start_time": "2025-06-12T09:28:51.746Z"
   },
   {
    "duration": 6,
    "start_time": "2025-06-12T09:28:51.755Z"
   },
   {
    "duration": 4,
    "start_time": "2025-06-12T09:28:51.763Z"
   },
   {
    "duration": 17,
    "start_time": "2025-06-12T09:28:51.769Z"
   },
   {
    "duration": 5,
    "start_time": "2025-06-12T09:28:51.804Z"
   },
   {
    "duration": 387,
    "start_time": "2025-06-12T09:28:53.518Z"
   },
   {
    "duration": 5,
    "start_time": "2025-06-12T09:28:54.236Z"
   },
   {
    "duration": 364,
    "start_time": "2025-06-12T09:28:54.880Z"
   },
   {
    "duration": 4,
    "start_time": "2025-06-12T09:28:55.264Z"
   },
   {
    "duration": 3794,
    "start_time": "2025-06-12T09:31:58.386Z"
   },
   {
    "duration": 2042,
    "start_time": "2025-06-12T09:32:02.183Z"
   },
   {
    "duration": 7,
    "start_time": "2025-06-12T09:32:04.227Z"
   },
   {
    "duration": 24,
    "start_time": "2025-06-12T09:32:04.236Z"
   },
   {
    "duration": 4,
    "start_time": "2025-06-12T09:32:06.440Z"
   },
   {
    "duration": 4,
    "start_time": "2025-06-12T09:32:07.762Z"
   },
   {
    "duration": 4,
    "start_time": "2025-06-12T09:32:08.558Z"
   },
   {
    "duration": 390,
    "start_time": "2025-06-12T09:32:10.063Z"
   },
   {
    "duration": 4,
    "start_time": "2025-06-12T09:32:11.207Z"
   },
   {
    "duration": 354,
    "start_time": "2025-06-12T09:32:11.702Z"
   },
   {
    "duration": 5,
    "start_time": "2025-06-12T09:32:14.472Z"
   },
   {
    "duration": 3,
    "start_time": "2025-06-12T09:32:17.861Z"
   },
   {
    "duration": 13,
    "start_time": "2025-06-12T09:32:18.386Z"
   },
   {
    "duration": 14,
    "start_time": "2025-06-12T09:32:20.016Z"
   },
   {
    "duration": 24,
    "start_time": "2025-06-12T09:32:23.060Z"
   },
   {
    "duration": 101,
    "start_time": "2025-06-12T09:32:23.507Z"
   },
   {
    "duration": 9,
    "start_time": "2025-06-12T09:32:26.762Z"
   },
   {
    "duration": 41,
    "start_time": "2025-06-12T09:32:27.697Z"
   },
   {
    "duration": 8,
    "start_time": "2025-06-12T09:32:30.276Z"
   },
   {
    "duration": 20,
    "start_time": "2025-06-12T09:32:30.939Z"
   },
   {
    "duration": 8,
    "start_time": "2025-06-12T09:32:33.397Z"
   },
   {
    "duration": 25,
    "start_time": "2025-06-12T09:32:33.874Z"
   },
   {
    "duration": 7,
    "start_time": "2025-06-12T09:32:37.252Z"
   },
   {
    "duration": 10,
    "start_time": "2025-06-12T09:32:37.669Z"
   },
   {
    "duration": 103,
    "start_time": "2025-06-12T09:32:40.246Z"
   },
   {
    "duration": 103,
    "start_time": "2025-06-12T09:32:42.703Z"
   },
   {
    "duration": 43,
    "start_time": "2025-06-12T09:32:43.967Z"
   },
   {
    "duration": 41,
    "start_time": "2025-06-12T09:32:44.832Z"
   },
   {
    "duration": 22,
    "start_time": "2025-06-12T09:32:46.114Z"
   },
   {
    "duration": 16,
    "start_time": "2025-06-12T09:32:46.815Z"
   },
   {
    "duration": 21,
    "start_time": "2025-06-12T09:32:48.775Z"
   },
   {
    "duration": 21,
    "start_time": "2025-06-12T09:32:49.225Z"
   },
   {
    "duration": 136,
    "start_time": "2025-06-12T09:33:10.900Z"
   },
   {
    "duration": 5,
    "start_time": "2025-06-12T09:33:11.907Z"
   },
   {
    "duration": 19,
    "start_time": "2025-06-12T09:33:33.137Z"
   },
   {
    "duration": 106,
    "start_time": "2025-06-12T09:33:34.590Z"
   },
   {
    "duration": 19,
    "start_time": "2025-06-12T09:33:47.200Z"
   },
   {
    "duration": 63,
    "start_time": "2025-06-12T09:33:47.626Z"
   },
   {
    "duration": 66,
    "start_time": "2025-06-12T09:34:11.629Z"
   },
   {
    "duration": 5003,
    "start_time": "2025-06-12T13:54:17.540Z"
   },
   {
    "duration": 1775,
    "start_time": "2025-06-12T13:54:22.546Z"
   },
   {
    "duration": 2651,
    "start_time": "2025-06-12T13:54:24.833Z"
   },
   {
    "duration": 2067,
    "start_time": "2025-06-12T13:54:27.486Z"
   },
   {
    "duration": 11,
    "start_time": "2025-06-12T13:54:29.555Z"
   },
   {
    "duration": 4,
    "start_time": "2025-06-12T13:54:29.568Z"
   },
   {
    "duration": 5,
    "start_time": "2025-06-12T13:54:32.035Z"
   },
   {
    "duration": 4,
    "start_time": "2025-06-12T13:54:33.503Z"
   },
   {
    "duration": 4,
    "start_time": "2025-06-12T13:54:33.851Z"
   },
   {
    "duration": 377,
    "start_time": "2025-06-12T13:54:35.390Z"
   },
   {
    "duration": 5,
    "start_time": "2025-06-12T13:54:36.487Z"
   },
   {
    "duration": 409,
    "start_time": "2025-06-12T13:54:36.765Z"
   },
   {
    "duration": 4,
    "start_time": "2025-06-12T13:54:38.151Z"
   },
   {
    "duration": 3,
    "start_time": "2025-06-12T13:54:39.803Z"
   },
   {
    "duration": 12,
    "start_time": "2025-06-12T13:54:40.167Z"
   },
   {
    "duration": 13,
    "start_time": "2025-06-12T13:54:40.894Z"
   },
   {
    "duration": 29,
    "start_time": "2025-06-12T13:54:48.968Z"
   },
   {
    "duration": 107,
    "start_time": "2025-06-12T13:54:49.812Z"
   },
   {
    "duration": 10,
    "start_time": "2025-06-12T13:54:53.271Z"
   },
   {
    "duration": 46,
    "start_time": "2025-06-12T13:54:56.772Z"
   },
   {
    "duration": 8,
    "start_time": "2025-06-12T13:54:58.354Z"
   },
   {
    "duration": 23,
    "start_time": "2025-06-12T13:54:58.723Z"
   },
   {
    "duration": 9,
    "start_time": "2025-06-12T13:55:33.564Z"
   },
   {
    "duration": 27,
    "start_time": "2025-06-12T13:55:34.410Z"
   },
   {
    "duration": 9,
    "start_time": "2025-06-12T13:56:03.829Z"
   },
   {
    "duration": 11,
    "start_time": "2025-06-12T13:56:04.810Z"
   },
   {
    "duration": 102,
    "start_time": "2025-06-12T13:56:07.991Z"
   },
   {
    "duration": 104,
    "start_time": "2025-06-12T13:56:08.722Z"
   },
   {
    "duration": 43,
    "start_time": "2025-06-12T13:56:10.431Z"
   },
   {
    "duration": 42,
    "start_time": "2025-06-12T13:56:11.609Z"
   },
   {
    "duration": 17,
    "start_time": "2025-06-12T13:56:12.851Z"
   },
   {
    "duration": 18,
    "start_time": "2025-06-12T13:56:13.218Z"
   },
   {
    "duration": 22,
    "start_time": "2025-06-12T13:56:14.410Z"
   },
   {
    "duration": 23,
    "start_time": "2025-06-12T13:56:15.123Z"
   },
   {
    "duration": 135,
    "start_time": "2025-06-12T13:56:16.610Z"
   },
   {
    "duration": 6,
    "start_time": "2025-06-12T13:56:16.991Z"
   },
   {
    "duration": 20,
    "start_time": "2025-06-12T13:56:21.777Z"
   },
   {
    "duration": 248,
    "start_time": "2025-06-12T13:56:54.569Z"
   },
   {
    "duration": 144,
    "start_time": "2025-06-12T13:57:02.370Z"
   },
   {
    "duration": 4125,
    "start_time": "2025-06-12T14:00:14.716Z"
   },
   {
    "duration": 2907,
    "start_time": "2025-06-12T14:00:18.844Z"
   },
   {
    "duration": 12,
    "start_time": "2025-06-12T14:00:21.753Z"
   },
   {
    "duration": 53,
    "start_time": "2025-06-12T14:00:21.767Z"
   },
   {
    "duration": 5,
    "start_time": "2025-06-12T14:00:24.657Z"
   },
   {
    "duration": 6,
    "start_time": "2025-06-12T14:00:25.989Z"
   },
   {
    "duration": 4,
    "start_time": "2025-06-12T14:00:26.425Z"
   },
   {
    "duration": 441,
    "start_time": "2025-06-12T14:00:27.657Z"
   },
   {
    "duration": 4,
    "start_time": "2025-06-12T14:00:29.280Z"
   },
   {
    "duration": 409,
    "start_time": "2025-06-12T14:00:30.503Z"
   },
   {
    "duration": 4,
    "start_time": "2025-06-12T14:00:31.479Z"
   },
   {
    "duration": 3,
    "start_time": "2025-06-12T14:00:33.176Z"
   },
   {
    "duration": 13,
    "start_time": "2025-06-12T14:00:33.540Z"
   },
   {
    "duration": 14,
    "start_time": "2025-06-12T14:00:34.663Z"
   },
   {
    "duration": 26,
    "start_time": "2025-06-12T14:00:37.426Z"
   },
   {
    "duration": 113,
    "start_time": "2025-06-12T14:00:38.870Z"
   },
   {
    "duration": 9,
    "start_time": "2025-06-12T14:00:41.774Z"
   },
   {
    "duration": 45,
    "start_time": "2025-06-12T14:00:43.482Z"
   },
   {
    "duration": 8,
    "start_time": "2025-06-12T14:00:45.570Z"
   },
   {
    "duration": 22,
    "start_time": "2025-06-12T14:00:46.187Z"
   },
   {
    "duration": 9,
    "start_time": "2025-06-12T14:00:47.858Z"
   },
   {
    "duration": 26,
    "start_time": "2025-06-12T14:00:49.525Z"
   },
   {
    "duration": 8,
    "start_time": "2025-06-12T14:00:52.508Z"
   },
   {
    "duration": 10,
    "start_time": "2025-06-12T14:00:54.105Z"
   },
   {
    "duration": 113,
    "start_time": "2025-06-12T14:00:55.972Z"
   },
   {
    "duration": 108,
    "start_time": "2025-06-12T14:00:57.381Z"
   },
   {
    "duration": 46,
    "start_time": "2025-06-12T14:01:01.819Z"
   },
   {
    "duration": 44,
    "start_time": "2025-06-12T14:01:02.612Z"
   },
   {
    "duration": 17,
    "start_time": "2025-06-12T14:01:03.862Z"
   },
   {
    "duration": 17,
    "start_time": "2025-06-12T14:01:04.854Z"
   },
   {
    "duration": 23,
    "start_time": "2025-06-12T14:01:06.830Z"
   },
   {
    "duration": 23,
    "start_time": "2025-06-12T14:01:08.399Z"
   },
   {
    "duration": 144,
    "start_time": "2025-06-12T14:01:10.360Z"
   },
   {
    "duration": 5,
    "start_time": "2025-06-12T14:01:11.277Z"
   },
   {
    "duration": 20,
    "start_time": "2025-06-12T14:01:15.239Z"
   },
   {
    "duration": 168,
    "start_time": "2025-06-12T14:01:16.591Z"
   },
   {
    "duration": 59,
    "start_time": "2025-06-12T14:21:00.089Z"
   },
   {
    "duration": 8,
    "start_time": "2025-06-12T14:21:04.642Z"
   },
   {
    "duration": 3982,
    "start_time": "2025-06-12T14:22:33.031Z"
   },
   {
    "duration": 2259,
    "start_time": "2025-06-12T14:22:37.016Z"
   },
   {
    "duration": 6,
    "start_time": "2025-06-12T14:22:39.277Z"
   },
   {
    "duration": 6,
    "start_time": "2025-06-12T14:22:39.285Z"
   },
   {
    "duration": 37,
    "start_time": "2025-06-12T14:22:39.292Z"
   },
   {
    "duration": 5,
    "start_time": "2025-06-12T14:22:39.430Z"
   },
   {
    "duration": 4,
    "start_time": "2025-06-12T14:22:41.218Z"
   },
   {
    "duration": 414,
    "start_time": "2025-06-12T14:22:42.819Z"
   },
   {
    "duration": 5,
    "start_time": "2025-06-12T14:22:43.519Z"
   },
   {
    "duration": 385,
    "start_time": "2025-06-12T14:22:46.851Z"
   },
   {
    "duration": 4,
    "start_time": "2025-06-12T14:22:47.779Z"
   },
   {
    "duration": 2,
    "start_time": "2025-06-12T14:22:49.325Z"
   },
   {
    "duration": 12,
    "start_time": "2025-06-12T14:22:49.954Z"
   },
   {
    "duration": 14,
    "start_time": "2025-06-12T14:22:50.633Z"
   },
   {
    "duration": 27,
    "start_time": "2025-06-12T14:22:52.602Z"
   },
   {
    "duration": 108,
    "start_time": "2025-06-12T14:22:53.220Z"
   },
   {
    "duration": 10,
    "start_time": "2025-06-12T14:22:55.041Z"
   },
   {
    "duration": 43,
    "start_time": "2025-06-12T14:22:55.452Z"
   },
   {
    "duration": 9,
    "start_time": "2025-06-12T14:22:56.722Z"
   },
   {
    "duration": 23,
    "start_time": "2025-06-12T14:22:57.206Z"
   },
   {
    "duration": 9,
    "start_time": "2025-06-12T14:22:58.551Z"
   },
   {
    "duration": 31,
    "start_time": "2025-06-12T14:22:58.979Z"
   },
   {
    "duration": 7,
    "start_time": "2025-06-12T14:23:00.455Z"
   },
   {
    "duration": 9,
    "start_time": "2025-06-12T14:23:01.125Z"
   },
   {
    "duration": 106,
    "start_time": "2025-06-12T14:23:02.166Z"
   },
   {
    "duration": 106,
    "start_time": "2025-06-12T14:23:02.790Z"
   },
   {
    "duration": 55,
    "start_time": "2025-06-12T14:23:03.983Z"
   },
   {
    "duration": 42,
    "start_time": "2025-06-12T14:23:04.555Z"
   },
   {
    "duration": 16,
    "start_time": "2025-06-12T14:23:05.653Z"
   },
   {
    "duration": 16,
    "start_time": "2025-06-12T14:23:06.386Z"
   },
   {
    "duration": 22,
    "start_time": "2025-06-12T14:23:07.430Z"
   },
   {
    "duration": 23,
    "start_time": "2025-06-12T14:23:07.918Z"
   },
   {
    "duration": 133,
    "start_time": "2025-06-12T14:23:09.595Z"
   },
   {
    "duration": 6,
    "start_time": "2025-06-12T14:23:10.036Z"
   },
   {
    "duration": 20,
    "start_time": "2025-06-12T14:23:12.754Z"
   },
   {
    "duration": 160,
    "start_time": "2025-06-12T14:23:13.254Z"
   },
   {
    "duration": 52,
    "start_time": "2025-06-12T14:39:38.529Z"
   },
   {
    "duration": 8,
    "start_time": "2025-06-12T14:39:39.332Z"
   },
   {
    "duration": 3968,
    "start_time": "2025-06-12T14:46:01.742Z"
   },
   {
    "duration": 2573,
    "start_time": "2025-06-12T14:46:05.712Z"
   },
   {
    "duration": 7,
    "start_time": "2025-06-12T14:46:08.287Z"
   },
   {
    "duration": 8,
    "start_time": "2025-06-12T14:46:08.297Z"
   },
   {
    "duration": 7,
    "start_time": "2025-06-12T14:46:08.307Z"
   },
   {
    "duration": 4,
    "start_time": "2025-06-12T14:46:08.316Z"
   },
   {
    "duration": 5,
    "start_time": "2025-06-12T14:46:08.322Z"
   },
   {
    "duration": 443,
    "start_time": "2025-06-12T14:46:08.328Z"
   },
   {
    "duration": 4,
    "start_time": "2025-06-12T14:46:08.773Z"
   },
   {
    "duration": 442,
    "start_time": "2025-06-12T14:46:08.780Z"
   },
   {
    "duration": 4,
    "start_time": "2025-06-12T14:46:09.224Z"
   },
   {
    "duration": 17,
    "start_time": "2025-06-12T14:46:09.230Z"
   },
   {
    "duration": 15,
    "start_time": "2025-06-12T14:46:09.249Z"
   },
   {
    "duration": 13,
    "start_time": "2025-06-12T14:46:09.266Z"
   },
   {
    "duration": 25,
    "start_time": "2025-06-12T14:46:09.281Z"
   },
   {
    "duration": 126,
    "start_time": "2025-06-12T14:46:09.308Z"
   },
   {
    "duration": 9,
    "start_time": "2025-06-12T14:46:10.102Z"
   },
   {
    "duration": 42,
    "start_time": "2025-06-12T14:46:10.442Z"
   },
   {
    "duration": 9,
    "start_time": "2025-06-12T14:46:11.107Z"
   },
   {
    "duration": 21,
    "start_time": "2025-06-12T14:46:11.531Z"
   },
   {
    "duration": 8,
    "start_time": "2025-06-12T14:46:12.141Z"
   },
   {
    "duration": 27,
    "start_time": "2025-06-12T14:46:12.452Z"
   },
   {
    "duration": 8,
    "start_time": "2025-06-12T14:46:13.441Z"
   },
   {
    "duration": 9,
    "start_time": "2025-06-12T14:46:13.791Z"
   },
   {
    "duration": 103,
    "start_time": "2025-06-12T14:46:14.498Z"
   },
   {
    "duration": 108,
    "start_time": "2025-06-12T14:46:14.781Z"
   },
   {
    "duration": 44,
    "start_time": "2025-06-12T14:46:15.492Z"
   },
   {
    "duration": 52,
    "start_time": "2025-06-12T14:46:15.773Z"
   },
   {
    "duration": 16,
    "start_time": "2025-06-12T14:46:16.545Z"
   },
   {
    "duration": 18,
    "start_time": "2025-06-12T14:46:16.909Z"
   },
   {
    "duration": 22,
    "start_time": "2025-06-12T14:46:17.711Z"
   },
   {
    "duration": 23,
    "start_time": "2025-06-12T14:46:18.018Z"
   },
   {
    "duration": 135,
    "start_time": "2025-06-12T14:46:19.996Z"
   },
   {
    "duration": 6,
    "start_time": "2025-06-12T14:46:20.700Z"
   },
   {
    "duration": 19,
    "start_time": "2025-06-12T14:46:23.211Z"
   },
   {
    "duration": 117,
    "start_time": "2025-06-12T14:46:24.639Z"
   },
   {
    "duration": 19,
    "start_time": "2025-06-12T14:46:52.510Z"
   },
   {
    "duration": 1685,
    "start_time": "2025-06-12T14:46:52.920Z"
   },
   {
    "duration": 88,
    "start_time": "2025-06-12T14:47:37.303Z"
   },
   {
    "duration": 19,
    "start_time": "2025-06-12T15:12:46.116Z"
   },
   {
    "duration": 12,
    "start_time": "2025-06-12T15:12:47.736Z"
   },
   {
    "duration": 10,
    "start_time": "2025-06-12T15:13:16.922Z"
   },
   {
    "duration": 1586,
    "start_time": "2025-06-12T15:15:24.675Z"
   },
   {
    "duration": 3925,
    "start_time": "2025-06-12T15:16:39.351Z"
   },
   {
    "duration": 2093,
    "start_time": "2025-06-12T15:16:43.279Z"
   },
   {
    "duration": 8,
    "start_time": "2025-06-12T15:16:45.374Z"
   },
   {
    "duration": 28,
    "start_time": "2025-06-12T15:16:45.385Z"
   },
   {
    "duration": 5,
    "start_time": "2025-06-12T15:16:45.416Z"
   },
   {
    "duration": 4,
    "start_time": "2025-06-12T15:16:45.423Z"
   },
   {
    "duration": 5,
    "start_time": "2025-06-12T15:16:45.429Z"
   },
   {
    "duration": 413,
    "start_time": "2025-06-12T15:16:49.501Z"
   },
   {
    "duration": 4,
    "start_time": "2025-06-12T15:16:49.916Z"
   },
   {
    "duration": 386,
    "start_time": "2025-06-12T15:16:50.198Z"
   },
   {
    "duration": 5,
    "start_time": "2025-06-12T15:16:52.335Z"
   },
   {
    "duration": 3,
    "start_time": "2025-06-12T15:16:53.070Z"
   },
   {
    "duration": 13,
    "start_time": "2025-06-12T15:16:54.098Z"
   },
   {
    "duration": 15,
    "start_time": "2025-06-12T15:16:54.506Z"
   },
   {
    "duration": 28,
    "start_time": "2025-06-12T15:16:56.929Z"
   },
   {
    "duration": 109,
    "start_time": "2025-06-12T15:16:57.306Z"
   },
   {
    "duration": 10,
    "start_time": "2025-06-12T15:16:59.746Z"
   },
   {
    "duration": 63,
    "start_time": "2025-06-12T15:17:03.739Z"
   },
   {
    "duration": 12,
    "start_time": "2025-06-12T15:17:05.787Z"
   },
   {
    "duration": 24,
    "start_time": "2025-06-12T15:17:06.188Z"
   },
   {
    "duration": 9,
    "start_time": "2025-06-12T15:17:07.809Z"
   },
   {
    "duration": 29,
    "start_time": "2025-06-12T15:17:08.178Z"
   },
   {
    "duration": 9,
    "start_time": "2025-06-12T15:17:11.244Z"
   },
   {
    "duration": 11,
    "start_time": "2025-06-12T15:17:12.518Z"
   },
   {
    "duration": 111,
    "start_time": "2025-06-12T15:17:13.818Z"
   },
   {
    "duration": 105,
    "start_time": "2025-06-12T15:17:14.517Z"
   },
   {
    "duration": 46,
    "start_time": "2025-06-12T15:17:18.017Z"
   },
   {
    "duration": 43,
    "start_time": "2025-06-12T15:17:19.477Z"
   },
   {
    "duration": 16,
    "start_time": "2025-06-12T15:17:22.407Z"
   },
   {
    "duration": 17,
    "start_time": "2025-06-12T15:17:23.827Z"
   },
   {
    "duration": 22,
    "start_time": "2025-06-12T15:17:25.608Z"
   },
   {
    "duration": 23,
    "start_time": "2025-06-12T15:17:26.106Z"
   },
   {
    "duration": 138,
    "start_time": "2025-06-12T15:17:29.331Z"
   },
   {
    "duration": 5,
    "start_time": "2025-06-12T15:17:29.819Z"
   },
   {
    "duration": 20,
    "start_time": "2025-06-12T15:17:35.069Z"
   },
   {
    "duration": 2215,
    "start_time": "2025-06-12T15:17:37.222Z"
   },
   {
    "duration": 1618,
    "start_time": "2025-06-12T15:18:28.836Z"
   },
   {
    "duration": 5,
    "start_time": "2025-06-12T15:19:44.608Z"
   },
   {
    "duration": 5,
    "start_time": "2025-06-12T15:29:48.717Z"
   },
   {
    "duration": 19,
    "start_time": "2025-06-12T15:29:49.218Z"
   },
   {
    "duration": 1499,
    "start_time": "2025-06-12T15:29:51.677Z"
   },
   {
    "duration": 23,
    "start_time": "2025-06-12T15:33:17.077Z"
   },
   {
    "duration": 148,
    "start_time": "2025-06-12T15:33:19.498Z"
   },
   {
    "duration": 9,
    "start_time": "2025-06-12T15:35:01.451Z"
   },
   {
    "duration": 2716,
    "start_time": "2025-06-12T16:02:20.264Z"
   },
   {
    "duration": 2224,
    "start_time": "2025-06-12T16:02:22.983Z"
   },
   {
    "duration": 6,
    "start_time": "2025-06-12T16:02:25.209Z"
   },
   {
    "duration": 52,
    "start_time": "2025-06-12T16:02:25.218Z"
   },
   {
    "duration": 5,
    "start_time": "2025-06-12T16:02:25.273Z"
   },
   {
    "duration": 86,
    "start_time": "2025-06-12T16:02:25.280Z"
   },
   {
    "duration": 7,
    "start_time": "2025-06-12T16:02:25.368Z"
   },
   {
    "duration": 373,
    "start_time": "2025-06-12T16:02:25.377Z"
   },
   {
    "duration": 11,
    "start_time": "2025-06-12T16:02:25.753Z"
   },
   {
    "duration": 426,
    "start_time": "2025-06-12T16:02:25.767Z"
   },
   {
    "duration": 5,
    "start_time": "2025-06-12T16:02:26.195Z"
   },
   {
    "duration": 31,
    "start_time": "2025-06-12T16:02:26.202Z"
   },
   {
    "duration": 39,
    "start_time": "2025-06-12T16:02:26.236Z"
   },
   {
    "duration": 17,
    "start_time": "2025-06-12T16:02:26.277Z"
   },
   {
    "duration": 34,
    "start_time": "2025-06-12T16:02:27.237Z"
   },
   {
    "duration": 104,
    "start_time": "2025-06-12T16:02:27.601Z"
   },
   {
    "duration": 10,
    "start_time": "2025-06-12T16:02:28.534Z"
   },
   {
    "duration": 44,
    "start_time": "2025-06-12T16:02:28.851Z"
   },
   {
    "duration": 11,
    "start_time": "2025-06-12T16:02:29.505Z"
   },
   {
    "duration": 31,
    "start_time": "2025-06-12T16:02:29.741Z"
   },
   {
    "duration": 9,
    "start_time": "2025-06-12T16:02:30.445Z"
   },
   {
    "duration": 27,
    "start_time": "2025-06-12T16:02:30.721Z"
   },
   {
    "duration": 9,
    "start_time": "2025-06-12T16:02:33.013Z"
   },
   {
    "duration": 26,
    "start_time": "2025-06-12T16:02:33.365Z"
   },
   {
    "duration": 8,
    "start_time": "2025-06-12T16:02:34.472Z"
   },
   {
    "duration": 8,
    "start_time": "2025-06-12T16:02:34.803Z"
   },
   {
    "duration": 106,
    "start_time": "2025-06-12T16:02:35.845Z"
   },
   {
    "duration": 108,
    "start_time": "2025-06-12T16:02:36.202Z"
   },
   {
    "duration": 45,
    "start_time": "2025-06-12T16:02:36.934Z"
   },
   {
    "duration": 57,
    "start_time": "2025-06-12T16:02:37.318Z"
   },
   {
    "duration": 18,
    "start_time": "2025-06-12T16:02:38.367Z"
   },
   {
    "duration": 18,
    "start_time": "2025-06-12T16:02:38.663Z"
   },
   {
    "duration": 22,
    "start_time": "2025-06-12T16:02:39.384Z"
   },
   {
    "duration": 22,
    "start_time": "2025-06-12T16:02:40.613Z"
   },
   {
    "duration": 135,
    "start_time": "2025-06-12T16:02:41.599Z"
   },
   {
    "duration": 6,
    "start_time": "2025-06-12T16:02:42.247Z"
   },
   {
    "duration": 5,
    "start_time": "2025-06-12T16:02:44.028Z"
   },
   {
    "duration": 8,
    "start_time": "2025-06-12T16:02:44.397Z"
   },
   {
    "duration": 24,
    "start_time": "2025-06-12T16:02:45.176Z"
   },
   {
    "duration": 152,
    "start_time": "2025-06-12T16:02:45.554Z"
   },
   {
    "duration": 3645,
    "start_time": "2025-06-12T16:02:46.512Z"
   },
   {
    "duration": 28,
    "start_time": "2025-06-12T16:04:19.964Z"
   },
   {
    "duration": 51,
    "start_time": "2025-06-12T16:04:20.331Z"
   },
   {
    "duration": 8,
    "start_time": "2025-06-12T16:35:37.383Z"
   },
   {
    "duration": 5,
    "start_time": "2025-06-12T16:36:08.234Z"
   },
   {
    "duration": 25,
    "start_time": "2025-06-12T16:40:55.188Z"
   },
   {
    "duration": 5,
    "start_time": "2025-06-12T16:40:57.462Z"
   },
   {
    "duration": 5,
    "start_time": "2025-06-12T16:42:06.459Z"
   },
   {
    "duration": 3,
    "start_time": "2025-06-12T16:42:06.802Z"
   },
   {
    "duration": 11,
    "start_time": "2025-06-12T16:42:07.159Z"
   },
   {
    "duration": 13,
    "start_time": "2025-06-12T16:42:07.502Z"
   },
   {
    "duration": 29,
    "start_time": "2025-06-12T16:42:08.561Z"
   },
   {
    "duration": 109,
    "start_time": "2025-06-12T16:42:08.932Z"
   },
   {
    "duration": 11,
    "start_time": "2025-06-12T16:42:09.941Z"
   },
   {
    "duration": 43,
    "start_time": "2025-06-12T16:42:10.252Z"
   },
   {
    "duration": 14,
    "start_time": "2025-06-12T16:42:10.968Z"
   },
   {
    "duration": 23,
    "start_time": "2025-06-12T16:42:11.362Z"
   },
   {
    "duration": 9,
    "start_time": "2025-06-12T16:42:11.978Z"
   },
   {
    "duration": 26,
    "start_time": "2025-06-12T16:42:12.342Z"
   },
   {
    "duration": 8,
    "start_time": "2025-06-12T16:42:13.768Z"
   },
   {
    "duration": 10,
    "start_time": "2025-06-12T16:42:14.081Z"
   },
   {
    "duration": 84,
    "start_time": "2025-06-12T16:42:14.712Z"
   },
   {
    "duration": 86,
    "start_time": "2025-06-12T16:42:15.098Z"
   },
   {
    "duration": 45,
    "start_time": "2025-06-12T16:42:15.964Z"
   },
   {
    "duration": 46,
    "start_time": "2025-06-12T16:42:16.312Z"
   },
   {
    "duration": 18,
    "start_time": "2025-06-12T16:42:17.274Z"
   },
   {
    "duration": 19,
    "start_time": "2025-06-12T16:42:17.600Z"
   },
   {
    "duration": 23,
    "start_time": "2025-06-12T16:42:18.460Z"
   },
   {
    "duration": 24,
    "start_time": "2025-06-12T16:42:18.801Z"
   },
   {
    "duration": 35,
    "start_time": "2025-06-12T16:42:20.185Z"
   },
   {
    "duration": 6,
    "start_time": "2025-06-12T16:42:20.564Z"
   },
   {
    "duration": 5,
    "start_time": "2025-06-12T16:42:22.776Z"
   },
   {
    "duration": 11,
    "start_time": "2025-06-12T16:42:23.756Z"
   },
   {
    "duration": 23,
    "start_time": "2025-06-12T16:42:24.514Z"
   },
   {
    "duration": 132,
    "start_time": "2025-06-12T16:42:26.095Z"
   },
   {
    "duration": 23,
    "start_time": "2025-06-12T16:42:30.611Z"
   },
   {
    "duration": 45,
    "start_time": "2025-06-12T16:42:30.969Z"
   },
   {
    "duration": 19,
    "start_time": "2025-06-12T16:43:40.992Z"
   },
   {
    "duration": 17,
    "start_time": "2025-06-12T16:46:26.727Z"
   },
   {
    "duration": 44,
    "start_time": "2025-06-12T16:46:39.332Z"
   },
   {
    "duration": 42,
    "start_time": "2025-06-12T16:47:28.300Z"
   },
   {
    "duration": 26,
    "start_time": "2025-06-12T16:53:50.825Z"
   },
   {
    "duration": 43,
    "start_time": "2025-06-12T16:57:04.472Z"
   },
   {
    "duration": 158,
    "start_time": "2025-06-12T16:57:52.626Z"
   },
   {
    "duration": 13,
    "start_time": "2025-06-12T16:58:48.164Z"
   },
   {
    "duration": 35,
    "start_time": "2025-06-12T16:59:18.093Z"
   },
   {
    "duration": 35,
    "start_time": "2025-06-12T16:59:31.414Z"
   },
   {
    "duration": 26,
    "start_time": "2025-06-12T16:59:40.296Z"
   },
   {
    "duration": 36,
    "start_time": "2025-06-12T17:02:41.910Z"
   },
   {
    "duration": 28,
    "start_time": "2025-06-12T17:02:50.997Z"
   },
   {
    "duration": 5,
    "start_time": "2025-06-12T17:14:04.722Z"
   },
   {
    "duration": 12,
    "start_time": "2025-06-12T17:14:25.009Z"
   },
   {
    "duration": 6,
    "start_time": "2025-06-12T17:14:42.604Z"
   },
   {
    "duration": 8,
    "start_time": "2025-06-12T17:15:08.701Z"
   },
   {
    "duration": 3,
    "start_time": "2025-06-12T17:18:31.372Z"
   },
   {
    "duration": 4,
    "start_time": "2025-06-12T17:19:05.124Z"
   },
   {
    "duration": 4,
    "start_time": "2025-06-12T17:27:09.432Z"
   },
   {
    "duration": 17,
    "start_time": "2025-06-12T17:37:40.912Z"
   },
   {
    "duration": 11,
    "start_time": "2025-06-12T17:38:07.080Z"
   },
   {
    "duration": 91,
    "start_time": "2025-06-12T17:49:56.283Z"
   },
   {
    "duration": 107,
    "start_time": "2025-06-12T17:50:09.695Z"
   },
   {
    "duration": 4828,
    "start_time": "2025-06-13T12:54:06.995Z"
   },
   {
    "duration": 2558,
    "start_time": "2025-06-13T12:54:11.826Z"
   },
   {
    "duration": 6,
    "start_time": "2025-06-13T12:54:14.385Z"
   },
   {
    "duration": 10,
    "start_time": "2025-06-13T12:54:14.393Z"
   },
   {
    "duration": 5,
    "start_time": "2025-06-13T12:54:14.404Z"
   },
   {
    "duration": 15,
    "start_time": "2025-06-13T12:54:14.411Z"
   },
   {
    "duration": 8,
    "start_time": "2025-06-13T12:54:14.427Z"
   },
   {
    "duration": 407,
    "start_time": "2025-06-13T12:54:14.436Z"
   },
   {
    "duration": 4,
    "start_time": "2025-06-13T12:54:14.845Z"
   },
   {
    "duration": 376,
    "start_time": "2025-06-13T12:54:14.851Z"
   },
   {
    "duration": 4,
    "start_time": "2025-06-13T12:54:15.228Z"
   },
   {
    "duration": 43,
    "start_time": "2025-06-13T12:54:15.233Z"
   },
   {
    "duration": 4,
    "start_time": "2025-06-13T12:54:15.278Z"
   },
   {
    "duration": 25,
    "start_time": "2025-06-13T12:54:15.284Z"
   },
   {
    "duration": 34,
    "start_time": "2025-06-13T12:54:15.311Z"
   },
   {
    "duration": 13,
    "start_time": "2025-06-13T12:54:15.347Z"
   },
   {
    "duration": 45,
    "start_time": "2025-06-13T12:54:15.362Z"
   },
   {
    "duration": 101,
    "start_time": "2025-06-13T12:54:15.408Z"
   },
   {
    "duration": 8,
    "start_time": "2025-06-13T12:54:15.741Z"
   },
   {
    "duration": 45,
    "start_time": "2025-06-13T12:54:16.039Z"
   },
   {
    "duration": 8,
    "start_time": "2025-06-13T12:54:16.779Z"
   },
   {
    "duration": 19,
    "start_time": "2025-06-13T12:54:17.075Z"
   },
   {
    "duration": 11,
    "start_time": "2025-06-13T12:54:17.812Z"
   },
   {
    "duration": 23,
    "start_time": "2025-06-13T12:54:18.132Z"
   },
   {
    "duration": 6,
    "start_time": "2025-06-13T12:54:19.253Z"
   },
   {
    "duration": 10,
    "start_time": "2025-06-13T12:54:19.675Z"
   },
   {
    "duration": 95,
    "start_time": "2025-06-13T12:54:20.261Z"
   },
   {
    "duration": 99,
    "start_time": "2025-06-13T12:54:20.676Z"
   },
   {
    "duration": 36,
    "start_time": "2025-06-13T12:54:21.481Z"
   },
   {
    "duration": 36,
    "start_time": "2025-06-13T12:54:21.816Z"
   },
   {
    "duration": 14,
    "start_time": "2025-06-13T12:54:22.719Z"
   },
   {
    "duration": 15,
    "start_time": "2025-06-13T12:54:24.942Z"
   },
   {
    "duration": 25,
    "start_time": "2025-06-13T12:54:27.865Z"
   },
   {
    "duration": 19,
    "start_time": "2025-06-13T12:54:28.436Z"
   },
   {
    "duration": 158,
    "start_time": "2025-06-13T12:54:28.457Z"
   },
   {
    "duration": 5,
    "start_time": "2025-06-13T12:54:28.617Z"
   },
   {
    "duration": 8,
    "start_time": "2025-06-13T12:54:29.361Z"
   },
   {
    "duration": 11,
    "start_time": "2025-06-13T12:54:29.744Z"
   },
   {
    "duration": 38,
    "start_time": "2025-06-13T12:54:33.082Z"
   },
   {
    "duration": 114,
    "start_time": "2025-06-13T12:54:35.137Z"
   },
   {
    "duration": 33,
    "start_time": "2025-06-13T12:54:38.667Z"
   },
   {
    "duration": 16,
    "start_time": "2025-06-13T12:54:39.075Z"
   },
   {
    "duration": 23,
    "start_time": "2025-06-13T12:54:39.751Z"
   },
   {
    "duration": 38,
    "start_time": "2025-06-13T12:54:40.085Z"
   },
   {
    "duration": 20,
    "start_time": "2025-06-13T12:54:41.255Z"
   },
   {
    "duration": 4,
    "start_time": "2025-06-13T12:54:41.606Z"
   },
   {
    "duration": 80,
    "start_time": "2025-06-13T12:54:42.301Z"
   },
   {
    "duration": 41,
    "start_time": "2025-06-13T12:54:46.636Z"
   },
   {
    "duration": 37,
    "start_time": "2025-06-13T12:54:46.985Z"
   },
   {
    "duration": 40,
    "start_time": "2025-06-13T12:54:47.306Z"
   },
   {
    "duration": 153,
    "start_time": "2025-06-13T12:54:47.672Z"
   },
   {
    "duration": 33,
    "start_time": "2025-06-13T12:54:48.242Z"
   },
   {
    "duration": 34,
    "start_time": "2025-06-13T12:54:48.554Z"
   },
   {
    "duration": 28,
    "start_time": "2025-06-13T12:54:48.853Z"
   },
   {
    "duration": 3,
    "start_time": "2025-06-13T12:54:49.189Z"
   },
   {
    "duration": 28,
    "start_time": "2025-06-13T12:56:22.251Z"
   },
   {
    "duration": 6,
    "start_time": "2025-06-13T12:56:43.388Z"
   },
   {
    "duration": 8,
    "start_time": "2025-06-13T13:14:28.248Z"
   },
   {
    "duration": 6,
    "start_time": "2025-06-13T13:14:47.640Z"
   },
   {
    "duration": 7,
    "start_time": "2025-06-13T13:14:53.482Z"
   },
   {
    "duration": 81,
    "start_time": "2025-06-13T13:15:54.995Z"
   },
   {
    "duration": 76,
    "start_time": "2025-06-13T13:16:52.404Z"
   },
   {
    "duration": 340,
    "start_time": "2025-06-13T13:19:25.548Z"
   },
   {
    "duration": 531,
    "start_time": "2025-06-13T13:20:07.738Z"
   },
   {
    "duration": 489,
    "start_time": "2025-06-13T13:20:23.520Z"
   },
   {
    "duration": 574,
    "start_time": "2025-06-13T13:20:44.838Z"
   },
   {
    "duration": 456,
    "start_time": "2025-06-13T13:20:57.058Z"
   },
   {
    "duration": 77,
    "start_time": "2025-06-13T13:22:07.085Z"
   },
   {
    "duration": 476,
    "start_time": "2025-06-13T13:22:09.331Z"
   },
   {
    "duration": 483,
    "start_time": "2025-06-13T13:22:42.326Z"
   },
   {
    "duration": 476,
    "start_time": "2025-06-13T13:22:54.641Z"
   },
   {
    "duration": 446,
    "start_time": "2025-06-13T13:24:01.682Z"
   },
   {
    "duration": 615,
    "start_time": "2025-06-13T13:24:17.798Z"
   },
   {
    "duration": 492,
    "start_time": "2025-06-13T13:24:27.558Z"
   },
   {
    "duration": 474,
    "start_time": "2025-06-13T13:25:03.300Z"
   },
   {
    "duration": 132,
    "start_time": "2025-06-13T13:28:44.915Z"
   },
   {
    "duration": 457,
    "start_time": "2025-06-13T13:28:45.390Z"
   },
   {
    "duration": 60,
    "start_time": "2025-06-13T13:29:02.286Z"
   },
   {
    "duration": 453,
    "start_time": "2025-06-13T13:29:03.179Z"
   },
   {
    "duration": 66,
    "start_time": "2025-06-13T13:33:11.417Z"
   },
   {
    "duration": 87,
    "start_time": "2025-06-13T13:33:32.267Z"
   },
   {
    "duration": 82,
    "start_time": "2025-06-13T13:33:39.685Z"
   },
   {
    "duration": 563,
    "start_time": "2025-06-13T13:33:41.691Z"
   },
   {
    "duration": 453,
    "start_time": "2025-06-13T13:47:55.944Z"
   },
   {
    "duration": 3596,
    "start_time": "2025-06-13T14:06:58.476Z"
   },
   {
    "duration": 2133,
    "start_time": "2025-06-13T14:07:02.076Z"
   },
   {
    "duration": 6,
    "start_time": "2025-06-13T14:07:04.211Z"
   },
   {
    "duration": 5,
    "start_time": "2025-06-13T14:07:04.218Z"
   },
   {
    "duration": 12,
    "start_time": "2025-06-13T14:07:04.224Z"
   },
   {
    "duration": 11,
    "start_time": "2025-06-13T14:07:04.238Z"
   },
   {
    "duration": 43,
    "start_time": "2025-06-13T14:07:04.250Z"
   },
   {
    "duration": 418,
    "start_time": "2025-06-13T14:07:04.294Z"
   },
   {
    "duration": 5,
    "start_time": "2025-06-13T14:07:04.714Z"
   },
   {
    "duration": 396,
    "start_time": "2025-06-13T14:07:04.721Z"
   },
   {
    "duration": 4,
    "start_time": "2025-06-13T14:07:06.939Z"
   },
   {
    "duration": 25,
    "start_time": "2025-06-13T14:07:07.605Z"
   },
   {
    "duration": 16,
    "start_time": "2025-06-13T14:07:08.159Z"
   },
   {
    "duration": 3,
    "start_time": "2025-06-13T14:07:08.442Z"
   },
   {
    "duration": 11,
    "start_time": "2025-06-13T14:07:08.714Z"
   },
   {
    "duration": 13,
    "start_time": "2025-06-13T14:07:09.815Z"
   },
   {
    "duration": 23,
    "start_time": "2025-06-13T14:07:10.705Z"
   },
   {
    "duration": 98,
    "start_time": "2025-06-13T14:07:11.014Z"
   },
   {
    "duration": 13,
    "start_time": "2025-06-13T14:07:12.254Z"
   },
   {
    "duration": 36,
    "start_time": "2025-06-13T14:07:12.675Z"
   },
   {
    "duration": 7,
    "start_time": "2025-06-13T14:07:13.275Z"
   },
   {
    "duration": 18,
    "start_time": "2025-06-13T14:07:13.635Z"
   },
   {
    "duration": 8,
    "start_time": "2025-06-13T14:07:14.331Z"
   },
   {
    "duration": 24,
    "start_time": "2025-06-13T14:07:15.230Z"
   },
   {
    "duration": 8,
    "start_time": "2025-06-13T14:07:16.170Z"
   },
   {
    "duration": 8,
    "start_time": "2025-06-13T14:07:17.034Z"
   },
   {
    "duration": 95,
    "start_time": "2025-06-13T14:07:17.645Z"
   },
   {
    "duration": 92,
    "start_time": "2025-06-13T14:07:18.083Z"
   },
   {
    "duration": 34,
    "start_time": "2025-06-13T14:07:19.075Z"
   },
   {
    "duration": 44,
    "start_time": "2025-06-13T14:07:19.434Z"
   },
   {
    "duration": 19,
    "start_time": "2025-06-13T14:07:21.455Z"
   },
   {
    "duration": 16,
    "start_time": "2025-06-13T14:07:22.483Z"
   },
   {
    "duration": 25,
    "start_time": "2025-06-13T14:07:23.352Z"
   },
   {
    "duration": 19,
    "start_time": "2025-06-13T14:07:23.833Z"
   },
   {
    "duration": 168,
    "start_time": "2025-06-13T14:07:25.043Z"
   },
   {
    "duration": 5,
    "start_time": "2025-06-13T14:07:25.676Z"
   },
   {
    "duration": 4,
    "start_time": "2025-06-13T14:07:27.643Z"
   },
   {
    "duration": 14,
    "start_time": "2025-06-13T14:07:28.065Z"
   },
   {
    "duration": 42,
    "start_time": "2025-06-13T14:07:28.360Z"
   },
   {
    "duration": 29,
    "start_time": "2025-06-13T14:07:28.923Z"
   },
   {
    "duration": 12,
    "start_time": "2025-06-13T14:07:29.363Z"
   },
   {
    "duration": 56,
    "start_time": "2025-06-13T14:07:31.075Z"
   },
   {
    "duration": 408,
    "start_time": "2025-06-13T14:07:31.425Z"
   },
   {
    "duration": 331,
    "start_time": "2025-06-13T14:10:40.909Z"
   },
   {
    "duration": 248,
    "start_time": "2025-06-13T14:22:00.896Z"
   },
   {
    "duration": 50,
    "start_time": "2025-06-13T14:23:37.288Z"
   },
   {
    "duration": 187,
    "start_time": "2025-06-13T14:23:38.722Z"
   },
   {
    "duration": 43,
    "start_time": "2025-06-13T14:24:36.311Z"
   },
   {
    "duration": 197,
    "start_time": "2025-06-13T14:24:37.385Z"
   },
   {
    "duration": 42,
    "start_time": "2025-06-13T14:33:20.362Z"
   },
   {
    "duration": 173,
    "start_time": "2025-06-13T14:33:20.824Z"
   },
   {
    "duration": 40,
    "start_time": "2025-06-13T14:33:51.759Z"
   },
   {
    "duration": 176,
    "start_time": "2025-06-13T14:33:52.708Z"
   },
   {
    "duration": 21,
    "start_time": "2025-06-13T14:35:03.875Z"
   },
   {
    "duration": 25,
    "start_time": "2025-06-13T14:35:05.292Z"
   },
   {
    "duration": 271,
    "start_time": "2025-06-13T14:35:07.582Z"
   },
   {
    "duration": 4,
    "start_time": "2025-06-13T14:36:00.405Z"
   },
   {
    "duration": 3,
    "start_time": "2025-06-13T14:36:42.462Z"
   },
   {
    "duration": 25,
    "start_time": "2025-06-13T14:36:43.207Z"
   },
   {
    "duration": 191,
    "start_time": "2025-06-13T14:36:43.828Z"
   },
   {
    "duration": 5,
    "start_time": "2025-06-13T14:38:47.948Z"
   },
   {
    "duration": 26,
    "start_time": "2025-06-13T14:38:48.395Z"
   },
   {
    "duration": 735,
    "start_time": "2025-06-13T14:38:50.111Z"
   },
   {
    "duration": 34,
    "start_time": "2025-06-13T14:39:23.957Z"
   },
   {
    "duration": 699,
    "start_time": "2025-06-13T14:39:25.245Z"
   },
   {
    "duration": 289,
    "start_time": "2025-06-13T14:41:34.435Z"
   },
   {
    "duration": 287,
    "start_time": "2025-06-13T14:44:09.441Z"
   },
   {
    "duration": 7,
    "start_time": "2025-06-13T14:45:50.942Z"
   },
   {
    "duration": 26,
    "start_time": "2025-06-13T14:50:09.310Z"
   },
   {
    "duration": 283,
    "start_time": "2025-06-13T14:50:30.940Z"
   },
   {
    "duration": 27,
    "start_time": "2025-06-13T14:53:27.147Z"
   },
   {
    "duration": 348,
    "start_time": "2025-06-13T14:53:27.881Z"
   },
   {
    "duration": 26,
    "start_time": "2025-06-13T14:54:38.709Z"
   },
   {
    "duration": 26,
    "start_time": "2025-06-13T15:03:49.335Z"
   },
   {
    "duration": 25,
    "start_time": "2025-06-13T15:07:22.232Z"
   },
   {
    "duration": 309,
    "start_time": "2025-06-13T15:07:33.586Z"
   },
   {
    "duration": 30,
    "start_time": "2025-06-13T15:12:03.940Z"
   },
   {
    "duration": 306,
    "start_time": "2025-06-13T15:12:04.683Z"
   },
   {
    "duration": 300,
    "start_time": "2025-06-13T15:12:05.393Z"
   },
   {
    "duration": 317,
    "start_time": "2025-06-13T15:26:58.058Z"
   },
   {
    "duration": 315,
    "start_time": "2025-06-13T15:27:19.179Z"
   },
   {
    "duration": 26,
    "start_time": "2025-06-13T15:36:05.165Z"
   },
   {
    "duration": 304,
    "start_time": "2025-06-13T15:36:15.772Z"
   },
   {
    "duration": 5,
    "start_time": "2025-06-13T15:39:11.154Z"
   },
   {
    "duration": 4,
    "start_time": "2025-06-13T15:39:14.086Z"
   },
   {
    "duration": 21,
    "start_time": "2025-06-13T15:39:15.331Z"
   },
   {
    "duration": 8,
    "start_time": "2025-06-13T15:39:15.695Z"
   },
   {
    "duration": 29,
    "start_time": "2025-06-13T15:40:08.160Z"
   },
   {
    "duration": 336,
    "start_time": "2025-06-13T15:40:09.214Z"
   },
   {
    "duration": 256,
    "start_time": "2025-06-13T15:40:09.776Z"
   },
   {
    "duration": 28,
    "start_time": "2025-06-13T15:40:53.764Z"
   },
   {
    "duration": 8,
    "start_time": "2025-06-13T15:40:54.203Z"
   },
   {
    "duration": 7,
    "start_time": "2025-06-13T15:40:54.582Z"
   },
   {
    "duration": 1970,
    "start_time": "2025-06-13T15:49:12.622Z"
   },
   {
    "duration": 0,
    "start_time": "2025-06-13T15:49:14.594Z"
   },
   {
    "duration": 25,
    "start_time": "2025-06-13T15:49:48.730Z"
   },
   {
    "duration": 107,
    "start_time": "2025-06-13T15:51:55.123Z"
   },
   {
    "duration": 27,
    "start_time": "2025-06-13T15:52:00.420Z"
   },
   {
    "duration": 8,
    "start_time": "2025-06-13T15:53:21.000Z"
   },
   {
    "duration": 10,
    "start_time": "2025-06-13T15:53:42.495Z"
   },
   {
    "duration": 9,
    "start_time": "2025-06-13T15:53:43.652Z"
   },
   {
    "duration": 7,
    "start_time": "2025-06-13T15:53:44.804Z"
   },
   {
    "duration": 2287,
    "start_time": "2025-06-13T15:55:13.733Z"
   },
   {
    "duration": 3370,
    "start_time": "2025-06-13T15:55:16.022Z"
   },
   {
    "duration": 5,
    "start_time": "2025-06-13T15:55:19.394Z"
   },
   {
    "duration": 34,
    "start_time": "2025-06-13T15:55:19.401Z"
   },
   {
    "duration": 4,
    "start_time": "2025-06-13T15:55:21.657Z"
   },
   {
    "duration": 4,
    "start_time": "2025-06-13T15:55:21.948Z"
   },
   {
    "duration": 4,
    "start_time": "2025-06-13T15:55:22.238Z"
   },
   {
    "duration": 384,
    "start_time": "2025-06-13T15:55:24.199Z"
   },
   {
    "duration": 4,
    "start_time": "2025-06-13T15:55:24.584Z"
   },
   {
    "duration": 376,
    "start_time": "2025-06-13T15:55:25.807Z"
   },
   {
    "duration": 4,
    "start_time": "2025-06-13T15:55:26.185Z"
   },
   {
    "duration": 25,
    "start_time": "2025-06-13T15:55:27.417Z"
   },
   {
    "duration": 4,
    "start_time": "2025-06-13T15:55:27.730Z"
   },
   {
    "duration": 3,
    "start_time": "2025-06-13T15:55:28.831Z"
   },
   {
    "duration": 9,
    "start_time": "2025-06-13T15:55:29.239Z"
   },
   {
    "duration": 8,
    "start_time": "2025-06-13T15:55:35.160Z"
   },
   {
    "duration": 11,
    "start_time": "2025-06-13T15:55:35.562Z"
   },
   {
    "duration": 24,
    "start_time": "2025-06-13T15:55:37.131Z"
   },
   {
    "duration": 91,
    "start_time": "2025-06-13T15:55:38.009Z"
   },
   {
    "duration": 9,
    "start_time": "2025-06-13T15:55:39.390Z"
   },
   {
    "duration": 37,
    "start_time": "2025-06-13T15:55:41.138Z"
   },
   {
    "duration": 24,
    "start_time": "2025-06-13T15:55:42.257Z"
   },
   {
    "duration": 19,
    "start_time": "2025-06-13T15:55:42.516Z"
   },
   {
    "duration": 8,
    "start_time": "2025-06-13T15:55:44.175Z"
   },
   {
    "duration": 23,
    "start_time": "2025-06-13T15:55:45.364Z"
   },
   {
    "duration": 6,
    "start_time": "2025-06-13T15:55:47.134Z"
   },
   {
    "duration": 7,
    "start_time": "2025-06-13T15:55:50.156Z"
   },
   {
    "duration": 7,
    "start_time": "2025-06-13T15:55:50.568Z"
   },
   {
    "duration": 92,
    "start_time": "2025-06-13T15:55:52.079Z"
   },
   {
    "duration": 92,
    "start_time": "2025-06-13T15:55:52.855Z"
   },
   {
    "duration": 36,
    "start_time": "2025-06-13T15:55:54.767Z"
   },
   {
    "duration": 37,
    "start_time": "2025-06-13T15:55:55.201Z"
   },
   {
    "duration": 14,
    "start_time": "2025-06-13T15:55:56.306Z"
   },
   {
    "duration": 15,
    "start_time": "2025-06-13T15:55:56.722Z"
   },
   {
    "duration": 19,
    "start_time": "2025-06-13T15:55:57.815Z"
   },
   {
    "duration": 19,
    "start_time": "2025-06-13T15:55:58.520Z"
   },
   {
    "duration": 146,
    "start_time": "2025-06-13T15:56:00.439Z"
   },
   {
    "duration": 6,
    "start_time": "2025-06-13T15:56:00.778Z"
   },
   {
    "duration": 4,
    "start_time": "2025-06-13T15:56:03.358Z"
   },
   {
    "duration": 31,
    "start_time": "2025-06-13T15:56:04.804Z"
   },
   {
    "duration": 2066,
    "start_time": "2025-06-13T15:56:05.265Z"
   },
   {
    "duration": 44,
    "start_time": "2025-06-13T15:56:24.007Z"
   },
   {
    "duration": 29,
    "start_time": "2025-06-13T15:56:27.957Z"
   },
   {
    "duration": 7,
    "start_time": "2025-06-13T15:56:29.047Z"
   },
   {
    "duration": 38,
    "start_time": "2025-06-13T15:57:25.006Z"
   },
   {
    "duration": 6,
    "start_time": "2025-06-13T15:57:26.224Z"
   },
   {
    "duration": 1271,
    "start_time": "2025-06-13T16:07:39.140Z"
   },
   {
    "duration": 95,
    "start_time": "2025-06-13T16:07:40.581Z"
   },
   {
    "duration": 13,
    "start_time": "2025-06-13T16:07:58.372Z"
   },
   {
    "duration": 39,
    "start_time": "2025-06-13T16:08:15.722Z"
   },
   {
    "duration": 13,
    "start_time": "2025-06-13T16:08:16.397Z"
   },
   {
    "duration": 14,
    "start_time": "2025-06-13T16:09:44.174Z"
   },
   {
    "duration": 31,
    "start_time": "2025-06-13T16:09:50.149Z"
   },
   {
    "duration": 14,
    "start_time": "2025-06-13T16:09:50.557Z"
   },
   {
    "duration": 13,
    "start_time": "2025-06-13T16:10:03.655Z"
   },
   {
    "duration": 3429,
    "start_time": "2025-06-13T16:11:37.530Z"
   },
   {
    "duration": 1934,
    "start_time": "2025-06-13T16:11:40.961Z"
   },
   {
    "duration": 7,
    "start_time": "2025-06-13T16:11:42.896Z"
   },
   {
    "duration": 14,
    "start_time": "2025-06-13T16:11:42.904Z"
   },
   {
    "duration": 6,
    "start_time": "2025-06-13T16:11:42.919Z"
   },
   {
    "duration": 19,
    "start_time": "2025-06-13T16:11:42.926Z"
   },
   {
    "duration": 34,
    "start_time": "2025-06-13T16:11:42.946Z"
   },
   {
    "duration": 400,
    "start_time": "2025-06-13T16:11:42.982Z"
   },
   {
    "duration": 4,
    "start_time": "2025-06-13T16:11:45.251Z"
   },
   {
    "duration": 357,
    "start_time": "2025-06-13T16:11:46.410Z"
   },
   {
    "duration": 4,
    "start_time": "2025-06-13T16:11:46.769Z"
   },
   {
    "duration": 26,
    "start_time": "2025-06-13T16:11:47.791Z"
   },
   {
    "duration": 4,
    "start_time": "2025-06-13T16:11:48.149Z"
   },
   {
    "duration": 2,
    "start_time": "2025-06-13T16:11:48.957Z"
   },
   {
    "duration": 10,
    "start_time": "2025-06-13T16:11:49.333Z"
   },
   {
    "duration": 14,
    "start_time": "2025-06-13T16:11:50.023Z"
   },
   {
    "duration": 23,
    "start_time": "2025-06-13T16:11:51.363Z"
   },
   {
    "duration": 89,
    "start_time": "2025-06-13T16:11:52.062Z"
   },
   {
    "duration": 9,
    "start_time": "2025-06-13T16:11:53.373Z"
   },
   {
    "duration": 38,
    "start_time": "2025-06-13T16:11:54.734Z"
   },
   {
    "duration": 7,
    "start_time": "2025-06-13T16:11:56.728Z"
   },
   {
    "duration": 18,
    "start_time": "2025-06-13T16:11:57.015Z"
   },
   {
    "duration": 8,
    "start_time": "2025-06-13T16:11:58.383Z"
   },
   {
    "duration": 22,
    "start_time": "2025-06-13T16:11:59.084Z"
   },
   {
    "duration": 8,
    "start_time": "2025-06-13T16:12:00.364Z"
   },
   {
    "duration": 9,
    "start_time": "2025-06-13T16:12:00.696Z"
   },
   {
    "duration": 97,
    "start_time": "2025-06-13T16:12:01.674Z"
   },
   {
    "duration": 91,
    "start_time": "2025-06-13T16:12:02.067Z"
   },
   {
    "duration": 36,
    "start_time": "2025-06-13T16:12:03.144Z"
   },
   {
    "duration": 36,
    "start_time": "2025-06-13T16:12:03.986Z"
   },
   {
    "duration": 17,
    "start_time": "2025-06-13T16:12:05.058Z"
   },
   {
    "duration": 17,
    "start_time": "2025-06-13T16:12:05.357Z"
   },
   {
    "duration": 20,
    "start_time": "2025-06-13T16:12:06.434Z"
   },
   {
    "duration": 20,
    "start_time": "2025-06-13T16:12:07.158Z"
   },
   {
    "duration": 163,
    "start_time": "2025-06-13T16:12:08.607Z"
   },
   {
    "duration": 5,
    "start_time": "2025-06-13T16:12:09.226Z"
   },
   {
    "duration": 4,
    "start_time": "2025-06-13T16:12:11.056Z"
   },
   {
    "duration": 114,
    "start_time": "2025-06-13T16:12:12.419Z"
   },
   {
    "duration": 62,
    "start_time": "2025-06-13T16:13:15.265Z"
   },
   {
    "duration": 10,
    "start_time": "2025-06-13T16:13:18.058Z"
   },
   {
    "duration": 5,
    "start_time": "2025-06-13T16:13:18.915Z"
   },
   {
    "duration": 17,
    "start_time": "2025-06-13T16:13:20.778Z"
   },
   {
    "duration": 3,
    "start_time": "2025-06-13T16:13:22.246Z"
   },
   {
    "duration": 26,
    "start_time": "2025-06-13T16:13:23.087Z"
   },
   {
    "duration": 361,
    "start_time": "2025-06-13T16:13:26.955Z"
   },
   {
    "duration": 287,
    "start_time": "2025-06-13T16:13:40.190Z"
   },
   {
    "duration": 293,
    "start_time": "2025-06-13T16:13:49.717Z"
   },
   {
    "duration": 266,
    "start_time": "2025-06-13T16:14:02.148Z"
   },
   {
    "duration": 285,
    "start_time": "2025-06-13T16:17:24.035Z"
   },
   {
    "duration": 251,
    "start_time": "2025-06-13T16:17:58.574Z"
   },
   {
    "duration": 390,
    "start_time": "2025-06-13T16:18:24.272Z"
   },
   {
    "duration": 23,
    "start_time": "2025-06-13T16:19:07.946Z"
   },
   {
    "duration": 396,
    "start_time": "2025-06-13T16:19:10.450Z"
   },
   {
    "duration": 21,
    "start_time": "2025-06-13T16:19:22.175Z"
   },
   {
    "duration": 478,
    "start_time": "2025-06-13T16:19:22.652Z"
   },
   {
    "duration": 33,
    "start_time": "2025-06-13T16:20:11.808Z"
   },
   {
    "duration": 5,
    "start_time": "2025-06-13T16:20:12.507Z"
   },
   {
    "duration": 5,
    "start_time": "2025-06-13T16:20:13.966Z"
   },
   {
    "duration": 17,
    "start_time": "2025-06-13T16:20:16.085Z"
   },
   {
    "duration": 3,
    "start_time": "2025-06-13T16:20:17.307Z"
   },
   {
    "duration": 26,
    "start_time": "2025-06-13T16:20:17.731Z"
   },
   {
    "duration": 420,
    "start_time": "2025-06-13T16:20:18.695Z"
   },
   {
    "duration": 278,
    "start_time": "2025-06-13T16:20:28.284Z"
   },
   {
    "duration": 391,
    "start_time": "2025-06-13T16:22:42.354Z"
   },
   {
    "duration": 273,
    "start_time": "2025-06-13T16:22:42.746Z"
   },
   {
    "duration": 16,
    "start_time": "2025-06-13T16:34:48.698Z"
   },
   {
    "duration": 93,
    "start_time": "2025-06-13T16:37:32.609Z"
   },
   {
    "duration": 3,
    "start_time": "2025-06-13T16:42:43.898Z"
   },
   {
    "duration": 16,
    "start_time": "2025-06-13T16:44:12.923Z"
   },
   {
    "duration": 11,
    "start_time": "2025-06-13T16:44:23.722Z"
   },
   {
    "duration": 15,
    "start_time": "2025-06-13T16:44:24.059Z"
   },
   {
    "duration": 93,
    "start_time": "2025-06-13T16:50:59.879Z"
   },
   {
    "duration": 92,
    "start_time": "2025-06-13T16:51:08.070Z"
   },
   {
    "duration": 93,
    "start_time": "2025-06-13T16:51:23.328Z"
   },
   {
    "duration": 95,
    "start_time": "2025-06-13T16:51:53.723Z"
   },
   {
    "duration": 11,
    "start_time": "2025-06-13T16:53:39.756Z"
   },
   {
    "duration": 13,
    "start_time": "2025-06-13T16:53:54.768Z"
   },
   {
    "duration": 84,
    "start_time": "2025-06-13T16:56:04.234Z"
   },
   {
    "duration": 10,
    "start_time": "2025-06-13T16:56:06.025Z"
   },
   {
    "duration": 13,
    "start_time": "2025-06-13T16:57:20.876Z"
   },
   {
    "duration": 1524,
    "start_time": "2025-06-13T17:09:07.877Z"
   },
   {
    "duration": 1782,
    "start_time": "2025-06-13T17:11:04.233Z"
   },
   {
    "duration": 14,
    "start_time": "2025-06-13T17:13:57.218Z"
   },
   {
    "duration": 15,
    "start_time": "2025-06-13T17:15:02.210Z"
   },
   {
    "duration": 9,
    "start_time": "2025-06-13T17:27:35.933Z"
   },
   {
    "duration": 14,
    "start_time": "2025-06-13T17:28:27.028Z"
   },
   {
    "duration": 15,
    "start_time": "2025-06-13T17:28:59.236Z"
   },
   {
    "duration": 13,
    "start_time": "2025-06-13T17:31:11.421Z"
   },
   {
    "duration": 1531,
    "start_time": "2025-06-13T18:00:54.114Z"
   },
   {
    "duration": 16,
    "start_time": "2025-06-13T18:01:14.493Z"
   },
   {
    "duration": 6,
    "start_time": "2025-06-13T18:01:14.871Z"
   },
   {
    "duration": 7,
    "start_time": "2025-06-13T18:03:44.232Z"
   },
   {
    "duration": 6,
    "start_time": "2025-06-13T18:05:15.583Z"
   },
   {
    "duration": 5,
    "start_time": "2025-06-13T18:05:30.479Z"
   },
   {
    "duration": 7,
    "start_time": "2025-06-13T18:06:11.158Z"
   },
   {
    "duration": 5,
    "start_time": "2025-06-13T18:20:30.769Z"
   },
   {
    "duration": 1239,
    "start_time": "2025-06-13T18:47:11.432Z"
   },
   {
    "duration": 15,
    "start_time": "2025-06-13T18:47:21.855Z"
   },
   {
    "duration": 6,
    "start_time": "2025-06-13T18:47:22.847Z"
   },
   {
    "duration": 1278,
    "start_time": "2025-06-13T18:47:26.329Z"
   },
   {
    "duration": 6,
    "start_time": "2025-06-13T18:48:13.758Z"
   },
   {
    "duration": 8,
    "start_time": "2025-06-13T18:48:36.342Z"
   },
   {
    "duration": 48,
    "start_time": "2025-06-14T08:25:51.443Z"
   },
   {
    "duration": 7,
    "start_time": "2025-06-14T08:25:53.565Z"
   },
   {
    "duration": 4534,
    "start_time": "2025-06-14T08:26:18.080Z"
   },
   {
    "duration": 2193,
    "start_time": "2025-06-14T08:26:22.616Z"
   },
   {
    "duration": 8,
    "start_time": "2025-06-14T08:26:24.810Z"
   },
   {
    "duration": 6,
    "start_time": "2025-06-14T08:26:24.820Z"
   },
   {
    "duration": 4,
    "start_time": "2025-06-14T08:26:24.828Z"
   },
   {
    "duration": 5,
    "start_time": "2025-06-14T08:26:24.858Z"
   },
   {
    "duration": 58,
    "start_time": "2025-06-14T08:26:24.865Z"
   },
   {
    "duration": 386,
    "start_time": "2025-06-14T08:26:24.924Z"
   },
   {
    "duration": 3,
    "start_time": "2025-06-14T08:26:26.205Z"
   },
   {
    "duration": 343,
    "start_time": "2025-06-14T08:26:26.626Z"
   },
   {
    "duration": 5,
    "start_time": "2025-06-14T08:26:27.094Z"
   },
   {
    "duration": 23,
    "start_time": "2025-06-14T08:26:28.254Z"
   },
   {
    "duration": 4,
    "start_time": "2025-06-14T08:26:28.797Z"
   },
   {
    "duration": 5,
    "start_time": "2025-06-14T08:26:28.802Z"
   },
   {
    "duration": 11,
    "start_time": "2025-06-14T08:26:28.824Z"
   },
   {
    "duration": 13,
    "start_time": "2025-06-14T08:26:28.862Z"
   },
   {
    "duration": 24,
    "start_time": "2025-06-14T08:26:30.914Z"
   },
   {
    "duration": 110,
    "start_time": "2025-06-14T08:26:31.449Z"
   },
   {
    "duration": 9,
    "start_time": "2025-06-14T08:26:32.916Z"
   },
   {
    "duration": 39,
    "start_time": "2025-06-14T08:26:33.715Z"
   },
   {
    "duration": 8,
    "start_time": "2025-06-14T08:26:34.841Z"
   },
   {
    "duration": 20,
    "start_time": "2025-06-14T08:26:35.325Z"
   },
   {
    "duration": 8,
    "start_time": "2025-06-14T08:26:36.365Z"
   },
   {
    "duration": 39,
    "start_time": "2025-06-14T08:26:36.926Z"
   },
   {
    "duration": 7,
    "start_time": "2025-06-14T08:26:38.805Z"
   },
   {
    "duration": 10,
    "start_time": "2025-06-14T08:26:40.216Z"
   },
   {
    "duration": 95,
    "start_time": "2025-06-14T08:26:41.694Z"
   },
   {
    "duration": 97,
    "start_time": "2025-06-14T08:26:42.312Z"
   },
   {
    "duration": 40,
    "start_time": "2025-06-14T08:26:43.555Z"
   },
   {
    "duration": 39,
    "start_time": "2025-06-14T08:26:44.012Z"
   },
   {
    "duration": 16,
    "start_time": "2025-06-14T08:26:45.004Z"
   },
   {
    "duration": 16,
    "start_time": "2025-06-14T08:26:45.555Z"
   },
   {
    "duration": 21,
    "start_time": "2025-06-14T08:26:47.117Z"
   },
   {
    "duration": 21,
    "start_time": "2025-06-14T08:26:47.634Z"
   },
   {
    "duration": 140,
    "start_time": "2025-06-14T08:26:47.745Z"
   },
   {
    "duration": 6,
    "start_time": "2025-06-14T08:26:47.886Z"
   },
   {
    "duration": 4,
    "start_time": "2025-06-14T08:26:47.911Z"
   },
   {
    "duration": 38,
    "start_time": "2025-06-14T08:26:47.937Z"
   },
   {
    "duration": 13,
    "start_time": "2025-06-14T08:26:48.567Z"
   },
   {
    "duration": 5,
    "start_time": "2025-06-14T08:26:49.187Z"
   },
   {
    "duration": 23,
    "start_time": "2025-06-14T08:26:50.717Z"
   },
   {
    "duration": 4,
    "start_time": "2025-06-14T08:26:51.125Z"
   },
   {
    "duration": 32,
    "start_time": "2025-06-14T08:26:51.773Z"
   },
   {
    "duration": 507,
    "start_time": "2025-06-14T08:26:52.301Z"
   },
   {
    "duration": 311,
    "start_time": "2025-06-14T08:26:52.810Z"
   },
   {
    "duration": 20,
    "start_time": "2025-06-14T08:26:53.408Z"
   },
   {
    "duration": 17,
    "start_time": "2025-06-14T08:26:53.924Z"
   },
   {
    "duration": 17,
    "start_time": "2025-06-14T08:26:54.637Z"
   },
   {
    "duration": 48,
    "start_time": "2025-06-14T08:26:55.153Z"
   },
   {
    "duration": 13,
    "start_time": "2025-06-14T08:26:55.713Z"
   },
   {
    "duration": 40,
    "start_time": "2025-06-14T08:26:56.234Z"
   },
   {
    "duration": 148,
    "start_time": "2025-06-14T08:26:56.766Z"
   },
   {
    "duration": 24,
    "start_time": "2025-06-14T08:26:57.500Z"
   },
   {
    "duration": 30,
    "start_time": "2025-06-14T08:26:57.914Z"
   },
   {
    "duration": 24,
    "start_time": "2025-06-14T08:26:58.483Z"
   },
   {
    "duration": 72,
    "start_time": "2025-06-14T08:26:59.085Z"
   },
   {
    "duration": 17,
    "start_time": "2025-06-14T08:27:00.713Z"
   },
   {
    "duration": 6,
    "start_time": "2025-06-14T08:27:01.354Z"
   },
   {
    "duration": 10,
    "start_time": "2025-06-14T08:27:03.525Z"
   },
   {
    "duration": 110,
    "start_time": "2025-06-14T08:27:04.752Z"
   },
   {
    "duration": 367,
    "start_time": "2025-06-14T08:27:05.375Z"
   },
   {
    "duration": 12,
    "start_time": "2025-06-14T08:27:54.184Z"
   },
   {
    "duration": 13,
    "start_time": "2025-06-14T08:28:25.972Z"
   },
   {
    "duration": 9,
    "start_time": "2025-06-14T08:28:36.314Z"
   },
   {
    "duration": 9,
    "start_time": "2025-06-14T08:28:44.874Z"
   },
   {
    "duration": 10,
    "start_time": "2025-06-14T08:31:32.924Z"
   },
   {
    "duration": 10,
    "start_time": "2025-06-14T08:32:30.244Z"
   },
   {
    "duration": 34,
    "start_time": "2025-06-14T08:34:31.864Z"
   },
   {
    "duration": 26,
    "start_time": "2025-06-14T08:34:42.566Z"
   },
   {
    "duration": 23,
    "start_time": "2025-06-14T08:34:52.252Z"
   },
   {
    "duration": 20,
    "start_time": "2025-06-14T08:34:55.474Z"
   },
   {
    "duration": 5,
    "start_time": "2025-06-14T08:34:57.399Z"
   },
   {
    "duration": 10,
    "start_time": "2025-06-14T08:34:59.232Z"
   },
   {
    "duration": 11,
    "start_time": "2025-06-14T08:35:01.922Z"
   },
   {
    "duration": 361,
    "start_time": "2025-06-14T08:35:02.384Z"
   },
   {
    "duration": 319,
    "start_time": "2025-06-14T08:35:27.364Z"
   },
   {
    "duration": 225,
    "start_time": "2025-06-14T08:35:32.515Z"
   },
   {
    "duration": 17,
    "start_time": "2025-06-14T08:35:57.281Z"
   },
   {
    "duration": 309,
    "start_time": "2025-06-14T08:37:10.963Z"
   },
   {
    "duration": 18,
    "start_time": "2025-06-14T08:37:11.283Z"
   },
   {
    "duration": 222,
    "start_time": "2025-06-14T08:37:48.723Z"
   },
   {
    "duration": 20,
    "start_time": "2025-06-14T08:37:50.363Z"
   },
   {
    "duration": 4,
    "start_time": "2025-06-14T08:45:56.435Z"
   },
   {
    "duration": 6,
    "start_time": "2025-06-14T08:46:15.804Z"
   },
   {
    "duration": 11,
    "start_time": "2025-06-14T08:46:32.763Z"
   },
   {
    "duration": 9,
    "start_time": "2025-06-14T08:47:02.645Z"
   },
   {
    "duration": 10,
    "start_time": "2025-06-14T08:47:22.964Z"
   },
   {
    "duration": 6,
    "start_time": "2025-06-14T08:47:47.355Z"
   },
   {
    "duration": 5,
    "start_time": "2025-06-14T08:47:56.934Z"
   },
   {
    "duration": 5,
    "start_time": "2025-06-14T08:48:24.943Z"
   },
   {
    "duration": 8,
    "start_time": "2025-06-14T08:48:46.983Z"
   },
   {
    "duration": 8,
    "start_time": "2025-06-14T08:49:00.154Z"
   },
   {
    "duration": 6,
    "start_time": "2025-06-14T08:49:14.863Z"
   },
   {
    "duration": 10,
    "start_time": "2025-06-14T08:50:34.173Z"
   },
   {
    "duration": 9,
    "start_time": "2025-06-14T08:50:42.081Z"
   },
   {
    "duration": 11,
    "start_time": "2025-06-14T08:53:44.482Z"
   },
   {
    "duration": 277,
    "start_time": "2025-06-14T08:56:01.144Z"
   },
   {
    "duration": 20,
    "start_time": "2025-06-14T08:56:01.731Z"
   },
   {
    "duration": 15,
    "start_time": "2025-06-14T08:56:02.393Z"
   },
   {
    "duration": 12,
    "start_time": "2025-06-14T08:58:10.724Z"
   },
   {
    "duration": 28,
    "start_time": "2025-06-14T08:58:54.593Z"
   },
   {
    "duration": 1608,
    "start_time": "2025-06-14T09:14:06.185Z"
   },
   {
    "duration": 1,
    "start_time": "2025-06-14T09:14:07.795Z"
   },
   {
    "duration": 819,
    "start_time": "2025-06-14T09:15:26.336Z"
   },
   {
    "duration": 21,
    "start_time": "2025-06-14T09:15:28.778Z"
   },
   {
    "duration": 753,
    "start_time": "2025-06-14T09:16:05.869Z"
   },
   {
    "duration": 21,
    "start_time": "2025-06-14T09:16:17.648Z"
   },
   {
    "duration": 29,
    "start_time": "2025-06-14T09:16:19.706Z"
   },
   {
    "duration": 843,
    "start_time": "2025-06-14T09:18:04.081Z"
   },
   {
    "duration": 829,
    "start_time": "2025-06-14T09:18:36.590Z"
   },
   {
    "duration": 79,
    "start_time": "2025-06-14T10:10:58.727Z"
   },
   {
    "duration": 83,
    "start_time": "2025-06-14T10:11:10.536Z"
   },
   {
    "duration": 36,
    "start_time": "2025-06-14T10:11:11.259Z"
   },
   {
    "duration": 12,
    "start_time": "2025-06-14T10:11:11.788Z"
   },
   {
    "duration": 22,
    "start_time": "2025-06-14T10:11:48.989Z"
   },
   {
    "duration": 1821,
    "start_time": "2025-06-14T10:11:53.877Z"
   },
   {
    "duration": 28,
    "start_time": "2025-06-14T10:11:58.856Z"
   },
   {
    "duration": 18,
    "start_time": "2025-06-14T10:12:56.719Z"
   },
   {
    "duration": 5,
    "start_time": "2025-06-14T10:13:04.210Z"
   },
   {
    "duration": 6,
    "start_time": "2025-06-14T10:13:37.488Z"
   },
   {
    "duration": 29,
    "start_time": "2025-06-14T10:15:19.838Z"
   },
   {
    "duration": 16,
    "start_time": "2025-06-14T10:15:20.271Z"
   },
   {
    "duration": 4,
    "start_time": "2025-06-14T10:15:24.828Z"
   },
   {
    "duration": 4,
    "start_time": "2025-06-14T10:16:56.079Z"
   },
   {
    "duration": 6,
    "start_time": "2025-06-14T10:17:19.289Z"
   },
   {
    "duration": 11,
    "start_time": "2025-06-14T10:22:34.252Z"
   },
   {
    "duration": 867,
    "start_time": "2025-06-14T10:22:49.898Z"
   },
   {
    "duration": 1414,
    "start_time": "2025-06-14T10:22:52.159Z"
   },
   {
    "duration": 9,
    "start_time": "2025-06-14T10:25:24.537Z"
   },
   {
    "duration": 4842,
    "start_time": "2025-06-14T11:51:14.240Z"
   },
   {
    "duration": 1973,
    "start_time": "2025-06-14T11:51:19.084Z"
   },
   {
    "duration": 6,
    "start_time": "2025-06-14T11:51:21.059Z"
   },
   {
    "duration": 58,
    "start_time": "2025-06-14T11:51:21.067Z"
   },
   {
    "duration": 21,
    "start_time": "2025-06-14T11:51:21.126Z"
   },
   {
    "duration": 27,
    "start_time": "2025-06-14T11:51:21.148Z"
   },
   {
    "duration": 94,
    "start_time": "2025-06-14T11:51:21.177Z"
   },
   {
    "duration": 379,
    "start_time": "2025-06-14T11:51:21.273Z"
   },
   {
    "duration": 4,
    "start_time": "2025-06-14T11:51:21.654Z"
   },
   {
    "duration": 358,
    "start_time": "2025-06-14T11:51:21.660Z"
   },
   {
    "duration": 5,
    "start_time": "2025-06-14T11:51:22.019Z"
   },
   {
    "duration": 28,
    "start_time": "2025-06-14T11:51:22.025Z"
   },
   {
    "duration": 90,
    "start_time": "2025-06-14T11:51:22.055Z"
   },
   {
    "duration": 31,
    "start_time": "2025-06-14T11:51:22.147Z"
   },
   {
    "duration": 45,
    "start_time": "2025-06-14T11:51:22.180Z"
   },
   {
    "duration": 38,
    "start_time": "2025-06-14T11:51:22.226Z"
   },
   {
    "duration": 46,
    "start_time": "2025-06-14T11:51:22.265Z"
   },
   {
    "duration": 129,
    "start_time": "2025-06-14T11:51:22.313Z"
   },
   {
    "duration": 9,
    "start_time": "2025-06-14T11:51:22.444Z"
   },
   {
    "duration": 68,
    "start_time": "2025-06-14T11:51:22.454Z"
   },
   {
    "duration": 17,
    "start_time": "2025-06-14T11:51:22.524Z"
   },
   {
    "duration": 32,
    "start_time": "2025-06-14T11:51:22.542Z"
   },
   {
    "duration": 9,
    "start_time": "2025-06-14T11:51:22.576Z"
   },
   {
    "duration": 24,
    "start_time": "2025-06-14T11:51:22.587Z"
   },
   {
    "duration": 8,
    "start_time": "2025-06-14T11:51:22.613Z"
   },
   {
    "duration": 11,
    "start_time": "2025-06-14T11:51:24.992Z"
   },
   {
    "duration": 100,
    "start_time": "2025-06-14T11:51:26.338Z"
   },
   {
    "duration": 99,
    "start_time": "2025-06-14T11:51:26.640Z"
   },
   {
    "duration": 40,
    "start_time": "2025-06-14T11:51:27.972Z"
   },
   {
    "duration": 42,
    "start_time": "2025-06-14T11:51:28.471Z"
   },
   {
    "duration": 14,
    "start_time": "2025-06-14T11:51:28.517Z"
   },
   {
    "duration": 15,
    "start_time": "2025-06-14T11:51:28.539Z"
   },
   {
    "duration": 19,
    "start_time": "2025-06-14T11:51:28.598Z"
   },
   {
    "duration": 20,
    "start_time": "2025-06-14T11:51:28.630Z"
   },
   {
    "duration": 142,
    "start_time": "2025-06-14T11:51:28.731Z"
   },
   {
    "duration": 45,
    "start_time": "2025-06-14T11:51:28.875Z"
   },
   {
    "duration": 4,
    "start_time": "2025-06-14T11:51:31.005Z"
   },
   {
    "duration": 38,
    "start_time": "2025-06-14T11:51:32.080Z"
   },
   {
    "duration": 10,
    "start_time": "2025-06-14T11:51:32.762Z"
   },
   {
    "duration": 5,
    "start_time": "2025-06-14T11:51:33.056Z"
   },
   {
    "duration": 19,
    "start_time": "2025-06-14T11:51:34.140Z"
   },
   {
    "duration": 4,
    "start_time": "2025-06-14T11:51:34.470Z"
   },
   {
    "duration": 26,
    "start_time": "2025-06-14T11:51:34.736Z"
   },
   {
    "duration": 493,
    "start_time": "2025-06-14T11:51:35.099Z"
   },
   {
    "duration": 285,
    "start_time": "2025-06-14T11:51:35.594Z"
   },
   {
    "duration": 19,
    "start_time": "2025-06-14T11:51:36.415Z"
   },
   {
    "duration": 30,
    "start_time": "2025-06-14T11:51:36.436Z"
   },
   {
    "duration": 16,
    "start_time": "2025-06-14T11:51:36.478Z"
   },
   {
    "duration": 28,
    "start_time": "2025-06-14T11:51:37.523Z"
   },
   {
    "duration": 12,
    "start_time": "2025-06-14T11:51:37.844Z"
   },
   {
    "duration": 38,
    "start_time": "2025-06-14T11:51:38.129Z"
   },
   {
    "duration": 145,
    "start_time": "2025-06-14T11:51:38.402Z"
   },
   {
    "duration": 24,
    "start_time": "2025-06-14T11:51:38.642Z"
   },
   {
    "duration": 31,
    "start_time": "2025-06-14T11:51:38.883Z"
   },
   {
    "duration": 24,
    "start_time": "2025-06-14T11:51:39.521Z"
   },
   {
    "duration": 76,
    "start_time": "2025-06-14T11:51:39.930Z"
   },
   {
    "duration": 35,
    "start_time": "2025-06-14T11:51:40.249Z"
   },
   {
    "duration": 17,
    "start_time": "2025-06-14T11:51:42.994Z"
   },
   {
    "duration": 5,
    "start_time": "2025-06-14T11:51:44.303Z"
   },
   {
    "duration": 9,
    "start_time": "2025-06-14T11:51:45.111Z"
   },
   {
    "duration": 980,
    "start_time": "2025-06-14T11:52:12.228Z"
   },
   {
    "duration": 106,
    "start_time": "2025-06-14T11:52:30.779Z"
   },
   {
    "duration": 103,
    "start_time": "2025-06-14T12:11:37.683Z"
   },
   {
    "duration": 88,
    "start_time": "2025-06-14T12:11:38.701Z"
   },
   {
    "duration": 22,
    "start_time": "2025-06-14T12:11:39.917Z"
   },
   {
    "duration": 6,
    "start_time": "2025-06-14T12:11:40.485Z"
   },
   {
    "duration": 9,
    "start_time": "2025-06-14T12:11:41.330Z"
   },
   {
    "duration": 2752,
    "start_time": "2025-06-14T12:11:42.964Z"
   },
   {
    "duration": 11,
    "start_time": "2025-06-14T12:11:45.718Z"
   },
   {
    "duration": 19,
    "start_time": "2025-06-14T12:14:22.159Z"
   },
   {
    "duration": 56,
    "start_time": "2025-06-14T12:18:33.864Z"
   },
   {
    "duration": 21,
    "start_time": "2025-06-14T12:18:34.491Z"
   },
   {
    "duration": 5,
    "start_time": "2025-06-14T12:18:35.912Z"
   },
   {
    "duration": 8,
    "start_time": "2025-06-14T12:18:37.854Z"
   },
   {
    "duration": 16,
    "start_time": "2025-06-14T12:21:06.760Z"
   },
   {
    "duration": 20,
    "start_time": "2025-06-14T12:24:03.169Z"
   },
   {
    "duration": 11,
    "start_time": "2025-06-14T12:24:03.565Z"
   },
   {
    "duration": 11,
    "start_time": "2025-06-14T12:24:21.033Z"
   },
   {
    "duration": 47,
    "start_time": "2025-06-14T12:32:43.271Z"
   },
   {
    "duration": 8,
    "start_time": "2025-06-14T12:32:43.760Z"
   },
   {
    "duration": 40,
    "start_time": "2025-06-14T12:32:53.722Z"
   },
   {
    "duration": 24,
    "start_time": "2025-06-14T12:33:03.031Z"
   },
   {
    "duration": 3,
    "start_time": "2025-06-14T12:33:12.543Z"
   },
   {
    "duration": 9,
    "start_time": "2025-06-14T12:33:20.348Z"
   },
   {
    "duration": 15,
    "start_time": "2025-06-14T12:33:31.958Z"
   },
   {
    "duration": 11,
    "start_time": "2025-06-14T12:34:01.133Z"
   },
   {
    "duration": 13,
    "start_time": "2025-06-14T12:39:31.553Z"
   },
   {
    "duration": 13,
    "start_time": "2025-06-14T12:39:40.294Z"
   },
   {
    "duration": 3863,
    "start_time": "2025-06-14T12:43:02.181Z"
   },
   {
    "duration": 2126,
    "start_time": "2025-06-14T12:43:06.047Z"
   },
   {
    "duration": 7,
    "start_time": "2025-06-14T12:43:08.174Z"
   },
   {
    "duration": 5,
    "start_time": "2025-06-14T12:43:08.183Z"
   },
   {
    "duration": 17,
    "start_time": "2025-06-14T12:43:08.190Z"
   },
   {
    "duration": 14,
    "start_time": "2025-06-14T12:43:08.209Z"
   },
   {
    "duration": 17,
    "start_time": "2025-06-14T12:43:08.225Z"
   },
   {
    "duration": 380,
    "start_time": "2025-06-14T12:43:08.243Z"
   },
   {
    "duration": 5,
    "start_time": "2025-06-14T12:43:08.625Z"
   },
   {
    "duration": 360,
    "start_time": "2025-06-14T12:43:08.633Z"
   },
   {
    "duration": 4,
    "start_time": "2025-06-14T12:43:08.995Z"
   },
   {
    "duration": 35,
    "start_time": "2025-06-14T12:43:09.005Z"
   },
   {
    "duration": 4,
    "start_time": "2025-06-14T12:43:09.041Z"
   },
   {
    "duration": 4,
    "start_time": "2025-06-14T12:43:09.046Z"
   },
   {
    "duration": 19,
    "start_time": "2025-06-14T12:43:09.051Z"
   },
   {
    "duration": 34,
    "start_time": "2025-06-14T12:43:09.071Z"
   },
   {
    "duration": 38,
    "start_time": "2025-06-14T12:43:09.107Z"
   },
   {
    "duration": 119,
    "start_time": "2025-06-14T12:43:09.147Z"
   },
   {
    "duration": 9,
    "start_time": "2025-06-14T12:43:09.267Z"
   },
   {
    "duration": 56,
    "start_time": "2025-06-14T12:43:09.278Z"
   },
   {
    "duration": 98,
    "start_time": "2025-06-14T12:43:09.335Z"
   },
   {
    "duration": 33,
    "start_time": "2025-06-14T12:43:09.435Z"
   },
   {
    "duration": 8,
    "start_time": "2025-06-14T12:43:09.470Z"
   },
   {
    "duration": 40,
    "start_time": "2025-06-14T12:43:09.479Z"
   },
   {
    "duration": 8,
    "start_time": "2025-06-14T12:43:09.521Z"
   },
   {
    "duration": 10,
    "start_time": "2025-06-14T12:43:09.530Z"
   },
   {
    "duration": 132,
    "start_time": "2025-06-14T12:43:09.542Z"
   },
   {
    "duration": 110,
    "start_time": "2025-06-14T12:43:09.679Z"
   },
   {
    "duration": 49,
    "start_time": "2025-06-14T12:43:09.791Z"
   },
   {
    "duration": 45,
    "start_time": "2025-06-14T12:43:09.842Z"
   },
   {
    "duration": 26,
    "start_time": "2025-06-14T12:43:09.889Z"
   },
   {
    "duration": 17,
    "start_time": "2025-06-14T12:43:09.917Z"
   },
   {
    "duration": 22,
    "start_time": "2025-06-14T12:43:09.935Z"
   },
   {
    "duration": 53,
    "start_time": "2025-06-14T12:43:09.959Z"
   },
   {
    "duration": 170,
    "start_time": "2025-06-14T12:43:10.014Z"
   },
   {
    "duration": 6,
    "start_time": "2025-06-14T12:43:10.186Z"
   },
   {
    "duration": 15,
    "start_time": "2025-06-14T12:43:10.193Z"
   },
   {
    "duration": 40,
    "start_time": "2025-06-14T12:43:10.210Z"
   },
   {
    "duration": 14,
    "start_time": "2025-06-14T12:43:10.251Z"
   },
   {
    "duration": 38,
    "start_time": "2025-06-14T12:43:10.267Z"
   },
   {
    "duration": 20,
    "start_time": "2025-06-14T12:43:10.307Z"
   },
   {
    "duration": 4,
    "start_time": "2025-06-14T12:43:10.329Z"
   },
   {
    "duration": 36,
    "start_time": "2025-06-14T12:43:10.335Z"
   },
   {
    "duration": 525,
    "start_time": "2025-06-14T12:43:10.372Z"
   },
   {
    "duration": 294,
    "start_time": "2025-06-14T12:43:10.899Z"
   },
   {
    "duration": 27,
    "start_time": "2025-06-14T12:43:11.195Z"
   },
   {
    "duration": 54,
    "start_time": "2025-06-14T12:43:11.224Z"
   },
   {
    "duration": 16,
    "start_time": "2025-06-14T12:43:11.280Z"
   },
   {
    "duration": 35,
    "start_time": "2025-06-14T12:43:11.298Z"
   },
   {
    "duration": 18,
    "start_time": "2025-06-14T12:43:11.335Z"
   },
   {
    "duration": 131,
    "start_time": "2025-06-14T12:43:11.355Z"
   },
   {
    "duration": 150,
    "start_time": "2025-06-14T12:43:11.487Z"
   },
   {
    "duration": 24,
    "start_time": "2025-06-14T12:43:11.639Z"
   },
   {
    "duration": 53,
    "start_time": "2025-06-14T12:43:11.665Z"
   },
   {
    "duration": 76,
    "start_time": "2025-06-14T12:43:11.720Z"
   },
   {
    "duration": 103,
    "start_time": "2025-06-14T12:43:11.798Z"
   },
   {
    "duration": 90,
    "start_time": "2025-06-14T12:43:11.905Z"
   },
   {
    "duration": 22,
    "start_time": "2025-06-14T12:43:12.005Z"
   },
   {
    "duration": 6,
    "start_time": "2025-06-14T12:43:12.029Z"
   },
   {
    "duration": 138,
    "start_time": "2025-06-14T12:43:12.037Z"
   },
   {
    "duration": 0,
    "start_time": "2025-06-14T12:43:12.177Z"
   },
   {
    "duration": 0,
    "start_time": "2025-06-14T12:43:12.178Z"
   },
   {
    "duration": 0,
    "start_time": "2025-06-14T12:43:12.179Z"
   },
   {
    "duration": 0,
    "start_time": "2025-06-14T12:43:12.180Z"
   },
   {
    "duration": 0,
    "start_time": "2025-06-14T12:43:12.181Z"
   },
   {
    "duration": 7,
    "start_time": "2025-06-14T12:43:31.562Z"
   },
   {
    "duration": 20,
    "start_time": "2025-06-14T12:43:32.575Z"
   },
   {
    "duration": 19,
    "start_time": "2025-06-14T12:44:24.939Z"
   },
   {
    "duration": 20,
    "start_time": "2025-06-14T12:44:29.396Z"
   },
   {
    "duration": 11,
    "start_time": "2025-06-14T12:44:32.884Z"
   },
   {
    "duration": 30,
    "start_time": "2025-06-14T12:44:37.811Z"
   },
   {
    "duration": 11,
    "start_time": "2025-06-14T12:44:38.240Z"
   },
   {
    "duration": 58,
    "start_time": "2025-06-14T12:45:01.665Z"
   },
   {
    "duration": 3809,
    "start_time": "2025-06-14T12:45:06.914Z"
   },
   {
    "duration": 2110,
    "start_time": "2025-06-14T12:45:10.725Z"
   },
   {
    "duration": 6,
    "start_time": "2025-06-14T12:45:12.837Z"
   },
   {
    "duration": 5,
    "start_time": "2025-06-14T12:45:12.845Z"
   },
   {
    "duration": 8,
    "start_time": "2025-06-14T12:45:12.852Z"
   },
   {
    "duration": 5,
    "start_time": "2025-06-14T12:45:12.861Z"
   },
   {
    "duration": 10,
    "start_time": "2025-06-14T12:45:12.867Z"
   },
   {
    "duration": 414,
    "start_time": "2025-06-14T12:45:12.878Z"
   },
   {
    "duration": 15,
    "start_time": "2025-06-14T12:45:13.294Z"
   },
   {
    "duration": 366,
    "start_time": "2025-06-14T12:45:13.311Z"
   },
   {
    "duration": 5,
    "start_time": "2025-06-14T12:45:13.678Z"
   },
   {
    "duration": 107,
    "start_time": "2025-06-14T12:45:13.684Z"
   },
   {
    "duration": 4,
    "start_time": "2025-06-14T12:45:13.793Z"
   },
   {
    "duration": 3,
    "start_time": "2025-06-14T12:45:13.799Z"
   },
   {
    "duration": 14,
    "start_time": "2025-06-14T12:45:13.803Z"
   },
   {
    "duration": 12,
    "start_time": "2025-06-14T12:45:13.819Z"
   },
   {
    "duration": 25,
    "start_time": "2025-06-14T12:45:13.832Z"
   },
   {
    "duration": 137,
    "start_time": "2025-06-14T12:45:13.859Z"
   },
   {
    "duration": 25,
    "start_time": "2025-06-14T12:45:13.998Z"
   },
   {
    "duration": 40,
    "start_time": "2025-06-14T12:45:14.025Z"
   },
   {
    "duration": 8,
    "start_time": "2025-06-14T12:45:14.067Z"
   },
   {
    "duration": 45,
    "start_time": "2025-06-14T12:45:14.076Z"
   },
   {
    "duration": 15,
    "start_time": "2025-06-14T12:45:14.123Z"
   },
   {
    "duration": 26,
    "start_time": "2025-06-14T12:45:14.139Z"
   },
   {
    "duration": 6,
    "start_time": "2025-06-14T12:45:14.167Z"
   },
   {
    "duration": 8,
    "start_time": "2025-06-14T12:45:14.175Z"
   },
   {
    "duration": 133,
    "start_time": "2025-06-14T12:45:14.185Z"
   },
   {
    "duration": 116,
    "start_time": "2025-06-14T12:45:14.320Z"
   },
   {
    "duration": 38,
    "start_time": "2025-06-14T12:45:14.438Z"
   },
   {
    "duration": 79,
    "start_time": "2025-06-14T12:45:14.478Z"
   },
   {
    "duration": 14,
    "start_time": "2025-06-14T12:45:14.559Z"
   },
   {
    "duration": 20,
    "start_time": "2025-06-14T12:45:14.575Z"
   },
   {
    "duration": 29,
    "start_time": "2025-06-14T12:45:14.597Z"
   },
   {
    "duration": 24,
    "start_time": "2025-06-14T12:45:14.628Z"
   },
   {
    "duration": 166,
    "start_time": "2025-06-14T12:45:14.654Z"
   },
   {
    "duration": 5,
    "start_time": "2025-06-14T12:45:14.822Z"
   },
   {
    "duration": 7,
    "start_time": "2025-06-14T12:45:14.829Z"
   },
   {
    "duration": 43,
    "start_time": "2025-06-14T12:45:14.837Z"
   },
   {
    "duration": 27,
    "start_time": "2025-06-14T12:45:14.882Z"
   },
   {
    "duration": 13,
    "start_time": "2025-06-14T12:45:14.911Z"
   },
   {
    "duration": 117,
    "start_time": "2025-06-14T12:45:14.928Z"
   },
   {
    "duration": 9,
    "start_time": "2025-06-14T12:45:15.047Z"
   },
   {
    "duration": 64,
    "start_time": "2025-06-14T12:45:15.058Z"
   },
   {
    "duration": 544,
    "start_time": "2025-06-14T12:45:15.124Z"
   },
   {
    "duration": 325,
    "start_time": "2025-06-14T12:45:15.670Z"
   },
   {
    "duration": 26,
    "start_time": "2025-06-14T12:45:16.008Z"
   },
   {
    "duration": 28,
    "start_time": "2025-06-14T12:45:16.036Z"
   },
   {
    "duration": 39,
    "start_time": "2025-06-14T12:45:16.066Z"
   },
   {
    "duration": 36,
    "start_time": "2025-06-14T12:45:16.109Z"
   },
   {
    "duration": 11,
    "start_time": "2025-06-14T12:45:16.147Z"
   },
   {
    "duration": 59,
    "start_time": "2025-06-14T12:45:16.160Z"
   },
   {
    "duration": 149,
    "start_time": "2025-06-14T12:45:16.221Z"
   },
   {
    "duration": 22,
    "start_time": "2025-06-14T12:45:16.372Z"
   },
   {
    "duration": 32,
    "start_time": "2025-06-14T12:45:16.404Z"
   },
   {
    "duration": 101,
    "start_time": "2025-06-14T12:45:16.438Z"
   },
   {
    "duration": 114,
    "start_time": "2025-06-14T12:45:16.540Z"
   },
   {
    "duration": 92,
    "start_time": "2025-06-14T12:45:16.656Z"
   },
   {
    "duration": 21,
    "start_time": "2025-06-14T12:45:16.750Z"
   },
   {
    "duration": 5,
    "start_time": "2025-06-14T12:45:16.772Z"
   },
   {
    "duration": 42,
    "start_time": "2025-06-14T12:45:16.779Z"
   },
   {
    "duration": 20,
    "start_time": "2025-06-14T12:45:16.822Z"
   },
   {
    "duration": 11,
    "start_time": "2025-06-14T12:45:16.844Z"
   },
   {
    "duration": 64,
    "start_time": "2025-06-14T12:45:16.857Z"
   },
   {
    "duration": 12,
    "start_time": "2025-06-14T12:45:16.923Z"
   },
   {
    "duration": 62,
    "start_time": "2025-06-14T12:46:18.836Z"
   },
   {
    "duration": 6,
    "start_time": "2025-06-14T12:46:37.194Z"
   },
   {
    "duration": 3773,
    "start_time": "2025-06-14T12:46:43.503Z"
   },
   {
    "duration": 1892,
    "start_time": "2025-06-14T12:46:47.278Z"
   },
   {
    "duration": 7,
    "start_time": "2025-06-14T12:46:49.172Z"
   },
   {
    "duration": 39,
    "start_time": "2025-06-14T12:46:49.181Z"
   },
   {
    "duration": 16,
    "start_time": "2025-06-14T12:46:49.222Z"
   },
   {
    "duration": 13,
    "start_time": "2025-06-14T12:46:49.240Z"
   },
   {
    "duration": 14,
    "start_time": "2025-06-14T12:46:49.254Z"
   },
   {
    "duration": 373,
    "start_time": "2025-06-14T12:46:49.270Z"
   },
   {
    "duration": 4,
    "start_time": "2025-06-14T12:46:49.644Z"
   },
   {
    "duration": 356,
    "start_time": "2025-06-14T12:46:49.650Z"
   },
   {
    "duration": 4,
    "start_time": "2025-06-14T12:46:50.008Z"
   },
   {
    "duration": 41,
    "start_time": "2025-06-14T12:46:50.014Z"
   },
   {
    "duration": 4,
    "start_time": "2025-06-14T12:46:50.057Z"
   },
   {
    "duration": 5,
    "start_time": "2025-06-14T12:46:50.064Z"
   },
   {
    "duration": 12,
    "start_time": "2025-06-14T12:46:50.071Z"
   },
   {
    "duration": 28,
    "start_time": "2025-06-14T12:46:50.084Z"
   },
   {
    "duration": 25,
    "start_time": "2025-06-14T12:46:50.113Z"
   },
   {
    "duration": 118,
    "start_time": "2025-06-14T12:46:50.139Z"
   },
   {
    "duration": 9,
    "start_time": "2025-06-14T12:46:50.259Z"
   },
   {
    "duration": 57,
    "start_time": "2025-06-14T12:46:50.269Z"
   },
   {
    "duration": 7,
    "start_time": "2025-06-14T12:46:50.327Z"
   },
   {
    "duration": 19,
    "start_time": "2025-06-14T12:46:50.336Z"
   },
   {
    "duration": 13,
    "start_time": "2025-06-14T12:46:50.357Z"
   },
   {
    "duration": 50,
    "start_time": "2025-06-14T12:46:50.372Z"
   },
   {
    "duration": 76,
    "start_time": "2025-06-14T12:46:50.424Z"
   },
   {
    "duration": 9,
    "start_time": "2025-06-14T12:46:50.502Z"
   },
   {
    "duration": 113,
    "start_time": "2025-06-14T12:46:50.513Z"
   },
   {
    "duration": 112,
    "start_time": "2025-06-14T12:46:50.628Z"
   },
   {
    "duration": 40,
    "start_time": "2025-06-14T12:46:50.742Z"
   },
   {
    "duration": 58,
    "start_time": "2025-06-14T12:46:50.783Z"
   },
   {
    "duration": 20,
    "start_time": "2025-06-14T12:46:50.842Z"
   },
   {
    "duration": 21,
    "start_time": "2025-06-14T12:46:50.863Z"
   },
   {
    "duration": 33,
    "start_time": "2025-06-14T12:46:50.886Z"
   },
   {
    "duration": 28,
    "start_time": "2025-06-14T12:46:50.921Z"
   },
   {
    "duration": 208,
    "start_time": "2025-06-14T12:46:50.951Z"
   },
   {
    "duration": 5,
    "start_time": "2025-06-14T12:46:51.161Z"
   },
   {
    "duration": 110,
    "start_time": "2025-06-14T12:46:51.168Z"
   },
   {
    "duration": 48,
    "start_time": "2025-06-14T12:46:51.281Z"
   },
   {
    "duration": 13,
    "start_time": "2025-06-14T12:46:51.330Z"
   },
   {
    "duration": 84,
    "start_time": "2025-06-14T12:46:51.344Z"
   },
   {
    "duration": 18,
    "start_time": "2025-06-14T12:46:51.432Z"
   },
   {
    "duration": 3,
    "start_time": "2025-06-14T12:46:51.452Z"
   },
   {
    "duration": 29,
    "start_time": "2025-06-14T12:46:51.456Z"
   },
   {
    "duration": 521,
    "start_time": "2025-06-14T12:46:51.487Z"
   },
   {
    "duration": 277,
    "start_time": "2025-06-14T12:46:52.009Z"
   },
   {
    "duration": 32,
    "start_time": "2025-06-14T12:46:52.288Z"
   },
   {
    "duration": 17,
    "start_time": "2025-06-14T12:46:52.322Z"
   },
   {
    "duration": 18,
    "start_time": "2025-06-14T12:46:52.341Z"
   },
   {
    "duration": 61,
    "start_time": "2025-06-14T12:46:52.361Z"
   },
   {
    "duration": 12,
    "start_time": "2025-06-14T12:46:52.424Z"
   },
   {
    "duration": 129,
    "start_time": "2025-06-14T12:46:52.438Z"
   },
   {
    "duration": 148,
    "start_time": "2025-06-14T12:46:52.568Z"
   },
   {
    "duration": 24,
    "start_time": "2025-06-14T12:46:52.718Z"
   },
   {
    "duration": 30,
    "start_time": "2025-06-14T12:46:52.744Z"
   },
   {
    "duration": 48,
    "start_time": "2025-06-14T12:46:52.776Z"
   },
   {
    "duration": 109,
    "start_time": "2025-06-14T12:46:52.826Z"
   },
   {
    "duration": 94,
    "start_time": "2025-06-14T12:46:52.937Z"
   },
   {
    "duration": 21,
    "start_time": "2025-06-14T12:46:53.033Z"
   },
   {
    "duration": 5,
    "start_time": "2025-06-14T12:46:53.056Z"
   },
   {
    "duration": 43,
    "start_time": "2025-06-14T12:46:53.063Z"
   },
   {
    "duration": 20,
    "start_time": "2025-06-14T12:46:53.108Z"
   },
   {
    "duration": 154,
    "start_time": "2025-06-14T12:46:53.129Z"
   },
   {
    "duration": 28,
    "start_time": "2025-06-14T12:46:53.285Z"
   },
   {
    "duration": 11,
    "start_time": "2025-06-14T12:46:53.315Z"
   },
   {
    "duration": 84,
    "start_time": "2025-06-14T12:47:00.068Z"
   },
   {
    "duration": 45,
    "start_time": "2025-06-14T12:47:06.471Z"
   },
   {
    "duration": 3774,
    "start_time": "2025-06-14T12:47:30.880Z"
   },
   {
    "duration": 2280,
    "start_time": "2025-06-14T12:47:34.657Z"
   },
   {
    "duration": 6,
    "start_time": "2025-06-14T12:47:36.939Z"
   },
   {
    "duration": 44,
    "start_time": "2025-06-14T12:47:36.947Z"
   },
   {
    "duration": 4,
    "start_time": "2025-06-14T12:47:36.994Z"
   },
   {
    "duration": 5,
    "start_time": "2025-06-14T12:47:36.999Z"
   },
   {
    "duration": 17,
    "start_time": "2025-06-14T12:47:37.005Z"
   },
   {
    "duration": 395,
    "start_time": "2025-06-14T12:47:37.024Z"
   },
   {
    "duration": 4,
    "start_time": "2025-06-14T12:47:37.421Z"
   },
   {
    "duration": 363,
    "start_time": "2025-06-14T12:47:37.426Z"
   },
   {
    "duration": 4,
    "start_time": "2025-06-14T12:47:37.790Z"
   },
   {
    "duration": 41,
    "start_time": "2025-06-14T12:47:37.796Z"
   },
   {
    "duration": 7,
    "start_time": "2025-06-14T12:47:37.839Z"
   },
   {
    "duration": 3,
    "start_time": "2025-06-14T12:47:37.848Z"
   },
   {
    "duration": 24,
    "start_time": "2025-06-14T12:47:37.852Z"
   },
   {
    "duration": 13,
    "start_time": "2025-06-14T12:47:37.877Z"
   },
   {
    "duration": 31,
    "start_time": "2025-06-14T12:47:37.892Z"
   },
   {
    "duration": 107,
    "start_time": "2025-06-14T12:47:37.925Z"
   },
   {
    "duration": 9,
    "start_time": "2025-06-14T12:47:38.033Z"
   },
   {
    "duration": 44,
    "start_time": "2025-06-14T12:47:38.044Z"
   },
   {
    "duration": 21,
    "start_time": "2025-06-14T12:47:38.089Z"
   },
   {
    "duration": 21,
    "start_time": "2025-06-14T12:47:38.111Z"
   },
   {
    "duration": 8,
    "start_time": "2025-06-14T12:47:38.134Z"
   },
   {
    "duration": 40,
    "start_time": "2025-06-14T12:47:38.144Z"
   },
   {
    "duration": 21,
    "start_time": "2025-06-14T12:47:38.186Z"
   },
   {
    "duration": 18,
    "start_time": "2025-06-14T12:47:38.209Z"
   },
   {
    "duration": 115,
    "start_time": "2025-06-14T12:47:38.229Z"
   },
   {
    "duration": 108,
    "start_time": "2025-06-14T12:47:38.346Z"
   },
   {
    "duration": 51,
    "start_time": "2025-06-14T12:47:38.455Z"
   },
   {
    "duration": 59,
    "start_time": "2025-06-14T12:47:38.507Z"
   },
   {
    "duration": 16,
    "start_time": "2025-06-14T12:47:38.567Z"
   },
   {
    "duration": 22,
    "start_time": "2025-06-14T12:47:38.584Z"
   },
   {
    "duration": 20,
    "start_time": "2025-06-14T12:47:38.607Z"
   },
   {
    "duration": 25,
    "start_time": "2025-06-14T12:47:38.629Z"
   },
   {
    "duration": 167,
    "start_time": "2025-06-14T12:47:38.656Z"
   },
   {
    "duration": 5,
    "start_time": "2025-06-14T12:47:38.825Z"
   },
   {
    "duration": 4,
    "start_time": "2025-06-14T12:47:38.832Z"
   },
   {
    "duration": 39,
    "start_time": "2025-06-14T12:47:38.838Z"
   },
   {
    "duration": 34,
    "start_time": "2025-06-14T12:47:38.878Z"
   },
   {
    "duration": 5,
    "start_time": "2025-06-14T12:47:38.914Z"
   },
   {
    "duration": 18,
    "start_time": "2025-06-14T12:47:38.924Z"
   },
   {
    "duration": 4,
    "start_time": "2025-06-14T12:47:38.943Z"
   },
   {
    "duration": 117,
    "start_time": "2025-06-14T12:47:38.948Z"
   },
   {
    "duration": 511,
    "start_time": "2025-06-14T12:47:39.066Z"
   },
   {
    "duration": 303,
    "start_time": "2025-06-14T12:47:39.579Z"
   },
   {
    "duration": 29,
    "start_time": "2025-06-14T12:47:39.883Z"
   },
   {
    "duration": 17,
    "start_time": "2025-06-14T12:47:39.914Z"
   },
   {
    "duration": 26,
    "start_time": "2025-06-14T12:47:39.933Z"
   },
   {
    "duration": 45,
    "start_time": "2025-06-14T12:47:39.961Z"
   },
   {
    "duration": 13,
    "start_time": "2025-06-14T12:47:40.008Z"
   },
   {
    "duration": 52,
    "start_time": "2025-06-14T12:47:40.022Z"
   },
   {
    "duration": 154,
    "start_time": "2025-06-14T12:47:40.076Z"
   },
   {
    "duration": 24,
    "start_time": "2025-06-14T12:47:40.232Z"
   },
   {
    "duration": 47,
    "start_time": "2025-06-14T12:47:40.258Z"
   },
   {
    "duration": 25,
    "start_time": "2025-06-14T12:47:40.307Z"
   },
   {
    "duration": 117,
    "start_time": "2025-06-14T12:47:40.334Z"
   },
   {
    "duration": 99,
    "start_time": "2025-06-14T12:47:40.453Z"
   },
   {
    "duration": 24,
    "start_time": "2025-06-14T12:47:40.553Z"
   },
   {
    "duration": 7,
    "start_time": "2025-06-14T12:47:40.578Z"
   },
   {
    "duration": 21,
    "start_time": "2025-06-14T12:47:40.606Z"
   },
   {
    "duration": 23,
    "start_time": "2025-06-14T12:47:40.629Z"
   },
   {
    "duration": 10,
    "start_time": "2025-06-14T12:47:40.654Z"
   },
   {
    "duration": 55,
    "start_time": "2025-06-14T12:47:40.666Z"
   },
   {
    "duration": 12,
    "start_time": "2025-06-14T12:47:40.722Z"
   },
   {
    "duration": 3869,
    "start_time": "2025-06-14T12:47:53.265Z"
   },
   {
    "duration": 1814,
    "start_time": "2025-06-14T12:47:57.136Z"
   },
   {
    "duration": 7,
    "start_time": "2025-06-14T12:47:58.951Z"
   },
   {
    "duration": 68,
    "start_time": "2025-06-14T12:47:58.960Z"
   },
   {
    "duration": 4,
    "start_time": "2025-06-14T12:47:59.030Z"
   },
   {
    "duration": 8,
    "start_time": "2025-06-14T12:47:59.036Z"
   },
   {
    "duration": 4,
    "start_time": "2025-06-14T12:47:59.045Z"
   },
   {
    "duration": 379,
    "start_time": "2025-06-14T12:47:59.051Z"
   },
   {
    "duration": 4,
    "start_time": "2025-06-14T12:47:59.432Z"
   },
   {
    "duration": 378,
    "start_time": "2025-06-14T12:47:59.438Z"
   },
   {
    "duration": 5,
    "start_time": "2025-06-14T12:47:59.818Z"
   },
   {
    "duration": 25,
    "start_time": "2025-06-14T12:47:59.824Z"
   },
   {
    "duration": 4,
    "start_time": "2025-06-14T12:47:59.852Z"
   },
   {
    "duration": 3,
    "start_time": "2025-06-14T12:47:59.861Z"
   },
   {
    "duration": 48,
    "start_time": "2025-06-14T12:47:59.866Z"
   },
   {
    "duration": 12,
    "start_time": "2025-06-14T12:47:59.916Z"
   },
   {
    "duration": 25,
    "start_time": "2025-06-14T12:47:59.930Z"
   },
   {
    "duration": 121,
    "start_time": "2025-06-14T12:47:59.956Z"
   },
   {
    "duration": 9,
    "start_time": "2025-06-14T12:48:00.079Z"
   },
   {
    "duration": 101,
    "start_time": "2025-06-14T12:48:00.089Z"
   },
   {
    "duration": 9,
    "start_time": "2025-06-14T12:48:00.192Z"
   },
   {
    "duration": 34,
    "start_time": "2025-06-14T12:48:00.203Z"
   },
   {
    "duration": 26,
    "start_time": "2025-06-14T12:48:00.238Z"
   },
   {
    "duration": 104,
    "start_time": "2025-06-14T12:48:00.265Z"
   },
   {
    "duration": 9,
    "start_time": "2025-06-14T12:48:00.370Z"
   },
   {
    "duration": 40,
    "start_time": "2025-06-14T12:48:00.380Z"
   },
   {
    "duration": 325,
    "start_time": "2025-06-14T12:48:00.422Z"
   },
   {
    "duration": 109,
    "start_time": "2025-06-14T12:48:00.749Z"
   },
   {
    "duration": 46,
    "start_time": "2025-06-14T12:48:00.860Z"
   },
   {
    "duration": 58,
    "start_time": "2025-06-14T12:48:00.908Z"
   },
   {
    "duration": 16,
    "start_time": "2025-06-14T12:48:00.968Z"
   },
   {
    "duration": 71,
    "start_time": "2025-06-14T12:48:00.985Z"
   },
   {
    "duration": 50,
    "start_time": "2025-06-14T12:48:01.058Z"
   },
   {
    "duration": 23,
    "start_time": "2025-06-14T12:48:01.110Z"
   },
   {
    "duration": 317,
    "start_time": "2025-06-14T12:48:01.135Z"
   },
   {
    "duration": 5,
    "start_time": "2025-06-14T12:48:01.454Z"
   },
   {
    "duration": 36,
    "start_time": "2025-06-14T12:48:01.461Z"
   },
   {
    "duration": 50,
    "start_time": "2025-06-14T12:48:01.499Z"
   },
   {
    "duration": 12,
    "start_time": "2025-06-14T12:48:01.551Z"
   },
   {
    "duration": 18,
    "start_time": "2025-06-14T12:48:01.564Z"
   },
   {
    "duration": 30,
    "start_time": "2025-06-14T12:48:01.587Z"
   },
   {
    "duration": 47,
    "start_time": "2025-06-14T12:48:01.619Z"
   },
   {
    "duration": 52,
    "start_time": "2025-06-14T12:48:01.668Z"
   },
   {
    "duration": 598,
    "start_time": "2025-06-14T12:48:01.722Z"
   },
   {
    "duration": 335,
    "start_time": "2025-06-14T12:48:02.322Z"
   },
   {
    "duration": 20,
    "start_time": "2025-06-14T12:48:02.658Z"
   },
   {
    "duration": 29,
    "start_time": "2025-06-14T12:48:02.680Z"
   },
   {
    "duration": 32,
    "start_time": "2025-06-14T12:48:02.711Z"
   },
   {
    "duration": 50,
    "start_time": "2025-06-14T12:48:02.744Z"
   },
   {
    "duration": 29,
    "start_time": "2025-06-14T12:48:02.795Z"
   },
   {
    "duration": 65,
    "start_time": "2025-06-14T12:48:02.826Z"
   },
   {
    "duration": 146,
    "start_time": "2025-06-14T12:48:02.893Z"
   },
   {
    "duration": 24,
    "start_time": "2025-06-14T12:48:03.040Z"
   },
   {
    "duration": 53,
    "start_time": "2025-06-14T12:48:03.065Z"
   },
   {
    "duration": 25,
    "start_time": "2025-06-14T12:48:03.120Z"
   },
   {
    "duration": 254,
    "start_time": "2025-06-14T12:48:03.146Z"
   },
   {
    "duration": 91,
    "start_time": "2025-06-14T12:48:03.402Z"
   },
   {
    "duration": 31,
    "start_time": "2025-06-14T12:48:03.494Z"
   },
   {
    "duration": 9,
    "start_time": "2025-06-14T12:48:03.527Z"
   },
   {
    "duration": 71,
    "start_time": "2025-06-14T12:48:03.537Z"
   },
   {
    "duration": 24,
    "start_time": "2025-06-14T12:48:03.609Z"
   },
   {
    "duration": 22,
    "start_time": "2025-06-14T12:48:03.635Z"
   },
   {
    "duration": 46,
    "start_time": "2025-06-14T12:48:03.659Z"
   },
   {
    "duration": 107,
    "start_time": "2025-06-14T12:48:03.706Z"
   },
   {
    "duration": 3761,
    "start_time": "2025-06-14T12:48:41.186Z"
   },
   {
    "duration": 1873,
    "start_time": "2025-06-14T12:48:44.949Z"
   },
   {
    "duration": 7,
    "start_time": "2025-06-14T12:48:46.824Z"
   },
   {
    "duration": 30,
    "start_time": "2025-06-14T12:48:46.833Z"
   },
   {
    "duration": 6,
    "start_time": "2025-06-14T12:48:46.865Z"
   },
   {
    "duration": 7,
    "start_time": "2025-06-14T12:48:46.872Z"
   },
   {
    "duration": 13,
    "start_time": "2025-06-14T12:48:46.880Z"
   },
   {
    "duration": 377,
    "start_time": "2025-06-14T12:48:46.895Z"
   },
   {
    "duration": 5,
    "start_time": "2025-06-14T12:48:47.274Z"
   },
   {
    "duration": 367,
    "start_time": "2025-06-14T12:48:47.281Z"
   },
   {
    "duration": 5,
    "start_time": "2025-06-14T12:48:47.650Z"
   },
   {
    "duration": 104,
    "start_time": "2025-06-14T12:48:47.656Z"
   },
   {
    "duration": 28,
    "start_time": "2025-06-14T12:48:47.762Z"
   },
   {
    "duration": 18,
    "start_time": "2025-06-14T12:48:47.791Z"
   },
   {
    "duration": 21,
    "start_time": "2025-06-14T12:48:47.810Z"
   },
   {
    "duration": 30,
    "start_time": "2025-06-14T12:48:47.833Z"
   },
   {
    "duration": 26,
    "start_time": "2025-06-14T12:48:48.394Z"
   },
   {
    "duration": 136,
    "start_time": "2025-06-14T12:48:48.657Z"
   },
   {
    "duration": 9,
    "start_time": "2025-06-14T12:48:49.812Z"
   },
   {
    "duration": 42,
    "start_time": "2025-06-14T12:48:50.193Z"
   },
   {
    "duration": 8,
    "start_time": "2025-06-14T12:48:51.520Z"
   },
   {
    "duration": 20,
    "start_time": "2025-06-14T12:48:51.887Z"
   },
   {
    "duration": 8,
    "start_time": "2025-06-14T12:48:52.555Z"
   },
   {
    "duration": 25,
    "start_time": "2025-06-14T12:48:52.878Z"
   },
   {
    "duration": 10,
    "start_time": "2025-06-14T12:48:53.986Z"
   },
   {
    "duration": 9,
    "start_time": "2025-06-14T12:48:54.387Z"
   },
   {
    "duration": 111,
    "start_time": "2025-06-14T12:48:55.334Z"
   },
   {
    "duration": 104,
    "start_time": "2025-06-14T12:48:55.653Z"
   },
   {
    "duration": 40,
    "start_time": "2025-06-14T12:48:56.368Z"
   },
   {
    "duration": 41,
    "start_time": "2025-06-14T12:48:56.722Z"
   },
   {
    "duration": 16,
    "start_time": "2025-06-14T12:48:57.707Z"
   },
   {
    "duration": 17,
    "start_time": "2025-06-14T12:48:58.077Z"
   },
   {
    "duration": 22,
    "start_time": "2025-06-14T12:48:59.022Z"
   },
   {
    "duration": 22,
    "start_time": "2025-06-14T12:48:59.234Z"
   },
   {
    "duration": 163,
    "start_time": "2025-06-14T12:49:00.980Z"
   },
   {
    "duration": 6,
    "start_time": "2025-06-14T12:49:01.361Z"
   },
   {
    "duration": 4,
    "start_time": "2025-06-14T12:49:03.997Z"
   },
   {
    "duration": 42,
    "start_time": "2025-06-14T12:49:04.883Z"
   },
   {
    "duration": 11,
    "start_time": "2025-06-14T12:49:05.377Z"
   },
   {
    "duration": 6,
    "start_time": "2025-06-14T12:49:05.757Z"
   },
   {
    "duration": 19,
    "start_time": "2025-06-14T12:49:06.157Z"
   },
   {
    "duration": 3,
    "start_time": "2025-06-14T12:49:06.588Z"
   },
   {
    "duration": 30,
    "start_time": "2025-06-14T12:49:06.951Z"
   },
   {
    "duration": 493,
    "start_time": "2025-06-14T12:49:07.368Z"
   },
   {
    "duration": 310,
    "start_time": "2025-06-14T12:49:07.864Z"
   },
   {
    "duration": 23,
    "start_time": "2025-06-14T12:49:08.935Z"
   },
   {
    "duration": 28,
    "start_time": "2025-06-14T12:49:09.373Z"
   },
   {
    "duration": 15,
    "start_time": "2025-06-14T12:49:09.817Z"
   },
   {
    "duration": 30,
    "start_time": "2025-06-14T12:49:10.268Z"
   },
   {
    "duration": 13,
    "start_time": "2025-06-14T12:49:10.888Z"
   },
   {
    "duration": 41,
    "start_time": "2025-06-14T12:49:11.285Z"
   },
   {
    "duration": 148,
    "start_time": "2025-06-14T12:49:11.684Z"
   },
   {
    "duration": 24,
    "start_time": "2025-06-14T12:49:12.056Z"
   },
   {
    "duration": 32,
    "start_time": "2025-06-14T12:49:12.490Z"
   },
   {
    "duration": 23,
    "start_time": "2025-06-14T12:49:13.319Z"
   },
   {
    "duration": 102,
    "start_time": "2025-06-14T12:49:13.638Z"
   },
   {
    "duration": 91,
    "start_time": "2025-06-14T12:49:14.038Z"
   },
   {
    "duration": 22,
    "start_time": "2025-06-14T12:49:14.436Z"
   },
   {
    "duration": 5,
    "start_time": "2025-06-14T12:49:16.055Z"
   },
   {
    "duration": 18,
    "start_time": "2025-06-14T12:49:16.464Z"
   },
   {
    "duration": 19,
    "start_time": "2025-06-14T12:49:18.097Z"
   },
   {
    "duration": 12,
    "start_time": "2025-06-14T12:49:18.876Z"
   },
   {
    "duration": 26,
    "start_time": "2025-06-14T12:49:21.516Z"
   },
   {
    "duration": 12,
    "start_time": "2025-06-14T12:49:21.876Z"
   },
   {
    "duration": 50,
    "start_time": "2025-06-14T12:49:28.714Z"
   },
   {
    "duration": 3701,
    "start_time": "2025-06-14T12:49:56.649Z"
   },
   {
    "duration": 1703,
    "start_time": "2025-06-14T12:50:00.353Z"
   },
   {
    "duration": 6,
    "start_time": "2025-06-14T12:50:02.058Z"
   },
   {
    "duration": 21,
    "start_time": "2025-06-14T12:50:02.066Z"
   },
   {
    "duration": 17,
    "start_time": "2025-06-14T12:50:02.089Z"
   },
   {
    "duration": 19,
    "start_time": "2025-06-14T12:50:02.107Z"
   },
   {
    "duration": 43,
    "start_time": "2025-06-14T12:50:02.127Z"
   },
   {
    "duration": 427,
    "start_time": "2025-06-14T12:50:02.172Z"
   },
   {
    "duration": 6,
    "start_time": "2025-06-14T12:50:02.600Z"
   },
   {
    "duration": 341,
    "start_time": "2025-06-14T12:50:02.793Z"
   },
   {
    "duration": 6,
    "start_time": "2025-06-14T12:50:03.516Z"
   },
   {
    "duration": 23,
    "start_time": "2025-06-14T12:50:04.188Z"
   },
   {
    "duration": 4,
    "start_time": "2025-06-14T12:50:04.575Z"
   },
   {
    "duration": 4,
    "start_time": "2025-06-14T12:50:04.887Z"
   },
   {
    "duration": 15,
    "start_time": "2025-06-14T12:50:05.207Z"
   },
   {
    "duration": 18,
    "start_time": "2025-06-14T12:50:05.736Z"
   },
   {
    "duration": 36,
    "start_time": "2025-06-14T12:50:06.888Z"
   },
   {
    "duration": 102,
    "start_time": "2025-06-14T12:50:07.197Z"
   },
   {
    "duration": 9,
    "start_time": "2025-06-14T12:50:08.405Z"
   },
   {
    "duration": 42,
    "start_time": "2025-06-14T12:50:08.736Z"
   },
   {
    "duration": 8,
    "start_time": "2025-06-14T12:50:09.527Z"
   },
   {
    "duration": 21,
    "start_time": "2025-06-14T12:50:09.867Z"
   },
   {
    "duration": 8,
    "start_time": "2025-06-14T12:50:11.428Z"
   },
   {
    "duration": 25,
    "start_time": "2025-06-14T12:50:11.825Z"
   },
   {
    "duration": 7,
    "start_time": "2025-06-14T12:50:12.771Z"
   },
   {
    "duration": 9,
    "start_time": "2025-06-14T12:50:13.055Z"
   },
   {
    "duration": 104,
    "start_time": "2025-06-14T12:50:13.948Z"
   },
   {
    "duration": 104,
    "start_time": "2025-06-14T12:50:14.348Z"
   },
   {
    "duration": 41,
    "start_time": "2025-06-14T12:50:15.287Z"
   },
   {
    "duration": 41,
    "start_time": "2025-06-14T12:50:15.684Z"
   },
   {
    "duration": 18,
    "start_time": "2025-06-14T12:50:16.328Z"
   },
   {
    "duration": 17,
    "start_time": "2025-06-14T12:50:16.679Z"
   },
   {
    "duration": 22,
    "start_time": "2025-06-14T12:50:17.803Z"
   },
   {
    "duration": 22,
    "start_time": "2025-06-14T12:50:18.228Z"
   },
   {
    "duration": 143,
    "start_time": "2025-06-14T12:50:19.619Z"
   },
   {
    "duration": 6,
    "start_time": "2025-06-14T12:50:20.066Z"
   },
   {
    "duration": 5,
    "start_time": "2025-06-14T12:50:22.058Z"
   },
   {
    "duration": 38,
    "start_time": "2025-06-14T12:50:22.772Z"
   },
   {
    "duration": 13,
    "start_time": "2025-06-14T12:50:23.079Z"
   },
   {
    "duration": 5,
    "start_time": "2025-06-14T12:50:23.498Z"
   },
   {
    "duration": 20,
    "start_time": "2025-06-14T12:50:24.126Z"
   },
   {
    "duration": 4,
    "start_time": "2025-06-14T12:50:24.516Z"
   },
   {
    "duration": 29,
    "start_time": "2025-06-14T12:50:25.059Z"
   },
   {
    "duration": 548,
    "start_time": "2025-06-14T12:50:25.497Z"
   },
   {
    "duration": 337,
    "start_time": "2025-06-14T12:50:26.048Z"
   },
   {
    "duration": 20,
    "start_time": "2025-06-14T12:50:27.269Z"
   },
   {
    "duration": 17,
    "start_time": "2025-06-14T12:50:27.675Z"
   },
   {
    "duration": 17,
    "start_time": "2025-06-14T12:50:27.977Z"
   },
   {
    "duration": 33,
    "start_time": "2025-06-14T12:50:28.348Z"
   },
   {
    "duration": 14,
    "start_time": "2025-06-14T12:50:29.008Z"
   },
   {
    "duration": 40,
    "start_time": "2025-06-14T12:50:29.387Z"
   },
   {
    "duration": 140,
    "start_time": "2025-06-14T12:50:29.685Z"
   },
   {
    "duration": 24,
    "start_time": "2025-06-14T12:50:30.047Z"
   },
   {
    "duration": 32,
    "start_time": "2025-06-14T12:50:30.541Z"
   },
   {
    "duration": 24,
    "start_time": "2025-06-14T12:50:31.147Z"
   },
   {
    "duration": 113,
    "start_time": "2025-06-14T12:50:31.438Z"
   },
   {
    "duration": 92,
    "start_time": "2025-06-14T12:50:33.168Z"
   },
   {
    "duration": 23,
    "start_time": "2025-06-14T12:50:33.548Z"
   },
   {
    "duration": 6,
    "start_time": "2025-06-14T12:50:33.977Z"
   },
   {
    "duration": 18,
    "start_time": "2025-06-14T12:50:34.679Z"
   },
   {
    "duration": 20,
    "start_time": "2025-06-14T12:50:36.117Z"
   },
   {
    "duration": 11,
    "start_time": "2025-06-14T12:50:36.868Z"
   },
   {
    "duration": 26,
    "start_time": "2025-06-14T12:50:39.368Z"
   },
   {
    "duration": 12,
    "start_time": "2025-06-14T12:50:40.737Z"
   },
   {
    "duration": 51,
    "start_time": "2025-06-14T12:51:48.136Z"
   },
   {
    "duration": 6,
    "start_time": "2025-06-14T12:51:49.437Z"
   },
   {
    "duration": 3781,
    "start_time": "2025-06-14T12:51:58.248Z"
   },
   {
    "duration": 2055,
    "start_time": "2025-06-14T12:52:02.032Z"
   },
   {
    "duration": 7,
    "start_time": "2025-06-14T12:52:04.089Z"
   },
   {
    "duration": 8,
    "start_time": "2025-06-14T12:52:04.104Z"
   },
   {
    "duration": 4,
    "start_time": "2025-06-14T12:52:04.114Z"
   },
   {
    "duration": 17,
    "start_time": "2025-06-14T12:52:04.119Z"
   },
   {
    "duration": 12,
    "start_time": "2025-06-14T12:52:04.138Z"
   },
   {
    "duration": 381,
    "start_time": "2025-06-14T12:52:04.152Z"
   },
   {
    "duration": 4,
    "start_time": "2025-06-14T12:52:04.535Z"
   },
   {
    "duration": 357,
    "start_time": "2025-06-14T12:52:04.541Z"
   },
   {
    "duration": 6,
    "start_time": "2025-06-14T12:52:04.901Z"
   },
   {
    "duration": 25,
    "start_time": "2025-06-14T12:52:04.909Z"
   },
   {
    "duration": 5,
    "start_time": "2025-06-14T12:52:04.937Z"
   },
   {
    "duration": 5,
    "start_time": "2025-06-14T12:52:04.944Z"
   },
   {
    "duration": 113,
    "start_time": "2025-06-14T12:52:04.952Z"
   },
   {
    "duration": 13,
    "start_time": "2025-06-14T12:52:05.067Z"
   },
   {
    "duration": 32,
    "start_time": "2025-06-14T12:52:05.082Z"
   },
   {
    "duration": 124,
    "start_time": "2025-06-14T12:52:05.117Z"
   },
   {
    "duration": 60,
    "start_time": "2025-06-14T12:52:05.243Z"
   },
   {
    "duration": 40,
    "start_time": "2025-06-14T12:52:05.305Z"
   },
   {
    "duration": 8,
    "start_time": "2025-06-14T12:52:05.347Z"
   },
   {
    "duration": 118,
    "start_time": "2025-06-14T12:52:05.356Z"
   },
   {
    "duration": 9,
    "start_time": "2025-06-14T12:52:05.475Z"
   },
   {
    "duration": 47,
    "start_time": "2025-06-14T12:52:05.485Z"
   },
   {
    "duration": 24,
    "start_time": "2025-06-14T12:52:05.534Z"
   },
   {
    "duration": 19,
    "start_time": "2025-06-14T12:52:05.560Z"
   },
   {
    "duration": 109,
    "start_time": "2025-06-14T12:52:05.581Z"
   },
   {
    "duration": 101,
    "start_time": "2025-06-14T12:52:05.694Z"
   },
   {
    "duration": 44,
    "start_time": "2025-06-14T12:52:05.797Z"
   },
   {
    "duration": 41,
    "start_time": "2025-06-14T12:52:05.843Z"
   },
   {
    "duration": 46,
    "start_time": "2025-06-14T12:52:05.885Z"
   },
   {
    "duration": 24,
    "start_time": "2025-06-14T12:52:05.933Z"
   },
   {
    "duration": 24,
    "start_time": "2025-06-14T12:52:05.959Z"
   },
   {
    "duration": 22,
    "start_time": "2025-06-14T12:52:05.984Z"
   },
   {
    "duration": 193,
    "start_time": "2025-06-14T12:52:06.008Z"
   },
   {
    "duration": 6,
    "start_time": "2025-06-14T12:52:06.203Z"
   },
   {
    "duration": 49,
    "start_time": "2025-06-14T12:52:06.211Z"
   },
   {
    "duration": 50,
    "start_time": "2025-06-14T12:52:06.262Z"
   },
   {
    "duration": 13,
    "start_time": "2025-06-14T12:52:06.314Z"
   },
   {
    "duration": 8,
    "start_time": "2025-06-14T12:52:06.329Z"
   },
   {
    "duration": 47,
    "start_time": "2025-06-14T12:52:06.339Z"
   },
   {
    "duration": 3,
    "start_time": "2025-06-14T12:52:06.388Z"
   },
   {
    "duration": 31,
    "start_time": "2025-06-14T12:52:06.393Z"
   },
   {
    "duration": 545,
    "start_time": "2025-06-14T12:52:06.426Z"
   },
   {
    "duration": 312,
    "start_time": "2025-06-14T12:52:06.973Z"
   },
   {
    "duration": 26,
    "start_time": "2025-06-14T12:52:07.287Z"
   },
   {
    "duration": 25,
    "start_time": "2025-06-14T12:52:07.314Z"
   },
   {
    "duration": 97,
    "start_time": "2025-06-14T12:52:07.341Z"
   },
   {
    "duration": 40,
    "start_time": "2025-06-14T12:52:07.440Z"
   },
   {
    "duration": 32,
    "start_time": "2025-06-14T12:52:07.481Z"
   },
   {
    "duration": 51,
    "start_time": "2025-06-14T12:52:07.515Z"
   },
   {
    "duration": 169,
    "start_time": "2025-06-14T12:52:07.568Z"
   },
   {
    "duration": 24,
    "start_time": "2025-06-14T12:52:07.738Z"
   },
   {
    "duration": 74,
    "start_time": "2025-06-14T12:52:07.763Z"
   },
   {
    "duration": 36,
    "start_time": "2025-06-14T12:52:07.839Z"
   },
   {
    "duration": 113,
    "start_time": "2025-06-14T12:52:07.877Z"
   },
   {
    "duration": 92,
    "start_time": "2025-06-14T12:52:07.991Z"
   },
   {
    "duration": 41,
    "start_time": "2025-06-14T12:52:08.084Z"
   },
   {
    "duration": 5,
    "start_time": "2025-06-14T12:52:08.127Z"
   },
   {
    "duration": 48,
    "start_time": "2025-06-14T12:52:08.134Z"
   },
   {
    "duration": 19,
    "start_time": "2025-06-14T12:52:08.183Z"
   },
   {
    "duration": 11,
    "start_time": "2025-06-14T12:52:08.204Z"
   },
   {
    "duration": 29,
    "start_time": "2025-06-14T12:52:08.216Z"
   },
   {
    "duration": 11,
    "start_time": "2025-06-14T12:52:08.247Z"
   },
   {
    "duration": 3740,
    "start_time": "2025-06-14T12:52:56.059Z"
   },
   {
    "duration": 1854,
    "start_time": "2025-06-14T12:52:59.802Z"
   },
   {
    "duration": 7,
    "start_time": "2025-06-14T12:53:01.658Z"
   },
   {
    "duration": 8,
    "start_time": "2025-06-14T12:53:01.667Z"
   },
   {
    "duration": 58,
    "start_time": "2025-06-14T12:53:01.676Z"
   },
   {
    "duration": 102,
    "start_time": "2025-06-14T12:53:01.735Z"
   },
   {
    "duration": 24,
    "start_time": "2025-06-14T12:53:01.839Z"
   },
   {
    "duration": 381,
    "start_time": "2025-06-14T12:53:01.865Z"
   },
   {
    "duration": 4,
    "start_time": "2025-06-14T12:53:02.248Z"
   },
   {
    "duration": 397,
    "start_time": "2025-06-14T12:53:02.254Z"
   },
   {
    "duration": 4,
    "start_time": "2025-06-14T12:53:02.653Z"
   },
   {
    "duration": 35,
    "start_time": "2025-06-14T12:53:02.659Z"
   },
   {
    "duration": 10,
    "start_time": "2025-06-14T12:53:02.696Z"
   },
   {
    "duration": 3,
    "start_time": "2025-06-14T12:53:02.707Z"
   },
   {
    "duration": 52,
    "start_time": "2025-06-14T12:53:02.711Z"
   },
   {
    "duration": 13,
    "start_time": "2025-06-14T12:53:02.765Z"
   },
   {
    "duration": 75,
    "start_time": "2025-06-14T12:53:02.780Z"
   },
   {
    "duration": 114,
    "start_time": "2025-06-14T12:53:02.856Z"
   },
   {
    "duration": 10,
    "start_time": "2025-06-14T12:53:02.971Z"
   },
   {
    "duration": 129,
    "start_time": "2025-06-14T12:53:02.982Z"
   },
   {
    "duration": 8,
    "start_time": "2025-06-14T12:53:03.112Z"
   },
   {
    "duration": 116,
    "start_time": "2025-06-14T12:53:03.122Z"
   },
   {
    "duration": 118,
    "start_time": "2025-06-14T12:53:03.240Z"
   },
   {
    "duration": 153,
    "start_time": "2025-06-14T12:53:03.359Z"
   },
   {
    "duration": 6,
    "start_time": "2025-06-14T12:53:03.514Z"
   },
   {
    "duration": 27,
    "start_time": "2025-06-14T12:53:03.521Z"
   },
   {
    "duration": 108,
    "start_time": "2025-06-14T12:53:03.550Z"
   },
   {
    "duration": 110,
    "start_time": "2025-06-14T12:53:03.663Z"
   },
   {
    "duration": 48,
    "start_time": "2025-06-14T12:53:03.775Z"
   },
   {
    "duration": 45,
    "start_time": "2025-06-14T12:53:03.825Z"
   },
   {
    "duration": 16,
    "start_time": "2025-06-14T12:53:03.872Z"
   },
   {
    "duration": 18,
    "start_time": "2025-06-14T12:53:03.906Z"
   },
   {
    "duration": 23,
    "start_time": "2025-06-14T12:53:03.925Z"
   },
   {
    "duration": 48,
    "start_time": "2025-06-14T12:53:03.949Z"
   },
   {
    "duration": 159,
    "start_time": "2025-06-14T12:53:03.998Z"
   },
   {
    "duration": 5,
    "start_time": "2025-06-14T12:53:04.159Z"
   },
   {
    "duration": 27,
    "start_time": "2025-06-14T12:53:04.166Z"
   },
   {
    "duration": 50,
    "start_time": "2025-06-14T12:53:04.195Z"
   },
   {
    "duration": 12,
    "start_time": "2025-06-14T12:53:04.247Z"
   },
   {
    "duration": 23,
    "start_time": "2025-06-14T12:53:04.261Z"
   },
   {
    "duration": 23,
    "start_time": "2025-06-14T12:53:04.286Z"
   },
   {
    "duration": 4,
    "start_time": "2025-06-14T12:53:04.311Z"
   },
   {
    "duration": 41,
    "start_time": "2025-06-14T12:53:04.317Z"
   },
   {
    "duration": 493,
    "start_time": "2025-06-14T12:53:04.360Z"
   },
   {
    "duration": 330,
    "start_time": "2025-06-14T12:53:04.855Z"
   },
   {
    "duration": 28,
    "start_time": "2025-06-14T12:53:05.187Z"
   },
   {
    "duration": 97,
    "start_time": "2025-06-14T12:53:05.217Z"
   },
   {
    "duration": 31,
    "start_time": "2025-06-14T12:53:05.315Z"
   },
   {
    "duration": 110,
    "start_time": "2025-06-14T12:53:05.348Z"
   },
   {
    "duration": 12,
    "start_time": "2025-06-14T12:53:05.460Z"
   },
   {
    "duration": 68,
    "start_time": "2025-06-14T12:53:05.474Z"
   },
   {
    "duration": 155,
    "start_time": "2025-06-14T12:53:05.544Z"
   },
   {
    "duration": 28,
    "start_time": "2025-06-14T12:53:05.700Z"
   },
   {
    "duration": 124,
    "start_time": "2025-06-14T12:53:05.730Z"
   },
   {
    "duration": 24,
    "start_time": "2025-06-14T12:53:05.856Z"
   },
   {
    "duration": 102,
    "start_time": "2025-06-14T12:53:05.882Z"
   },
   {
    "duration": 104,
    "start_time": "2025-06-14T12:53:05.986Z"
   },
   {
    "duration": 38,
    "start_time": "2025-06-14T12:53:06.092Z"
   },
   {
    "duration": 6,
    "start_time": "2025-06-14T12:53:06.131Z"
   },
   {
    "duration": 47,
    "start_time": "2025-06-14T12:53:06.138Z"
   },
   {
    "duration": 20,
    "start_time": "2025-06-14T12:53:06.187Z"
   },
   {
    "duration": 30,
    "start_time": "2025-06-14T12:53:06.209Z"
   },
   {
    "duration": 43,
    "start_time": "2025-06-14T12:53:06.240Z"
   },
   {
    "duration": 22,
    "start_time": "2025-06-14T12:53:06.285Z"
   },
   {
    "duration": 3630,
    "start_time": "2025-06-14T13:03:37.403Z"
   },
   {
    "duration": 1914,
    "start_time": "2025-06-14T13:03:41.036Z"
   },
   {
    "duration": 6,
    "start_time": "2025-06-14T13:03:42.952Z"
   },
   {
    "duration": 37,
    "start_time": "2025-06-14T13:03:42.960Z"
   },
   {
    "duration": 116,
    "start_time": "2025-06-14T13:03:43.000Z"
   },
   {
    "duration": 28,
    "start_time": "2025-06-14T13:03:43.118Z"
   },
   {
    "duration": 23,
    "start_time": "2025-06-14T13:03:43.148Z"
   },
   {
    "duration": 507,
    "start_time": "2025-06-14T13:03:43.172Z"
   },
   {
    "duration": 4,
    "start_time": "2025-06-14T13:03:43.681Z"
   },
   {
    "duration": 359,
    "start_time": "2025-06-14T13:03:43.686Z"
   },
   {
    "duration": 5,
    "start_time": "2025-06-14T13:03:44.046Z"
   },
   {
    "duration": 32,
    "start_time": "2025-06-14T13:03:44.052Z"
   },
   {
    "duration": 4,
    "start_time": "2025-06-14T13:03:44.086Z"
   },
   {
    "duration": 2,
    "start_time": "2025-06-14T13:03:44.107Z"
   },
   {
    "duration": 42,
    "start_time": "2025-06-14T13:03:44.111Z"
   },
   {
    "duration": 28,
    "start_time": "2025-06-14T13:03:44.155Z"
   },
   {
    "duration": 25,
    "start_time": "2025-06-14T13:03:44.185Z"
   },
   {
    "duration": 115,
    "start_time": "2025-06-14T13:03:44.212Z"
   },
   {
    "duration": 9,
    "start_time": "2025-06-14T13:03:44.329Z"
   },
   {
    "duration": 52,
    "start_time": "2025-06-14T13:03:44.340Z"
   },
   {
    "duration": 12,
    "start_time": "2025-06-14T13:03:44.395Z"
   },
   {
    "duration": 22,
    "start_time": "2025-06-14T13:03:44.409Z"
   },
   {
    "duration": 8,
    "start_time": "2025-06-14T13:03:44.433Z"
   },
   {
    "duration": 30,
    "start_time": "2025-06-14T13:03:44.442Z"
   },
   {
    "duration": 32,
    "start_time": "2025-06-14T13:03:44.474Z"
   },
   {
    "duration": 10,
    "start_time": "2025-06-14T13:03:44.508Z"
   },
   {
    "duration": 116,
    "start_time": "2025-06-14T13:03:44.519Z"
   },
   {
    "duration": 112,
    "start_time": "2025-06-14T13:03:44.637Z"
   },
   {
    "duration": 54,
    "start_time": "2025-06-14T13:03:44.751Z"
   },
   {
    "duration": 42,
    "start_time": "2025-06-14T13:03:44.808Z"
   },
   {
    "duration": 16,
    "start_time": "2025-06-14T13:03:44.851Z"
   },
   {
    "duration": 38,
    "start_time": "2025-06-14T13:03:44.868Z"
   },
   {
    "duration": 24,
    "start_time": "2025-06-14T13:03:44.908Z"
   },
   {
    "duration": 28,
    "start_time": "2025-06-14T13:03:44.934Z"
   },
   {
    "duration": 183,
    "start_time": "2025-06-14T13:03:44.964Z"
   },
   {
    "duration": 6,
    "start_time": "2025-06-14T13:03:45.148Z"
   },
   {
    "duration": 16,
    "start_time": "2025-06-14T13:03:45.156Z"
   },
   {
    "duration": 79,
    "start_time": "2025-06-14T13:03:45.174Z"
   },
   {
    "duration": 212,
    "start_time": "2025-06-14T13:03:45.255Z"
   },
   {
    "duration": 60,
    "start_time": "2025-06-14T13:03:45.468Z"
   },
   {
    "duration": 42,
    "start_time": "2025-06-14T13:03:45.532Z"
   },
   {
    "duration": 3,
    "start_time": "2025-06-14T13:03:45.576Z"
   },
   {
    "duration": 35,
    "start_time": "2025-06-14T13:03:45.581Z"
   },
   {
    "duration": 567,
    "start_time": "2025-06-14T13:03:45.618Z"
   },
   {
    "duration": 294,
    "start_time": "2025-06-14T13:03:46.187Z"
   },
   {
    "duration": 30,
    "start_time": "2025-06-14T13:03:46.483Z"
   },
   {
    "duration": 18,
    "start_time": "2025-06-14T13:03:46.515Z"
   },
   {
    "duration": 123,
    "start_time": "2025-06-14T13:03:46.535Z"
   },
   {
    "duration": 31,
    "start_time": "2025-06-14T13:03:46.660Z"
   },
   {
    "duration": 13,
    "start_time": "2025-06-14T13:03:46.693Z"
   },
   {
    "duration": 40,
    "start_time": "2025-06-14T13:03:46.708Z"
   },
   {
    "duration": 162,
    "start_time": "2025-06-14T13:03:46.750Z"
   },
   {
    "duration": 21,
    "start_time": "2025-06-14T13:03:46.914Z"
   },
   {
    "duration": 36,
    "start_time": "2025-06-14T13:03:46.937Z"
   },
   {
    "duration": 42,
    "start_time": "2025-06-14T13:03:46.974Z"
   },
   {
    "duration": 107,
    "start_time": "2025-06-14T13:03:47.018Z"
   },
   {
    "duration": 93,
    "start_time": "2025-06-14T13:03:47.127Z"
   },
   {
    "duration": 20,
    "start_time": "2025-06-14T13:03:47.222Z"
   },
   {
    "duration": 101,
    "start_time": "2025-06-14T13:03:47.244Z"
   },
   {
    "duration": 24,
    "start_time": "2025-06-14T13:03:47.347Z"
   },
   {
    "duration": 20,
    "start_time": "2025-06-14T13:03:47.373Z"
   },
   {
    "duration": 119,
    "start_time": "2025-06-14T13:03:47.395Z"
   },
   {
    "duration": 26,
    "start_time": "2025-06-14T13:03:47.516Z"
   },
   {
    "duration": 17,
    "start_time": "2025-06-14T13:03:47.544Z"
   },
   {
    "duration": 51,
    "start_time": "2025-06-14T13:09:13.373Z"
   },
   {
    "duration": 3643,
    "start_time": "2025-06-14T13:09:30.035Z"
   },
   {
    "duration": 2079,
    "start_time": "2025-06-14T13:09:33.681Z"
   },
   {
    "duration": 6,
    "start_time": "2025-06-14T13:09:35.762Z"
   },
   {
    "duration": 120,
    "start_time": "2025-06-14T13:09:35.770Z"
   },
   {
    "duration": 7,
    "start_time": "2025-06-14T13:09:35.892Z"
   },
   {
    "duration": 10,
    "start_time": "2025-06-14T13:09:35.901Z"
   },
   {
    "duration": 32,
    "start_time": "2025-06-14T13:09:35.913Z"
   },
   {
    "duration": 428,
    "start_time": "2025-06-14T13:09:35.946Z"
   },
   {
    "duration": 5,
    "start_time": "2025-06-14T13:09:36.376Z"
   },
   {
    "duration": 381,
    "start_time": "2025-06-14T13:09:36.383Z"
   },
   {
    "duration": 4,
    "start_time": "2025-06-14T13:09:36.766Z"
   },
   {
    "duration": 40,
    "start_time": "2025-06-14T13:09:36.772Z"
   },
   {
    "duration": 5,
    "start_time": "2025-06-14T13:09:36.813Z"
   },
   {
    "duration": 33,
    "start_time": "2025-06-14T13:09:36.819Z"
   },
   {
    "duration": 12,
    "start_time": "2025-06-14T13:09:36.854Z"
   },
   {
    "duration": 12,
    "start_time": "2025-06-14T13:09:36.868Z"
   },
   {
    "duration": 25,
    "start_time": "2025-06-14T13:09:36.881Z"
   },
   {
    "duration": 111,
    "start_time": "2025-06-14T13:09:36.907Z"
   },
   {
    "duration": 9,
    "start_time": "2025-06-14T13:09:37.020Z"
   },
   {
    "duration": 151,
    "start_time": "2025-06-14T13:09:37.030Z"
   },
   {
    "duration": 8,
    "start_time": "2025-06-14T13:09:37.183Z"
   },
   {
    "duration": 26,
    "start_time": "2025-06-14T13:09:37.193Z"
   },
   {
    "duration": 29,
    "start_time": "2025-06-14T13:09:37.221Z"
   },
   {
    "duration": 189,
    "start_time": "2025-06-14T13:09:37.251Z"
   },
   {
    "duration": 113,
    "start_time": "2025-06-14T13:09:37.442Z"
   },
   {
    "duration": 10,
    "start_time": "2025-06-14T13:09:37.557Z"
   },
   {
    "duration": 115,
    "start_time": "2025-06-14T13:09:37.569Z"
   },
   {
    "duration": 110,
    "start_time": "2025-06-14T13:09:37.687Z"
   },
   {
    "duration": 43,
    "start_time": "2025-06-14T13:09:37.798Z"
   },
   {
    "duration": 85,
    "start_time": "2025-06-14T13:09:37.843Z"
   },
   {
    "duration": 24,
    "start_time": "2025-06-14T13:09:37.930Z"
   },
   {
    "duration": 28,
    "start_time": "2025-06-14T13:09:37.956Z"
   },
   {
    "duration": 22,
    "start_time": "2025-06-14T13:09:37.986Z"
   },
   {
    "duration": 39,
    "start_time": "2025-06-14T13:09:38.010Z"
   },
   {
    "duration": 156,
    "start_time": "2025-06-14T13:09:38.050Z"
   },
   {
    "duration": 4,
    "start_time": "2025-06-14T13:10:05.135Z"
   },
   {
    "duration": 39,
    "start_time": "2025-06-14T13:10:06.733Z"
   },
   {
    "duration": 12,
    "start_time": "2025-06-14T13:10:07.044Z"
   },
   {
    "duration": 6,
    "start_time": "2025-06-14T13:10:07.854Z"
   },
   {
    "duration": 18,
    "start_time": "2025-06-14T13:10:08.118Z"
   },
   {
    "duration": 3,
    "start_time": "2025-06-14T13:10:08.518Z"
   },
   {
    "duration": 29,
    "start_time": "2025-06-14T13:10:09.259Z"
   },
   {
    "duration": 544,
    "start_time": "2025-06-14T13:10:09.620Z"
   },
   {
    "duration": 290,
    "start_time": "2025-06-14T13:10:10.185Z"
   },
   {
    "duration": 21,
    "start_time": "2025-06-14T13:10:11.525Z"
   },
   {
    "duration": 20,
    "start_time": "2025-06-14T13:10:12.311Z"
   },
   {
    "duration": 16,
    "start_time": "2025-06-14T13:10:12.932Z"
   },
   {
    "duration": 59,
    "start_time": "2025-06-14T13:10:12.950Z"
   },
   {
    "duration": 12,
    "start_time": "2025-06-14T13:10:13.555Z"
   },
   {
    "duration": 42,
    "start_time": "2025-06-14T13:10:13.914Z"
   },
   {
    "duration": 151,
    "start_time": "2025-06-14T13:10:22.930Z"
   },
   {
    "duration": 23,
    "start_time": "2025-06-14T13:10:23.566Z"
   },
   {
    "duration": 31,
    "start_time": "2025-06-14T13:10:24.122Z"
   },
   {
    "duration": 25,
    "start_time": "2025-06-14T13:10:24.724Z"
   },
   {
    "duration": 104,
    "start_time": "2025-06-14T13:10:25.531Z"
   },
   {
    "duration": 89,
    "start_time": "2025-06-14T13:10:26.241Z"
   },
   {
    "duration": 23,
    "start_time": "2025-06-14T13:10:26.905Z"
   },
   {
    "duration": 6,
    "start_time": "2025-06-14T13:10:27.429Z"
   },
   {
    "duration": 17,
    "start_time": "2025-06-14T13:10:28.228Z"
   },
   {
    "duration": 18,
    "start_time": "2025-06-14T13:10:31.692Z"
   },
   {
    "duration": 12,
    "start_time": "2025-06-14T13:10:34.405Z"
   },
   {
    "duration": 27,
    "start_time": "2025-06-14T13:10:36.655Z"
   },
   {
    "duration": 12,
    "start_time": "2025-06-14T13:10:36.994Z"
   },
   {
    "duration": 49,
    "start_time": "2025-06-14T13:11:31.007Z"
   },
   {
    "duration": 3645,
    "start_time": "2025-06-14T13:11:35.146Z"
   },
   {
    "duration": 2166,
    "start_time": "2025-06-14T13:11:38.794Z"
   },
   {
    "duration": 6,
    "start_time": "2025-06-14T13:11:40.962Z"
   },
   {
    "duration": 20,
    "start_time": "2025-06-14T13:11:40.970Z"
   },
   {
    "duration": 27,
    "start_time": "2025-06-14T13:11:40.991Z"
   },
   {
    "duration": 8,
    "start_time": "2025-06-14T13:11:41.020Z"
   },
   {
    "duration": 6,
    "start_time": "2025-06-14T13:11:41.030Z"
   },
   {
    "duration": 376,
    "start_time": "2025-06-14T13:11:41.038Z"
   },
   {
    "duration": 4,
    "start_time": "2025-06-14T13:11:41.415Z"
   },
   {
    "duration": 435,
    "start_time": "2025-06-14T13:11:41.421Z"
   },
   {
    "duration": 5,
    "start_time": "2025-06-14T13:11:41.857Z"
   },
   {
    "duration": 32,
    "start_time": "2025-06-14T13:11:41.863Z"
   },
   {
    "duration": 9,
    "start_time": "2025-06-14T13:11:41.897Z"
   },
   {
    "duration": 8,
    "start_time": "2025-06-14T13:11:41.907Z"
   },
   {
    "duration": 12,
    "start_time": "2025-06-14T13:11:41.916Z"
   },
   {
    "duration": 11,
    "start_time": "2025-06-14T13:11:41.930Z"
   },
   {
    "duration": 24,
    "start_time": "2025-06-14T13:11:41.943Z"
   },
   {
    "duration": 130,
    "start_time": "2025-06-14T13:11:41.969Z"
   },
   {
    "duration": 11,
    "start_time": "2025-06-14T13:11:42.100Z"
   },
   {
    "duration": 44,
    "start_time": "2025-06-14T13:11:42.113Z"
   },
   {
    "duration": 8,
    "start_time": "2025-06-14T13:11:42.158Z"
   },
   {
    "duration": 40,
    "start_time": "2025-06-14T13:11:42.167Z"
   },
   {
    "duration": 7,
    "start_time": "2025-06-14T13:11:42.209Z"
   },
   {
    "duration": 33,
    "start_time": "2025-06-14T13:11:42.217Z"
   },
   {
    "duration": 15,
    "start_time": "2025-06-14T13:11:42.252Z"
   },
   {
    "duration": 22,
    "start_time": "2025-06-14T13:11:42.268Z"
   },
   {
    "duration": 103,
    "start_time": "2025-06-14T13:11:42.292Z"
   },
   {
    "duration": 103,
    "start_time": "2025-06-14T13:11:42.404Z"
   },
   {
    "duration": 39,
    "start_time": "2025-06-14T13:11:42.509Z"
   },
   {
    "duration": 63,
    "start_time": "2025-06-14T13:11:42.549Z"
   },
   {
    "duration": 74,
    "start_time": "2025-06-14T13:11:42.613Z"
   },
   {
    "duration": 30,
    "start_time": "2025-06-14T13:11:42.688Z"
   },
   {
    "duration": 32,
    "start_time": "2025-06-14T13:11:42.720Z"
   },
   {
    "duration": 27,
    "start_time": "2025-06-14T13:11:42.754Z"
   },
   {
    "duration": 148,
    "start_time": "2025-06-14T13:11:42.783Z"
   },
   {
    "duration": 5,
    "start_time": "2025-06-14T13:11:42.933Z"
   },
   {
    "duration": 20,
    "start_time": "2025-06-14T13:11:42.939Z"
   },
   {
    "duration": 46,
    "start_time": "2025-06-14T13:11:42.960Z"
   },
   {
    "duration": 10,
    "start_time": "2025-06-14T13:11:43.008Z"
   },
   {
    "duration": 8,
    "start_time": "2025-06-14T13:11:43.019Z"
   },
   {
    "duration": 100,
    "start_time": "2025-06-14T13:11:43.029Z"
   },
   {
    "duration": 6,
    "start_time": "2025-06-14T13:11:43.130Z"
   },
   {
    "duration": 35,
    "start_time": "2025-06-14T13:11:43.137Z"
   },
   {
    "duration": 492,
    "start_time": "2025-06-14T13:11:43.173Z"
   },
   {
    "duration": 328,
    "start_time": "2025-06-14T13:11:43.667Z"
   },
   {
    "duration": 28,
    "start_time": "2025-06-14T13:11:43.996Z"
   },
   {
    "duration": 34,
    "start_time": "2025-06-14T13:11:44.026Z"
   },
   {
    "duration": 15,
    "start_time": "2025-06-14T13:11:44.062Z"
   },
   {
    "duration": 48,
    "start_time": "2025-06-14T13:11:44.079Z"
   },
   {
    "duration": 11,
    "start_time": "2025-06-14T13:11:44.129Z"
   },
   {
    "duration": 39,
    "start_time": "2025-06-14T13:11:44.141Z"
   },
   {
    "duration": 161,
    "start_time": "2025-06-14T13:11:44.182Z"
   },
   {
    "duration": 23,
    "start_time": "2025-06-14T13:11:44.345Z"
   },
   {
    "duration": 43,
    "start_time": "2025-06-14T13:11:44.370Z"
   },
   {
    "duration": 22,
    "start_time": "2025-06-14T13:11:44.415Z"
   },
   {
    "duration": 109,
    "start_time": "2025-06-14T13:11:44.439Z"
   },
   {
    "duration": 93,
    "start_time": "2025-06-14T13:11:44.550Z"
   },
   {
    "duration": 56,
    "start_time": "2025-06-14T13:11:44.645Z"
   },
   {
    "duration": 5,
    "start_time": "2025-06-14T13:11:44.703Z"
   },
   {
    "duration": 25,
    "start_time": "2025-06-14T13:11:44.709Z"
   },
   {
    "duration": 18,
    "start_time": "2025-06-14T13:11:44.735Z"
   },
   {
    "duration": 9,
    "start_time": "2025-06-14T13:11:44.755Z"
   },
   {
    "duration": 39,
    "start_time": "2025-06-14T13:11:44.766Z"
   },
   {
    "duration": 10,
    "start_time": "2025-06-14T13:11:44.807Z"
   },
   {
    "duration": 4614,
    "start_time": "2025-06-15T08:59:45.606Z"
   },
   {
    "duration": 2323,
    "start_time": "2025-06-15T08:59:50.222Z"
   },
   {
    "duration": 7,
    "start_time": "2025-06-15T08:59:52.546Z"
   },
   {
    "duration": 13,
    "start_time": "2025-06-15T08:59:52.554Z"
   },
   {
    "duration": 17,
    "start_time": "2025-06-15T08:59:52.568Z"
   },
   {
    "duration": 17,
    "start_time": "2025-06-15T08:59:52.587Z"
   },
   {
    "duration": 10,
    "start_time": "2025-06-15T08:59:52.605Z"
   },
   {
    "duration": 377,
    "start_time": "2025-06-15T08:59:54.515Z"
   },
   {
    "duration": 4,
    "start_time": "2025-06-15T08:59:55.565Z"
   },
   {
    "duration": 345,
    "start_time": "2025-06-15T09:00:03.255Z"
   },
   {
    "duration": 4,
    "start_time": "2025-06-15T09:00:03.633Z"
   },
   {
    "duration": 25,
    "start_time": "2025-06-15T09:00:05.566Z"
   },
   {
    "duration": 4,
    "start_time": "2025-06-15T09:00:07.696Z"
   },
   {
    "duration": 3,
    "start_time": "2025-06-15T09:00:26.125Z"
   },
   {
    "duration": 2,
    "start_time": "2025-06-15T09:02:10.806Z"
   },
   {
    "duration": 14,
    "start_time": "2025-06-15T09:02:11.075Z"
   },
   {
    "duration": 11,
    "start_time": "2025-06-15T09:02:11.955Z"
   },
   {
    "duration": 23,
    "start_time": "2025-06-15T09:02:13.547Z"
   },
   {
    "duration": 99,
    "start_time": "2025-06-15T09:02:15.225Z"
   },
   {
    "duration": 9,
    "start_time": "2025-06-15T09:02:16.306Z"
   },
   {
    "duration": 37,
    "start_time": "2025-06-15T09:02:17.234Z"
   },
   {
    "duration": 8,
    "start_time": "2025-06-15T09:02:17.766Z"
   },
   {
    "duration": 26,
    "start_time": "2025-06-15T09:02:18.375Z"
   },
   {
    "duration": 8,
    "start_time": "2025-06-15T09:02:19.805Z"
   },
   {
    "duration": 8,
    "start_time": "2025-06-15T09:03:31.888Z"
   },
   {
    "duration": 9,
    "start_time": "2025-06-15T09:03:32.225Z"
   },
   {
    "duration": 13,
    "start_time": "2025-06-15T09:04:01.985Z"
   },
   {
    "duration": 8,
    "start_time": "2025-06-15T09:04:11.035Z"
   },
   {
    "duration": 7,
    "start_time": "2025-06-15T09:04:25.843Z"
   },
   {
    "duration": 103,
    "start_time": "2025-06-15T09:05:28.265Z"
   },
   {
    "duration": 2321,
    "start_time": "2025-06-15T09:13:06.425Z"
   },
   {
    "duration": 2247,
    "start_time": "2025-06-15T09:13:08.748Z"
   },
   {
    "duration": 5,
    "start_time": "2025-06-15T09:13:10.996Z"
   },
   {
    "duration": 83,
    "start_time": "2025-06-15T09:13:11.002Z"
   },
   {
    "duration": 35,
    "start_time": "2025-06-15T09:13:11.086Z"
   },
   {
    "duration": 86,
    "start_time": "2025-06-15T09:13:11.123Z"
   },
   {
    "duration": 5,
    "start_time": "2025-06-15T09:13:11.212Z"
   },
   {
    "duration": 336,
    "start_time": "2025-06-15T09:13:12.644Z"
   },
   {
    "duration": 4,
    "start_time": "2025-06-15T09:13:12.982Z"
   },
   {
    "duration": 363,
    "start_time": "2025-06-15T09:13:13.766Z"
   },
   {
    "duration": 5,
    "start_time": "2025-06-15T09:13:14.131Z"
   },
   {
    "duration": 3,
    "start_time": "2025-06-15T09:13:16.475Z"
   },
   {
    "duration": 9,
    "start_time": "2025-06-15T09:13:16.843Z"
   },
   {
    "duration": 11,
    "start_time": "2025-06-15T09:13:17.193Z"
   },
   {
    "duration": 23,
    "start_time": "2025-06-15T09:13:18.503Z"
   },
   {
    "duration": 96,
    "start_time": "2025-06-15T09:13:19.185Z"
   },
   {
    "duration": 9,
    "start_time": "2025-06-15T09:13:20.545Z"
   },
   {
    "duration": 38,
    "start_time": "2025-06-15T09:13:20.913Z"
   },
   {
    "duration": 10,
    "start_time": "2025-06-15T09:13:22.035Z"
   },
   {
    "duration": 20,
    "start_time": "2025-06-15T09:13:22.426Z"
   },
   {
    "duration": 8,
    "start_time": "2025-06-15T09:13:23.435Z"
   },
   {
    "duration": 23,
    "start_time": "2025-06-15T09:13:23.933Z"
   },
   {
    "duration": 7,
    "start_time": "2025-06-15T09:13:26.425Z"
   },
   {
    "duration": 9,
    "start_time": "2025-06-15T09:13:26.785Z"
   },
   {
    "duration": 96,
    "start_time": "2025-06-15T09:13:28.684Z"
   },
   {
    "duration": 92,
    "start_time": "2025-06-15T09:13:29.585Z"
   },
   {
    "duration": 3641,
    "start_time": "2025-06-15T09:13:37.196Z"
   },
   {
    "duration": 0,
    "start_time": "2025-06-15T09:13:40.839Z"
   },
   {
    "duration": 0,
    "start_time": "2025-06-15T09:13:40.840Z"
   },
   {
    "duration": 3161,
    "start_time": "2025-06-15T09:13:48.825Z"
   },
   {
    "duration": 3317,
    "start_time": "2025-06-15T09:14:31.717Z"
   },
   {
    "duration": 3419,
    "start_time": "2025-06-15T09:17:19.336Z"
   },
   {
    "duration": 4056,
    "start_time": "2025-06-15T09:31:33.525Z"
   },
   {
    "duration": 2247,
    "start_time": "2025-06-15T09:32:26.154Z"
   },
   {
    "duration": 2129,
    "start_time": "2025-06-15T09:37:49.866Z"
   },
   {
    "duration": 41,
    "start_time": "2025-06-15T09:37:55.235Z"
   },
   {
    "duration": 37,
    "start_time": "2025-06-15T09:37:56.137Z"
   },
   {
    "duration": 37,
    "start_time": "2025-06-15T09:38:15.707Z"
   },
   {
    "duration": 15,
    "start_time": "2025-06-15T09:38:18.088Z"
   },
   {
    "duration": 15,
    "start_time": "2025-06-15T09:38:28.945Z"
   },
   {
    "duration": 23,
    "start_time": "2025-06-15T09:38:31.394Z"
   },
   {
    "duration": 20,
    "start_time": "2025-06-15T09:38:37.645Z"
   },
   {
    "duration": 1444,
    "start_time": "2025-06-15T09:52:34.459Z"
   },
   {
    "duration": 91,
    "start_time": "2025-06-15T09:54:05.657Z"
   },
   {
    "duration": 8,
    "start_time": "2025-06-15T09:54:14.995Z"
   },
   {
    "duration": 11,
    "start_time": "2025-06-15T09:54:15.429Z"
   },
   {
    "duration": 24,
    "start_time": "2025-06-15T09:54:16.707Z"
   },
   {
    "duration": 172,
    "start_time": "2025-06-15T09:54:17.145Z"
   },
   {
    "duration": 8,
    "start_time": "2025-06-15T09:54:18.507Z"
   },
   {
    "duration": 37,
    "start_time": "2025-06-15T09:54:18.908Z"
   },
   {
    "duration": 8,
    "start_time": "2025-06-15T09:54:19.817Z"
   },
   {
    "duration": 20,
    "start_time": "2025-06-15T09:54:20.315Z"
   },
   {
    "duration": 7,
    "start_time": "2025-06-15T09:54:21.177Z"
   },
   {
    "duration": 24,
    "start_time": "2025-06-15T09:54:21.643Z"
   },
   {
    "duration": 7,
    "start_time": "2025-06-15T09:54:24.167Z"
   },
   {
    "duration": 7,
    "start_time": "2025-06-15T09:54:24.647Z"
   },
   {
    "duration": 94,
    "start_time": "2025-06-15T09:54:26.296Z"
   },
   {
    "duration": 107,
    "start_time": "2025-06-15T09:54:26.392Z"
   },
   {
    "duration": 4176,
    "start_time": "2025-06-15T09:54:26.500Z"
   },
   {
    "duration": 42,
    "start_time": "2025-06-15T09:54:30.678Z"
   },
   {
    "duration": 125,
    "start_time": "2025-06-15T09:54:30.722Z"
   },
   {
    "duration": 17,
    "start_time": "2025-06-15T09:54:35.564Z"
   },
   {
    "duration": 17,
    "start_time": "2025-06-15T09:54:35.602Z"
   },
   {
    "duration": 32,
    "start_time": "2025-06-15T09:54:35.621Z"
   },
   {
    "duration": 38,
    "start_time": "2025-06-15T09:54:35.664Z"
   },
   {
    "duration": 1403,
    "start_time": "2025-06-15T09:54:37.675Z"
   },
   {
    "duration": 1490,
    "start_time": "2025-06-15T09:54:59.183Z"
   },
   {
    "duration": 5,
    "start_time": "2025-06-15T09:55:20.957Z"
   },
   {
    "duration": 2103,
    "start_time": "2025-06-15T09:55:47.196Z"
   },
   {
    "duration": 4,
    "start_time": "2025-06-15T09:55:49.301Z"
   },
   {
    "duration": 22,
    "start_time": "2025-06-15T09:55:49.306Z"
   },
   {
    "duration": 4,
    "start_time": "2025-06-15T09:55:50.666Z"
   },
   {
    "duration": 4,
    "start_time": "2025-06-15T09:55:51.055Z"
   },
   {
    "duration": 4,
    "start_time": "2025-06-15T09:55:51.377Z"
   },
   {
    "duration": 339,
    "start_time": "2025-06-15T09:55:52.097Z"
   },
   {
    "duration": 4,
    "start_time": "2025-06-15T09:55:53.306Z"
   },
   {
    "duration": 355,
    "start_time": "2025-06-15T09:55:54.616Z"
   },
   {
    "duration": 4,
    "start_time": "2025-06-15T09:56:02.048Z"
   },
   {
    "duration": 4,
    "start_time": "2025-06-15T09:56:02.458Z"
   },
   {
    "duration": 3,
    "start_time": "2025-06-15T09:56:02.886Z"
   },
   {
    "duration": 3,
    "start_time": "2025-06-15T09:56:04.486Z"
   },
   {
    "duration": 2,
    "start_time": "2025-06-15T09:56:07.967Z"
   },
   {
    "duration": 8,
    "start_time": "2025-06-15T09:56:08.526Z"
   },
   {
    "duration": 13,
    "start_time": "2025-06-15T09:56:08.535Z"
   },
   {
    "duration": 22,
    "start_time": "2025-06-15T09:56:08.604Z"
   },
   {
    "duration": 96,
    "start_time": "2025-06-15T09:56:08.629Z"
   },
   {
    "duration": 8,
    "start_time": "2025-06-15T09:56:08.731Z"
   },
   {
    "duration": 70,
    "start_time": "2025-06-15T09:56:08.757Z"
   },
   {
    "duration": 16,
    "start_time": "2025-06-15T09:56:08.829Z"
   },
   {
    "duration": 19,
    "start_time": "2025-06-15T09:56:08.870Z"
   },
   {
    "duration": 8,
    "start_time": "2025-06-15T09:56:08.906Z"
   },
   {
    "duration": 23,
    "start_time": "2025-06-15T09:56:08.957Z"
   },
   {
    "duration": 7,
    "start_time": "2025-06-15T09:56:09.868Z"
   },
   {
    "duration": 7,
    "start_time": "2025-06-15T09:56:10.357Z"
   },
   {
    "duration": 92,
    "start_time": "2025-06-15T09:56:10.476Z"
   },
   {
    "duration": 101,
    "start_time": "2025-06-15T09:56:10.576Z"
   },
   {
    "duration": 4374,
    "start_time": "2025-06-15T09:56:10.679Z"
   },
   {
    "duration": 53,
    "start_time": "2025-06-15T09:56:15.056Z"
   },
   {
    "duration": 144,
    "start_time": "2025-06-15T09:56:15.111Z"
   },
   {
    "duration": 95,
    "start_time": "2025-06-15T09:56:15.257Z"
   },
   {
    "duration": 34,
    "start_time": "2025-06-15T09:56:15.354Z"
   },
   {
    "duration": 22,
    "start_time": "2025-06-15T09:56:17.986Z"
   },
   {
    "duration": 20,
    "start_time": "2025-06-15T09:56:18.258Z"
   },
   {
    "duration": 1719,
    "start_time": "2025-06-15T09:56:20.831Z"
   },
   {
    "duration": 5,
    "start_time": "2025-06-15T09:56:37.788Z"
   },
   {
    "duration": 4,
    "start_time": "2025-06-15T09:56:53.634Z"
   },
   {
    "duration": 333,
    "start_time": "2025-06-15T09:56:55.596Z"
   },
   {
    "duration": 4,
    "start_time": "2025-06-15T09:56:56.190Z"
   },
   {
    "duration": 3,
    "start_time": "2025-06-15T09:57:12.587Z"
   },
   {
    "duration": 9,
    "start_time": "2025-06-15T09:57:13.056Z"
   },
   {
    "duration": 11,
    "start_time": "2025-06-15T09:57:13.598Z"
   },
   {
    "duration": 23,
    "start_time": "2025-06-15T09:57:15.928Z"
   },
   {
    "duration": 92,
    "start_time": "2025-06-15T09:57:18.405Z"
   },
   {
    "duration": 10,
    "start_time": "2025-06-15T09:57:20.256Z"
   },
   {
    "duration": 39,
    "start_time": "2025-06-15T09:57:20.967Z"
   },
   {
    "duration": 7,
    "start_time": "2025-06-15T09:57:22.217Z"
   },
   {
    "duration": 19,
    "start_time": "2025-06-15T09:57:22.716Z"
   },
   {
    "duration": 8,
    "start_time": "2025-06-15T09:57:23.834Z"
   },
   {
    "duration": 23,
    "start_time": "2025-06-15T09:57:24.807Z"
   },
   {
    "duration": 7,
    "start_time": "2025-06-15T09:57:27.307Z"
   },
   {
    "duration": 7,
    "start_time": "2025-06-15T09:57:27.747Z"
   },
   {
    "duration": 92,
    "start_time": "2025-06-15T09:57:31.035Z"
   },
   {
    "duration": 93,
    "start_time": "2025-06-15T09:57:32.204Z"
   },
   {
    "duration": 3205,
    "start_time": "2025-06-15T09:58:31.614Z"
   },
   {
    "duration": 3140,
    "start_time": "2025-06-15T10:05:39.367Z"
   },
   {
    "duration": 45,
    "start_time": "2025-06-15T10:05:48.357Z"
   },
   {
    "duration": 40,
    "start_time": "2025-06-15T10:05:48.766Z"
   },
   {
    "duration": 23,
    "start_time": "2025-06-15T10:05:49.776Z"
   },
   {
    "duration": 15,
    "start_time": "2025-06-15T10:05:50.107Z"
   },
   {
    "duration": 24,
    "start_time": "2025-06-15T10:05:50.937Z"
   },
   {
    "duration": 21,
    "start_time": "2025-06-15T10:05:51.257Z"
   },
   {
    "duration": 1755,
    "start_time": "2025-06-15T10:05:53.303Z"
   },
   {
    "duration": 4,
    "start_time": "2025-06-15T10:06:06.969Z"
   },
   {
    "duration": 4,
    "start_time": "2025-06-15T10:06:07.368Z"
   },
   {
    "duration": 9,
    "start_time": "2025-06-15T10:06:07.680Z"
   },
   {
    "duration": 4,
    "start_time": "2025-06-15T10:06:08.067Z"
   },
   {
    "duration": 2,
    "start_time": "2025-06-15T10:06:09.757Z"
   },
   {
    "duration": 9,
    "start_time": "2025-06-15T10:06:10.827Z"
   },
   {
    "duration": 12,
    "start_time": "2025-06-15T10:06:11.347Z"
   },
   {
    "duration": 24,
    "start_time": "2025-06-15T10:06:11.407Z"
   },
   {
    "duration": 115,
    "start_time": "2025-06-15T10:06:11.435Z"
   },
   {
    "duration": 8,
    "start_time": "2025-06-15T10:06:11.552Z"
   },
   {
    "duration": 55,
    "start_time": "2025-06-15T10:06:11.573Z"
   },
   {
    "duration": 7,
    "start_time": "2025-06-15T10:06:12.621Z"
   },
   {
    "duration": 25,
    "start_time": "2025-06-15T10:06:13.173Z"
   },
   {
    "duration": 57,
    "start_time": "2025-06-15T10:06:13.206Z"
   },
   {
    "duration": 35,
    "start_time": "2025-06-15T10:06:13.265Z"
   },
   {
    "duration": 7,
    "start_time": "2025-06-15T10:06:13.388Z"
   },
   {
    "duration": 12,
    "start_time": "2025-06-15T10:06:13.399Z"
   },
   {
    "duration": 103,
    "start_time": "2025-06-15T10:06:15.315Z"
   },
   {
    "duration": 104,
    "start_time": "2025-06-15T10:06:16.237Z"
   },
   {
    "duration": 3409,
    "start_time": "2025-06-15T10:06:18.014Z"
   },
   {
    "duration": 58,
    "start_time": "2025-06-15T10:06:25.134Z"
   },
   {
    "duration": 42,
    "start_time": "2025-06-15T10:06:26.227Z"
   },
   {
    "duration": 15,
    "start_time": "2025-06-15T10:06:27.517Z"
   },
   {
    "duration": 15,
    "start_time": "2025-06-15T10:06:27.837Z"
   },
   {
    "duration": 22,
    "start_time": "2025-06-15T10:06:28.416Z"
   },
   {
    "duration": 26,
    "start_time": "2025-06-15T10:06:28.765Z"
   },
   {
    "duration": 1730,
    "start_time": "2025-06-15T10:06:30.805Z"
   },
   {
    "duration": 1371,
    "start_time": "2025-06-15T10:06:37.915Z"
   },
   {
    "duration": 3639,
    "start_time": "2025-06-15T11:10:32.829Z"
   },
   {
    "duration": 0,
    "start_time": "2025-06-15T11:10:36.469Z"
   },
   {
    "duration": 2339,
    "start_time": "2025-06-15T11:10:48.009Z"
   },
   {
    "duration": 3437,
    "start_time": "2025-06-15T11:10:50.351Z"
   },
   {
    "duration": 6,
    "start_time": "2025-06-15T11:10:53.790Z"
   },
   {
    "duration": 7,
    "start_time": "2025-06-15T11:10:53.798Z"
   },
   {
    "duration": 12,
    "start_time": "2025-06-15T11:10:53.806Z"
   },
   {
    "duration": 8,
    "start_time": "2025-06-15T11:10:53.819Z"
   },
   {
    "duration": 5,
    "start_time": "2025-06-15T11:10:53.828Z"
   },
   {
    "duration": 382,
    "start_time": "2025-06-15T11:10:53.835Z"
   },
   {
    "duration": 4,
    "start_time": "2025-06-15T11:10:55.140Z"
   },
   {
    "duration": 344,
    "start_time": "2025-06-15T11:10:56.789Z"
   },
   {
    "duration": 4,
    "start_time": "2025-06-15T11:10:57.307Z"
   },
   {
    "duration": 3,
    "start_time": "2025-06-15T11:10:57.436Z"
   },
   {
    "duration": 10,
    "start_time": "2025-06-15T11:10:57.468Z"
   },
   {
    "duration": 63,
    "start_time": "2025-06-15T11:10:57.499Z"
   },
   {
    "duration": 22,
    "start_time": "2025-06-15T11:10:57.600Z"
   },
   {
    "duration": 91,
    "start_time": "2025-06-15T11:10:57.632Z"
   },
   {
    "duration": 8,
    "start_time": "2025-06-15T11:10:59.419Z"
   },
   {
    "duration": 36,
    "start_time": "2025-06-15T11:10:59.445Z"
   },
   {
    "duration": 7,
    "start_time": "2025-06-15T11:10:59.485Z"
   },
   {
    "duration": 110,
    "start_time": "2025-06-15T11:10:59.517Z"
   },
   {
    "duration": 8,
    "start_time": "2025-06-15T11:10:59.628Z"
   },
   {
    "duration": 23,
    "start_time": "2025-06-15T11:10:59.637Z"
   },
   {
    "duration": 6,
    "start_time": "2025-06-15T11:10:59.749Z"
   },
   {
    "duration": 7,
    "start_time": "2025-06-15T11:11:00.565Z"
   },
   {
    "duration": 89,
    "start_time": "2025-06-15T11:11:01.145Z"
   },
   {
    "duration": 114,
    "start_time": "2025-06-15T11:11:01.236Z"
   },
   {
    "duration": 3141,
    "start_time": "2025-06-15T11:11:01.352Z"
   },
   {
    "duration": 41,
    "start_time": "2025-06-15T11:11:04.495Z"
   },
   {
    "duration": 165,
    "start_time": "2025-06-15T11:11:04.539Z"
   },
   {
    "duration": 16,
    "start_time": "2025-06-15T11:11:04.712Z"
   },
   {
    "duration": 34,
    "start_time": "2025-06-15T11:11:04.729Z"
   },
   {
    "duration": 33,
    "start_time": "2025-06-15T11:11:04.764Z"
   },
   {
    "duration": 31,
    "start_time": "2025-06-15T11:11:04.799Z"
   },
   {
    "duration": 135,
    "start_time": "2025-06-15T11:11:04.832Z"
   },
   {
    "duration": 8,
    "start_time": "2025-06-15T11:11:04.968Z"
   },
   {
    "duration": 1374,
    "start_time": "2025-06-15T11:15:49.671Z"
   },
   {
    "duration": 6,
    "start_time": "2025-06-15T11:16:03.963Z"
   },
   {
    "duration": 26,
    "start_time": "2025-06-15T11:17:03.777Z"
   },
   {
    "duration": 44,
    "start_time": "2025-06-15T11:17:53.753Z"
   },
   {
    "duration": 5,
    "start_time": "2025-06-15T11:17:56.165Z"
   },
   {
    "duration": 6,
    "start_time": "2025-06-15T11:18:39.178Z"
   },
   {
    "duration": 5,
    "start_time": "2025-06-15T11:18:43.408Z"
   },
   {
    "duration": 5,
    "start_time": "2025-06-15T11:18:44.359Z"
   },
   {
    "duration": 39,
    "start_time": "2025-06-15T11:28:56.996Z"
   },
   {
    "duration": 5,
    "start_time": "2025-06-15T11:28:57.368Z"
   },
   {
    "duration": 17,
    "start_time": "2025-06-15T11:31:17.748Z"
   },
   {
    "duration": 8,
    "start_time": "2025-06-15T11:32:09.564Z"
   },
   {
    "duration": 11,
    "start_time": "2025-06-15T11:34:01.524Z"
   },
   {
    "duration": 9,
    "start_time": "2025-06-15T11:34:53.817Z"
   },
   {
    "duration": 10,
    "start_time": "2025-06-15T11:35:50.301Z"
   },
   {
    "duration": 5,
    "start_time": "2025-06-15T11:35:52.528Z"
   },
   {
    "duration": 4,
    "start_time": "2025-06-15T11:36:49.977Z"
   },
   {
    "duration": 5,
    "start_time": "2025-06-15T11:36:51.014Z"
   },
   {
    "duration": 5,
    "start_time": "2025-06-15T11:36:52.977Z"
   },
   {
    "duration": 5,
    "start_time": "2025-06-15T11:36:54.351Z"
   },
   {
    "duration": 5,
    "start_time": "2025-06-15T11:36:55.676Z"
   },
   {
    "duration": 39,
    "start_time": "2025-06-15T11:38:56.165Z"
   },
   {
    "duration": 9,
    "start_time": "2025-06-15T11:38:56.471Z"
   },
   {
    "duration": 6,
    "start_time": "2025-06-15T11:38:56.908Z"
   },
   {
    "duration": 5,
    "start_time": "2025-06-15T11:38:57.245Z"
   },
   {
    "duration": 5,
    "start_time": "2025-06-15T11:38:58.381Z"
   },
   {
    "duration": 6,
    "start_time": "2025-06-15T11:38:58.736Z"
   },
   {
    "duration": 5,
    "start_time": "2025-06-15T11:39:00.468Z"
   },
   {
    "duration": 1354,
    "start_time": "2025-06-15T11:43:22.218Z"
   },
   {
    "duration": 0,
    "start_time": "2025-06-15T11:43:23.574Z"
   },
   {
    "duration": 0,
    "start_time": "2025-06-15T11:43:23.576Z"
   },
   {
    "duration": 26,
    "start_time": "2025-06-15T11:45:21.345Z"
   },
   {
    "duration": 12,
    "start_time": "2025-06-15T11:50:17.225Z"
   },
   {
    "duration": 26,
    "start_time": "2025-06-15T11:52:28.444Z"
   },
   {
    "duration": 4,
    "start_time": "2025-06-15T11:52:30.732Z"
   },
   {
    "duration": 4,
    "start_time": "2025-06-15T11:52:31.685Z"
   },
   {
    "duration": 35,
    "start_time": "2025-06-15T11:57:06.139Z"
   },
   {
    "duration": 26,
    "start_time": "2025-06-15T11:57:59.279Z"
   },
   {
    "duration": 18,
    "start_time": "2025-06-15T11:58:06.746Z"
   },
   {
    "duration": 4,
    "start_time": "2025-06-15T11:58:10.265Z"
   },
   {
    "duration": 4,
    "start_time": "2025-06-15T11:58:11.398Z"
   },
   {
    "duration": 4,
    "start_time": "2025-06-15T11:58:54.713Z"
   },
   {
    "duration": 17,
    "start_time": "2025-06-15T11:58:55.181Z"
   },
   {
    "duration": 4,
    "start_time": "2025-06-15T11:58:56.264Z"
   },
   {
    "duration": 4,
    "start_time": "2025-06-15T11:58:56.803Z"
   },
   {
    "duration": 4,
    "start_time": "2025-06-15T11:59:01.662Z"
   },
   {
    "duration": 19,
    "start_time": "2025-06-15T11:59:02.643Z"
   },
   {
    "duration": 399,
    "start_time": "2025-06-15T11:59:03.590Z"
   },
   {
    "duration": 321,
    "start_time": "2025-06-15T11:59:18.409Z"
   },
   {
    "duration": 16,
    "start_time": "2025-06-15T11:59:40.273Z"
   },
   {
    "duration": 11,
    "start_time": "2025-06-15T11:59:40.564Z"
   },
   {
    "duration": 15,
    "start_time": "2025-06-15T11:59:40.984Z"
   },
   {
    "duration": 27,
    "start_time": "2025-06-15T11:59:41.296Z"
   },
   {
    "duration": 6,
    "start_time": "2025-06-15T11:59:41.650Z"
   },
   {
    "duration": 38,
    "start_time": "2025-06-15T11:59:42.258Z"
   },
   {
    "duration": 127,
    "start_time": "2025-06-15T11:59:42.631Z"
   },
   {
    "duration": 9,
    "start_time": "2025-06-15T11:59:42.964Z"
   },
   {
    "duration": 8,
    "start_time": "2025-06-15T11:59:43.363Z"
   },
   {
    "duration": 5,
    "start_time": "2025-06-15T11:59:44.065Z"
   },
   {
    "duration": 38,
    "start_time": "2025-06-15T11:59:44.277Z"
   },
   {
    "duration": 17,
    "start_time": "2025-06-15T11:59:45.765Z"
   },
   {
    "duration": 15,
    "start_time": "2025-06-15T11:59:46.646Z"
   },
   {
    "duration": 4,
    "start_time": "2025-06-15T11:59:49.217Z"
   },
   {
    "duration": 10,
    "start_time": "2025-06-15T11:59:51.283Z"
   },
   {
    "duration": 6,
    "start_time": "2025-06-15T12:00:00.495Z"
   },
   {
    "duration": 9,
    "start_time": "2025-06-15T12:00:02.885Z"
   },
   {
    "duration": 17,
    "start_time": "2025-06-15T12:01:48.357Z"
   },
   {
    "duration": 4,
    "start_time": "2025-06-15T12:01:50.236Z"
   },
   {
    "duration": 4,
    "start_time": "2025-06-15T12:01:50.602Z"
   },
   {
    "duration": 4,
    "start_time": "2025-06-15T12:01:50.920Z"
   },
   {
    "duration": 19,
    "start_time": "2025-06-15T12:01:51.357Z"
   },
   {
    "duration": 463,
    "start_time": "2025-06-15T12:01:51.706Z"
   },
   {
    "duration": 299,
    "start_time": "2025-06-15T12:01:52.327Z"
   },
   {
    "duration": 15,
    "start_time": "2025-06-15T12:01:53.873Z"
   },
   {
    "duration": 11,
    "start_time": "2025-06-15T12:01:54.433Z"
   },
   {
    "duration": 15,
    "start_time": "2025-06-15T12:01:56.684Z"
   },
   {
    "duration": 27,
    "start_time": "2025-06-15T12:01:57.070Z"
   },
   {
    "duration": 7,
    "start_time": "2025-06-15T12:01:59.593Z"
   },
   {
    "duration": 10,
    "start_time": "2025-06-15T12:02:01.632Z"
   },
   {
    "duration": 6,
    "start_time": "2025-06-15T12:02:03.151Z"
   },
   {
    "duration": 5,
    "start_time": "2025-06-15T12:02:30.160Z"
   },
   {
    "duration": 4,
    "start_time": "2025-06-15T12:02:31.259Z"
   },
   {
    "duration": 7,
    "start_time": "2025-06-15T12:02:32.029Z"
   },
   {
    "duration": 28,
    "start_time": "2025-06-15T12:02:37.096Z"
   },
   {
    "duration": 18,
    "start_time": "2025-06-15T12:02:46.114Z"
   },
   {
    "duration": 15,
    "start_time": "2025-06-15T12:02:48.498Z"
   },
   {
    "duration": 5,
    "start_time": "2025-06-15T12:03:06.045Z"
   },
   {
    "duration": 3843,
    "start_time": "2025-06-15T12:03:36.663Z"
   },
   {
    "duration": 2320,
    "start_time": "2025-06-15T12:03:40.508Z"
   },
   {
    "duration": 6,
    "start_time": "2025-06-15T12:03:42.829Z"
   },
   {
    "duration": 7,
    "start_time": "2025-06-15T12:03:44.480Z"
   },
   {
    "duration": 7,
    "start_time": "2025-06-15T12:03:46.381Z"
   },
   {
    "duration": 4,
    "start_time": "2025-06-15T12:03:47.055Z"
   },
   {
    "duration": 6,
    "start_time": "2025-06-15T12:03:48.791Z"
   },
   {
    "duration": 401,
    "start_time": "2025-06-15T12:03:50.636Z"
   },
   {
    "duration": 4,
    "start_time": "2025-06-15T12:03:51.365Z"
   },
   {
    "duration": 373,
    "start_time": "2025-06-15T12:04:00.264Z"
   },
   {
    "duration": 4,
    "start_time": "2025-06-15T12:04:01.101Z"
   },
   {
    "duration": 10,
    "start_time": "2025-06-15T12:04:13.142Z"
   },
   {
    "duration": 17,
    "start_time": "2025-06-15T12:04:14.986Z"
   },
   {
    "duration": 25,
    "start_time": "2025-06-15T12:04:17.812Z"
   },
   {
    "duration": 109,
    "start_time": "2025-06-15T12:04:18.484Z"
   },
   {
    "duration": 10,
    "start_time": "2025-06-15T12:04:20.699Z"
   },
   {
    "duration": 40,
    "start_time": "2025-06-15T12:04:21.402Z"
   },
   {
    "duration": 12,
    "start_time": "2025-06-15T12:04:26.584Z"
   },
   {
    "duration": 18,
    "start_time": "2025-06-15T12:04:27.243Z"
   },
   {
    "duration": 8,
    "start_time": "2025-06-15T12:04:28.855Z"
   },
   {
    "duration": 35,
    "start_time": "2025-06-15T12:04:29.475Z"
   },
   {
    "duration": 11,
    "start_time": "2025-06-15T12:04:32.793Z"
   },
   {
    "duration": 8,
    "start_time": "2025-06-15T12:04:33.394Z"
   },
   {
    "duration": 92,
    "start_time": "2025-06-15T12:04:36.055Z"
   },
   {
    "duration": 100,
    "start_time": "2025-06-15T12:04:36.678Z"
   },
   {
    "duration": 3441,
    "start_time": "2025-06-15T12:04:39.704Z"
   },
   {
    "duration": 57,
    "start_time": "2025-06-15T12:04:43.147Z"
   },
   {
    "duration": 51,
    "start_time": "2025-06-15T12:04:44.984Z"
   },
   {
    "duration": 16,
    "start_time": "2025-06-15T12:04:46.829Z"
   },
   {
    "duration": 15,
    "start_time": "2025-06-15T12:04:47.313Z"
   },
   {
    "duration": 24,
    "start_time": "2025-06-15T12:04:48.123Z"
   },
   {
    "duration": 20,
    "start_time": "2025-06-15T12:04:48.711Z"
   },
   {
    "duration": 162,
    "start_time": "2025-06-15T12:04:56.624Z"
   },
   {
    "duration": 11,
    "start_time": "2025-06-15T12:04:57.241Z"
   },
   {
    "duration": 6,
    "start_time": "2025-06-15T12:04:58.602Z"
   },
   {
    "duration": 5,
    "start_time": "2025-06-15T12:04:59.308Z"
   },
   {
    "duration": 5,
    "start_time": "2025-06-15T12:05:00.675Z"
   },
   {
    "duration": 7,
    "start_time": "2025-06-15T12:05:01.294Z"
   },
   {
    "duration": 5,
    "start_time": "2025-06-15T12:05:02.365Z"
   },
   {
    "duration": 5,
    "start_time": "2025-06-15T12:05:12.555Z"
   },
   {
    "duration": 41,
    "start_time": "2025-06-15T12:05:14.401Z"
   },
   {
    "duration": 9,
    "start_time": "2025-06-15T12:05:15.854Z"
   },
   {
    "duration": 5,
    "start_time": "2025-06-15T12:05:17.831Z"
   },
   {
    "duration": 3,
    "start_time": "2025-06-15T12:05:19.349Z"
   },
   {
    "duration": 30,
    "start_time": "2025-06-15T12:05:20.652Z"
   },
   {
    "duration": 493,
    "start_time": "2025-06-15T12:05:22.320Z"
   },
   {
    "duration": 334,
    "start_time": "2025-06-15T12:05:23.227Z"
   },
   {
    "duration": 16,
    "start_time": "2025-06-15T12:05:28.296Z"
   },
   {
    "duration": 13,
    "start_time": "2025-06-15T12:06:54.854Z"
   },
   {
    "duration": 10,
    "start_time": "2025-06-15T12:06:55.900Z"
   },
   {
    "duration": 8,
    "start_time": "2025-06-15T12:06:56.790Z"
   },
   {
    "duration": 5,
    "start_time": "2025-06-15T12:06:59.612Z"
   },
   {
    "duration": 5,
    "start_time": "2025-06-15T12:07:00.930Z"
   },
   {
    "duration": 9,
    "start_time": "2025-06-15T12:07:01.379Z"
   },
   {
    "duration": 4,
    "start_time": "2025-06-15T12:07:06.328Z"
   },
   {
    "duration": 37,
    "start_time": "2025-06-15T12:07:06.731Z"
   },
   {
    "duration": 5,
    "start_time": "2025-06-15T12:07:07.199Z"
   },
   {
    "duration": 5,
    "start_time": "2025-06-15T12:07:07.653Z"
   },
   {
    "duration": 4,
    "start_time": "2025-06-15T12:07:08.036Z"
   },
   {
    "duration": 29,
    "start_time": "2025-06-15T12:07:08.490Z"
   },
   {
    "duration": 444,
    "start_time": "2025-06-15T12:07:09.212Z"
   },
   {
    "duration": 337,
    "start_time": "2025-06-15T12:07:09.709Z"
   },
   {
    "duration": 22,
    "start_time": "2025-06-15T12:07:12.473Z"
   },
   {
    "duration": 11,
    "start_time": "2025-06-15T12:07:13.814Z"
   },
   {
    "duration": 16,
    "start_time": "2025-06-15T12:07:15.952Z"
   },
   {
    "duration": 147,
    "start_time": "2025-06-15T12:10:33.245Z"
   },
   {
    "duration": 9,
    "start_time": "2025-06-15T12:10:33.659Z"
   },
   {
    "duration": 10,
    "start_time": "2025-06-15T12:10:34.079Z"
   },
   {
    "duration": 5,
    "start_time": "2025-06-15T12:10:34.368Z"
   },
   {
    "duration": 6,
    "start_time": "2025-06-15T12:10:35.350Z"
   },
   {
    "duration": 5,
    "start_time": "2025-06-15T12:10:35.748Z"
   },
   {
    "duration": 8,
    "start_time": "2025-06-15T12:10:36.874Z"
   },
   {
    "duration": 4,
    "start_time": "2025-06-15T12:10:41.139Z"
   },
   {
    "duration": 37,
    "start_time": "2025-06-15T12:10:42.352Z"
   },
   {
    "duration": 5,
    "start_time": "2025-06-15T12:10:43.567Z"
   },
   {
    "duration": 4,
    "start_time": "2025-06-15T12:10:43.852Z"
   },
   {
    "duration": 3,
    "start_time": "2025-06-15T12:10:45.038Z"
   },
   {
    "duration": 36,
    "start_time": "2025-06-15T12:10:45.387Z"
   },
   {
    "duration": 468,
    "start_time": "2025-06-15T12:10:46.004Z"
   },
   {
    "duration": 338,
    "start_time": "2025-06-15T12:10:46.477Z"
   },
   {
    "duration": 16,
    "start_time": "2025-06-15T12:10:48.851Z"
   },
   {
    "duration": 11,
    "start_time": "2025-06-15T12:10:50.761Z"
   },
   {
    "duration": 17,
    "start_time": "2025-06-15T12:11:09.102Z"
   },
   {
    "duration": 26,
    "start_time": "2025-06-15T12:11:09.852Z"
   },
   {
    "duration": 7,
    "start_time": "2025-06-15T12:11:13.359Z"
   },
   {
    "duration": 65,
    "start_time": "2025-06-15T12:11:15.846Z"
   },
   {
    "duration": 178,
    "start_time": "2025-06-15T12:11:20.953Z"
   },
   {
    "duration": 9,
    "start_time": "2025-06-15T12:11:22.310Z"
   },
   {
    "duration": 8,
    "start_time": "2025-06-15T12:11:23.943Z"
   },
   {
    "duration": 12,
    "start_time": "2025-06-15T12:11:25.171Z"
   },
   {
    "duration": 7,
    "start_time": "2025-06-15T12:12:16.680Z"
   },
   {
    "duration": 6,
    "start_time": "2025-06-15T12:12:17.940Z"
   },
   {
    "duration": 6,
    "start_time": "2025-06-15T12:12:19.353Z"
   },
   {
    "duration": 6,
    "start_time": "2025-06-15T12:12:42.255Z"
   },
   {
    "duration": 5,
    "start_time": "2025-06-15T12:12:43.342Z"
   },
   {
    "duration": 9,
    "start_time": "2025-06-15T12:12:55.996Z"
   },
   {
    "duration": 34,
    "start_time": "2025-06-15T12:12:56.836Z"
   },
   {
    "duration": 33,
    "start_time": "2025-06-15T12:13:04.594Z"
   },
   {
    "duration": 14,
    "start_time": "2025-06-15T12:13:06.736Z"
   },
   {
    "duration": 5,
    "start_time": "2025-06-15T12:13:09.625Z"
   },
   {
    "duration": 14,
    "start_time": "2025-06-15T12:13:38.361Z"
   },
   {
    "duration": 5,
    "start_time": "2025-06-15T12:13:39.163Z"
   },
   {
    "duration": 5,
    "start_time": "2025-06-15T12:16:02.227Z"
   },
   {
    "duration": 38,
    "start_time": "2025-06-15T12:16:04.493Z"
   },
   {
    "duration": 31,
    "start_time": "2025-06-15T12:16:06.356Z"
   },
   {
    "duration": 15,
    "start_time": "2025-06-15T12:16:07.721Z"
   },
   {
    "duration": 4,
    "start_time": "2025-06-15T12:16:20.408Z"
   },
   {
    "duration": 10,
    "start_time": "2025-06-15T12:16:52.383Z"
   },
   {
    "duration": 3481,
    "start_time": "2025-06-15T12:18:10.137Z"
   },
   {
    "duration": 1967,
    "start_time": "2025-06-15T12:18:13.620Z"
   },
   {
    "duration": 6,
    "start_time": "2025-06-15T12:18:15.589Z"
   },
   {
    "duration": 10,
    "start_time": "2025-06-15T12:18:15.597Z"
   },
   {
    "duration": 5,
    "start_time": "2025-06-15T12:18:15.608Z"
   },
   {
    "duration": 31,
    "start_time": "2025-06-15T12:18:15.615Z"
   },
   {
    "duration": 8,
    "start_time": "2025-06-15T12:18:15.648Z"
   },
   {
    "duration": 418,
    "start_time": "2025-06-15T12:18:15.658Z"
   },
   {
    "duration": 5,
    "start_time": "2025-06-15T12:18:16.077Z"
   },
   {
    "duration": 386,
    "start_time": "2025-06-15T12:18:16.084Z"
   },
   {
    "duration": 6,
    "start_time": "2025-06-15T12:18:16.471Z"
   },
   {
    "duration": 19,
    "start_time": "2025-06-15T12:18:16.479Z"
   },
   {
    "duration": 13,
    "start_time": "2025-06-15T12:18:16.499Z"
   },
   {
    "duration": 24,
    "start_time": "2025-06-15T12:18:16.514Z"
   },
   {
    "duration": 124,
    "start_time": "2025-06-15T12:18:16.540Z"
   },
   {
    "duration": 16,
    "start_time": "2025-06-15T12:18:16.666Z"
   },
   {
    "duration": 38,
    "start_time": "2025-06-15T12:18:16.684Z"
   },
   {
    "duration": 8,
    "start_time": "2025-06-15T12:18:16.723Z"
   },
   {
    "duration": 44,
    "start_time": "2025-06-15T12:18:16.733Z"
   },
   {
    "duration": 8,
    "start_time": "2025-06-15T12:18:16.779Z"
   },
   {
    "duration": 26,
    "start_time": "2025-06-15T12:18:16.789Z"
   },
   {
    "duration": 7,
    "start_time": "2025-06-15T12:18:16.816Z"
   },
   {
    "duration": 8,
    "start_time": "2025-06-15T12:18:16.825Z"
   },
   {
    "duration": 123,
    "start_time": "2025-06-15T12:18:16.834Z"
   },
   {
    "duration": 107,
    "start_time": "2025-06-15T12:18:16.958Z"
   },
   {
    "duration": 3126,
    "start_time": "2025-06-15T12:18:17.067Z"
   },
   {
    "duration": 47,
    "start_time": "2025-06-15T12:18:20.195Z"
   },
   {
    "duration": 36,
    "start_time": "2025-06-15T12:19:15.419Z"
   },
   {
    "duration": 39,
    "start_time": "2025-06-15T12:19:16.462Z"
   },
   {
    "duration": 15,
    "start_time": "2025-06-15T12:19:18.944Z"
   },
   {
    "duration": 15,
    "start_time": "2025-06-15T12:19:20.116Z"
   },
   {
    "duration": 25,
    "start_time": "2025-06-15T12:19:21.468Z"
   },
   {
    "duration": 67,
    "start_time": "2025-06-15T12:19:21.494Z"
   },
   {
    "duration": 138,
    "start_time": "2025-06-15T12:19:21.599Z"
   },
   {
    "duration": 13,
    "start_time": "2025-06-15T12:19:21.739Z"
   },
   {
    "duration": 46,
    "start_time": "2025-06-15T12:19:56.815Z"
   },
   {
    "duration": 5,
    "start_time": "2025-06-15T12:19:58.013Z"
   },
   {
    "duration": 5,
    "start_time": "2025-06-15T12:19:59.056Z"
   },
   {
    "duration": 5,
    "start_time": "2025-06-15T12:19:59.346Z"
   },
   {
    "duration": 5,
    "start_time": "2025-06-15T12:19:59.802Z"
   },
   {
    "duration": 5,
    "start_time": "2025-06-15T12:20:00.225Z"
   },
   {
    "duration": 41,
    "start_time": "2025-06-15T12:20:52.233Z"
   },
   {
    "duration": 5,
    "start_time": "2025-06-15T12:20:54.165Z"
   },
   {
    "duration": 5,
    "start_time": "2025-06-15T12:20:55.072Z"
   },
   {
    "duration": 5,
    "start_time": "2025-06-15T12:20:55.889Z"
   },
   {
    "duration": 5,
    "start_time": "2025-06-15T12:20:55.936Z"
   },
   {
    "duration": 5,
    "start_time": "2025-06-15T12:20:58.202Z"
   },
   {
    "duration": 4,
    "start_time": "2025-06-15T12:21:01.893Z"
   },
   {
    "duration": 42,
    "start_time": "2025-06-15T12:21:02.259Z"
   },
   {
    "duration": 5,
    "start_time": "2025-06-15T12:21:03.796Z"
   },
   {
    "duration": 4,
    "start_time": "2025-06-15T12:21:04.153Z"
   },
   {
    "duration": 3,
    "start_time": "2025-06-15T12:21:04.604Z"
   },
   {
    "duration": 27,
    "start_time": "2025-06-15T12:21:05.445Z"
   },
   {
    "duration": 467,
    "start_time": "2025-06-15T12:21:06.124Z"
   },
   {
    "duration": 355,
    "start_time": "2025-06-15T12:21:06.593Z"
   },
   {
    "duration": 15,
    "start_time": "2025-06-15T12:21:08.978Z"
   },
   {
    "duration": 15,
    "start_time": "2025-06-15T12:21:13.457Z"
   },
   {
    "duration": 26,
    "start_time": "2025-06-15T12:21:15.180Z"
   },
   {
    "duration": 7,
    "start_time": "2025-06-15T12:21:16.444Z"
   },
   {
    "duration": 140,
    "start_time": "2025-06-15T12:21:18.106Z"
   },
   {
    "duration": 8,
    "start_time": "2025-06-15T12:21:20.214Z"
   },
   {
    "duration": 11,
    "start_time": "2025-06-15T12:22:30.773Z"
   },
   {
    "duration": 9,
    "start_time": "2025-06-15T12:22:32.084Z"
   },
   {
    "duration": 9,
    "start_time": "2025-06-15T12:22:37.659Z"
   },
   {
    "duration": 49,
    "start_time": "2025-06-15T12:22:46.014Z"
   },
   {
    "duration": 6,
    "start_time": "2025-06-15T12:23:02.871Z"
   },
   {
    "duration": 6,
    "start_time": "2025-06-15T12:27:09.980Z"
   },
   {
    "duration": 3728,
    "start_time": "2025-06-15T12:28:59.615Z"
   },
   {
    "duration": 2052,
    "start_time": "2025-06-15T12:29:03.345Z"
   },
   {
    "duration": 7,
    "start_time": "2025-06-15T12:29:05.399Z"
   },
   {
    "duration": 102,
    "start_time": "2025-06-15T12:29:05.409Z"
   },
   {
    "duration": 103,
    "start_time": "2025-06-15T12:29:05.513Z"
   },
   {
    "duration": 37,
    "start_time": "2025-06-15T12:29:05.618Z"
   },
   {
    "duration": 23,
    "start_time": "2025-06-15T12:29:05.656Z"
   },
   {
    "duration": 433,
    "start_time": "2025-06-15T12:29:05.681Z"
   },
   {
    "duration": 4,
    "start_time": "2025-06-15T12:29:06.894Z"
   },
   {
    "duration": 394,
    "start_time": "2025-06-15T12:29:07.442Z"
   },
   {
    "duration": 4,
    "start_time": "2025-06-15T12:29:07.903Z"
   },
   {
    "duration": 11,
    "start_time": "2025-06-15T12:29:09.939Z"
   },
   {
    "duration": 12,
    "start_time": "2025-06-15T12:29:11.092Z"
   },
   {
    "duration": 31,
    "start_time": "2025-06-15T12:29:12.170Z"
   },
   {
    "duration": 93,
    "start_time": "2025-06-15T12:29:12.700Z"
   },
   {
    "duration": 9,
    "start_time": "2025-06-15T12:29:13.738Z"
   },
   {
    "duration": 46,
    "start_time": "2025-06-15T12:29:14.257Z"
   },
   {
    "duration": 8,
    "start_time": "2025-06-15T12:29:15.423Z"
   },
   {
    "duration": 19,
    "start_time": "2025-06-15T12:29:15.966Z"
   },
   {
    "duration": 7,
    "start_time": "2025-06-15T12:29:17.692Z"
   },
   {
    "duration": 24,
    "start_time": "2025-06-15T12:29:18.227Z"
   },
   {
    "duration": 7,
    "start_time": "2025-06-15T12:29:22.112Z"
   },
   {
    "duration": 7,
    "start_time": "2025-06-15T12:29:22.650Z"
   },
   {
    "duration": 93,
    "start_time": "2025-06-15T12:29:25.553Z"
   },
   {
    "duration": 92,
    "start_time": "2025-06-15T12:29:26.084Z"
   },
   {
    "duration": 3142,
    "start_time": "2025-06-15T12:29:28.355Z"
   },
   {
    "duration": 42,
    "start_time": "2025-06-15T12:29:31.499Z"
   },
   {
    "duration": 40,
    "start_time": "2025-06-15T12:29:34.990Z"
   },
   {
    "duration": 17,
    "start_time": "2025-06-15T12:29:36.043Z"
   },
   {
    "duration": 16,
    "start_time": "2025-06-15T12:29:36.561Z"
   },
   {
    "duration": 22,
    "start_time": "2025-06-15T12:29:37.643Z"
   },
   {
    "duration": 19,
    "start_time": "2025-06-15T12:29:38.141Z"
   },
   {
    "duration": 139,
    "start_time": "2025-06-15T12:29:40.289Z"
   },
   {
    "duration": 5,
    "start_time": "2025-06-15T12:29:41.343Z"
   },
   {
    "duration": 4,
    "start_time": "2025-06-15T12:29:41.876Z"
   },
   {
    "duration": 6,
    "start_time": "2025-06-15T12:29:42.435Z"
   },
   {
    "duration": 5,
    "start_time": "2025-06-15T12:29:43.496Z"
   },
   {
    "duration": 5,
    "start_time": "2025-06-15T12:29:44.043Z"
   },
   {
    "duration": 3,
    "start_time": "2025-06-15T12:29:48.452Z"
   },
   {
    "duration": 51,
    "start_time": "2025-06-15T12:29:49.584Z"
   },
   {
    "duration": 4,
    "start_time": "2025-06-15T12:29:50.112Z"
   },
   {
    "duration": 4,
    "start_time": "2025-06-15T12:29:50.628Z"
   },
   {
    "duration": 4,
    "start_time": "2025-06-15T12:29:51.170Z"
   },
   {
    "duration": 34,
    "start_time": "2025-06-15T12:29:51.972Z"
   },
   {
    "duration": 431,
    "start_time": "2025-06-15T12:29:52.526Z"
   },
   {
    "duration": 263,
    "start_time": "2025-06-15T12:29:53.084Z"
   },
   {
    "duration": 15,
    "start_time": "2025-06-15T12:29:55.188Z"
   },
   {
    "duration": 16,
    "start_time": "2025-06-15T12:29:56.521Z"
   },
   {
    "duration": 30,
    "start_time": "2025-06-15T12:29:57.086Z"
   },
   {
    "duration": 13,
    "start_time": "2025-06-15T12:29:58.887Z"
   },
   {
    "duration": 40,
    "start_time": "2025-06-15T12:30:14.756Z"
   },
   {
    "duration": 30,
    "start_time": "2025-06-15T12:30:15.310Z"
   },
   {
    "duration": 138,
    "start_time": "2025-06-15T12:30:18.421Z"
   },
   {
    "duration": 23,
    "start_time": "2025-06-15T12:30:19.877Z"
   },
   {
    "duration": 158,
    "start_time": "2025-06-15T12:30:28.883Z"
   },
   {
    "duration": 135,
    "start_time": "2025-06-15T12:30:29.451Z"
   },
   {
    "duration": 102,
    "start_time": "2025-06-15T12:30:30.612Z"
   },
   {
    "duration": 74,
    "start_time": "2025-06-15T12:30:32.407Z"
   },
   {
    "duration": 25,
    "start_time": "2025-06-15T12:30:33.209Z"
   },
   {
    "duration": 5,
    "start_time": "2025-06-15T12:30:38.136Z"
   },
   {
    "duration": 19,
    "start_time": "2025-06-15T12:30:38.804Z"
   },
   {
    "duration": 19,
    "start_time": "2025-06-15T12:30:42.419Z"
   },
   {
    "duration": 10,
    "start_time": "2025-06-15T12:30:49.338Z"
   },
   {
    "duration": 11,
    "start_time": "2025-06-15T12:33:59.896Z"
   },
   {
    "duration": 48,
    "start_time": "2025-06-15T12:35:19.202Z"
   },
   {
    "duration": 3616,
    "start_time": "2025-06-15T14:57:23.583Z"
   },
   {
    "duration": 3169,
    "start_time": "2025-06-15T14:57:27.201Z"
   },
   {
    "duration": 5,
    "start_time": "2025-06-15T14:57:30.372Z"
   },
   {
    "duration": 92,
    "start_time": "2025-06-15T14:57:30.379Z"
   },
   {
    "duration": 63,
    "start_time": "2025-06-15T14:57:30.473Z"
   },
   {
    "duration": 40,
    "start_time": "2025-06-15T14:57:30.538Z"
   },
   {
    "duration": 18,
    "start_time": "2025-06-15T14:57:30.580Z"
   },
   {
    "duration": 406,
    "start_time": "2025-06-15T14:57:30.600Z"
   },
   {
    "duration": 4,
    "start_time": "2025-06-15T14:57:31.008Z"
   },
   {
    "duration": 383,
    "start_time": "2025-06-15T14:57:31.014Z"
   },
   {
    "duration": 3,
    "start_time": "2025-06-15T14:57:31.400Z"
   },
   {
    "duration": 12,
    "start_time": "2025-06-15T14:57:31.404Z"
   },
   {
    "duration": 11,
    "start_time": "2025-06-15T14:57:31.417Z"
   },
   {
    "duration": 24,
    "start_time": "2025-06-15T14:57:33.513Z"
   },
   {
    "duration": 94,
    "start_time": "2025-06-15T14:57:34.011Z"
   },
   {
    "duration": 9,
    "start_time": "2025-06-15T14:57:34.107Z"
   },
   {
    "duration": 52,
    "start_time": "2025-06-15T14:57:34.132Z"
   },
   {
    "duration": 10,
    "start_time": "2025-06-15T14:57:34.186Z"
   },
   {
    "duration": 19,
    "start_time": "2025-06-15T14:57:34.210Z"
   },
   {
    "duration": 8,
    "start_time": "2025-06-15T14:57:34.256Z"
   },
   {
    "duration": 24,
    "start_time": "2025-06-15T14:57:34.302Z"
   },
   {
    "duration": 7,
    "start_time": "2025-06-15T14:57:37.352Z"
   },
   {
    "duration": 7,
    "start_time": "2025-06-15T14:57:37.726Z"
   },
   {
    "duration": 98,
    "start_time": "2025-06-15T14:57:43.914Z"
   },
   {
    "duration": 3239,
    "start_time": "2025-06-15T14:57:46.174Z"
   },
   {
    "duration": 46,
    "start_time": "2025-06-15T14:57:52.536Z"
   },
   {
    "duration": 38,
    "start_time": "2025-06-15T14:57:53.053Z"
   },
   {
    "duration": 17,
    "start_time": "2025-06-15T14:57:53.900Z"
   },
   {
    "duration": 18,
    "start_time": "2025-06-15T14:57:54.259Z"
   },
   {
    "duration": 22,
    "start_time": "2025-06-15T14:57:55.130Z"
   },
   {
    "duration": 20,
    "start_time": "2025-06-15T14:57:55.448Z"
   },
   {
    "duration": 139,
    "start_time": "2025-06-15T14:57:57.109Z"
   },
   {
    "duration": 5,
    "start_time": "2025-06-15T14:57:58.189Z"
   },
   {
    "duration": 5,
    "start_time": "2025-06-15T14:57:58.627Z"
   },
   {
    "duration": 6,
    "start_time": "2025-06-15T14:57:59.929Z"
   },
   {
    "duration": 4,
    "start_time": "2025-06-15T14:58:00.413Z"
   },
   {
    "duration": 5,
    "start_time": "2025-06-15T14:58:00.789Z"
   },
   {
    "duration": 4,
    "start_time": "2025-06-15T14:58:04.826Z"
   },
   {
    "duration": 40,
    "start_time": "2025-06-15T14:58:05.318Z"
   },
   {
    "duration": 5,
    "start_time": "2025-06-15T14:58:05.896Z"
   },
   {
    "duration": 4,
    "start_time": "2025-06-15T14:58:06.482Z"
   },
   {
    "duration": 3,
    "start_time": "2025-06-15T14:58:06.997Z"
   },
   {
    "duration": 25,
    "start_time": "2025-06-15T14:58:07.567Z"
   },
   {
    "duration": 413,
    "start_time": "2025-06-15T14:58:08.090Z"
   },
   {
    "duration": 291,
    "start_time": "2025-06-15T14:58:08.641Z"
   },
   {
    "duration": 15,
    "start_time": "2025-06-15T14:58:10.736Z"
   },
   {
    "duration": 16,
    "start_time": "2025-06-15T14:58:11.250Z"
   },
   {
    "duration": 30,
    "start_time": "2025-06-15T14:58:11.782Z"
   },
   {
    "duration": 12,
    "start_time": "2025-06-15T14:58:12.360Z"
   },
   {
    "duration": 38,
    "start_time": "2025-06-15T14:58:14.389Z"
   },
   {
    "duration": 31,
    "start_time": "2025-06-15T14:58:15.015Z"
   },
   {
    "duration": 144,
    "start_time": "2025-06-15T14:58:16.860Z"
   },
   {
    "duration": 23,
    "start_time": "2025-06-15T14:58:18.632Z"
   },
   {
    "duration": 147,
    "start_time": "2025-06-15T14:58:19.180Z"
   },
   {
    "duration": 138,
    "start_time": "2025-06-15T14:58:20.011Z"
   },
   {
    "duration": 94,
    "start_time": "2025-06-15T14:58:20.580Z"
   },
   {
    "duration": 77,
    "start_time": "2025-06-15T14:58:21.721Z"
   },
   {
    "duration": 21,
    "start_time": "2025-06-15T14:58:22.446Z"
   },
   {
    "duration": 5,
    "start_time": "2025-06-15T14:58:23.044Z"
   },
   {
    "duration": 16,
    "start_time": "2025-06-15T14:58:23.620Z"
   },
   {
    "duration": 18,
    "start_time": "2025-06-15T14:58:25.317Z"
   },
   {
    "duration": 11,
    "start_time": "2025-06-15T14:58:26.362Z"
   },
   {
    "duration": 25,
    "start_time": "2025-06-15T14:58:31.161Z"
   },
   {
    "duration": 10,
    "start_time": "2025-06-15T14:58:31.870Z"
   },
   {
    "duration": 883,
    "start_time": "2025-06-15T14:58:32.999Z"
   },
   {
    "duration": 39,
    "start_time": "2025-06-15T14:59:13.880Z"
   },
   {
    "duration": 45,
    "start_time": "2025-06-15T15:01:40.017Z"
   },
   {
    "duration": 42,
    "start_time": "2025-06-15T15:02:17.542Z"
   },
   {
    "duration": 49,
    "start_time": "2025-06-15T15:05:32.738Z"
   },
   {
    "duration": 39,
    "start_time": "2025-06-15T15:05:45.853Z"
   },
   {
    "duration": 3003,
    "start_time": "2025-06-15T15:09:11.708Z"
   },
   {
    "duration": 619,
    "start_time": "2025-06-15T15:09:21.269Z"
   },
   {
    "duration": 17,
    "start_time": "2025-06-15T16:00:33.460Z"
   },
   {
    "duration": 23,
    "start_time": "2025-06-15T16:01:05.310Z"
   },
   {
    "duration": 7,
    "start_time": "2025-06-15T16:03:14.070Z"
   },
   {
    "duration": 6,
    "start_time": "2025-06-15T16:04:53.205Z"
   },
   {
    "duration": 14,
    "start_time": "2025-06-15T16:09:58.332Z"
   },
   {
    "duration": 9,
    "start_time": "2025-06-15T16:10:11.382Z"
   },
   {
    "duration": 9,
    "start_time": "2025-06-15T16:10:20.582Z"
   },
   {
    "duration": 10,
    "start_time": "2025-06-15T16:16:04.178Z"
   },
   {
    "duration": 10,
    "start_time": "2025-06-15T16:16:38.905Z"
   },
   {
    "duration": 10,
    "start_time": "2025-06-15T16:20:03.240Z"
   },
   {
    "duration": 10,
    "start_time": "2025-06-15T16:21:49.082Z"
   },
   {
    "duration": 10,
    "start_time": "2025-06-15T16:23:47.133Z"
   },
   {
    "duration": 8,
    "start_time": "2025-06-15T16:27:58.490Z"
   },
   {
    "duration": 12,
    "start_time": "2025-06-15T16:28:05.302Z"
   },
   {
    "duration": 270,
    "start_time": "2025-06-15T16:28:05.926Z"
   },
   {
    "duration": 9,
    "start_time": "2025-06-15T16:28:09.150Z"
   },
   {
    "duration": 3404,
    "start_time": "2025-06-15T16:28:46.438Z"
   },
   {
    "duration": 2244,
    "start_time": "2025-06-15T16:28:49.844Z"
   },
   {
    "duration": 5,
    "start_time": "2025-06-15T16:28:52.090Z"
   },
   {
    "duration": 13,
    "start_time": "2025-06-15T16:28:52.097Z"
   },
   {
    "duration": 13,
    "start_time": "2025-06-15T16:28:52.112Z"
   },
   {
    "duration": 22,
    "start_time": "2025-06-15T16:28:52.126Z"
   },
   {
    "duration": 33,
    "start_time": "2025-06-15T16:28:52.149Z"
   },
   {
    "duration": 486,
    "start_time": "2025-06-15T16:28:52.184Z"
   },
   {
    "duration": 5,
    "start_time": "2025-06-15T16:28:52.672Z"
   },
   {
    "duration": 382,
    "start_time": "2025-06-15T16:28:52.679Z"
   },
   {
    "duration": 4,
    "start_time": "2025-06-15T16:28:53.063Z"
   },
   {
    "duration": 11,
    "start_time": "2025-06-15T16:28:53.077Z"
   },
   {
    "duration": 36,
    "start_time": "2025-06-15T16:28:53.089Z"
   },
   {
    "duration": 25,
    "start_time": "2025-06-15T16:28:53.127Z"
   },
   {
    "duration": 97,
    "start_time": "2025-06-15T16:28:53.153Z"
   },
   {
    "duration": 8,
    "start_time": "2025-06-15T16:28:53.251Z"
   },
   {
    "duration": 48,
    "start_time": "2025-06-15T16:28:53.261Z"
   },
   {
    "duration": 8,
    "start_time": "2025-06-15T16:28:53.311Z"
   },
   {
    "duration": 21,
    "start_time": "2025-06-15T16:28:53.321Z"
   },
   {
    "duration": 7,
    "start_time": "2025-06-15T16:28:53.344Z"
   },
   {
    "duration": 23,
    "start_time": "2025-06-15T16:28:53.377Z"
   },
   {
    "duration": 6,
    "start_time": "2025-06-15T16:28:53.401Z"
   },
   {
    "duration": 36,
    "start_time": "2025-06-15T16:28:53.409Z"
   },
   {
    "duration": 101,
    "start_time": "2025-06-15T16:28:53.446Z"
   },
   {
    "duration": 96,
    "start_time": "2025-06-15T16:28:53.549Z"
   },
   {
    "duration": 3182,
    "start_time": "2025-06-15T16:28:53.647Z"
   },
   {
    "duration": 43,
    "start_time": "2025-06-15T16:28:56.832Z"
   },
   {
    "duration": 72,
    "start_time": "2025-06-15T16:28:56.879Z"
   },
   {
    "duration": 18,
    "start_time": "2025-06-15T16:28:56.952Z"
   },
   {
    "duration": 15,
    "start_time": "2025-06-15T16:28:56.972Z"
   },
   {
    "duration": 27,
    "start_time": "2025-06-15T16:28:56.989Z"
   },
   {
    "duration": 56,
    "start_time": "2025-06-15T16:28:57.018Z"
   },
   {
    "duration": 149,
    "start_time": "2025-06-15T16:28:57.076Z"
   },
   {
    "duration": 5,
    "start_time": "2025-06-15T16:28:57.227Z"
   },
   {
    "duration": 4,
    "start_time": "2025-06-15T16:28:57.233Z"
   },
   {
    "duration": 14,
    "start_time": "2025-06-15T16:28:57.238Z"
   },
   {
    "duration": 5,
    "start_time": "2025-06-15T16:28:57.253Z"
   },
   {
    "duration": 20,
    "start_time": "2025-06-15T16:28:57.259Z"
   },
   {
    "duration": 8,
    "start_time": "2025-06-15T16:28:57.280Z"
   },
   {
    "duration": 40,
    "start_time": "2025-06-15T16:28:57.289Z"
   },
   {
    "duration": 4,
    "start_time": "2025-06-15T16:28:57.330Z"
   },
   {
    "duration": 4,
    "start_time": "2025-06-15T16:28:57.336Z"
   },
   {
    "duration": 10,
    "start_time": "2025-06-15T16:28:57.341Z"
   },
   {
    "duration": 49,
    "start_time": "2025-06-15T16:28:57.352Z"
   },
   {
    "duration": 457,
    "start_time": "2025-06-15T16:28:57.402Z"
   },
   {
    "duration": 283,
    "start_time": "2025-06-15T16:28:57.861Z"
   },
   {
    "duration": 17,
    "start_time": "2025-06-15T16:28:58.145Z"
   },
   {
    "duration": 128,
    "start_time": "2025-06-15T16:28:58.177Z"
   },
   {
    "duration": 33,
    "start_time": "2025-06-15T16:28:58.307Z"
   },
   {
    "duration": 11,
    "start_time": "2025-06-15T16:28:58.342Z"
   },
   {
    "duration": 56,
    "start_time": "2025-06-15T16:28:58.355Z"
   },
   {
    "duration": 28,
    "start_time": "2025-06-15T16:28:58.413Z"
   },
   {
    "duration": 151,
    "start_time": "2025-06-15T16:28:58.443Z"
   },
   {
    "duration": 23,
    "start_time": "2025-06-15T16:28:58.596Z"
   },
   {
    "duration": 168,
    "start_time": "2025-06-15T16:28:58.621Z"
   },
   {
    "duration": 137,
    "start_time": "2025-06-15T16:28:58.791Z"
   },
   {
    "duration": 117,
    "start_time": "2025-06-15T16:28:58.930Z"
   },
   {
    "duration": 80,
    "start_time": "2025-06-15T16:28:59.049Z"
   },
   {
    "duration": 19,
    "start_time": "2025-06-15T16:28:59.130Z"
   },
   {
    "duration": 26,
    "start_time": "2025-06-15T16:28:59.151Z"
   },
   {
    "duration": 16,
    "start_time": "2025-06-15T16:28:59.178Z"
   },
   {
    "duration": 16,
    "start_time": "2025-06-15T16:28:59.196Z"
   },
   {
    "duration": 10,
    "start_time": "2025-06-15T16:28:59.214Z"
   },
   {
    "duration": 52,
    "start_time": "2025-06-15T16:28:59.225Z"
   },
   {
    "duration": 10,
    "start_time": "2025-06-15T16:28:59.279Z"
   },
   {
    "duration": 41,
    "start_time": "2025-06-15T16:28:59.291Z"
   },
   {
    "duration": 58,
    "start_time": "2025-06-15T16:28:59.334Z"
   },
   {
    "duration": 22,
    "start_time": "2025-06-15T16:28:59.394Z"
   },
   {
    "duration": 22,
    "start_time": "2025-06-15T16:28:59.418Z"
   },
   {
    "duration": 9,
    "start_time": "2025-06-15T16:28:59.442Z"
   },
   {
    "duration": 89,
    "start_time": "2025-06-15T16:29:17.262Z"
   },
   {
    "duration": 253,
    "start_time": "2025-06-15T16:30:01.880Z"
   },
   {
    "duration": 222,
    "start_time": "2025-06-15T17:37:24.385Z"
   },
   {
    "duration": 378,
    "start_time": "2025-06-15T17:37:58.393Z"
   },
   {
    "duration": 480,
    "start_time": "2025-06-15T17:44:37.706Z"
   },
   {
    "duration": 2634,
    "start_time": "2025-06-15T17:47:25.860Z"
   },
   {
    "duration": 113,
    "start_time": "2025-06-15T17:51:48.733Z"
   },
   {
    "duration": 3642,
    "start_time": "2025-06-15T17:53:37.239Z"
   },
   {
    "duration": 2234,
    "start_time": "2025-06-15T17:53:40.884Z"
   },
   {
    "duration": 7,
    "start_time": "2025-06-15T17:53:43.119Z"
   },
   {
    "duration": 21,
    "start_time": "2025-06-15T17:53:43.128Z"
   },
   {
    "duration": 5,
    "start_time": "2025-06-15T17:53:43.151Z"
   },
   {
    "duration": 10,
    "start_time": "2025-06-15T17:53:43.158Z"
   },
   {
    "duration": 9,
    "start_time": "2025-06-15T17:53:43.170Z"
   },
   {
    "duration": 404,
    "start_time": "2025-06-15T17:53:43.181Z"
   },
   {
    "duration": 4,
    "start_time": "2025-06-15T17:53:43.587Z"
   },
   {
    "duration": 374,
    "start_time": "2025-06-15T17:53:43.593Z"
   },
   {
    "duration": 8,
    "start_time": "2025-06-15T17:53:43.969Z"
   },
   {
    "duration": 30,
    "start_time": "2025-06-15T17:53:43.979Z"
   },
   {
    "duration": 13,
    "start_time": "2025-06-15T17:53:44.011Z"
   },
   {
    "duration": 30,
    "start_time": "2025-06-15T17:53:44.026Z"
   },
   {
    "duration": 105,
    "start_time": "2025-06-15T17:53:44.058Z"
   },
   {
    "duration": 12,
    "start_time": "2025-06-15T17:53:44.164Z"
   },
   {
    "duration": 38,
    "start_time": "2025-06-15T17:53:44.178Z"
   },
   {
    "duration": 8,
    "start_time": "2025-06-15T17:53:44.217Z"
   },
   {
    "duration": 30,
    "start_time": "2025-06-15T17:53:44.226Z"
   },
   {
    "duration": 20,
    "start_time": "2025-06-15T17:53:44.257Z"
   },
   {
    "duration": 25,
    "start_time": "2025-06-15T17:53:44.278Z"
   },
   {
    "duration": 7,
    "start_time": "2025-06-15T17:53:44.305Z"
   },
   {
    "duration": 36,
    "start_time": "2025-06-15T17:53:44.313Z"
   },
   {
    "duration": 193,
    "start_time": "2025-06-15T17:53:44.351Z"
   },
   {
    "duration": 153,
    "start_time": "2025-06-15T17:53:44.545Z"
   },
   {
    "duration": 3214,
    "start_time": "2025-06-15T17:53:44.699Z"
   },
   {
    "duration": 46,
    "start_time": "2025-06-15T17:53:47.915Z"
   },
   {
    "duration": 40,
    "start_time": "2025-06-15T17:53:47.965Z"
   },
   {
    "duration": 16,
    "start_time": "2025-06-15T17:53:48.007Z"
   },
   {
    "duration": 15,
    "start_time": "2025-06-15T17:53:48.025Z"
   },
   {
    "duration": 43,
    "start_time": "2025-06-15T17:53:48.042Z"
   },
   {
    "duration": 30,
    "start_time": "2025-06-15T17:53:48.086Z"
   },
   {
    "duration": 161,
    "start_time": "2025-06-15T17:53:48.118Z"
   },
   {
    "duration": 6,
    "start_time": "2025-06-15T17:53:48.281Z"
   },
   {
    "duration": 13,
    "start_time": "2025-06-15T17:53:48.289Z"
   },
   {
    "duration": 9,
    "start_time": "2025-06-15T17:53:48.303Z"
   },
   {
    "duration": 7,
    "start_time": "2025-06-15T17:53:48.314Z"
   },
   {
    "duration": 121,
    "start_time": "2025-06-15T17:53:48.323Z"
   },
   {
    "duration": 138,
    "start_time": "2025-06-15T17:53:48.446Z"
   },
   {
    "duration": 53,
    "start_time": "2025-06-15T17:53:48.586Z"
   },
   {
    "duration": 5,
    "start_time": "2025-06-15T17:53:48.641Z"
   },
   {
    "duration": 19,
    "start_time": "2025-06-15T17:53:48.648Z"
   },
   {
    "duration": 6,
    "start_time": "2025-06-15T17:53:48.668Z"
   },
   {
    "duration": 34,
    "start_time": "2025-06-15T17:53:48.675Z"
   },
   {
    "duration": 444,
    "start_time": "2025-06-15T17:53:48.710Z"
   },
   {
    "duration": 292,
    "start_time": "2025-06-15T17:53:49.156Z"
   },
   {
    "duration": 29,
    "start_time": "2025-06-15T17:53:49.450Z"
   },
   {
    "duration": 15,
    "start_time": "2025-06-15T17:53:49.481Z"
   },
   {
    "duration": 29,
    "start_time": "2025-06-15T17:53:49.498Z"
   },
   {
    "duration": 13,
    "start_time": "2025-06-15T17:53:49.528Z"
   },
   {
    "duration": 68,
    "start_time": "2025-06-15T17:53:49.542Z"
   },
   {
    "duration": 30,
    "start_time": "2025-06-15T17:53:49.612Z"
   },
   {
    "duration": 192,
    "start_time": "2025-06-15T17:53:49.644Z"
   },
   {
    "duration": 24,
    "start_time": "2025-06-15T17:53:49.838Z"
   },
   {
    "duration": 168,
    "start_time": "2025-06-15T17:53:49.864Z"
   },
   {
    "duration": 148,
    "start_time": "2025-06-15T17:53:50.033Z"
   },
   {
    "duration": 106,
    "start_time": "2025-06-15T17:53:50.182Z"
   },
   {
    "duration": 73,
    "start_time": "2025-06-15T17:53:50.289Z"
   },
   {
    "duration": 30,
    "start_time": "2025-06-15T17:53:50.364Z"
   },
   {
    "duration": 187,
    "start_time": "2025-06-15T17:53:50.396Z"
   },
   {
    "duration": 15,
    "start_time": "2025-06-15T17:53:50.585Z"
   },
   {
    "duration": 19,
    "start_time": "2025-06-15T17:53:50.602Z"
   },
   {
    "duration": 16,
    "start_time": "2025-06-15T17:53:50.622Z"
   },
   {
    "duration": 41,
    "start_time": "2025-06-15T17:53:50.639Z"
   },
   {
    "duration": 11,
    "start_time": "2025-06-15T17:53:50.682Z"
   },
   {
    "duration": 46,
    "start_time": "2025-06-15T17:53:50.694Z"
   },
   {
    "duration": 52,
    "start_time": "2025-06-15T17:53:50.742Z"
   },
   {
    "duration": 27,
    "start_time": "2025-06-15T17:53:50.795Z"
   },
   {
    "duration": 33,
    "start_time": "2025-06-15T17:53:50.823Z"
   },
   {
    "duration": 2774,
    "start_time": "2025-06-15T18:00:30.856Z"
   },
   {
    "duration": 29,
    "start_time": "2025-06-15T18:06:26.152Z"
   },
   {
    "duration": 11,
    "start_time": "2025-06-15T18:06:52.926Z"
   },
   {
    "duration": 113,
    "start_time": "2025-06-15T18:11:35.823Z"
   },
   {
    "duration": 92,
    "start_time": "2025-06-15T18:14:15.201Z"
   },
   {
    "duration": 107,
    "start_time": "2025-06-15T18:15:14.019Z"
   },
   {
    "duration": 106,
    "start_time": "2025-06-15T18:16:13.808Z"
   },
   {
    "duration": 4850,
    "start_time": "2025-06-15T19:42:00.811Z"
   },
   {
    "duration": 2326,
    "start_time": "2025-06-15T19:42:05.665Z"
   },
   {
    "duration": 6,
    "start_time": "2025-06-15T19:42:07.993Z"
   },
   {
    "duration": 6,
    "start_time": "2025-06-15T19:42:08.000Z"
   },
   {
    "duration": 5,
    "start_time": "2025-06-15T19:42:08.008Z"
   },
   {
    "duration": 9,
    "start_time": "2025-06-15T19:42:08.014Z"
   },
   {
    "duration": 47,
    "start_time": "2025-06-15T19:42:08.024Z"
   },
   {
    "duration": 383,
    "start_time": "2025-06-15T19:42:08.073Z"
   },
   {
    "duration": 4,
    "start_time": "2025-06-15T19:42:08.458Z"
   },
   {
    "duration": 365,
    "start_time": "2025-06-15T19:42:08.463Z"
   },
   {
    "duration": 4,
    "start_time": "2025-06-15T19:42:08.831Z"
   },
   {
    "duration": 50,
    "start_time": "2025-06-15T19:42:08.836Z"
   },
   {
    "duration": 13,
    "start_time": "2025-06-15T19:42:08.887Z"
   },
   {
    "duration": 23,
    "start_time": "2025-06-15T19:42:08.903Z"
   },
   {
    "duration": 172,
    "start_time": "2025-06-15T19:42:08.928Z"
   },
   {
    "duration": 9,
    "start_time": "2025-06-15T19:42:09.102Z"
   },
   {
    "duration": 44,
    "start_time": "2025-06-15T19:42:09.113Z"
   },
   {
    "duration": 19,
    "start_time": "2025-06-15T19:42:09.159Z"
   },
   {
    "duration": 27,
    "start_time": "2025-06-15T19:42:09.180Z"
   },
   {
    "duration": 31,
    "start_time": "2025-06-15T19:42:09.209Z"
   },
   {
    "duration": 39,
    "start_time": "2025-06-15T19:42:09.242Z"
   },
   {
    "duration": 8,
    "start_time": "2025-06-15T19:42:09.283Z"
   },
   {
    "duration": 8,
    "start_time": "2025-06-15T19:42:09.293Z"
   },
   {
    "duration": 114,
    "start_time": "2025-06-15T19:42:09.303Z"
   },
   {
    "duration": 110,
    "start_time": "2025-06-15T19:42:09.419Z"
   },
   {
    "duration": 3860,
    "start_time": "2025-06-15T19:42:09.531Z"
   },
   {
    "duration": 44,
    "start_time": "2025-06-15T19:42:13.393Z"
   },
   {
    "duration": 38,
    "start_time": "2025-06-15T19:42:13.439Z"
   },
   {
    "duration": 16,
    "start_time": "2025-06-15T19:42:13.479Z"
   },
   {
    "duration": 16,
    "start_time": "2025-06-15T19:42:13.497Z"
   },
   {
    "duration": 32,
    "start_time": "2025-06-15T19:42:13.515Z"
   },
   {
    "duration": 89,
    "start_time": "2025-06-15T19:42:13.549Z"
   },
   {
    "duration": 162,
    "start_time": "2025-06-15T19:42:13.640Z"
   },
   {
    "duration": 5,
    "start_time": "2025-06-15T19:42:13.804Z"
   },
   {
    "duration": 15,
    "start_time": "2025-06-15T19:42:13.810Z"
   },
   {
    "duration": 10,
    "start_time": "2025-06-15T19:42:13.826Z"
   },
   {
    "duration": 23,
    "start_time": "2025-06-15T19:42:13.837Z"
   },
   {
    "duration": 16,
    "start_time": "2025-06-15T19:42:13.861Z"
   },
   {
    "duration": 3,
    "start_time": "2025-06-15T19:42:13.879Z"
   },
   {
    "duration": 43,
    "start_time": "2025-06-15T19:42:13.884Z"
   },
   {
    "duration": 4,
    "start_time": "2025-06-15T19:42:13.931Z"
   },
   {
    "duration": 17,
    "start_time": "2025-06-15T19:42:13.936Z"
   },
   {
    "duration": 23,
    "start_time": "2025-06-15T19:42:13.954Z"
   },
   {
    "duration": 29,
    "start_time": "2025-06-15T19:42:13.978Z"
   },
   {
    "duration": 474,
    "start_time": "2025-06-15T19:42:14.008Z"
   },
   {
    "duration": 301,
    "start_time": "2025-06-15T19:42:14.484Z"
   },
   {
    "duration": 16,
    "start_time": "2025-06-15T19:42:14.787Z"
   },
   {
    "duration": 84,
    "start_time": "2025-06-15T19:42:14.804Z"
   },
   {
    "duration": 31,
    "start_time": "2025-06-15T19:42:14.890Z"
   },
   {
    "duration": 13,
    "start_time": "2025-06-15T19:42:14.923Z"
   },
   {
    "duration": 130,
    "start_time": "2025-06-15T19:42:14.937Z"
   },
   {
    "duration": 31,
    "start_time": "2025-06-15T19:42:15.069Z"
   },
   {
    "duration": 145,
    "start_time": "2025-06-15T19:42:15.101Z"
   },
   {
    "duration": 32,
    "start_time": "2025-06-15T19:42:15.248Z"
   },
   {
    "duration": 181,
    "start_time": "2025-06-15T19:42:15.282Z"
   },
   {
    "duration": 139,
    "start_time": "2025-06-15T19:42:15.465Z"
   },
   {
    "duration": 109,
    "start_time": "2025-06-15T19:42:15.605Z"
   },
   {
    "duration": 90,
    "start_time": "2025-06-15T19:42:15.715Z"
   },
   {
    "duration": 27,
    "start_time": "2025-06-15T19:42:15.807Z"
   },
   {
    "duration": 7,
    "start_time": "2025-06-15T19:42:15.835Z"
   },
   {
    "duration": 45,
    "start_time": "2025-06-15T19:42:15.844Z"
   },
   {
    "duration": 24,
    "start_time": "2025-06-15T19:42:15.891Z"
   },
   {
    "duration": 37,
    "start_time": "2025-06-15T19:42:15.917Z"
   },
   {
    "duration": 24,
    "start_time": "2025-06-15T19:42:15.956Z"
   },
   {
    "duration": 23,
    "start_time": "2025-06-15T19:42:15.982Z"
   },
   {
    "duration": 46,
    "start_time": "2025-06-15T19:42:16.006Z"
   },
   {
    "duration": 8091,
    "start_time": "2025-06-15T19:42:16.054Z"
   },
   {
    "duration": 136,
    "start_time": "2025-06-15T19:42:24.148Z"
   },
   {
    "duration": 33,
    "start_time": "2025-06-15T19:42:24.286Z"
   },
   {
    "duration": 23,
    "start_time": "2025-06-15T19:42:24.321Z"
   },
   {
    "duration": 53,
    "start_time": "2025-06-15T19:42:24.345Z"
   },
   {
    "duration": 2803,
    "start_time": "2025-06-15T19:42:24.399Z"
   },
   {
    "duration": 33,
    "start_time": "2025-06-15T19:42:54.402Z"
   },
   {
    "duration": 49,
    "start_time": "2025-06-16T10:29:21.547Z"
   },
   {
    "duration": 4763,
    "start_time": "2025-06-16T10:29:47.724Z"
   },
   {
    "duration": 3115,
    "start_time": "2025-06-16T10:29:52.489Z"
   },
   {
    "duration": 7,
    "start_time": "2025-06-16T10:29:55.605Z"
   },
   {
    "duration": 9,
    "start_time": "2025-06-16T10:29:55.614Z"
   },
   {
    "duration": 37,
    "start_time": "2025-06-16T10:29:55.625Z"
   },
   {
    "duration": 12,
    "start_time": "2025-06-16T10:29:55.664Z"
   },
   {
    "duration": 17,
    "start_time": "2025-06-16T10:29:55.678Z"
   },
   {
    "duration": 397,
    "start_time": "2025-06-16T10:29:55.697Z"
   },
   {
    "duration": 5,
    "start_time": "2025-06-16T10:29:56.096Z"
   },
   {
    "duration": 382,
    "start_time": "2025-06-16T10:29:56.105Z"
   },
   {
    "duration": 5,
    "start_time": "2025-06-16T10:29:56.489Z"
   },
   {
    "duration": 18,
    "start_time": "2025-06-16T10:29:56.496Z"
   },
   {
    "duration": 29,
    "start_time": "2025-06-16T10:29:56.515Z"
   },
   {
    "duration": 36,
    "start_time": "2025-06-16T10:29:56.546Z"
   },
   {
    "duration": 116,
    "start_time": "2025-06-16T10:29:56.583Z"
   },
   {
    "duration": 9,
    "start_time": "2025-06-16T10:29:56.700Z"
   },
   {
    "duration": 55,
    "start_time": "2025-06-16T10:29:56.711Z"
   },
   {
    "duration": 7,
    "start_time": "2025-06-16T10:29:56.768Z"
   },
   {
    "duration": 22,
    "start_time": "2025-06-16T10:29:56.776Z"
   },
   {
    "duration": 27,
    "start_time": "2025-06-16T10:29:56.800Z"
   },
   {
    "duration": 30,
    "start_time": "2025-06-16T10:29:56.829Z"
   },
   {
    "duration": 6,
    "start_time": "2025-06-16T10:29:59.054Z"
   },
   {
    "duration": 8,
    "start_time": "2025-06-16T10:30:00.305Z"
   },
   {
    "duration": 99,
    "start_time": "2025-06-16T10:30:00.924Z"
   },
   {
    "duration": 131,
    "start_time": "2025-06-16T10:30:01.025Z"
   },
   {
    "duration": 3927,
    "start_time": "2025-06-16T10:30:01.158Z"
   },
   {
    "duration": 50,
    "start_time": "2025-06-16T10:30:05.088Z"
   },
   {
    "duration": 69,
    "start_time": "2025-06-16T10:30:05.140Z"
   },
   {
    "duration": 17,
    "start_time": "2025-06-16T10:30:05.212Z"
   },
   {
    "duration": 133,
    "start_time": "2025-06-16T10:30:05.231Z"
   },
   {
    "duration": 168,
    "start_time": "2025-06-16T10:30:05.366Z"
   },
   {
    "duration": 63,
    "start_time": "2025-06-16T10:30:05.536Z"
   },
   {
    "duration": 171,
    "start_time": "2025-06-16T10:30:05.601Z"
   },
   {
    "duration": 7,
    "start_time": "2025-06-16T10:30:05.774Z"
   },
   {
    "duration": 48,
    "start_time": "2025-06-16T10:30:05.784Z"
   },
   {
    "duration": 40,
    "start_time": "2025-06-16T10:30:05.834Z"
   },
   {
    "duration": 25,
    "start_time": "2025-06-16T10:30:05.876Z"
   },
   {
    "duration": 23,
    "start_time": "2025-06-16T10:30:05.902Z"
   },
   {
    "duration": 28,
    "start_time": "2025-06-16T10:30:05.927Z"
   },
   {
    "duration": 62,
    "start_time": "2025-06-16T10:30:05.957Z"
   },
   {
    "duration": 6,
    "start_time": "2025-06-16T10:30:06.020Z"
   },
   {
    "duration": 26,
    "start_time": "2025-06-16T10:30:06.028Z"
   },
   {
    "duration": 28,
    "start_time": "2025-06-16T10:30:06.056Z"
   },
   {
    "duration": 51,
    "start_time": "2025-06-16T10:30:06.086Z"
   },
   {
    "duration": 464,
    "start_time": "2025-06-16T10:30:06.138Z"
   },
   {
    "duration": 316,
    "start_time": "2025-06-16T10:30:06.604Z"
   },
   {
    "duration": 22,
    "start_time": "2025-06-16T10:30:06.922Z"
   },
   {
    "duration": 50,
    "start_time": "2025-06-16T10:30:06.946Z"
   },
   {
    "duration": 52,
    "start_time": "2025-06-16T10:30:06.998Z"
   },
   {
    "duration": 12,
    "start_time": "2025-06-16T10:30:07.052Z"
   },
   {
    "duration": 88,
    "start_time": "2025-06-16T10:30:07.066Z"
   },
   {
    "duration": 29,
    "start_time": "2025-06-16T10:30:07.156Z"
   },
   {
    "duration": 162,
    "start_time": "2025-06-16T10:30:07.188Z"
   },
   {
    "duration": 24,
    "start_time": "2025-06-16T10:30:07.351Z"
   },
   {
    "duration": 171,
    "start_time": "2025-06-16T10:30:07.377Z"
   },
   {
    "duration": 163,
    "start_time": "2025-06-16T10:30:07.550Z"
   },
   {
    "duration": 107,
    "start_time": "2025-06-16T10:30:07.714Z"
   },
   {
    "duration": 80,
    "start_time": "2025-06-16T10:30:07.822Z"
   },
   {
    "duration": 33,
    "start_time": "2025-06-16T10:30:07.904Z"
   },
   {
    "duration": 5,
    "start_time": "2025-06-16T10:30:07.939Z"
   },
   {
    "duration": 25,
    "start_time": "2025-06-16T10:30:07.946Z"
   },
   {
    "duration": 17,
    "start_time": "2025-06-16T10:30:07.973Z"
   },
   {
    "duration": 10,
    "start_time": "2025-06-16T10:30:07.992Z"
   },
   {
    "duration": 44,
    "start_time": "2025-06-16T10:30:08.004Z"
   },
   {
    "duration": 11,
    "start_time": "2025-06-16T10:30:08.049Z"
   },
   {
    "duration": 65,
    "start_time": "2025-06-16T10:30:08.061Z"
   },
   {
    "duration": 8100,
    "start_time": "2025-06-16T10:30:08.127Z"
   },
   {
    "duration": 131,
    "start_time": "2025-06-16T10:30:16.230Z"
   },
   {
    "duration": 36,
    "start_time": "2025-06-16T10:30:16.363Z"
   },
   {
    "duration": 104,
    "start_time": "2025-06-16T10:30:16.401Z"
   },
   {
    "duration": 24,
    "start_time": "2025-06-16T10:30:16.506Z"
   },
   {
    "duration": 2786,
    "start_time": "2025-06-16T10:30:16.532Z"
   },
   {
    "duration": 78,
    "start_time": "2025-06-16T10:30:19.320Z"
   },
   {
    "duration": 33,
    "start_time": "2025-06-16T10:34:44.793Z"
   },
   {
    "duration": 3,
    "start_time": "2025-06-16T10:37:11.082Z"
   },
   {
    "duration": 67,
    "start_time": "2025-06-16T10:37:45.838Z"
   },
   {
    "duration": 66,
    "start_time": "2025-06-16T10:39:35.101Z"
   },
   {
    "duration": 28,
    "start_time": "2025-06-16T11:04:36.757Z"
   },
   {
    "duration": 5,
    "start_time": "2025-06-16T11:12:23.589Z"
   },
   {
    "duration": 34,
    "start_time": "2025-06-16T11:13:37.147Z"
   },
   {
    "duration": 3642,
    "start_time": "2025-06-16T11:15:04.278Z"
   },
   {
    "duration": 4368,
    "start_time": "2025-06-16T11:15:07.923Z"
   },
   {
    "duration": 7,
    "start_time": "2025-06-16T11:15:12.293Z"
   },
   {
    "duration": 19,
    "start_time": "2025-06-16T11:15:12.302Z"
   },
   {
    "duration": 13,
    "start_time": "2025-06-16T11:15:12.324Z"
   },
   {
    "duration": 5,
    "start_time": "2025-06-16T11:15:12.339Z"
   },
   {
    "duration": 5,
    "start_time": "2025-06-16T11:15:12.346Z"
   },
   {
    "duration": 414,
    "start_time": "2025-06-16T11:15:12.353Z"
   },
   {
    "duration": 5,
    "start_time": "2025-06-16T11:15:12.769Z"
   },
   {
    "duration": 392,
    "start_time": "2025-06-16T11:15:12.776Z"
   },
   {
    "duration": 5,
    "start_time": "2025-06-16T11:15:13.170Z"
   },
   {
    "duration": 14,
    "start_time": "2025-06-16T11:15:13.177Z"
   },
   {
    "duration": 13,
    "start_time": "2025-06-16T11:15:13.193Z"
   },
   {
    "duration": 26,
    "start_time": "2025-06-16T11:15:13.236Z"
   },
   {
    "duration": 124,
    "start_time": "2025-06-16T11:15:13.264Z"
   },
   {
    "duration": 10,
    "start_time": "2025-06-16T11:15:13.390Z"
   },
   {
    "duration": 54,
    "start_time": "2025-06-16T11:15:13.402Z"
   },
   {
    "duration": 8,
    "start_time": "2025-06-16T11:15:13.458Z"
   },
   {
    "duration": 67,
    "start_time": "2025-06-16T11:15:13.467Z"
   },
   {
    "duration": 21,
    "start_time": "2025-06-16T11:15:13.536Z"
   },
   {
    "duration": 30,
    "start_time": "2025-06-16T11:15:13.558Z"
   },
   {
    "duration": 14,
    "start_time": "2025-06-16T11:15:13.590Z"
   },
   {
    "duration": 37,
    "start_time": "2025-06-16T11:15:13.605Z"
   },
   {
    "duration": 105,
    "start_time": "2025-06-16T11:15:13.643Z"
   },
   {
    "duration": 107,
    "start_time": "2025-06-16T11:15:13.750Z"
   },
   {
    "duration": 3406,
    "start_time": "2025-06-16T11:15:13.859Z"
   },
   {
    "duration": 48,
    "start_time": "2025-06-16T11:15:17.267Z"
   },
   {
    "duration": 46,
    "start_time": "2025-06-16T11:15:17.316Z"
   },
   {
    "duration": 17,
    "start_time": "2025-06-16T11:15:17.364Z"
   },
   {
    "duration": 26,
    "start_time": "2025-06-16T11:15:17.382Z"
   },
   {
    "duration": 31,
    "start_time": "2025-06-16T11:15:17.409Z"
   },
   {
    "duration": 63,
    "start_time": "2025-06-16T11:15:17.442Z"
   },
   {
    "duration": 145,
    "start_time": "2025-06-16T11:15:17.507Z"
   },
   {
    "duration": 5,
    "start_time": "2025-06-16T11:15:17.654Z"
   },
   {
    "duration": 18,
    "start_time": "2025-06-16T11:15:17.661Z"
   },
   {
    "duration": 19,
    "start_time": "2025-06-16T11:15:17.681Z"
   },
   {
    "duration": 17,
    "start_time": "2025-06-16T11:15:17.702Z"
   },
   {
    "duration": 25,
    "start_time": "2025-06-16T11:15:17.721Z"
   },
   {
    "duration": 13,
    "start_time": "2025-06-16T11:15:17.748Z"
   },
   {
    "duration": 40,
    "start_time": "2025-06-16T11:15:17.763Z"
   },
   {
    "duration": 5,
    "start_time": "2025-06-16T11:15:17.808Z"
   },
   {
    "duration": 23,
    "start_time": "2025-06-16T11:15:17.814Z"
   },
   {
    "duration": 4,
    "start_time": "2025-06-16T11:15:17.839Z"
   },
   {
    "duration": 26,
    "start_time": "2025-06-16T11:15:17.845Z"
   },
   {
    "duration": 473,
    "start_time": "2025-06-16T11:15:17.873Z"
   },
   {
    "duration": 322,
    "start_time": "2025-06-16T11:15:18.349Z"
   },
   {
    "duration": 17,
    "start_time": "2025-06-16T11:15:18.672Z"
   },
   {
    "duration": 68,
    "start_time": "2025-06-16T11:15:18.690Z"
   },
   {
    "duration": 47,
    "start_time": "2025-06-16T11:15:18.760Z"
   },
   {
    "duration": 12,
    "start_time": "2025-06-16T11:15:18.809Z"
   },
   {
    "duration": 38,
    "start_time": "2025-06-16T11:15:18.823Z"
   },
   {
    "duration": 26,
    "start_time": "2025-06-16T11:15:18.862Z"
   },
   {
    "duration": 182,
    "start_time": "2025-06-16T11:15:18.890Z"
   },
   {
    "duration": 24,
    "start_time": "2025-06-16T11:15:19.074Z"
   },
   {
    "duration": 163,
    "start_time": "2025-06-16T11:15:19.100Z"
   },
   {
    "duration": 160,
    "start_time": "2025-06-16T11:15:19.265Z"
   },
   {
    "duration": 116,
    "start_time": "2025-06-16T11:15:19.427Z"
   },
   {
    "duration": 79,
    "start_time": "2025-06-16T11:15:19.545Z"
   },
   {
    "duration": 30,
    "start_time": "2025-06-16T11:15:19.626Z"
   },
   {
    "duration": 5,
    "start_time": "2025-06-16T11:15:19.658Z"
   },
   {
    "duration": 23,
    "start_time": "2025-06-16T11:15:19.664Z"
   },
   {
    "duration": 19,
    "start_time": "2025-06-16T11:15:19.688Z"
   },
   {
    "duration": 39,
    "start_time": "2025-06-16T11:15:19.708Z"
   },
   {
    "duration": 28,
    "start_time": "2025-06-16T11:15:19.748Z"
   },
   {
    "duration": 11,
    "start_time": "2025-06-16T11:15:19.777Z"
   },
   {
    "duration": 66,
    "start_time": "2025-06-16T11:15:19.790Z"
   },
   {
    "duration": 2761,
    "start_time": "2025-06-16T11:15:19.859Z"
   },
   {
    "duration": 36,
    "start_time": "2025-06-16T11:16:42.454Z"
   },
   {
    "duration": 62,
    "start_time": "2025-06-16T11:16:50.828Z"
   },
   {
    "duration": 112,
    "start_time": "2025-06-16T11:33:29.045Z"
   },
   {
    "duration": 27,
    "start_time": "2025-06-16T11:33:59.061Z"
   },
   {
    "duration": 120,
    "start_time": "2025-06-16T11:36:53.079Z"
   },
   {
    "duration": 64,
    "start_time": "2025-06-16T11:37:10.509Z"
   },
   {
    "duration": 51,
    "start_time": "2025-06-16T11:37:45.983Z"
   },
   {
    "duration": 143,
    "start_time": "2025-06-16T11:40:23.080Z"
   },
   {
    "duration": 12,
    "start_time": "2025-06-16T11:42:33.998Z"
   },
   {
    "duration": 87,
    "start_time": "2025-06-16T11:43:06.828Z"
   },
   {
    "duration": 40,
    "start_time": "2025-06-16T11:43:24.887Z"
   },
   {
    "duration": 15,
    "start_time": "2025-06-16T11:43:50.541Z"
   },
   {
    "duration": 58,
    "start_time": "2025-06-16T11:44:16.862Z"
   },
   {
    "duration": 49,
    "start_time": "2025-06-16T11:44:34.371Z"
   },
   {
    "duration": 23,
    "start_time": "2025-06-16T11:45:56.652Z"
   },
   {
    "duration": 24,
    "start_time": "2025-06-16T11:46:03.573Z"
   },
   {
    "duration": 178,
    "start_time": "2025-06-16T11:46:03.900Z"
   },
   {
    "duration": 26,
    "start_time": "2025-06-16T11:46:04.536Z"
   },
   {
    "duration": 26,
    "start_time": "2025-06-16T11:46:07.512Z"
   },
   {
    "duration": 45,
    "start_time": "2025-06-16T11:46:15.336Z"
   },
   {
    "duration": 28,
    "start_time": "2025-06-16T11:46:17.434Z"
   },
   {
    "duration": 3803,
    "start_time": "2025-06-16T11:51:09.699Z"
   },
   {
    "duration": 2785,
    "start_time": "2025-06-16T11:51:13.505Z"
   },
   {
    "duration": 6,
    "start_time": "2025-06-16T11:51:16.293Z"
   },
   {
    "duration": 5,
    "start_time": "2025-06-16T11:51:16.302Z"
   },
   {
    "duration": 20,
    "start_time": "2025-06-16T11:51:16.309Z"
   },
   {
    "duration": 15,
    "start_time": "2025-06-16T11:51:16.331Z"
   },
   {
    "duration": 14,
    "start_time": "2025-06-16T11:51:16.348Z"
   },
   {
    "duration": 405,
    "start_time": "2025-06-16T11:51:16.363Z"
   },
   {
    "duration": 5,
    "start_time": "2025-06-16T11:51:16.769Z"
   },
   {
    "duration": 493,
    "start_time": "2025-06-16T11:51:16.776Z"
   },
   {
    "duration": 5,
    "start_time": "2025-06-16T11:51:17.271Z"
   },
   {
    "duration": 20,
    "start_time": "2025-06-16T11:51:17.278Z"
   },
   {
    "duration": 12,
    "start_time": "2025-06-16T11:51:17.300Z"
   },
   {
    "duration": 57,
    "start_time": "2025-06-16T11:51:17.314Z"
   },
   {
    "duration": 109,
    "start_time": "2025-06-16T11:51:17.373Z"
   },
   {
    "duration": 10,
    "start_time": "2025-06-16T11:51:17.484Z"
   },
   {
    "duration": 72,
    "start_time": "2025-06-16T11:51:17.496Z"
   },
   {
    "duration": 9,
    "start_time": "2025-06-16T11:51:17.569Z"
   },
   {
    "duration": 116,
    "start_time": "2025-06-16T11:51:17.580Z"
   },
   {
    "duration": 64,
    "start_time": "2025-06-16T11:51:17.698Z"
   },
   {
    "duration": 49,
    "start_time": "2025-06-16T11:51:17.764Z"
   },
   {
    "duration": 8,
    "start_time": "2025-06-16T11:51:17.815Z"
   },
   {
    "duration": 8,
    "start_time": "2025-06-16T11:51:17.825Z"
   },
   {
    "duration": 124,
    "start_time": "2025-06-16T11:51:17.835Z"
   },
   {
    "duration": 111,
    "start_time": "2025-06-16T11:51:17.960Z"
   },
   {
    "duration": 3405,
    "start_time": "2025-06-16T11:51:18.072Z"
   },
   {
    "duration": 48,
    "start_time": "2025-06-16T11:51:21.479Z"
   },
   {
    "duration": 43,
    "start_time": "2025-06-16T11:51:21.531Z"
   },
   {
    "duration": 18,
    "start_time": "2025-06-16T11:51:21.575Z"
   },
   {
    "duration": 119,
    "start_time": "2025-06-16T11:51:21.594Z"
   },
   {
    "duration": 42,
    "start_time": "2025-06-16T11:51:21.715Z"
   },
   {
    "duration": 24,
    "start_time": "2025-06-16T11:51:21.759Z"
   },
   {
    "duration": 166,
    "start_time": "2025-06-16T11:51:21.784Z"
   },
   {
    "duration": 6,
    "start_time": "2025-06-16T11:51:21.951Z"
   },
   {
    "duration": 24,
    "start_time": "2025-06-16T11:51:21.958Z"
   },
   {
    "duration": 9,
    "start_time": "2025-06-16T11:51:21.984Z"
   },
   {
    "duration": 8,
    "start_time": "2025-06-16T11:51:21.994Z"
   },
   {
    "duration": 4,
    "start_time": "2025-06-16T11:51:22.003Z"
   },
   {
    "duration": 18,
    "start_time": "2025-06-16T11:51:22.009Z"
   },
   {
    "duration": 42,
    "start_time": "2025-06-16T11:51:22.028Z"
   },
   {
    "duration": 5,
    "start_time": "2025-06-16T11:51:22.071Z"
   },
   {
    "duration": 9,
    "start_time": "2025-06-16T11:51:22.077Z"
   },
   {
    "duration": 9,
    "start_time": "2025-06-16T11:51:22.088Z"
   },
   {
    "duration": 46,
    "start_time": "2025-06-16T11:51:22.098Z"
   },
   {
    "duration": 450,
    "start_time": "2025-06-16T11:51:22.146Z"
   },
   {
    "duration": 308,
    "start_time": "2025-06-16T11:51:22.598Z"
   },
   {
    "duration": 15,
    "start_time": "2025-06-16T11:51:22.908Z"
   },
   {
    "duration": 51,
    "start_time": "2025-06-16T11:51:22.925Z"
   },
   {
    "duration": 30,
    "start_time": "2025-06-16T11:51:22.978Z"
   },
   {
    "duration": 12,
    "start_time": "2025-06-16T11:51:23.010Z"
   },
   {
    "duration": 54,
    "start_time": "2025-06-16T11:51:23.023Z"
   },
   {
    "duration": 27,
    "start_time": "2025-06-16T11:51:23.078Z"
   },
   {
    "duration": 148,
    "start_time": "2025-06-16T11:51:23.107Z"
   },
   {
    "duration": 24,
    "start_time": "2025-06-16T11:51:23.257Z"
   },
   {
    "duration": 57,
    "start_time": "2025-06-16T11:51:23.282Z"
   },
   {
    "duration": 22,
    "start_time": "2025-06-16T11:51:23.341Z"
   },
   {
    "duration": 111,
    "start_time": "2025-06-16T11:51:23.364Z"
   },
   {
    "duration": 80,
    "start_time": "2025-06-16T11:51:23.477Z"
   },
   {
    "duration": 23,
    "start_time": "2025-06-16T11:51:23.558Z"
   },
   {
    "duration": 6,
    "start_time": "2025-06-16T11:51:23.583Z"
   },
   {
    "duration": 113,
    "start_time": "2025-06-16T11:51:23.590Z"
   },
   {
    "duration": 49,
    "start_time": "2025-06-16T11:51:23.704Z"
   },
   {
    "duration": 28,
    "start_time": "2025-06-16T11:51:23.755Z"
   },
   {
    "duration": 29,
    "start_time": "2025-06-16T11:51:23.784Z"
   },
   {
    "duration": 27,
    "start_time": "2025-06-16T11:51:23.814Z"
   },
   {
    "duration": 71,
    "start_time": "2025-06-16T11:51:23.842Z"
   },
   {
    "duration": 2731,
    "start_time": "2025-06-16T11:51:23.914Z"
   },
   {
    "duration": 35,
    "start_time": "2025-06-16T11:51:26.647Z"
   },
   {
    "duration": 180,
    "start_time": "2025-06-16T11:52:18.517Z"
   },
   {
    "duration": 83,
    "start_time": "2025-06-16T11:52:24.718Z"
   },
   {
    "duration": 44,
    "start_time": "2025-06-16T11:52:25.943Z"
   },
   {
    "duration": 61,
    "start_time": "2025-06-16T11:52:27.324Z"
   },
   {
    "duration": 40,
    "start_time": "2025-06-16T11:52:28.615Z"
   },
   {
    "duration": 39,
    "start_time": "2025-06-16T11:55:09.135Z"
   },
   {
    "duration": 42,
    "start_time": "2025-06-16T11:55:09.480Z"
   },
   {
    "duration": 25,
    "start_time": "2025-06-16T11:55:15.656Z"
   },
   {
    "duration": 37,
    "start_time": "2025-06-16T11:55:38.424Z"
   },
   {
    "duration": 139,
    "start_time": "2025-06-16T11:59:26.922Z"
   },
   {
    "duration": 150,
    "start_time": "2025-06-16T12:01:00.916Z"
   },
   {
    "duration": 156,
    "start_time": "2025-06-16T12:02:39.134Z"
   },
   {
    "duration": 50,
    "start_time": "2025-06-16T12:02:47.894Z"
   },
   {
    "duration": 155,
    "start_time": "2025-06-16T12:02:57.740Z"
   },
   {
    "duration": 79,
    "start_time": "2025-06-16T12:06:26.599Z"
   },
   {
    "duration": 169,
    "start_time": "2025-06-16T12:06:48.783Z"
   },
   {
    "duration": 145,
    "start_time": "2025-06-16T12:07:14.596Z"
   },
   {
    "duration": 83,
    "start_time": "2025-06-16T12:07:34.519Z"
   },
   {
    "duration": 109,
    "start_time": "2025-06-16T14:35:09.845Z"
   },
   {
    "duration": 11,
    "start_time": "2025-06-16T14:35:32.576Z"
   },
   {
    "duration": 404,
    "start_time": "2025-06-16T14:37:22.319Z"
   },
   {
    "duration": 39,
    "start_time": "2025-06-16T14:37:58.819Z"
   },
   {
    "duration": 49,
    "start_time": "2025-06-16T14:38:18.968Z"
   },
   {
    "duration": 24,
    "start_time": "2025-06-16T14:42:30.247Z"
   },
   {
    "duration": 83,
    "start_time": "2025-06-16T14:44:27.843Z"
   },
   {
    "duration": 25,
    "start_time": "2025-06-16T14:44:45.011Z"
   },
   {
    "duration": 23,
    "start_time": "2025-06-16T14:46:23.603Z"
   },
   {
    "duration": 51,
    "start_time": "2025-06-16T14:50:49.046Z"
   },
   {
    "duration": 3662,
    "start_time": "2025-06-16T14:51:09.597Z"
   },
   {
    "duration": 2296,
    "start_time": "2025-06-16T14:51:13.261Z"
   },
   {
    "duration": 7,
    "start_time": "2025-06-16T14:51:15.559Z"
   },
   {
    "duration": 131,
    "start_time": "2025-06-16T14:51:15.567Z"
   },
   {
    "duration": 97,
    "start_time": "2025-06-16T14:51:15.701Z"
   },
   {
    "duration": 30,
    "start_time": "2025-06-16T14:51:15.799Z"
   },
   {
    "duration": 38,
    "start_time": "2025-06-16T14:51:15.831Z"
   },
   {
    "duration": 525,
    "start_time": "2025-06-16T14:51:15.871Z"
   },
   {
    "duration": 4,
    "start_time": "2025-06-16T14:51:16.398Z"
   },
   {
    "duration": 368,
    "start_time": "2025-06-16T14:51:16.404Z"
   },
   {
    "duration": 5,
    "start_time": "2025-06-16T14:51:16.774Z"
   },
   {
    "duration": 51,
    "start_time": "2025-06-16T14:51:16.780Z"
   },
   {
    "duration": 12,
    "start_time": "2025-06-16T14:51:16.833Z"
   },
   {
    "duration": 25,
    "start_time": "2025-06-16T14:51:16.848Z"
   },
   {
    "duration": 130,
    "start_time": "2025-06-16T14:51:16.874Z"
   },
   {
    "duration": 8,
    "start_time": "2025-06-16T14:51:17.006Z"
   },
   {
    "duration": 60,
    "start_time": "2025-06-16T14:51:17.016Z"
   },
   {
    "duration": 9,
    "start_time": "2025-06-16T14:51:17.078Z"
   },
   {
    "duration": 20,
    "start_time": "2025-06-16T14:51:17.088Z"
   },
   {
    "duration": 29,
    "start_time": "2025-06-16T14:51:17.109Z"
   },
   {
    "duration": 28,
    "start_time": "2025-06-16T14:51:17.139Z"
   },
   {
    "duration": 6,
    "start_time": "2025-06-16T14:51:17.168Z"
   },
   {
    "duration": 31,
    "start_time": "2025-06-16T14:51:17.176Z"
   },
   {
    "duration": 107,
    "start_time": "2025-06-16T14:51:17.208Z"
   },
   {
    "duration": 100,
    "start_time": "2025-06-16T14:51:17.317Z"
   },
   {
    "duration": 3367,
    "start_time": "2025-06-16T14:51:17.418Z"
   },
   {
    "duration": 46,
    "start_time": "2025-06-16T14:51:20.787Z"
   },
   {
    "duration": 48,
    "start_time": "2025-06-16T14:51:20.834Z"
   },
   {
    "duration": 16,
    "start_time": "2025-06-16T14:51:20.884Z"
   },
   {
    "duration": 25,
    "start_time": "2025-06-16T14:51:20.902Z"
   },
   {
    "duration": 32,
    "start_time": "2025-06-16T14:51:20.929Z"
   },
   {
    "duration": 21,
    "start_time": "2025-06-16T14:51:20.963Z"
   },
   {
    "duration": 162,
    "start_time": "2025-06-16T14:51:20.986Z"
   },
   {
    "duration": 5,
    "start_time": "2025-06-16T14:51:21.150Z"
   },
   {
    "duration": 15,
    "start_time": "2025-06-16T14:51:21.157Z"
   },
   {
    "duration": 6,
    "start_time": "2025-06-16T14:51:21.174Z"
   },
   {
    "duration": 5,
    "start_time": "2025-06-16T14:51:21.182Z"
   },
   {
    "duration": 6,
    "start_time": "2025-06-16T14:51:21.189Z"
   },
   {
    "duration": 10,
    "start_time": "2025-06-16T14:51:21.197Z"
   },
   {
    "duration": 45,
    "start_time": "2025-06-16T14:51:21.237Z"
   },
   {
    "duration": 4,
    "start_time": "2025-06-16T14:51:21.286Z"
   },
   {
    "duration": 17,
    "start_time": "2025-06-16T14:51:21.292Z"
   },
   {
    "duration": 29,
    "start_time": "2025-06-16T14:51:21.311Z"
   },
   {
    "duration": 51,
    "start_time": "2025-06-16T14:51:21.341Z"
   },
   {
    "duration": 465,
    "start_time": "2025-06-16T14:51:21.393Z"
   },
   {
    "duration": 313,
    "start_time": "2025-06-16T14:51:21.860Z"
   },
   {
    "duration": 17,
    "start_time": "2025-06-16T14:51:22.174Z"
   },
   {
    "duration": 26,
    "start_time": "2025-06-16T14:51:22.192Z"
   },
   {
    "duration": 46,
    "start_time": "2025-06-16T14:51:22.220Z"
   },
   {
    "duration": 15,
    "start_time": "2025-06-16T14:51:22.267Z"
   },
   {
    "duration": 60,
    "start_time": "2025-06-16T14:51:22.284Z"
   },
   {
    "duration": 31,
    "start_time": "2025-06-16T14:51:22.347Z"
   },
   {
    "duration": 162,
    "start_time": "2025-06-16T14:51:22.380Z"
   },
   {
    "duration": 26,
    "start_time": "2025-06-16T14:51:22.544Z"
   },
   {
    "duration": 41,
    "start_time": "2025-06-16T14:51:22.572Z"
   },
   {
    "duration": 26,
    "start_time": "2025-06-16T14:51:22.636Z"
   },
   {
    "duration": 122,
    "start_time": "2025-06-16T14:51:22.664Z"
   },
   {
    "duration": 88,
    "start_time": "2025-06-16T14:51:22.788Z"
   },
   {
    "duration": 23,
    "start_time": "2025-06-16T14:51:22.879Z"
   },
   {
    "duration": 6,
    "start_time": "2025-06-16T14:51:22.904Z"
   },
   {
    "duration": 47,
    "start_time": "2025-06-16T14:51:22.912Z"
   },
   {
    "duration": 20,
    "start_time": "2025-06-16T14:51:22.961Z"
   },
   {
    "duration": 13,
    "start_time": "2025-06-16T14:51:22.983Z"
   },
   {
    "duration": 53,
    "start_time": "2025-06-16T14:51:22.998Z"
   },
   {
    "duration": 11,
    "start_time": "2025-06-16T14:51:23.053Z"
   },
   {
    "duration": 46,
    "start_time": "2025-06-16T14:51:23.066Z"
   },
   {
    "duration": 2739,
    "start_time": "2025-06-16T14:51:23.136Z"
   },
   {
    "duration": 43,
    "start_time": "2025-06-16T14:51:25.877Z"
   },
   {
    "duration": 171,
    "start_time": "2025-06-16T14:51:25.922Z"
   },
   {
    "duration": 98,
    "start_time": "2025-06-16T14:51:26.095Z"
   },
   {
    "duration": 45,
    "start_time": "2025-06-16T14:51:26.195Z"
   },
   {
    "duration": 123,
    "start_time": "2025-06-16T16:46:47.039Z"
   },
   {
    "duration": 94,
    "start_time": "2025-06-16T16:46:56.060Z"
   },
   {
    "duration": 111,
    "start_time": "2025-06-16T16:49:50.226Z"
   },
   {
    "duration": 82,
    "start_time": "2025-06-16T16:50:36.477Z"
   },
   {
    "duration": 25,
    "start_time": "2025-06-16T16:50:46.961Z"
   },
   {
    "duration": 75,
    "start_time": "2025-06-16T16:55:05.724Z"
   },
   {
    "duration": 70,
    "start_time": "2025-06-16T16:55:25.747Z"
   },
   {
    "duration": 721,
    "start_time": "2025-06-16T16:58:37.662Z"
   },
   {
    "duration": 52,
    "start_time": "2025-06-16T17:20:26.278Z"
   },
   {
    "duration": 111,
    "start_time": "2025-06-16T17:20:59.706Z"
   },
   {
    "duration": 100,
    "start_time": "2025-06-16T17:25:30.998Z"
   },
   {
    "duration": 71,
    "start_time": "2025-06-16T17:25:31.718Z"
   },
   {
    "duration": 21,
    "start_time": "2025-06-16T17:27:46.025Z"
   },
   {
    "duration": 66,
    "start_time": "2025-06-16T17:28:03.449Z"
   },
   {
    "duration": 60,
    "start_time": "2025-06-16T17:43:01.876Z"
   },
   {
    "duration": 53,
    "start_time": "2025-06-16T17:43:52.501Z"
   },
   {
    "duration": 3740,
    "start_time": "2025-06-16T17:44:26.016Z"
   },
   {
    "duration": 1849,
    "start_time": "2025-06-16T17:44:29.759Z"
   },
   {
    "duration": 7,
    "start_time": "2025-06-16T17:44:31.609Z"
   },
   {
    "duration": 28,
    "start_time": "2025-06-16T17:44:31.617Z"
   },
   {
    "duration": 14,
    "start_time": "2025-06-16T17:44:31.647Z"
   },
   {
    "duration": 28,
    "start_time": "2025-06-16T17:44:31.663Z"
   },
   {
    "duration": 56,
    "start_time": "2025-06-16T17:44:31.693Z"
   },
   {
    "duration": 421,
    "start_time": "2025-06-16T17:44:31.750Z"
   },
   {
    "duration": 4,
    "start_time": "2025-06-16T17:44:32.173Z"
   },
   {
    "duration": 397,
    "start_time": "2025-06-16T17:44:32.179Z"
   },
   {
    "duration": 4,
    "start_time": "2025-06-16T17:44:32.578Z"
   },
   {
    "duration": 36,
    "start_time": "2025-06-16T17:44:32.584Z"
   },
   {
    "duration": 13,
    "start_time": "2025-06-16T17:44:32.622Z"
   },
   {
    "duration": 23,
    "start_time": "2025-06-16T17:44:32.637Z"
   },
   {
    "duration": 121,
    "start_time": "2025-06-16T17:44:32.662Z"
   },
   {
    "duration": 9,
    "start_time": "2025-06-16T17:44:32.784Z"
   },
   {
    "duration": 64,
    "start_time": "2025-06-16T17:44:32.795Z"
   },
   {
    "duration": 28,
    "start_time": "2025-06-16T17:44:32.861Z"
   },
   {
    "duration": 42,
    "start_time": "2025-06-16T17:44:32.891Z"
   },
   {
    "duration": 11,
    "start_time": "2025-06-16T17:44:32.934Z"
   },
   {
    "duration": 49,
    "start_time": "2025-06-16T17:44:32.946Z"
   },
   {
    "duration": 14,
    "start_time": "2025-06-16T17:44:32.997Z"
   },
   {
    "duration": 10,
    "start_time": "2025-06-16T17:44:33.013Z"
   },
   {
    "duration": 116,
    "start_time": "2025-06-16T17:44:33.024Z"
   },
   {
    "duration": 110,
    "start_time": "2025-06-16T17:44:33.142Z"
   },
   {
    "duration": 3428,
    "start_time": "2025-06-16T17:44:33.253Z"
   },
   {
    "duration": 50,
    "start_time": "2025-06-16T17:44:36.683Z"
   },
   {
    "duration": 73,
    "start_time": "2025-06-16T17:44:36.737Z"
   },
   {
    "duration": 17,
    "start_time": "2025-06-16T17:44:36.812Z"
   },
   {
    "duration": 44,
    "start_time": "2025-06-16T17:44:36.830Z"
   },
   {
    "duration": 82,
    "start_time": "2025-06-16T17:44:36.876Z"
   },
   {
    "duration": 42,
    "start_time": "2025-06-16T17:44:36.960Z"
   },
   {
    "duration": 168,
    "start_time": "2025-06-16T17:44:37.004Z"
   },
   {
    "duration": 5,
    "start_time": "2025-06-16T17:44:37.174Z"
   },
   {
    "duration": 18,
    "start_time": "2025-06-16T17:44:37.181Z"
   },
   {
    "duration": 36,
    "start_time": "2025-06-16T17:44:37.201Z"
   },
   {
    "duration": 12,
    "start_time": "2025-06-16T17:44:37.239Z"
   },
   {
    "duration": 65,
    "start_time": "2025-06-16T17:44:37.253Z"
   },
   {
    "duration": 27,
    "start_time": "2025-06-16T17:44:37.320Z"
   },
   {
    "duration": 53,
    "start_time": "2025-06-16T17:44:37.349Z"
   },
   {
    "duration": 5,
    "start_time": "2025-06-16T17:44:37.404Z"
   },
   {
    "duration": 21,
    "start_time": "2025-06-16T17:44:37.411Z"
   },
   {
    "duration": 12,
    "start_time": "2025-06-16T17:44:37.434Z"
   },
   {
    "duration": 33,
    "start_time": "2025-06-16T17:44:37.448Z"
   },
   {
    "duration": 467,
    "start_time": "2025-06-16T17:44:37.483Z"
   },
   {
    "duration": 306,
    "start_time": "2025-06-16T17:44:37.952Z"
   },
   {
    "duration": 18,
    "start_time": "2025-06-16T17:44:38.260Z"
   },
   {
    "duration": 127,
    "start_time": "2025-06-16T17:44:38.279Z"
   },
   {
    "duration": 41,
    "start_time": "2025-06-16T17:44:38.408Z"
   },
   {
    "duration": 12,
    "start_time": "2025-06-16T17:44:38.450Z"
   },
   {
    "duration": 40,
    "start_time": "2025-06-16T17:44:38.463Z"
   },
   {
    "duration": 106,
    "start_time": "2025-06-16T17:44:38.505Z"
   },
   {
    "duration": 147,
    "start_time": "2025-06-16T17:44:38.613Z"
   },
   {
    "duration": 24,
    "start_time": "2025-06-16T17:44:38.762Z"
   },
   {
    "duration": 57,
    "start_time": "2025-06-16T17:44:38.788Z"
   },
   {
    "duration": 26,
    "start_time": "2025-06-16T17:44:38.847Z"
   },
   {
    "duration": 131,
    "start_time": "2025-06-16T17:44:38.874Z"
   },
   {
    "duration": 95,
    "start_time": "2025-06-16T17:44:39.007Z"
   },
   {
    "duration": 33,
    "start_time": "2025-06-16T17:44:39.104Z"
   },
   {
    "duration": 62,
    "start_time": "2025-06-16T17:44:39.138Z"
   },
   {
    "duration": 154,
    "start_time": "2025-06-16T17:44:39.202Z"
   },
   {
    "duration": 22,
    "start_time": "2025-06-16T17:44:39.357Z"
   },
   {
    "duration": 30,
    "start_time": "2025-06-16T17:44:39.381Z"
   },
   {
    "duration": 26,
    "start_time": "2025-06-16T17:44:39.412Z"
   },
   {
    "duration": 11,
    "start_time": "2025-06-16T17:44:39.440Z"
   },
   {
    "duration": 51,
    "start_time": "2025-06-16T17:44:39.452Z"
   },
   {
    "duration": 2655,
    "start_time": "2025-06-16T17:44:39.504Z"
   },
   {
    "duration": 34,
    "start_time": "2025-06-16T17:44:42.161Z"
   },
   {
    "duration": 141,
    "start_time": "2025-06-16T17:44:42.197Z"
   },
   {
    "duration": 98,
    "start_time": "2025-06-16T17:44:42.339Z"
   },
   {
    "duration": 22,
    "start_time": "2025-06-16T17:44:42.439Z"
   },
   {
    "duration": 147,
    "start_time": "2025-06-16T17:44:42.463Z"
   },
   {
    "duration": 79,
    "start_time": "2025-06-16T17:44:42.612Z"
   },
   {
    "duration": 10,
    "start_time": "2025-06-16T17:46:22.095Z"
   },
   {
    "duration": 10,
    "start_time": "2025-06-16T18:01:51.164Z"
   },
   {
    "duration": 207,
    "start_time": "2025-06-16T18:01:53.731Z"
   },
   {
    "duration": 115,
    "start_time": "2025-06-16T18:03:33.078Z"
   },
   {
    "duration": 236,
    "start_time": "2025-06-16T18:03:50.244Z"
   },
   {
    "duration": 159,
    "start_time": "2025-06-16T18:04:25.815Z"
   },
   {
    "duration": 200,
    "start_time": "2025-06-16T18:06:01.960Z"
   },
   {
    "duration": 10,
    "start_time": "2025-06-16T18:23:39.275Z"
   },
   {
    "duration": 3,
    "start_time": "2025-06-16T18:26:57.216Z"
   },
   {
    "duration": 3,
    "start_time": "2025-06-16T18:27:10.877Z"
   },
   {
    "duration": 4,
    "start_time": "2025-06-16T18:31:33.961Z"
   },
   {
    "duration": 11,
    "start_time": "2025-06-16T18:31:34.344Z"
   },
   {
    "duration": 3,
    "start_time": "2025-06-16T18:32:30.322Z"
   },
   {
    "duration": 4,
    "start_time": "2025-06-16T18:32:30.979Z"
   },
   {
    "duration": 4,
    "start_time": "2025-06-16T18:33:08.174Z"
   },
   {
    "duration": 4,
    "start_time": "2025-06-16T18:35:22.656Z"
   },
   {
    "duration": 5321,
    "start_time": "2025-06-17T07:10:34.607Z"
   },
   {
    "duration": 2004,
    "start_time": "2025-06-17T07:10:39.930Z"
   },
   {
    "duration": 6,
    "start_time": "2025-06-17T07:10:41.936Z"
   },
   {
    "duration": 8,
    "start_time": "2025-06-17T07:10:41.943Z"
   },
   {
    "duration": 5,
    "start_time": "2025-06-17T07:10:41.959Z"
   },
   {
    "duration": 8,
    "start_time": "2025-06-17T07:10:41.966Z"
   },
   {
    "duration": 5,
    "start_time": "2025-06-17T07:10:41.976Z"
   },
   {
    "duration": 419,
    "start_time": "2025-06-17T07:10:41.983Z"
   },
   {
    "duration": 4,
    "start_time": "2025-06-17T07:10:42.404Z"
   },
   {
    "duration": 384,
    "start_time": "2025-06-17T07:10:42.409Z"
   },
   {
    "duration": 4,
    "start_time": "2025-06-17T07:10:42.795Z"
   },
   {
    "duration": 13,
    "start_time": "2025-06-17T07:10:42.801Z"
   },
   {
    "duration": 13,
    "start_time": "2025-06-17T07:10:42.815Z"
   },
   {
    "duration": 51,
    "start_time": "2025-06-17T07:10:42.831Z"
   },
   {
    "duration": 112,
    "start_time": "2025-06-17T07:10:42.884Z"
   },
   {
    "duration": 8,
    "start_time": "2025-06-17T07:10:42.998Z"
   },
   {
    "duration": 60,
    "start_time": "2025-06-17T07:10:43.008Z"
   },
   {
    "duration": 8,
    "start_time": "2025-06-17T07:10:43.070Z"
   },
   {
    "duration": 23,
    "start_time": "2025-06-17T07:10:43.080Z"
   },
   {
    "duration": 9,
    "start_time": "2025-06-17T07:10:43.105Z"
   },
   {
    "duration": 263,
    "start_time": "2025-06-17T07:10:43.116Z"
   },
   {
    "duration": 15,
    "start_time": "2025-06-17T07:10:43.381Z"
   },
   {
    "duration": 10,
    "start_time": "2025-06-17T07:10:43.398Z"
   },
   {
    "duration": 114,
    "start_time": "2025-06-17T07:10:43.410Z"
   },
   {
    "duration": 118,
    "start_time": "2025-06-17T07:10:43.526Z"
   },
   {
    "duration": 4174,
    "start_time": "2025-06-17T07:10:43.647Z"
   },
   {
    "duration": 49,
    "start_time": "2025-06-17T07:10:47.823Z"
   },
   {
    "duration": 47,
    "start_time": "2025-06-17T07:10:47.873Z"
   },
   {
    "duration": 17,
    "start_time": "2025-06-17T07:10:47.922Z"
   },
   {
    "duration": 31,
    "start_time": "2025-06-17T07:10:47.941Z"
   },
   {
    "duration": 31,
    "start_time": "2025-06-17T07:10:47.974Z"
   },
   {
    "duration": 22,
    "start_time": "2025-06-17T07:10:48.007Z"
   },
   {
    "duration": 206,
    "start_time": "2025-06-17T07:10:48.030Z"
   },
   {
    "duration": 5,
    "start_time": "2025-06-17T07:10:48.238Z"
   },
   {
    "duration": 23,
    "start_time": "2025-06-17T07:10:48.245Z"
   },
   {
    "duration": 9,
    "start_time": "2025-06-17T07:10:48.270Z"
   },
   {
    "duration": 10,
    "start_time": "2025-06-17T07:10:48.281Z"
   },
   {
    "duration": 12,
    "start_time": "2025-06-17T07:10:48.292Z"
   },
   {
    "duration": 18,
    "start_time": "2025-06-17T07:10:48.306Z"
   },
   {
    "duration": 47,
    "start_time": "2025-06-17T07:10:48.326Z"
   },
   {
    "duration": 4,
    "start_time": "2025-06-17T07:10:48.378Z"
   },
   {
    "duration": 5,
    "start_time": "2025-06-17T07:10:48.384Z"
   },
   {
    "duration": 19,
    "start_time": "2025-06-17T07:10:48.391Z"
   },
   {
    "duration": 88,
    "start_time": "2025-06-17T07:10:48.412Z"
   },
   {
    "duration": 530,
    "start_time": "2025-06-17T07:10:48.501Z"
   },
   {
    "duration": 307,
    "start_time": "2025-06-17T07:10:49.032Z"
   },
   {
    "duration": 25,
    "start_time": "2025-06-17T07:10:49.341Z"
   },
   {
    "duration": 32,
    "start_time": "2025-06-17T07:10:49.368Z"
   },
   {
    "duration": 34,
    "start_time": "2025-06-17T07:10:49.401Z"
   },
   {
    "duration": 26,
    "start_time": "2025-06-17T07:10:49.436Z"
   },
   {
    "duration": 44,
    "start_time": "2025-06-17T07:10:49.464Z"
   },
   {
    "duration": 33,
    "start_time": "2025-06-17T07:10:49.509Z"
   },
   {
    "duration": 191,
    "start_time": "2025-06-17T07:10:49.544Z"
   },
   {
    "duration": 35,
    "start_time": "2025-06-17T07:10:49.736Z"
   },
   {
    "duration": 44,
    "start_time": "2025-06-17T07:10:49.773Z"
   },
   {
    "duration": 43,
    "start_time": "2025-06-17T07:10:49.819Z"
   },
   {
    "duration": 123,
    "start_time": "2025-06-17T07:10:49.863Z"
   },
   {
    "duration": 92,
    "start_time": "2025-06-17T07:10:49.987Z"
   },
   {
    "duration": 26,
    "start_time": "2025-06-17T07:10:50.081Z"
   },
   {
    "duration": 6,
    "start_time": "2025-06-17T07:10:50.109Z"
   },
   {
    "duration": 19,
    "start_time": "2025-06-17T07:10:50.116Z"
   },
   {
    "duration": 41,
    "start_time": "2025-06-17T07:10:50.137Z"
   },
   {
    "duration": 12,
    "start_time": "2025-06-17T07:10:50.179Z"
   },
   {
    "duration": 28,
    "start_time": "2025-06-17T07:10:50.193Z"
   },
   {
    "duration": 40,
    "start_time": "2025-06-17T07:10:50.223Z"
   },
   {
    "duration": 81,
    "start_time": "2025-06-17T07:10:50.265Z"
   },
   {
    "duration": 8864,
    "start_time": "2025-06-17T07:10:50.348Z"
   },
   {
    "duration": 48,
    "start_time": "2025-06-17T07:10:59.214Z"
   },
   {
    "duration": 233,
    "start_time": "2025-06-17T07:10:59.263Z"
   },
   {
    "duration": 16,
    "start_time": "2025-06-17T07:10:59.498Z"
   },
   {
    "duration": 27,
    "start_time": "2025-06-17T07:10:59.516Z"
   },
   {
    "duration": 105,
    "start_time": "2025-06-17T07:10:59.561Z"
   },
   {
    "duration": 25,
    "start_time": "2025-06-17T07:10:59.667Z"
   },
   {
    "duration": 145,
    "start_time": "2025-06-17T07:10:59.694Z"
   },
   {
    "duration": 0,
    "start_time": "2025-06-17T07:10:59.841Z"
   },
   {
    "duration": 0,
    "start_time": "2025-06-17T07:10:59.842Z"
   },
   {
    "duration": 0,
    "start_time": "2025-06-17T07:10:59.843Z"
   },
   {
    "duration": 0,
    "start_time": "2025-06-17T07:10:59.844Z"
   },
   {
    "duration": 0,
    "start_time": "2025-06-17T07:10:59.845Z"
   },
   {
    "duration": 0,
    "start_time": "2025-06-17T07:10:59.847Z"
   },
   {
    "duration": 0,
    "start_time": "2025-06-17T07:10:59.848Z"
   },
   {
    "duration": 0,
    "start_time": "2025-06-17T07:10:59.861Z"
   },
   {
    "duration": 36,
    "start_time": "2025-06-17T08:09:09.588Z"
   },
   {
    "duration": 218,
    "start_time": "2025-06-17T08:09:15.411Z"
   },
   {
    "duration": 17,
    "start_time": "2025-06-17T08:09:21.383Z"
   },
   {
    "duration": 26,
    "start_time": "2025-06-17T08:09:23.726Z"
   },
   {
    "duration": 34,
    "start_time": "2025-06-17T08:09:54.496Z"
   },
   {
    "duration": 231,
    "start_time": "2025-06-17T08:09:57.548Z"
   },
   {
    "duration": 18,
    "start_time": "2025-06-17T08:10:04.816Z"
   },
   {
    "duration": 28,
    "start_time": "2025-06-17T08:10:07.176Z"
   },
   {
    "duration": 62,
    "start_time": "2025-06-17T08:10:14.196Z"
   },
   {
    "duration": 116,
    "start_time": "2025-06-17T08:10:27.575Z"
   },
   {
    "duration": 111,
    "start_time": "2025-06-17T08:13:10.584Z"
   },
   {
    "duration": 73,
    "start_time": "2025-06-17T08:13:11.967Z"
   },
   {
    "duration": 11,
    "start_time": "2025-06-17T08:15:03.351Z"
   },
   {
    "duration": 216,
    "start_time": "2025-06-17T08:15:04.184Z"
   },
   {
    "duration": 1305,
    "start_time": "2025-06-17T08:19:03.056Z"
   },
   {
    "duration": 62,
    "start_time": "2025-06-17T08:19:27.288Z"
   },
   {
    "duration": 1116,
    "start_time": "2025-06-17T08:21:07.995Z"
   },
   {
    "duration": 4426,
    "start_time": "2025-06-17T13:49:48.887Z"
   },
   {
    "duration": 2120,
    "start_time": "2025-06-17T13:49:53.316Z"
   },
   {
    "duration": 6,
    "start_time": "2025-06-17T13:49:55.438Z"
   },
   {
    "duration": 65,
    "start_time": "2025-06-17T13:49:55.446Z"
   },
   {
    "duration": 65,
    "start_time": "2025-06-17T13:49:55.512Z"
   },
   {
    "duration": 20,
    "start_time": "2025-06-17T13:49:55.579Z"
   },
   {
    "duration": 34,
    "start_time": "2025-06-17T13:49:55.601Z"
   },
   {
    "duration": 378,
    "start_time": "2025-06-17T13:49:55.637Z"
   },
   {
    "duration": 4,
    "start_time": "2025-06-17T13:49:56.016Z"
   },
   {
    "duration": 342,
    "start_time": "2025-06-17T13:49:56.035Z"
   },
   {
    "duration": 4,
    "start_time": "2025-06-17T13:49:56.378Z"
   },
   {
    "duration": 65,
    "start_time": "2025-06-17T13:49:56.384Z"
   },
   {
    "duration": 18,
    "start_time": "2025-06-17T13:49:56.459Z"
   },
   {
    "duration": 35,
    "start_time": "2025-06-17T13:49:56.479Z"
   },
   {
    "duration": 189,
    "start_time": "2025-06-17T13:49:56.517Z"
   },
   {
    "duration": 9,
    "start_time": "2025-06-17T13:49:56.708Z"
   },
   {
    "duration": 110,
    "start_time": "2025-06-17T13:49:56.718Z"
   },
   {
    "duration": 7,
    "start_time": "2025-06-17T13:49:56.829Z"
   },
   {
    "duration": 20,
    "start_time": "2025-06-17T13:49:56.838Z"
   },
   {
    "duration": 7,
    "start_time": "2025-06-17T13:49:56.860Z"
   },
   {
    "duration": 24,
    "start_time": "2025-06-17T13:49:56.869Z"
   },
   {
    "duration": 6,
    "start_time": "2025-06-17T13:49:56.895Z"
   },
   {
    "duration": 9,
    "start_time": "2025-06-17T13:49:56.902Z"
   },
   {
    "duration": 100,
    "start_time": "2025-06-17T13:49:56.936Z"
   },
   {
    "duration": 105,
    "start_time": "2025-06-17T13:49:57.037Z"
   },
   {
    "duration": 3625,
    "start_time": "2025-06-17T13:49:57.143Z"
   },
   {
    "duration": 44,
    "start_time": "2025-06-17T13:50:00.770Z"
   },
   {
    "duration": 39,
    "start_time": "2025-06-17T13:50:00.817Z"
   },
   {
    "duration": 16,
    "start_time": "2025-06-17T13:50:00.857Z"
   },
   {
    "duration": 26,
    "start_time": "2025-06-17T13:50:00.874Z"
   },
   {
    "duration": 44,
    "start_time": "2025-06-17T13:50:00.901Z"
   },
   {
    "duration": 29,
    "start_time": "2025-06-17T13:50:00.948Z"
   },
   {
    "duration": 193,
    "start_time": "2025-06-17T13:50:00.979Z"
   },
   {
    "duration": 6,
    "start_time": "2025-06-17T13:50:01.174Z"
   },
   {
    "duration": 23,
    "start_time": "2025-06-17T13:50:01.181Z"
   },
   {
    "duration": 9,
    "start_time": "2025-06-17T13:50:01.206Z"
   },
   {
    "duration": 28,
    "start_time": "2025-06-17T13:50:01.217Z"
   },
   {
    "duration": 30,
    "start_time": "2025-06-17T13:50:01.247Z"
   },
   {
    "duration": 39,
    "start_time": "2025-06-17T13:50:01.279Z"
   },
   {
    "duration": 58,
    "start_time": "2025-06-17T13:50:01.320Z"
   },
   {
    "duration": 4,
    "start_time": "2025-06-17T13:50:01.380Z"
   },
   {
    "duration": 24,
    "start_time": "2025-06-17T13:50:01.386Z"
   },
   {
    "duration": 6,
    "start_time": "2025-06-17T13:50:01.412Z"
   },
   {
    "duration": 50,
    "start_time": "2025-06-17T13:50:01.419Z"
   },
   {
    "duration": 487,
    "start_time": "2025-06-17T13:50:01.470Z"
   },
   {
    "duration": 330,
    "start_time": "2025-06-17T13:50:01.959Z"
   },
   {
    "duration": 17,
    "start_time": "2025-06-17T13:50:02.290Z"
   },
   {
    "duration": 29,
    "start_time": "2025-06-17T13:50:02.309Z"
   },
   {
    "duration": 41,
    "start_time": "2025-06-17T13:50:02.340Z"
   },
   {
    "duration": 104,
    "start_time": "2025-06-17T13:50:02.382Z"
   },
   {
    "duration": 51,
    "start_time": "2025-06-17T13:50:02.488Z"
   },
   {
    "duration": 148,
    "start_time": "2025-06-17T13:50:02.541Z"
   },
   {
    "duration": 149,
    "start_time": "2025-06-17T13:50:02.691Z"
   },
   {
    "duration": 74,
    "start_time": "2025-06-17T13:50:02.843Z"
   },
   {
    "duration": 58,
    "start_time": "2025-06-17T13:50:02.919Z"
   },
   {
    "duration": 33,
    "start_time": "2025-06-17T13:50:02.979Z"
   },
   {
    "duration": 116,
    "start_time": "2025-06-17T13:50:03.014Z"
   },
   {
    "duration": 90,
    "start_time": "2025-06-17T13:50:03.134Z"
   },
   {
    "duration": 28,
    "start_time": "2025-06-17T13:50:03.236Z"
   },
   {
    "duration": 7,
    "start_time": "2025-06-17T13:50:03.266Z"
   },
   {
    "duration": 38,
    "start_time": "2025-06-17T13:50:03.275Z"
   },
   {
    "duration": 38,
    "start_time": "2025-06-17T13:50:03.314Z"
   },
   {
    "duration": 15,
    "start_time": "2025-06-17T13:50:03.353Z"
   },
   {
    "duration": 56,
    "start_time": "2025-06-17T13:50:03.369Z"
   },
   {
    "duration": 30,
    "start_time": "2025-06-17T13:50:03.427Z"
   },
   {
    "duration": 183,
    "start_time": "2025-06-17T13:50:03.459Z"
   },
   {
    "duration": 8463,
    "start_time": "2025-06-17T13:50:03.643Z"
   },
   {
    "duration": 49,
    "start_time": "2025-06-17T13:50:12.108Z"
   },
   {
    "duration": 230,
    "start_time": "2025-06-17T13:50:12.158Z"
   },
   {
    "duration": 115,
    "start_time": "2025-06-17T13:50:12.390Z"
   },
   {
    "duration": 30,
    "start_time": "2025-06-17T13:50:12.507Z"
   },
   {
    "duration": 177,
    "start_time": "2025-06-17T13:50:12.539Z"
   },
   {
    "duration": 74,
    "start_time": "2025-06-17T13:50:12.718Z"
   },
   {
    "duration": 10,
    "start_time": "2025-06-17T13:50:12.794Z"
   },
   {
    "duration": 205,
    "start_time": "2025-06-17T13:50:12.806Z"
   },
   {
    "duration": 53,
    "start_time": "2025-06-17T13:50:34.004Z"
   },
   {
    "duration": 8,
    "start_time": "2025-06-17T13:50:48.416Z"
   },
   {
    "duration": 3840,
    "start_time": "2025-06-17T13:58:34.727Z"
   },
   {
    "duration": 2598,
    "start_time": "2025-06-17T13:58:38.570Z"
   },
   {
    "duration": 6,
    "start_time": "2025-06-17T13:58:41.169Z"
   },
   {
    "duration": 4,
    "start_time": "2025-06-17T13:58:41.177Z"
   },
   {
    "duration": 4,
    "start_time": "2025-06-17T13:58:41.182Z"
   },
   {
    "duration": 4,
    "start_time": "2025-06-17T13:58:41.187Z"
   },
   {
    "duration": 4,
    "start_time": "2025-06-17T13:58:41.192Z"
   },
   {
    "duration": 433,
    "start_time": "2025-06-17T13:58:41.197Z"
   },
   {
    "duration": 5,
    "start_time": "2025-06-17T13:58:41.635Z"
   },
   {
    "duration": 390,
    "start_time": "2025-06-17T13:58:41.645Z"
   },
   {
    "duration": 5,
    "start_time": "2025-06-17T13:58:42.041Z"
   },
   {
    "duration": 12,
    "start_time": "2025-06-17T13:58:42.048Z"
   },
   {
    "duration": 13,
    "start_time": "2025-06-17T13:58:42.061Z"
   },
   {
    "duration": 23,
    "start_time": "2025-06-17T13:58:42.075Z"
   },
   {
    "duration": 146,
    "start_time": "2025-06-17T13:58:42.099Z"
   },
   {
    "duration": 10,
    "start_time": "2025-06-17T13:58:42.247Z"
   },
   {
    "duration": 36,
    "start_time": "2025-06-17T13:58:42.258Z"
   },
   {
    "duration": 7,
    "start_time": "2025-06-17T13:58:42.295Z"
   },
   {
    "duration": 55,
    "start_time": "2025-06-17T13:58:42.303Z"
   },
   {
    "duration": 8,
    "start_time": "2025-06-17T13:58:42.360Z"
   },
   {
    "duration": 23,
    "start_time": "2025-06-17T13:58:42.369Z"
   },
   {
    "duration": 82,
    "start_time": "2025-06-17T13:58:42.393Z"
   },
   {
    "duration": 6,
    "start_time": "2025-06-17T13:58:42.477Z"
   },
   {
    "duration": 106,
    "start_time": "2025-06-17T13:58:42.484Z"
   },
   {
    "duration": 108,
    "start_time": "2025-06-17T13:58:42.592Z"
   },
   {
    "duration": 3271,
    "start_time": "2025-06-17T13:58:42.701Z"
   },
   {
    "duration": 44,
    "start_time": "2025-06-17T13:58:45.973Z"
   },
   {
    "duration": 39,
    "start_time": "2025-06-17T13:58:46.021Z"
   },
   {
    "duration": 15,
    "start_time": "2025-06-17T13:58:46.062Z"
   },
   {
    "duration": 14,
    "start_time": "2025-06-17T13:58:46.078Z"
   },
   {
    "duration": 44,
    "start_time": "2025-06-17T13:58:46.093Z"
   },
   {
    "duration": 21,
    "start_time": "2025-06-17T13:58:46.140Z"
   },
   {
    "duration": 156,
    "start_time": "2025-06-17T13:58:46.163Z"
   },
   {
    "duration": 5,
    "start_time": "2025-06-17T13:58:46.321Z"
   },
   {
    "duration": 10,
    "start_time": "2025-06-17T13:58:46.327Z"
   },
   {
    "duration": 5,
    "start_time": "2025-06-17T13:58:46.339Z"
   },
   {
    "duration": 5,
    "start_time": "2025-06-17T13:58:46.346Z"
   },
   {
    "duration": 5,
    "start_time": "2025-06-17T13:58:46.353Z"
   },
   {
    "duration": 7,
    "start_time": "2025-06-17T13:58:46.360Z"
   },
   {
    "duration": 84,
    "start_time": "2025-06-17T13:58:46.369Z"
   },
   {
    "duration": 7,
    "start_time": "2025-06-17T13:58:46.456Z"
   },
   {
    "duration": 25,
    "start_time": "2025-06-17T13:58:46.464Z"
   },
   {
    "duration": 7,
    "start_time": "2025-06-17T13:58:46.491Z"
   },
   {
    "duration": 41,
    "start_time": "2025-06-17T13:58:46.501Z"
   },
   {
    "duration": 490,
    "start_time": "2025-06-17T13:58:46.545Z"
   },
   {
    "duration": 329,
    "start_time": "2025-06-17T13:58:47.038Z"
   },
   {
    "duration": 15,
    "start_time": "2025-06-17T13:58:47.369Z"
   },
   {
    "duration": 25,
    "start_time": "2025-06-17T13:58:47.385Z"
   },
   {
    "duration": 52,
    "start_time": "2025-06-17T13:58:47.411Z"
   },
   {
    "duration": 12,
    "start_time": "2025-06-17T13:58:47.465Z"
   },
   {
    "duration": 110,
    "start_time": "2025-06-17T13:58:47.478Z"
   },
   {
    "duration": 27,
    "start_time": "2025-06-17T13:58:47.589Z"
   },
   {
    "duration": 139,
    "start_time": "2025-06-17T13:58:47.617Z"
   },
   {
    "duration": 23,
    "start_time": "2025-06-17T13:58:47.757Z"
   },
   {
    "duration": 36,
    "start_time": "2025-06-17T13:58:47.781Z"
   },
   {
    "duration": 41,
    "start_time": "2025-06-17T13:58:47.818Z"
   },
   {
    "duration": 115,
    "start_time": "2025-06-17T13:58:47.861Z"
   },
   {
    "duration": 84,
    "start_time": "2025-06-17T13:58:47.977Z"
   },
   {
    "duration": 20,
    "start_time": "2025-06-17T13:58:48.063Z"
   },
   {
    "duration": 4,
    "start_time": "2025-06-17T13:58:48.085Z"
   },
   {
    "duration": 21,
    "start_time": "2025-06-17T13:58:48.091Z"
   },
   {
    "duration": 36,
    "start_time": "2025-06-17T13:58:48.113Z"
   },
   {
    "duration": 20,
    "start_time": "2025-06-17T13:58:48.151Z"
   },
   {
    "duration": 93,
    "start_time": "2025-06-17T13:58:48.173Z"
   },
   {
    "duration": 34,
    "start_time": "2025-06-17T13:58:48.268Z"
   },
   {
    "duration": 59,
    "start_time": "2025-06-17T13:58:48.303Z"
   },
   {
    "duration": 2644,
    "start_time": "2025-06-17T13:58:48.363Z"
   },
   {
    "duration": 46,
    "start_time": "2025-06-17T13:58:51.008Z"
   },
   {
    "duration": 140,
    "start_time": "2025-06-17T13:58:51.056Z"
   },
   {
    "duration": 109,
    "start_time": "2025-06-17T13:58:51.197Z"
   },
   {
    "duration": 35,
    "start_time": "2025-06-17T13:58:51.308Z"
   },
   {
    "duration": 130,
    "start_time": "2025-06-17T13:58:51.345Z"
   },
   {
    "duration": 88,
    "start_time": "2025-06-17T13:58:51.477Z"
   },
   {
    "duration": 9,
    "start_time": "2025-06-17T13:58:51.566Z"
   },
   {
    "duration": 236,
    "start_time": "2025-06-17T13:58:51.577Z"
   },
   {
    "duration": 71,
    "start_time": "2025-06-17T13:58:51.815Z"
   },
   {
    "duration": 9,
    "start_time": "2025-06-17T13:58:51.888Z"
   },
   {
    "duration": 5,
    "start_time": "2025-06-17T13:58:51.898Z"
   },
   {
    "duration": 3,
    "start_time": "2025-06-17T14:07:40.719Z"
   },
   {
    "duration": 8,
    "start_time": "2025-06-17T14:07:41.137Z"
   },
   {
    "duration": 5,
    "start_time": "2025-06-17T14:30:44.830Z"
   },
   {
    "duration": 34,
    "start_time": "2025-06-17T14:38:52.991Z"
   },
   {
    "duration": 8,
    "start_time": "2025-06-17T14:39:04.659Z"
   },
   {
    "duration": 5,
    "start_time": "2025-06-17T14:39:06.541Z"
   },
   {
    "duration": 5,
    "start_time": "2025-06-17T14:39:09.132Z"
   },
   {
    "duration": 9,
    "start_time": "2025-06-17T14:39:11.447Z"
   },
   {
    "duration": 78,
    "start_time": "2025-06-17T15:00:32.713Z"
   },
   {
    "duration": 81,
    "start_time": "2025-06-17T15:01:04.805Z"
   },
   {
    "duration": 76,
    "start_time": "2025-06-17T15:04:58.704Z"
   },
   {
    "duration": 114,
    "start_time": "2025-06-17T15:09:34.289Z"
   },
   {
    "duration": 145,
    "start_time": "2025-06-17T15:09:41.436Z"
   },
   {
    "duration": 216,
    "start_time": "2025-06-17T15:10:12.099Z"
   },
   {
    "duration": 129,
    "start_time": "2025-06-17T15:10:19.927Z"
   },
   {
    "duration": 117,
    "start_time": "2025-06-17T15:10:48.253Z"
   },
   {
    "duration": 15,
    "start_time": "2025-06-17T15:11:22.270Z"
   },
   {
    "duration": 10,
    "start_time": "2025-06-17T15:11:49.769Z"
   },
   {
    "duration": 145,
    "start_time": "2025-06-17T15:12:56.458Z"
   },
   {
    "duration": 118,
    "start_time": "2025-06-17T15:13:06.015Z"
   },
   {
    "duration": 125,
    "start_time": "2025-06-17T15:13:30.556Z"
   },
   {
    "duration": 7,
    "start_time": "2025-06-17T15:19:59.499Z"
   },
   {
    "duration": 5,
    "start_time": "2025-06-17T15:24:23.825Z"
   },
   {
    "duration": 9,
    "start_time": "2025-06-17T15:29:20.506Z"
   },
   {
    "duration": 4,
    "start_time": "2025-06-17T15:33:07.385Z"
   },
   {
    "duration": 8,
    "start_time": "2025-06-17T15:33:28.030Z"
   },
   {
    "duration": 79,
    "start_time": "2025-06-17T15:45:32.214Z"
   },
   {
    "duration": 62,
    "start_time": "2025-06-17T15:45:40.789Z"
   },
   {
    "duration": 167,
    "start_time": "2025-06-17T15:49:04.364Z"
   },
   {
    "duration": 53,
    "start_time": "2025-06-17T15:49:09.944Z"
   },
   {
    "duration": 46,
    "start_time": "2025-06-17T15:49:40.917Z"
   },
   {
    "duration": 8,
    "start_time": "2025-06-17T15:51:42.795Z"
   },
   {
    "duration": 11,
    "start_time": "2025-06-17T15:53:31.552Z"
   },
   {
    "duration": 8,
    "start_time": "2025-06-17T15:54:00.516Z"
   },
   {
    "duration": 43,
    "start_time": "2025-06-17T15:54:05.717Z"
   },
   {
    "duration": 11,
    "start_time": "2025-06-17T15:54:42.558Z"
   },
   {
    "duration": 8,
    "start_time": "2025-06-17T15:56:58.082Z"
   },
   {
    "duration": 39,
    "start_time": "2025-06-17T16:01:06.979Z"
   },
   {
    "duration": 178,
    "start_time": "2025-06-17T16:01:08.319Z"
   },
   {
    "duration": 188,
    "start_time": "2025-06-17T16:01:31.219Z"
   },
   {
    "duration": 196,
    "start_time": "2025-06-17T16:02:03.028Z"
   },
   {
    "duration": 14,
    "start_time": "2025-06-17T16:02:47.339Z"
   },
   {
    "duration": 46,
    "start_time": "2025-06-17T16:03:28.741Z"
   },
   {
    "duration": 9,
    "start_time": "2025-06-17T16:03:32.127Z"
   },
   {
    "duration": 11,
    "start_time": "2025-06-17T16:09:15.523Z"
   },
   {
    "duration": 64,
    "start_time": "2025-06-17T16:09:26.489Z"
   },
   {
    "duration": 72,
    "start_time": "2025-06-17T16:09:36.098Z"
   },
   {
    "duration": 73,
    "start_time": "2025-06-17T16:10:05.009Z"
   },
   {
    "duration": 65,
    "start_time": "2025-06-17T16:13:39.654Z"
   },
   {
    "duration": 13,
    "start_time": "2025-06-17T16:14:10.543Z"
   },
   {
    "duration": 9,
    "start_time": "2025-06-17T16:43:57.815Z"
   },
   {
    "duration": 15,
    "start_time": "2025-06-17T16:43:58.277Z"
   },
   {
    "duration": 22,
    "start_time": "2025-06-17T16:46:13.715Z"
   },
   {
    "duration": 33,
    "start_time": "2025-06-17T17:22:33.852Z"
   },
   {
    "duration": 22,
    "start_time": "2025-06-17T17:22:44.288Z"
   },
   {
    "duration": 9,
    "start_time": "2025-06-17T17:25:27.151Z"
   },
   {
    "duration": 15,
    "start_time": "2025-06-17T17:26:28.137Z"
   },
   {
    "duration": 69,
    "start_time": "2025-06-17T17:34:51.468Z"
   },
   {
    "duration": 7,
    "start_time": "2025-06-17T17:37:41.040Z"
   },
   {
    "duration": 5,
    "start_time": "2025-06-17T17:38:10.271Z"
   },
   {
    "duration": 8,
    "start_time": "2025-06-17T17:38:25.789Z"
   },
   {
    "duration": 11,
    "start_time": "2025-06-17T17:38:37.482Z"
   },
   {
    "duration": 10,
    "start_time": "2025-06-17T17:41:00.161Z"
   },
   {
    "duration": 13,
    "start_time": "2025-06-17T17:41:15.350Z"
   },
   {
    "duration": 8,
    "start_time": "2025-06-17T17:45:55.003Z"
   },
   {
    "duration": 8,
    "start_time": "2025-06-17T17:46:36.784Z"
   },
   {
    "duration": 9,
    "start_time": "2025-06-17T17:48:03.254Z"
   },
   {
    "duration": 11,
    "start_time": "2025-06-17T17:49:10.594Z"
   },
   {
    "duration": 11,
    "start_time": "2025-06-17T17:49:16.174Z"
   },
   {
    "duration": 48,
    "start_time": "2025-06-17T17:49:37.270Z"
   },
   {
    "duration": 59,
    "start_time": "2025-06-17T17:49:52.827Z"
   },
   {
    "duration": 10,
    "start_time": "2025-06-17T18:50:51.722Z"
   },
   {
    "duration": 11,
    "start_time": "2025-06-17T18:52:35.975Z"
   },
   {
    "duration": 178,
    "start_time": "2025-06-17T18:56:05.399Z"
   },
   {
    "duration": 65,
    "start_time": "2025-06-17T18:56:37.576Z"
   },
   {
    "duration": 166,
    "start_time": "2025-06-17T18:56:52.089Z"
   },
   {
    "duration": 1471,
    "start_time": "2025-06-17T18:58:53.770Z"
   },
   {
    "duration": 20,
    "start_time": "2025-06-17T18:59:04.994Z"
   },
   {
    "duration": 8,
    "start_time": "2025-06-17T19:01:53.681Z"
   },
   {
    "duration": 45,
    "start_time": "2025-06-17T19:02:00.260Z"
   },
   {
    "duration": 41,
    "start_time": "2025-06-17T19:02:21.151Z"
   },
   {
    "duration": 56,
    "start_time": "2025-06-17T19:02:34.154Z"
   },
   {
    "duration": 40,
    "start_time": "2025-06-17T19:02:42.302Z"
   },
   {
    "duration": 163,
    "start_time": "2025-06-17T19:05:20.750Z"
   },
   {
    "duration": 4953,
    "start_time": "2025-06-18T07:17:26.153Z"
   },
   {
    "duration": 2082,
    "start_time": "2025-06-18T07:17:31.109Z"
   },
   {
    "duration": 6,
    "start_time": "2025-06-18T07:17:33.193Z"
   },
   {
    "duration": 14,
    "start_time": "2025-06-18T07:17:33.200Z"
   },
   {
    "duration": 6,
    "start_time": "2025-06-18T07:17:33.216Z"
   },
   {
    "duration": 4,
    "start_time": "2025-06-18T07:17:33.223Z"
   },
   {
    "duration": 36,
    "start_time": "2025-06-18T07:17:33.229Z"
   },
   {
    "duration": 385,
    "start_time": "2025-06-18T07:17:33.266Z"
   },
   {
    "duration": 4,
    "start_time": "2025-06-18T07:17:33.653Z"
   },
   {
    "duration": 355,
    "start_time": "2025-06-18T07:17:33.658Z"
   },
   {
    "duration": 4,
    "start_time": "2025-06-18T07:17:34.015Z"
   },
   {
    "duration": 48,
    "start_time": "2025-06-18T07:17:34.021Z"
   },
   {
    "duration": 11,
    "start_time": "2025-06-18T07:17:34.071Z"
   },
   {
    "duration": 23,
    "start_time": "2025-06-18T07:17:34.085Z"
   },
   {
    "duration": 108,
    "start_time": "2025-06-18T07:17:34.110Z"
   },
   {
    "duration": 10,
    "start_time": "2025-06-18T07:17:34.219Z"
   },
   {
    "duration": 82,
    "start_time": "2025-06-18T07:17:34.230Z"
   },
   {
    "duration": 7,
    "start_time": "2025-06-18T07:17:34.314Z"
   },
   {
    "duration": 35,
    "start_time": "2025-06-18T07:17:34.322Z"
   },
   {
    "duration": 42,
    "start_time": "2025-06-18T07:17:34.360Z"
   },
   {
    "duration": 36,
    "start_time": "2025-06-18T07:17:34.404Z"
   },
   {
    "duration": 32,
    "start_time": "2025-06-18T07:17:34.442Z"
   },
   {
    "duration": 7,
    "start_time": "2025-06-18T07:17:34.476Z"
   },
   {
    "duration": 106,
    "start_time": "2025-06-18T07:17:34.484Z"
   },
   {
    "duration": 98,
    "start_time": "2025-06-18T07:17:34.592Z"
   },
   {
    "duration": 3913,
    "start_time": "2025-06-18T07:17:34.692Z"
   },
   {
    "duration": 47,
    "start_time": "2025-06-18T07:17:38.608Z"
   },
   {
    "duration": 43,
    "start_time": "2025-06-18T07:17:38.657Z"
   },
   {
    "duration": 18,
    "start_time": "2025-06-18T07:17:38.702Z"
   },
   {
    "duration": 16,
    "start_time": "2025-06-18T07:17:38.722Z"
   },
   {
    "duration": 41,
    "start_time": "2025-06-18T07:17:38.740Z"
   },
   {
    "duration": 22,
    "start_time": "2025-06-18T07:17:38.782Z"
   },
   {
    "duration": 166,
    "start_time": "2025-06-18T07:17:38.805Z"
   },
   {
    "duration": 6,
    "start_time": "2025-06-18T07:17:38.972Z"
   },
   {
    "duration": 17,
    "start_time": "2025-06-18T07:17:38.979Z"
   },
   {
    "duration": 6,
    "start_time": "2025-06-18T07:17:38.997Z"
   },
   {
    "duration": 4,
    "start_time": "2025-06-18T07:17:39.005Z"
   },
   {
    "duration": 7,
    "start_time": "2025-06-18T07:17:39.011Z"
   },
   {
    "duration": 4,
    "start_time": "2025-06-18T07:17:39.020Z"
   },
   {
    "duration": 70,
    "start_time": "2025-06-18T07:17:39.025Z"
   },
   {
    "duration": 5,
    "start_time": "2025-06-18T07:17:39.100Z"
   },
   {
    "duration": 9,
    "start_time": "2025-06-18T07:17:39.107Z"
   },
   {
    "duration": 4,
    "start_time": "2025-06-18T07:17:39.118Z"
   },
   {
    "duration": 31,
    "start_time": "2025-06-18T07:17:39.123Z"
   },
   {
    "duration": 431,
    "start_time": "2025-06-18T07:17:39.156Z"
   },
   {
    "duration": 289,
    "start_time": "2025-06-18T07:17:39.588Z"
   },
   {
    "duration": 17,
    "start_time": "2025-06-18T07:17:39.878Z"
   },
   {
    "duration": 15,
    "start_time": "2025-06-18T07:17:39.896Z"
   },
   {
    "duration": 30,
    "start_time": "2025-06-18T07:17:39.913Z"
   },
   {
    "duration": 40,
    "start_time": "2025-06-18T07:17:39.944Z"
   },
   {
    "duration": 116,
    "start_time": "2025-06-18T07:17:39.986Z"
   },
   {
    "duration": 28,
    "start_time": "2025-06-18T07:17:40.104Z"
   },
   {
    "duration": 158,
    "start_time": "2025-06-18T07:17:40.134Z"
   },
   {
    "duration": 24,
    "start_time": "2025-06-18T07:17:40.294Z"
   },
   {
    "duration": 38,
    "start_time": "2025-06-18T07:17:40.320Z"
   },
   {
    "duration": 24,
    "start_time": "2025-06-18T07:17:40.377Z"
   },
   {
    "duration": 112,
    "start_time": "2025-06-18T07:17:40.403Z"
   },
   {
    "duration": 84,
    "start_time": "2025-06-18T07:17:40.518Z"
   },
   {
    "duration": 22,
    "start_time": "2025-06-18T07:17:40.604Z"
   },
   {
    "duration": 33,
    "start_time": "2025-06-18T07:17:40.629Z"
   },
   {
    "duration": 22,
    "start_time": "2025-06-18T07:17:40.665Z"
   },
   {
    "duration": 20,
    "start_time": "2025-06-18T07:17:40.690Z"
   },
   {
    "duration": 12,
    "start_time": "2025-06-18T07:17:40.712Z"
   },
   {
    "duration": 57,
    "start_time": "2025-06-18T07:17:40.726Z"
   },
   {
    "duration": 15,
    "start_time": "2025-06-18T07:17:40.785Z"
   },
   {
    "duration": 46,
    "start_time": "2025-06-18T07:17:40.802Z"
   },
   {
    "duration": 8361,
    "start_time": "2025-06-18T07:17:40.851Z"
   },
   {
    "duration": 38,
    "start_time": "2025-06-18T07:17:49.215Z"
   },
   {
    "duration": 158,
    "start_time": "2025-06-18T07:17:49.254Z"
   },
   {
    "duration": 104,
    "start_time": "2025-06-18T07:17:49.414Z"
   },
   {
    "duration": 26,
    "start_time": "2025-06-18T07:17:49.519Z"
   },
   {
    "duration": 182,
    "start_time": "2025-06-18T07:17:49.546Z"
   },
   {
    "duration": 78,
    "start_time": "2025-06-18T07:17:49.729Z"
   },
   {
    "duration": 11,
    "start_time": "2025-06-18T07:17:49.808Z"
   },
   {
    "duration": 220,
    "start_time": "2025-06-18T07:17:49.821Z"
   },
   {
    "duration": 129,
    "start_time": "2025-06-18T07:17:50.043Z"
   },
   {
    "duration": 37,
    "start_time": "2025-06-18T07:17:50.176Z"
   },
   {
    "duration": 56,
    "start_time": "2025-06-18T07:17:50.214Z"
   },
   {
    "duration": 8,
    "start_time": "2025-06-18T07:17:50.272Z"
   },
   {
    "duration": 4,
    "start_time": "2025-06-18T07:17:50.282Z"
   },
   {
    "duration": 7,
    "start_time": "2025-06-18T07:17:50.288Z"
   },
   {
    "duration": 8,
    "start_time": "2025-06-18T07:17:50.297Z"
   },
   {
    "duration": 179,
    "start_time": "2025-06-18T07:17:50.306Z"
   },
   {
    "duration": 52,
    "start_time": "2025-06-18T07:17:50.487Z"
   },
   {
    "duration": 19,
    "start_time": "2025-06-18T07:17:50.541Z"
   },
   {
    "duration": 123,
    "start_time": "2025-06-18T07:17:50.578Z"
   },
   {
    "duration": 7,
    "start_time": "2025-06-18T07:17:50.703Z"
   },
   {
    "duration": 172,
    "start_time": "2025-06-18T07:17:50.712Z"
   },
   {
    "duration": 104,
    "start_time": "2025-06-18T07:18:00.294Z"
   },
   {
    "duration": 19,
    "start_time": "2025-06-18T07:18:42.419Z"
   },
   {
    "duration": 54,
    "start_time": "2025-06-18T07:18:42.879Z"
   },
   {
    "duration": 8,
    "start_time": "2025-06-18T07:18:43.930Z"
   },
   {
    "duration": 153,
    "start_time": "2025-06-18T07:18:44.690Z"
   },
   {
    "duration": 15,
    "start_time": "2025-06-18T07:18:46.614Z"
   },
   {
    "duration": 15,
    "start_time": "2025-06-18T07:19:05.878Z"
   },
   {
    "duration": 13,
    "start_time": "2025-06-18T07:20:23.701Z"
   },
   {
    "duration": 15,
    "start_time": "2025-06-18T07:23:50.494Z"
   },
   {
    "duration": 6,
    "start_time": "2025-06-18T07:25:03.243Z"
   },
   {
    "duration": 9,
    "start_time": "2025-06-18T07:25:20.827Z"
   },
   {
    "duration": 16,
    "start_time": "2025-06-18T07:26:24.906Z"
   },
   {
    "duration": 17,
    "start_time": "2025-06-18T07:27:28.261Z"
   },
   {
    "duration": 24,
    "start_time": "2025-06-18T07:28:09.680Z"
   },
   {
    "duration": 45,
    "start_time": "2025-06-18T07:28:48.997Z"
   },
   {
    "duration": 31,
    "start_time": "2025-06-18T07:35:55.341Z"
   },
   {
    "duration": 29,
    "start_time": "2025-06-18T07:39:49.773Z"
   },
   {
    "duration": 36,
    "start_time": "2025-06-18T07:40:09.070Z"
   },
   {
    "duration": 44,
    "start_time": "2025-06-18T07:40:25.085Z"
   },
   {
    "duration": 19,
    "start_time": "2025-06-18T07:41:39.237Z"
   },
   {
    "duration": 40,
    "start_time": "2025-06-18T07:42:45.596Z"
   },
   {
    "duration": 18,
    "start_time": "2025-06-18T07:44:04.487Z"
   },
   {
    "duration": 35,
    "start_time": "2025-06-18T07:48:37.341Z"
   },
   {
    "duration": 10,
    "start_time": "2025-06-18T07:48:39.489Z"
   },
   {
    "duration": 36,
    "start_time": "2025-06-18T07:48:55.238Z"
   },
   {
    "duration": 9,
    "start_time": "2025-06-18T07:51:22.430Z"
   },
   {
    "duration": 5,
    "start_time": "2025-06-18T07:54:09.856Z"
   },
   {
    "duration": 4084,
    "start_time": "2025-06-18T07:55:24.285Z"
   },
   {
    "duration": 1764,
    "start_time": "2025-06-18T07:55:28.372Z"
   },
   {
    "duration": 6,
    "start_time": "2025-06-18T07:55:30.137Z"
   },
   {
    "duration": 63,
    "start_time": "2025-06-18T07:55:30.145Z"
   },
   {
    "duration": 104,
    "start_time": "2025-06-18T07:55:30.209Z"
   },
   {
    "duration": 203,
    "start_time": "2025-06-18T07:55:30.315Z"
   },
   {
    "duration": 40,
    "start_time": "2025-06-18T07:55:30.519Z"
   },
   {
    "duration": 455,
    "start_time": "2025-06-18T07:55:30.561Z"
   },
   {
    "duration": 4,
    "start_time": "2025-06-18T07:55:31.018Z"
   },
   {
    "duration": 473,
    "start_time": "2025-06-18T07:55:31.024Z"
   },
   {
    "duration": 4,
    "start_time": "2025-06-18T07:55:31.499Z"
   },
   {
    "duration": 109,
    "start_time": "2025-06-18T07:55:31.504Z"
   },
   {
    "duration": 114,
    "start_time": "2025-06-18T07:55:31.615Z"
   },
   {
    "duration": 126,
    "start_time": "2025-06-18T07:55:31.730Z"
   },
   {
    "duration": 127,
    "start_time": "2025-06-18T07:55:31.857Z"
   },
   {
    "duration": 13,
    "start_time": "2025-06-18T07:55:31.985Z"
   },
   {
    "duration": 64,
    "start_time": "2025-06-18T07:55:32.000Z"
   },
   {
    "duration": 8,
    "start_time": "2025-06-18T07:55:32.079Z"
   },
   {
    "duration": 113,
    "start_time": "2025-06-18T07:55:32.088Z"
   },
   {
    "duration": 13,
    "start_time": "2025-06-18T07:55:32.203Z"
   },
   {
    "duration": 41,
    "start_time": "2025-06-18T07:55:32.218Z"
   },
   {
    "duration": 7,
    "start_time": "2025-06-18T07:55:32.261Z"
   },
   {
    "duration": 9,
    "start_time": "2025-06-18T07:55:32.269Z"
   },
   {
    "duration": 105,
    "start_time": "2025-06-18T07:55:32.280Z"
   },
   {
    "duration": 104,
    "start_time": "2025-06-18T07:55:32.387Z"
   },
   {
    "duration": 3412,
    "start_time": "2025-06-18T07:55:32.493Z"
   },
   {
    "duration": 48,
    "start_time": "2025-06-18T07:55:35.907Z"
   },
   {
    "duration": 62,
    "start_time": "2025-06-18T07:55:35.956Z"
   },
   {
    "duration": 18,
    "start_time": "2025-06-18T07:55:36.020Z"
   },
   {
    "duration": 39,
    "start_time": "2025-06-18T07:55:36.040Z"
   },
   {
    "duration": 120,
    "start_time": "2025-06-18T07:55:36.081Z"
   },
   {
    "duration": 50,
    "start_time": "2025-06-18T07:55:36.203Z"
   },
   {
    "duration": 170,
    "start_time": "2025-06-18T07:55:36.255Z"
   },
   {
    "duration": 6,
    "start_time": "2025-06-18T07:55:36.426Z"
   },
   {
    "duration": 65,
    "start_time": "2025-06-18T07:55:36.433Z"
   },
   {
    "duration": 61,
    "start_time": "2025-06-18T07:55:36.500Z"
   },
   {
    "duration": 6,
    "start_time": "2025-06-18T07:55:36.563Z"
   },
   {
    "duration": 13,
    "start_time": "2025-06-18T07:55:36.571Z"
   },
   {
    "duration": 8,
    "start_time": "2025-06-18T07:55:36.586Z"
   },
   {
    "duration": 63,
    "start_time": "2025-06-18T07:55:36.596Z"
   },
   {
    "duration": 13,
    "start_time": "2025-06-18T07:55:36.661Z"
   },
   {
    "duration": 8,
    "start_time": "2025-06-18T07:55:36.676Z"
   },
   {
    "duration": 4,
    "start_time": "2025-06-18T07:55:36.685Z"
   },
   {
    "duration": 33,
    "start_time": "2025-06-18T07:55:36.692Z"
   },
   {
    "duration": 537,
    "start_time": "2025-06-18T07:55:36.728Z"
   },
   {
    "duration": 284,
    "start_time": "2025-06-18T07:55:37.267Z"
   },
   {
    "duration": 25,
    "start_time": "2025-06-18T07:55:37.553Z"
   },
   {
    "duration": 47,
    "start_time": "2025-06-18T07:55:37.580Z"
   },
   {
    "duration": 89,
    "start_time": "2025-06-18T07:55:37.629Z"
   },
   {
    "duration": 90,
    "start_time": "2025-06-18T07:55:37.720Z"
   },
   {
    "duration": 108,
    "start_time": "2025-06-18T07:55:37.812Z"
   },
   {
    "duration": 43,
    "start_time": "2025-06-18T07:55:37.921Z"
   },
   {
    "duration": 202,
    "start_time": "2025-06-18T07:55:37.966Z"
   },
   {
    "duration": 27,
    "start_time": "2025-06-18T07:55:38.173Z"
   },
   {
    "duration": 44,
    "start_time": "2025-06-18T07:55:38.202Z"
   },
   {
    "duration": 46,
    "start_time": "2025-06-18T07:55:38.248Z"
   },
   {
    "duration": 113,
    "start_time": "2025-06-18T07:55:38.296Z"
   },
   {
    "duration": 82,
    "start_time": "2025-06-18T07:55:38.411Z"
   },
   {
    "duration": 21,
    "start_time": "2025-06-18T07:55:38.495Z"
   },
   {
    "duration": 4,
    "start_time": "2025-06-18T07:55:38.518Z"
   },
   {
    "duration": 33,
    "start_time": "2025-06-18T07:55:38.524Z"
   },
   {
    "duration": 27,
    "start_time": "2025-06-18T07:55:38.559Z"
   },
   {
    "duration": 10,
    "start_time": "2025-06-18T07:55:38.588Z"
   },
   {
    "duration": 98,
    "start_time": "2025-06-18T07:55:38.600Z"
   },
   {
    "duration": 126,
    "start_time": "2025-06-18T07:55:38.700Z"
   },
   {
    "duration": 53,
    "start_time": "2025-06-18T07:55:38.828Z"
   },
   {
    "duration": 2631,
    "start_time": "2025-06-18T07:55:38.882Z"
   },
   {
    "duration": 37,
    "start_time": "2025-06-18T07:55:41.515Z"
   },
   {
    "duration": 145,
    "start_time": "2025-06-18T07:55:41.554Z"
   },
   {
    "duration": 106,
    "start_time": "2025-06-18T07:55:41.701Z"
   },
   {
    "duration": 25,
    "start_time": "2025-06-18T07:55:41.809Z"
   },
   {
    "duration": 127,
    "start_time": "2025-06-18T07:55:41.835Z"
   },
   {
    "duration": 112,
    "start_time": "2025-06-18T07:55:41.964Z"
   },
   {
    "duration": 10,
    "start_time": "2025-06-18T07:55:42.077Z"
   },
   {
    "duration": 278,
    "start_time": "2025-06-18T07:55:42.088Z"
   },
   {
    "duration": 125,
    "start_time": "2025-06-18T07:55:42.376Z"
   },
   {
    "duration": 39,
    "start_time": "2025-06-18T07:55:42.502Z"
   },
   {
    "duration": 7,
    "start_time": "2025-06-18T07:55:42.542Z"
   },
   {
    "duration": 6,
    "start_time": "2025-06-18T07:55:42.551Z"
   },
   {
    "duration": 4,
    "start_time": "2025-06-18T07:55:42.577Z"
   },
   {
    "duration": 20,
    "start_time": "2025-06-18T07:55:42.582Z"
   },
   {
    "duration": 6,
    "start_time": "2025-06-18T07:55:42.604Z"
   },
   {
    "duration": 174,
    "start_time": "2025-06-18T07:55:42.611Z"
   },
   {
    "duration": 44,
    "start_time": "2025-06-18T07:55:42.786Z"
   },
   {
    "duration": 117,
    "start_time": "2025-06-18T07:55:42.832Z"
   },
   {
    "duration": 13,
    "start_time": "2025-06-18T07:55:47.404Z"
   },
   {
    "duration": 7,
    "start_time": "2025-06-18T07:55:51.252Z"
   },
   {
    "duration": 11,
    "start_time": "2025-06-18T07:55:52.623Z"
   },
   {
    "duration": 14,
    "start_time": "2025-06-18T07:56:36.105Z"
   },
   {
    "duration": 13,
    "start_time": "2025-06-18T07:57:26.581Z"
   },
   {
    "duration": 11,
    "start_time": "2025-06-18T07:57:49.293Z"
   },
   {
    "duration": 18,
    "start_time": "2025-06-18T07:58:15.563Z"
   },
   {
    "duration": 15,
    "start_time": "2025-06-18T07:58:19.769Z"
   },
   {
    "duration": 22,
    "start_time": "2025-06-18T08:01:08.693Z"
   },
   {
    "duration": 12,
    "start_time": "2025-06-18T08:01:18.338Z"
   },
   {
    "duration": 13,
    "start_time": "2025-06-18T08:01:22.271Z"
   },
   {
    "duration": 5,
    "start_time": "2025-06-18T08:02:28.569Z"
   },
   {
    "duration": 10,
    "start_time": "2025-06-18T08:02:54.564Z"
   },
   {
    "duration": 19,
    "start_time": "2025-06-18T08:03:09.110Z"
   },
   {
    "duration": 9,
    "start_time": "2025-06-18T08:03:39.870Z"
   },
   {
    "duration": 10,
    "start_time": "2025-06-18T08:05:26.714Z"
   },
   {
    "duration": 21,
    "start_time": "2025-06-18T08:05:38.829Z"
   },
   {
    "duration": 5,
    "start_time": "2025-06-18T08:06:30.834Z"
   },
   {
    "duration": 17,
    "start_time": "2025-06-18T08:06:58.406Z"
   },
   {
    "duration": 25,
    "start_time": "2025-06-18T08:08:40.737Z"
   },
   {
    "duration": 20,
    "start_time": "2025-06-18T08:10:26.480Z"
   },
   {
    "duration": 24,
    "start_time": "2025-06-18T08:10:42.939Z"
   },
   {
    "duration": 25,
    "start_time": "2025-06-18T08:10:59.461Z"
   },
   {
    "duration": 21,
    "start_time": "2025-06-18T08:11:12.556Z"
   },
   {
    "duration": 25,
    "start_time": "2025-06-18T08:11:21.092Z"
   },
   {
    "duration": 20,
    "start_time": "2025-06-18T08:11:36.096Z"
   },
   {
    "duration": 27,
    "start_time": "2025-06-18T08:13:46.542Z"
   },
   {
    "duration": 73,
    "start_time": "2025-06-18T08:14:04.220Z"
   },
   {
    "duration": 22,
    "start_time": "2025-06-18T08:14:09.349Z"
   },
   {
    "duration": 28,
    "start_time": "2025-06-18T08:14:35.363Z"
   },
   {
    "duration": 25,
    "start_time": "2025-06-18T08:22:08.813Z"
   },
   {
    "duration": 82,
    "start_time": "2025-06-18T08:24:39.910Z"
   },
   {
    "duration": 20,
    "start_time": "2025-06-18T08:30:14.087Z"
   },
   {
    "duration": 21,
    "start_time": "2025-06-18T08:30:34.168Z"
   },
   {
    "duration": 21,
    "start_time": "2025-06-18T08:31:00.789Z"
   },
   {
    "duration": 20,
    "start_time": "2025-06-18T08:32:35.746Z"
   },
   {
    "duration": 22,
    "start_time": "2025-06-18T08:32:48.157Z"
   },
   {
    "duration": 18,
    "start_time": "2025-06-18T08:36:23.493Z"
   }
  ],
  "colab": {
   "provenance": []
  },
  "kernelspec": {
   "display_name": "Python 3 (ipykernel)",
   "language": "python",
   "name": "python3"
  },
  "language_info": {
   "codemirror_mode": {
    "name": "ipython",
    "version": 3
   },
   "file_extension": ".py",
   "mimetype": "text/x-python",
   "name": "python",
   "nbconvert_exporter": "python",
   "pygments_lexer": "ipython3",
   "version": "3.9.5"
  },
  "toc": {
   "base_numbering": 1,
   "nav_menu": {},
   "number_sections": true,
   "sideBar": true,
   "skip_h1_title": true,
   "title_cell": "Table of Contents",
   "title_sidebar": "Contents",
   "toc_cell": false,
   "toc_position": {},
   "toc_section_display": true,
   "toc_window_display": false
  }
 },
 "nbformat": 4,
 "nbformat_minor": 1
}
